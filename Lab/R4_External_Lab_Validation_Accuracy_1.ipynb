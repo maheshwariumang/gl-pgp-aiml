{
  "nbformat": 4,
  "nbformat_minor": 0,
  "metadata": {
    "colab": {
      "name": "R4_External_Lab_Validation_Accuracy-1.ipynb",
      "provenance": [],
      "collapsed_sections": []
    },
    "kernelspec": {
      "display_name": "Python 3",
      "language": "python",
      "name": "python3"
    }
  },
  "cells": [
    {
      "cell_type": "code",
      "metadata": {
        "id": "Y3vvEXP1_0og",
        "colab_type": "code",
        "colab": {}
      },
      "source": [
        "# Import important library\n",
        "import numpy as np\n",
        "import pandas as pd\n",
        "import matplotlib.pyplot as plt\n",
        "import seaborn as sns\n",
        "%matplotlib inline\n",
        "import warnings\n",
        "warnings.filterwarnings('ignore')"
      ],
      "execution_count": 0,
      "outputs": []
    },
    {
      "cell_type": "code",
      "metadata": {
        "id": "_VtbRZcKQIZh",
        "colab_type": "code",
        "colab": {}
      },
      "source": [
        "from google.colab import drive\n",
        "drive.mount('/content/drive')"
      ],
      "execution_count": 0,
      "outputs": []
    },
    {
      "cell_type": "markdown",
      "metadata": {
        "id": "7O83uMqA_0ol",
        "colab_type": "text"
      },
      "source": [
        "### Q1 Read the input file and check the data dimension"
      ]
    },
    {
      "cell_type": "code",
      "metadata": {
        "id": "1brbOfG_Enzy",
        "colab_type": "code",
        "colab": {}
      },
      "source": [
        "# You can access from https://www.kaggle.com/uciml/german-credit\n",
        "#Read input file and understand the data\n",
        "# \"default\" is my dependent variable\n",
        "\n",
        "credit_data = pd.read_csv('/content/drive/My Drive/Datasets/german_credit.csv')"
      ],
      "execution_count": 0,
      "outputs": []
    },
    {
      "cell_type": "code",
      "metadata": {
        "id": "_LGo1xnK_0ow",
        "colab_type": "code",
        "outputId": "50231ea0-1dcd-4ece-e392-fe70729b59f7",
        "colab": {
          "base_uri": "https://localhost:8080/",
          "height": 462
        }
      },
      "source": [
        "credit_data.head()"
      ],
      "execution_count": 5,
      "outputs": [
        {
          "output_type": "execute_result",
          "data": {
            "text/html": [
              "<div>\n",
              "<style scoped>\n",
              "    .dataframe tbody tr th:only-of-type {\n",
              "        vertical-align: middle;\n",
              "    }\n",
              "\n",
              "    .dataframe tbody tr th {\n",
              "        vertical-align: top;\n",
              "    }\n",
              "\n",
              "    .dataframe thead th {\n",
              "        text-align: right;\n",
              "    }\n",
              "</style>\n",
              "<table border=\"1\" class=\"dataframe\">\n",
              "  <thead>\n",
              "    <tr style=\"text-align: right;\">\n",
              "      <th></th>\n",
              "      <th>default</th>\n",
              "      <th>account_check_status</th>\n",
              "      <th>duration_in_month</th>\n",
              "      <th>credit_history</th>\n",
              "      <th>purpose</th>\n",
              "      <th>credit_amount</th>\n",
              "      <th>savings</th>\n",
              "      <th>present_emp_since</th>\n",
              "      <th>installment_as_income_perc</th>\n",
              "      <th>personal_status_sex</th>\n",
              "      <th>other_debtors</th>\n",
              "      <th>present_res_since</th>\n",
              "      <th>property</th>\n",
              "      <th>age</th>\n",
              "      <th>other_installment_plans</th>\n",
              "      <th>housing</th>\n",
              "      <th>credits_this_bank</th>\n",
              "      <th>job</th>\n",
              "      <th>people_under_maintenance</th>\n",
              "      <th>telephone</th>\n",
              "      <th>foreign_worker</th>\n",
              "    </tr>\n",
              "  </thead>\n",
              "  <tbody>\n",
              "    <tr>\n",
              "      <th>0</th>\n",
              "      <td>0</td>\n",
              "      <td>&lt; 0 DM</td>\n",
              "      <td>6</td>\n",
              "      <td>critical account/ other credits existing (not ...</td>\n",
              "      <td>domestic appliances</td>\n",
              "      <td>1169</td>\n",
              "      <td>unknown/ no savings account</td>\n",
              "      <td>.. &gt;= 7 years</td>\n",
              "      <td>4</td>\n",
              "      <td>male : single</td>\n",
              "      <td>none</td>\n",
              "      <td>4</td>\n",
              "      <td>real estate</td>\n",
              "      <td>67</td>\n",
              "      <td>none</td>\n",
              "      <td>own</td>\n",
              "      <td>2</td>\n",
              "      <td>skilled employee / official</td>\n",
              "      <td>1</td>\n",
              "      <td>yes, registered under the customers name</td>\n",
              "      <td>yes</td>\n",
              "    </tr>\n",
              "    <tr>\n",
              "      <th>1</th>\n",
              "      <td>1</td>\n",
              "      <td>0 &lt;= ... &lt; 200 DM</td>\n",
              "      <td>48</td>\n",
              "      <td>existing credits paid back duly till now</td>\n",
              "      <td>domestic appliances</td>\n",
              "      <td>5951</td>\n",
              "      <td>... &lt; 100 DM</td>\n",
              "      <td>1 &lt;= ... &lt; 4 years</td>\n",
              "      <td>2</td>\n",
              "      <td>female : divorced/separated/married</td>\n",
              "      <td>none</td>\n",
              "      <td>2</td>\n",
              "      <td>real estate</td>\n",
              "      <td>22</td>\n",
              "      <td>none</td>\n",
              "      <td>own</td>\n",
              "      <td>1</td>\n",
              "      <td>skilled employee / official</td>\n",
              "      <td>1</td>\n",
              "      <td>none</td>\n",
              "      <td>yes</td>\n",
              "    </tr>\n",
              "    <tr>\n",
              "      <th>2</th>\n",
              "      <td>0</td>\n",
              "      <td>no checking account</td>\n",
              "      <td>12</td>\n",
              "      <td>critical account/ other credits existing (not ...</td>\n",
              "      <td>(vacation - does not exist?)</td>\n",
              "      <td>2096</td>\n",
              "      <td>... &lt; 100 DM</td>\n",
              "      <td>4 &lt;= ... &lt; 7 years</td>\n",
              "      <td>2</td>\n",
              "      <td>male : single</td>\n",
              "      <td>none</td>\n",
              "      <td>3</td>\n",
              "      <td>real estate</td>\n",
              "      <td>49</td>\n",
              "      <td>none</td>\n",
              "      <td>own</td>\n",
              "      <td>1</td>\n",
              "      <td>unskilled - resident</td>\n",
              "      <td>2</td>\n",
              "      <td>none</td>\n",
              "      <td>yes</td>\n",
              "    </tr>\n",
              "    <tr>\n",
              "      <th>3</th>\n",
              "      <td>0</td>\n",
              "      <td>&lt; 0 DM</td>\n",
              "      <td>42</td>\n",
              "      <td>existing credits paid back duly till now</td>\n",
              "      <td>radio/television</td>\n",
              "      <td>7882</td>\n",
              "      <td>... &lt; 100 DM</td>\n",
              "      <td>4 &lt;= ... &lt; 7 years</td>\n",
              "      <td>2</td>\n",
              "      <td>male : single</td>\n",
              "      <td>guarantor</td>\n",
              "      <td>4</td>\n",
              "      <td>if not A121 : building society savings agreeme...</td>\n",
              "      <td>45</td>\n",
              "      <td>none</td>\n",
              "      <td>for free</td>\n",
              "      <td>1</td>\n",
              "      <td>skilled employee / official</td>\n",
              "      <td>2</td>\n",
              "      <td>none</td>\n",
              "      <td>yes</td>\n",
              "    </tr>\n",
              "    <tr>\n",
              "      <th>4</th>\n",
              "      <td>1</td>\n",
              "      <td>&lt; 0 DM</td>\n",
              "      <td>24</td>\n",
              "      <td>delay in paying off in the past</td>\n",
              "      <td>car (new)</td>\n",
              "      <td>4870</td>\n",
              "      <td>... &lt; 100 DM</td>\n",
              "      <td>1 &lt;= ... &lt; 4 years</td>\n",
              "      <td>3</td>\n",
              "      <td>male : single</td>\n",
              "      <td>none</td>\n",
              "      <td>4</td>\n",
              "      <td>unknown / no property</td>\n",
              "      <td>53</td>\n",
              "      <td>none</td>\n",
              "      <td>for free</td>\n",
              "      <td>2</td>\n",
              "      <td>skilled employee / official</td>\n",
              "      <td>2</td>\n",
              "      <td>none</td>\n",
              "      <td>yes</td>\n",
              "    </tr>\n",
              "  </tbody>\n",
              "</table>\n",
              "</div>"
            ],
            "text/plain": [
              "   default  ... foreign_worker\n",
              "0        0  ...            yes\n",
              "1        1  ...            yes\n",
              "2        0  ...            yes\n",
              "3        0  ...            yes\n",
              "4        1  ...            yes\n",
              "\n",
              "[5 rows x 21 columns]"
            ]
          },
          "metadata": {
            "tags": []
          },
          "execution_count": 5
        }
      ]
    },
    {
      "cell_type": "code",
      "metadata": {
        "id": "gKaiZis__0o0",
        "colab_type": "code",
        "colab": {}
      },
      "source": [
        "# Lets build a Ensemble model but need to modify the dataset first"
      ],
      "execution_count": 0,
      "outputs": []
    },
    {
      "cell_type": "markdown",
      "metadata": {
        "id": "utYEGBER_0o4",
        "colab_type": "text"
      },
      "source": [
        "### Q2.Prepare the model data by converting non-numeric to dummy ( 1 Marks)\n",
        "##### Hint: Use get_dummies"
      ]
    },
    {
      "cell_type": "code",
      "metadata": {
        "id": "wjyTJcA6_0o6",
        "colab_type": "code",
        "outputId": "b28cc919-c5f7-41e7-ccf3-e20db96d8993",
        "colab": {
          "base_uri": "https://localhost:8080/",
          "height": 34
        }
      },
      "source": [
        "# Print Shape of model data\n",
        "credit_data.shape"
      ],
      "execution_count": 7,
      "outputs": [
        {
          "output_type": "execute_result",
          "data": {
            "text/plain": [
              "(1000, 21)"
            ]
          },
          "metadata": {
            "tags": []
          },
          "execution_count": 7
        }
      ]
    },
    {
      "cell_type": "code",
      "metadata": {
        "id": "XUCbs_oGRTJf",
        "colab_type": "code",
        "outputId": "5e9528e9-9c0a-498f-fd4d-c99d8aa03e48",
        "colab": {
          "base_uri": "https://localhost:8080/",
          "height": 459
        }
      },
      "source": [
        "credit_data.info()"
      ],
      "execution_count": 8,
      "outputs": [
        {
          "output_type": "stream",
          "text": [
            "<class 'pandas.core.frame.DataFrame'>\n",
            "RangeIndex: 1000 entries, 0 to 999\n",
            "Data columns (total 21 columns):\n",
            "default                       1000 non-null int64\n",
            "account_check_status          1000 non-null object\n",
            "duration_in_month             1000 non-null int64\n",
            "credit_history                1000 non-null object\n",
            "purpose                       1000 non-null object\n",
            "credit_amount                 1000 non-null int64\n",
            "savings                       1000 non-null object\n",
            "present_emp_since             1000 non-null object\n",
            "installment_as_income_perc    1000 non-null int64\n",
            "personal_status_sex           1000 non-null object\n",
            "other_debtors                 1000 non-null object\n",
            "present_res_since             1000 non-null int64\n",
            "property                      1000 non-null object\n",
            "age                           1000 non-null int64\n",
            "other_installment_plans       1000 non-null object\n",
            "housing                       1000 non-null object\n",
            "credits_this_bank             1000 non-null int64\n",
            "job                           1000 non-null object\n",
            "people_under_maintenance      1000 non-null int64\n",
            "telephone                     1000 non-null object\n",
            "foreign_worker                1000 non-null object\n",
            "dtypes: int64(8), object(13)\n",
            "memory usage: 164.1+ KB\n"
          ],
          "name": "stdout"
        }
      ]
    },
    {
      "cell_type": "code",
      "metadata": {
        "id": "C3Ip41V-WnS7",
        "colab_type": "code",
        "outputId": "6b347fc3-e025-4cc8-c008-24806221fae7",
        "colab": {
          "base_uri": "https://localhost:8080/",
          "height": 297
        }
      },
      "source": [
        "credit_data.describe()"
      ],
      "execution_count": 9,
      "outputs": [
        {
          "output_type": "execute_result",
          "data": {
            "text/html": [
              "<div>\n",
              "<style scoped>\n",
              "    .dataframe tbody tr th:only-of-type {\n",
              "        vertical-align: middle;\n",
              "    }\n",
              "\n",
              "    .dataframe tbody tr th {\n",
              "        vertical-align: top;\n",
              "    }\n",
              "\n",
              "    .dataframe thead th {\n",
              "        text-align: right;\n",
              "    }\n",
              "</style>\n",
              "<table border=\"1\" class=\"dataframe\">\n",
              "  <thead>\n",
              "    <tr style=\"text-align: right;\">\n",
              "      <th></th>\n",
              "      <th>default</th>\n",
              "      <th>duration_in_month</th>\n",
              "      <th>credit_amount</th>\n",
              "      <th>installment_as_income_perc</th>\n",
              "      <th>present_res_since</th>\n",
              "      <th>age</th>\n",
              "      <th>credits_this_bank</th>\n",
              "      <th>people_under_maintenance</th>\n",
              "    </tr>\n",
              "  </thead>\n",
              "  <tbody>\n",
              "    <tr>\n",
              "      <th>count</th>\n",
              "      <td>1000.000000</td>\n",
              "      <td>1000.000000</td>\n",
              "      <td>1000.000000</td>\n",
              "      <td>1000.000000</td>\n",
              "      <td>1000.000000</td>\n",
              "      <td>1000.000000</td>\n",
              "      <td>1000.000000</td>\n",
              "      <td>1000.000000</td>\n",
              "    </tr>\n",
              "    <tr>\n",
              "      <th>mean</th>\n",
              "      <td>0.300000</td>\n",
              "      <td>20.903000</td>\n",
              "      <td>3271.258000</td>\n",
              "      <td>2.973000</td>\n",
              "      <td>2.845000</td>\n",
              "      <td>35.546000</td>\n",
              "      <td>1.407000</td>\n",
              "      <td>1.155000</td>\n",
              "    </tr>\n",
              "    <tr>\n",
              "      <th>std</th>\n",
              "      <td>0.458487</td>\n",
              "      <td>12.058814</td>\n",
              "      <td>2822.736876</td>\n",
              "      <td>1.118715</td>\n",
              "      <td>1.103718</td>\n",
              "      <td>11.375469</td>\n",
              "      <td>0.577654</td>\n",
              "      <td>0.362086</td>\n",
              "    </tr>\n",
              "    <tr>\n",
              "      <th>min</th>\n",
              "      <td>0.000000</td>\n",
              "      <td>4.000000</td>\n",
              "      <td>250.000000</td>\n",
              "      <td>1.000000</td>\n",
              "      <td>1.000000</td>\n",
              "      <td>19.000000</td>\n",
              "      <td>1.000000</td>\n",
              "      <td>1.000000</td>\n",
              "    </tr>\n",
              "    <tr>\n",
              "      <th>25%</th>\n",
              "      <td>0.000000</td>\n",
              "      <td>12.000000</td>\n",
              "      <td>1365.500000</td>\n",
              "      <td>2.000000</td>\n",
              "      <td>2.000000</td>\n",
              "      <td>27.000000</td>\n",
              "      <td>1.000000</td>\n",
              "      <td>1.000000</td>\n",
              "    </tr>\n",
              "    <tr>\n",
              "      <th>50%</th>\n",
              "      <td>0.000000</td>\n",
              "      <td>18.000000</td>\n",
              "      <td>2319.500000</td>\n",
              "      <td>3.000000</td>\n",
              "      <td>3.000000</td>\n",
              "      <td>33.000000</td>\n",
              "      <td>1.000000</td>\n",
              "      <td>1.000000</td>\n",
              "    </tr>\n",
              "    <tr>\n",
              "      <th>75%</th>\n",
              "      <td>1.000000</td>\n",
              "      <td>24.000000</td>\n",
              "      <td>3972.250000</td>\n",
              "      <td>4.000000</td>\n",
              "      <td>4.000000</td>\n",
              "      <td>42.000000</td>\n",
              "      <td>2.000000</td>\n",
              "      <td>1.000000</td>\n",
              "    </tr>\n",
              "    <tr>\n",
              "      <th>max</th>\n",
              "      <td>1.000000</td>\n",
              "      <td>72.000000</td>\n",
              "      <td>18424.000000</td>\n",
              "      <td>4.000000</td>\n",
              "      <td>4.000000</td>\n",
              "      <td>75.000000</td>\n",
              "      <td>4.000000</td>\n",
              "      <td>2.000000</td>\n",
              "    </tr>\n",
              "  </tbody>\n",
              "</table>\n",
              "</div>"
            ],
            "text/plain": [
              "           default  ...  people_under_maintenance\n",
              "count  1000.000000  ...               1000.000000\n",
              "mean      0.300000  ...                  1.155000\n",
              "std       0.458487  ...                  0.362086\n",
              "min       0.000000  ...                  1.000000\n",
              "25%       0.000000  ...                  1.000000\n",
              "50%       0.000000  ...                  1.000000\n",
              "75%       1.000000  ...                  1.000000\n",
              "max       1.000000  ...                  2.000000\n",
              "\n",
              "[8 rows x 8 columns]"
            ]
          },
          "metadata": {
            "tags": []
          },
          "execution_count": 9
        }
      ]
    },
    {
      "cell_type": "code",
      "metadata": {
        "id": "NyTnxOaNU6OW",
        "colab_type": "code",
        "outputId": "4110d4b7-37b7-4634-a5a7-3ca46dfb86cd",
        "colab": {
          "base_uri": "https://localhost:8080/",
          "height": 238
        }
      },
      "source": [
        "categorical_colums  =  [col_name  for col_name in credit_data.columns    if credit_data[col_name].dtypes == 'object']\n",
        "categorical_colums"
      ],
      "execution_count": 10,
      "outputs": [
        {
          "output_type": "execute_result",
          "data": {
            "text/plain": [
              "['account_check_status',\n",
              " 'credit_history',\n",
              " 'purpose',\n",
              " 'savings',\n",
              " 'present_emp_since',\n",
              " 'personal_status_sex',\n",
              " 'other_debtors',\n",
              " 'property',\n",
              " 'other_installment_plans',\n",
              " 'housing',\n",
              " 'job',\n",
              " 'telephone',\n",
              " 'foreign_worker']"
            ]
          },
          "metadata": {
            "tags": []
          },
          "execution_count": 10
        }
      ]
    },
    {
      "cell_type": "code",
      "metadata": {
        "id": "-_hnO0jORTGM",
        "colab_type": "code",
        "outputId": "3a898a39-68cf-4d1b-82b0-cadd880bafe2",
        "colab": {
          "base_uri": "https://localhost:8080/",
          "height": 419
        }
      },
      "source": [
        "dummies_credit_data = pd.get_dummies(data=credit_data, columns=categorical_colums, drop_first=True)\n",
        "dummies_credit_data.head(8)"
      ],
      "execution_count": 11,
      "outputs": [
        {
          "output_type": "execute_result",
          "data": {
            "text/html": [
              "<div>\n",
              "<style scoped>\n",
              "    .dataframe tbody tr th:only-of-type {\n",
              "        vertical-align: middle;\n",
              "    }\n",
              "\n",
              "    .dataframe tbody tr th {\n",
              "        vertical-align: top;\n",
              "    }\n",
              "\n",
              "    .dataframe thead th {\n",
              "        text-align: right;\n",
              "    }\n",
              "</style>\n",
              "<table border=\"1\" class=\"dataframe\">\n",
              "  <thead>\n",
              "    <tr style=\"text-align: right;\">\n",
              "      <th></th>\n",
              "      <th>default</th>\n",
              "      <th>duration_in_month</th>\n",
              "      <th>credit_amount</th>\n",
              "      <th>installment_as_income_perc</th>\n",
              "      <th>present_res_since</th>\n",
              "      <th>age</th>\n",
              "      <th>credits_this_bank</th>\n",
              "      <th>people_under_maintenance</th>\n",
              "      <th>account_check_status_&lt; 0 DM</th>\n",
              "      <th>account_check_status_&gt;= 200 DM / salary assignments for at least 1 year</th>\n",
              "      <th>account_check_status_no checking account</th>\n",
              "      <th>credit_history_critical account/ other credits existing (not at this bank)</th>\n",
              "      <th>credit_history_delay in paying off in the past</th>\n",
              "      <th>credit_history_existing credits paid back duly till now</th>\n",
              "      <th>credit_history_no credits taken/ all credits paid back duly</th>\n",
              "      <th>purpose_business</th>\n",
              "      <th>purpose_car (new)</th>\n",
              "      <th>purpose_car (used)</th>\n",
              "      <th>purpose_domestic appliances</th>\n",
              "      <th>purpose_education</th>\n",
              "      <th>purpose_furniture/equipment</th>\n",
              "      <th>purpose_radio/television</th>\n",
              "      <th>purpose_repairs</th>\n",
              "      <th>purpose_retraining</th>\n",
              "      <th>savings_... &lt; 100 DM</th>\n",
              "      <th>savings_100 &lt;= ... &lt; 500 DM</th>\n",
              "      <th>savings_500 &lt;= ... &lt; 1000 DM</th>\n",
              "      <th>savings_unknown/ no savings account</th>\n",
              "      <th>present_emp_since_... &lt; 1 year</th>\n",
              "      <th>present_emp_since_1 &lt;= ... &lt; 4 years</th>\n",
              "      <th>present_emp_since_4 &lt;= ... &lt; 7 years</th>\n",
              "      <th>present_emp_since_unemployed</th>\n",
              "      <th>personal_status_sex_male : divorced/separated</th>\n",
              "      <th>personal_status_sex_male : married/widowed</th>\n",
              "      <th>personal_status_sex_male : single</th>\n",
              "      <th>other_debtors_guarantor</th>\n",
              "      <th>other_debtors_none</th>\n",
              "      <th>property_if not A121/A122 : car or other, not in attribute 6</th>\n",
              "      <th>property_real estate</th>\n",
              "      <th>property_unknown / no property</th>\n",
              "      <th>other_installment_plans_none</th>\n",
              "      <th>other_installment_plans_stores</th>\n",
              "      <th>housing_own</th>\n",
              "      <th>housing_rent</th>\n",
              "      <th>job_skilled employee / official</th>\n",
              "      <th>job_unemployed/ unskilled - non-resident</th>\n",
              "      <th>job_unskilled - resident</th>\n",
              "      <th>telephone_yes, registered under the customers name</th>\n",
              "      <th>foreign_worker_yes</th>\n",
              "    </tr>\n",
              "  </thead>\n",
              "  <tbody>\n",
              "    <tr>\n",
              "      <th>0</th>\n",
              "      <td>0</td>\n",
              "      <td>6</td>\n",
              "      <td>1169</td>\n",
              "      <td>4</td>\n",
              "      <td>4</td>\n",
              "      <td>67</td>\n",
              "      <td>2</td>\n",
              "      <td>1</td>\n",
              "      <td>1</td>\n",
              "      <td>0</td>\n",
              "      <td>0</td>\n",
              "      <td>1</td>\n",
              "      <td>0</td>\n",
              "      <td>0</td>\n",
              "      <td>0</td>\n",
              "      <td>0</td>\n",
              "      <td>0</td>\n",
              "      <td>0</td>\n",
              "      <td>1</td>\n",
              "      <td>0</td>\n",
              "      <td>0</td>\n",
              "      <td>0</td>\n",
              "      <td>0</td>\n",
              "      <td>0</td>\n",
              "      <td>0</td>\n",
              "      <td>0</td>\n",
              "      <td>0</td>\n",
              "      <td>1</td>\n",
              "      <td>0</td>\n",
              "      <td>0</td>\n",
              "      <td>0</td>\n",
              "      <td>0</td>\n",
              "      <td>0</td>\n",
              "      <td>0</td>\n",
              "      <td>1</td>\n",
              "      <td>0</td>\n",
              "      <td>1</td>\n",
              "      <td>0</td>\n",
              "      <td>1</td>\n",
              "      <td>0</td>\n",
              "      <td>1</td>\n",
              "      <td>0</td>\n",
              "      <td>1</td>\n",
              "      <td>0</td>\n",
              "      <td>1</td>\n",
              "      <td>0</td>\n",
              "      <td>0</td>\n",
              "      <td>1</td>\n",
              "      <td>1</td>\n",
              "    </tr>\n",
              "    <tr>\n",
              "      <th>1</th>\n",
              "      <td>1</td>\n",
              "      <td>48</td>\n",
              "      <td>5951</td>\n",
              "      <td>2</td>\n",
              "      <td>2</td>\n",
              "      <td>22</td>\n",
              "      <td>1</td>\n",
              "      <td>1</td>\n",
              "      <td>0</td>\n",
              "      <td>0</td>\n",
              "      <td>0</td>\n",
              "      <td>0</td>\n",
              "      <td>0</td>\n",
              "      <td>1</td>\n",
              "      <td>0</td>\n",
              "      <td>0</td>\n",
              "      <td>0</td>\n",
              "      <td>0</td>\n",
              "      <td>1</td>\n",
              "      <td>0</td>\n",
              "      <td>0</td>\n",
              "      <td>0</td>\n",
              "      <td>0</td>\n",
              "      <td>0</td>\n",
              "      <td>1</td>\n",
              "      <td>0</td>\n",
              "      <td>0</td>\n",
              "      <td>0</td>\n",
              "      <td>0</td>\n",
              "      <td>1</td>\n",
              "      <td>0</td>\n",
              "      <td>0</td>\n",
              "      <td>0</td>\n",
              "      <td>0</td>\n",
              "      <td>0</td>\n",
              "      <td>0</td>\n",
              "      <td>1</td>\n",
              "      <td>0</td>\n",
              "      <td>1</td>\n",
              "      <td>0</td>\n",
              "      <td>1</td>\n",
              "      <td>0</td>\n",
              "      <td>1</td>\n",
              "      <td>0</td>\n",
              "      <td>1</td>\n",
              "      <td>0</td>\n",
              "      <td>0</td>\n",
              "      <td>0</td>\n",
              "      <td>1</td>\n",
              "    </tr>\n",
              "    <tr>\n",
              "      <th>2</th>\n",
              "      <td>0</td>\n",
              "      <td>12</td>\n",
              "      <td>2096</td>\n",
              "      <td>2</td>\n",
              "      <td>3</td>\n",
              "      <td>49</td>\n",
              "      <td>1</td>\n",
              "      <td>2</td>\n",
              "      <td>0</td>\n",
              "      <td>0</td>\n",
              "      <td>1</td>\n",
              "      <td>1</td>\n",
              "      <td>0</td>\n",
              "      <td>0</td>\n",
              "      <td>0</td>\n",
              "      <td>0</td>\n",
              "      <td>0</td>\n",
              "      <td>0</td>\n",
              "      <td>0</td>\n",
              "      <td>0</td>\n",
              "      <td>0</td>\n",
              "      <td>0</td>\n",
              "      <td>0</td>\n",
              "      <td>0</td>\n",
              "      <td>1</td>\n",
              "      <td>0</td>\n",
              "      <td>0</td>\n",
              "      <td>0</td>\n",
              "      <td>0</td>\n",
              "      <td>0</td>\n",
              "      <td>1</td>\n",
              "      <td>0</td>\n",
              "      <td>0</td>\n",
              "      <td>0</td>\n",
              "      <td>1</td>\n",
              "      <td>0</td>\n",
              "      <td>1</td>\n",
              "      <td>0</td>\n",
              "      <td>1</td>\n",
              "      <td>0</td>\n",
              "      <td>1</td>\n",
              "      <td>0</td>\n",
              "      <td>1</td>\n",
              "      <td>0</td>\n",
              "      <td>0</td>\n",
              "      <td>0</td>\n",
              "      <td>1</td>\n",
              "      <td>0</td>\n",
              "      <td>1</td>\n",
              "    </tr>\n",
              "    <tr>\n",
              "      <th>3</th>\n",
              "      <td>0</td>\n",
              "      <td>42</td>\n",
              "      <td>7882</td>\n",
              "      <td>2</td>\n",
              "      <td>4</td>\n",
              "      <td>45</td>\n",
              "      <td>1</td>\n",
              "      <td>2</td>\n",
              "      <td>1</td>\n",
              "      <td>0</td>\n",
              "      <td>0</td>\n",
              "      <td>0</td>\n",
              "      <td>0</td>\n",
              "      <td>1</td>\n",
              "      <td>0</td>\n",
              "      <td>0</td>\n",
              "      <td>0</td>\n",
              "      <td>0</td>\n",
              "      <td>0</td>\n",
              "      <td>0</td>\n",
              "      <td>0</td>\n",
              "      <td>1</td>\n",
              "      <td>0</td>\n",
              "      <td>0</td>\n",
              "      <td>1</td>\n",
              "      <td>0</td>\n",
              "      <td>0</td>\n",
              "      <td>0</td>\n",
              "      <td>0</td>\n",
              "      <td>0</td>\n",
              "      <td>1</td>\n",
              "      <td>0</td>\n",
              "      <td>0</td>\n",
              "      <td>0</td>\n",
              "      <td>1</td>\n",
              "      <td>1</td>\n",
              "      <td>0</td>\n",
              "      <td>0</td>\n",
              "      <td>0</td>\n",
              "      <td>0</td>\n",
              "      <td>1</td>\n",
              "      <td>0</td>\n",
              "      <td>0</td>\n",
              "      <td>0</td>\n",
              "      <td>1</td>\n",
              "      <td>0</td>\n",
              "      <td>0</td>\n",
              "      <td>0</td>\n",
              "      <td>1</td>\n",
              "    </tr>\n",
              "    <tr>\n",
              "      <th>4</th>\n",
              "      <td>1</td>\n",
              "      <td>24</td>\n",
              "      <td>4870</td>\n",
              "      <td>3</td>\n",
              "      <td>4</td>\n",
              "      <td>53</td>\n",
              "      <td>2</td>\n",
              "      <td>2</td>\n",
              "      <td>1</td>\n",
              "      <td>0</td>\n",
              "      <td>0</td>\n",
              "      <td>0</td>\n",
              "      <td>1</td>\n",
              "      <td>0</td>\n",
              "      <td>0</td>\n",
              "      <td>0</td>\n",
              "      <td>1</td>\n",
              "      <td>0</td>\n",
              "      <td>0</td>\n",
              "      <td>0</td>\n",
              "      <td>0</td>\n",
              "      <td>0</td>\n",
              "      <td>0</td>\n",
              "      <td>0</td>\n",
              "      <td>1</td>\n",
              "      <td>0</td>\n",
              "      <td>0</td>\n",
              "      <td>0</td>\n",
              "      <td>0</td>\n",
              "      <td>1</td>\n",
              "      <td>0</td>\n",
              "      <td>0</td>\n",
              "      <td>0</td>\n",
              "      <td>0</td>\n",
              "      <td>1</td>\n",
              "      <td>0</td>\n",
              "      <td>1</td>\n",
              "      <td>0</td>\n",
              "      <td>0</td>\n",
              "      <td>1</td>\n",
              "      <td>1</td>\n",
              "      <td>0</td>\n",
              "      <td>0</td>\n",
              "      <td>0</td>\n",
              "      <td>1</td>\n",
              "      <td>0</td>\n",
              "      <td>0</td>\n",
              "      <td>0</td>\n",
              "      <td>1</td>\n",
              "    </tr>\n",
              "    <tr>\n",
              "      <th>5</th>\n",
              "      <td>0</td>\n",
              "      <td>36</td>\n",
              "      <td>9055</td>\n",
              "      <td>2</td>\n",
              "      <td>4</td>\n",
              "      <td>35</td>\n",
              "      <td>1</td>\n",
              "      <td>2</td>\n",
              "      <td>0</td>\n",
              "      <td>0</td>\n",
              "      <td>1</td>\n",
              "      <td>0</td>\n",
              "      <td>0</td>\n",
              "      <td>1</td>\n",
              "      <td>0</td>\n",
              "      <td>0</td>\n",
              "      <td>0</td>\n",
              "      <td>0</td>\n",
              "      <td>0</td>\n",
              "      <td>0</td>\n",
              "      <td>0</td>\n",
              "      <td>0</td>\n",
              "      <td>0</td>\n",
              "      <td>0</td>\n",
              "      <td>0</td>\n",
              "      <td>0</td>\n",
              "      <td>0</td>\n",
              "      <td>1</td>\n",
              "      <td>0</td>\n",
              "      <td>1</td>\n",
              "      <td>0</td>\n",
              "      <td>0</td>\n",
              "      <td>0</td>\n",
              "      <td>0</td>\n",
              "      <td>1</td>\n",
              "      <td>0</td>\n",
              "      <td>1</td>\n",
              "      <td>0</td>\n",
              "      <td>0</td>\n",
              "      <td>1</td>\n",
              "      <td>1</td>\n",
              "      <td>0</td>\n",
              "      <td>0</td>\n",
              "      <td>0</td>\n",
              "      <td>0</td>\n",
              "      <td>0</td>\n",
              "      <td>1</td>\n",
              "      <td>1</td>\n",
              "      <td>1</td>\n",
              "    </tr>\n",
              "    <tr>\n",
              "      <th>6</th>\n",
              "      <td>0</td>\n",
              "      <td>24</td>\n",
              "      <td>2835</td>\n",
              "      <td>3</td>\n",
              "      <td>4</td>\n",
              "      <td>53</td>\n",
              "      <td>1</td>\n",
              "      <td>1</td>\n",
              "      <td>0</td>\n",
              "      <td>0</td>\n",
              "      <td>1</td>\n",
              "      <td>0</td>\n",
              "      <td>0</td>\n",
              "      <td>1</td>\n",
              "      <td>0</td>\n",
              "      <td>0</td>\n",
              "      <td>0</td>\n",
              "      <td>0</td>\n",
              "      <td>0</td>\n",
              "      <td>0</td>\n",
              "      <td>0</td>\n",
              "      <td>1</td>\n",
              "      <td>0</td>\n",
              "      <td>0</td>\n",
              "      <td>0</td>\n",
              "      <td>0</td>\n",
              "      <td>1</td>\n",
              "      <td>0</td>\n",
              "      <td>0</td>\n",
              "      <td>0</td>\n",
              "      <td>0</td>\n",
              "      <td>0</td>\n",
              "      <td>0</td>\n",
              "      <td>0</td>\n",
              "      <td>1</td>\n",
              "      <td>0</td>\n",
              "      <td>1</td>\n",
              "      <td>0</td>\n",
              "      <td>0</td>\n",
              "      <td>0</td>\n",
              "      <td>1</td>\n",
              "      <td>0</td>\n",
              "      <td>1</td>\n",
              "      <td>0</td>\n",
              "      <td>1</td>\n",
              "      <td>0</td>\n",
              "      <td>0</td>\n",
              "      <td>0</td>\n",
              "      <td>1</td>\n",
              "    </tr>\n",
              "    <tr>\n",
              "      <th>7</th>\n",
              "      <td>0</td>\n",
              "      <td>36</td>\n",
              "      <td>6948</td>\n",
              "      <td>2</td>\n",
              "      <td>2</td>\n",
              "      <td>35</td>\n",
              "      <td>1</td>\n",
              "      <td>1</td>\n",
              "      <td>0</td>\n",
              "      <td>0</td>\n",
              "      <td>0</td>\n",
              "      <td>0</td>\n",
              "      <td>0</td>\n",
              "      <td>1</td>\n",
              "      <td>0</td>\n",
              "      <td>0</td>\n",
              "      <td>0</td>\n",
              "      <td>1</td>\n",
              "      <td>0</td>\n",
              "      <td>0</td>\n",
              "      <td>0</td>\n",
              "      <td>0</td>\n",
              "      <td>0</td>\n",
              "      <td>0</td>\n",
              "      <td>1</td>\n",
              "      <td>0</td>\n",
              "      <td>0</td>\n",
              "      <td>0</td>\n",
              "      <td>0</td>\n",
              "      <td>1</td>\n",
              "      <td>0</td>\n",
              "      <td>0</td>\n",
              "      <td>0</td>\n",
              "      <td>0</td>\n",
              "      <td>1</td>\n",
              "      <td>0</td>\n",
              "      <td>1</td>\n",
              "      <td>1</td>\n",
              "      <td>0</td>\n",
              "      <td>0</td>\n",
              "      <td>1</td>\n",
              "      <td>0</td>\n",
              "      <td>0</td>\n",
              "      <td>1</td>\n",
              "      <td>0</td>\n",
              "      <td>0</td>\n",
              "      <td>0</td>\n",
              "      <td>1</td>\n",
              "      <td>1</td>\n",
              "    </tr>\n",
              "  </tbody>\n",
              "</table>\n",
              "</div>"
            ],
            "text/plain": [
              "   default  ...  foreign_worker_yes\n",
              "0        0  ...                   1\n",
              "1        1  ...                   1\n",
              "2        0  ...                   1\n",
              "3        0  ...                   1\n",
              "4        1  ...                   1\n",
              "5        0  ...                   1\n",
              "6        0  ...                   1\n",
              "7        0  ...                   1\n",
              "\n",
              "[8 rows x 49 columns]"
            ]
          },
          "metadata": {
            "tags": []
          },
          "execution_count": 11
        }
      ]
    },
    {
      "cell_type": "code",
      "metadata": {
        "id": "94MUqRplWTuT",
        "colab_type": "code",
        "outputId": "fcf55e52-5a23-4565-cc6f-051fb2f4a3f4",
        "colab": {
          "base_uri": "https://localhost:8080/",
          "height": 34
        }
      },
      "source": [
        "dummies_credit_data.shape"
      ],
      "execution_count": 12,
      "outputs": [
        {
          "output_type": "execute_result",
          "data": {
            "text/plain": [
              "(1000, 49)"
            ]
          },
          "metadata": {
            "tags": []
          },
          "execution_count": 12
        }
      ]
    },
    {
      "cell_type": "code",
      "metadata": {
        "id": "tuRVBWMwWUCk",
        "colab_type": "code",
        "colab": {}
      },
      "source": [
        ""
      ],
      "execution_count": 0,
      "outputs": []
    },
    {
      "cell_type": "markdown",
      "metadata": {
        "id": "ytl4nlUW_0pA",
        "colab_type": "text"
      },
      "source": [
        "### Check for highly correlated variables but don't required any treatment for this use case"
      ]
    },
    {
      "cell_type": "code",
      "metadata": {
        "id": "0W02DKRx_0pA",
        "colab_type": "code",
        "outputId": "f68b64b6-5192-4a28-f4c0-47afc9340bbd",
        "colab": {
          "base_uri": "https://localhost:8080/",
          "height": 417
        }
      },
      "source": [
        "correlation = credit_data.corr()\n",
        "sns.heatmap(correlation, cmap='coolwarm')"
      ],
      "execution_count": 13,
      "outputs": [
        {
          "output_type": "execute_result",
          "data": {
            "text/plain": [
              "<matplotlib.axes._subplots.AxesSubplot at 0x7f20a9e07d30>"
            ]
          },
          "metadata": {
            "tags": []
          },
          "execution_count": 13
        },
        {
          "output_type": "display_data",
          "data": {
            "image/png": "[encoded data removed]",
            "text/plain": [
              "<Figure size 432x288 with 2 Axes>"
            ]
          },
          "metadata": {
            "tags": []
          }
        }
      ]
    },
    {
      "cell_type": "code",
      "metadata": {
        "id": "QUzOaTBCYUjX",
        "colab_type": "code",
        "outputId": "6f12879d-d3b4-4b50-fd0c-b0ea67b74e9c",
        "colab": {
          "base_uri": "https://localhost:8080/",
          "height": 1000
        }
      },
      "source": [
        "plt.figure(figsize=(12,15))\n",
        "correlation = dummies_credit_data.corr()\n",
        "sns.heatmap(correlation)"
      ],
      "execution_count": 14,
      "outputs": [
        {
          "output_type": "execute_result",
          "data": {
            "text/plain": [
              "<matplotlib.axes._subplots.AxesSubplot at 0x7f20a8afc668>"
            ]
          },
          "metadata": {
            "tags": []
          },
          "execution_count": 14
        },
        {
          "output_type": "display_data",
          "data": {
            "image/png": "[encoded data removed]",
            "text/plain": [
              "<Figure size 864x1080 with 2 Axes>"
            ]
          },
          "metadata": {
            "tags": []
          }
        }
      ]
    },
    {
      "cell_type": "markdown",
      "metadata": {
        "id": "jeI1_7is_0pG",
        "colab_type": "text"
      },
      "source": [
        "### Drop the original variables which are converted to dummy"
      ]
    },
    {
      "cell_type": "markdown",
      "metadata": {
        "id": "RUj5G31hX-LM",
        "colab_type": "text"
      },
      "source": [
        ""
      ]
    },
    {
      "cell_type": "code",
      "metadata": {
        "id": "LYeShbCO_0pI",
        "colab_type": "code",
        "outputId": "53da5eba-b897-42af-9ccb-5906891ba9c8",
        "colab": {
          "base_uri": "https://localhost:8080/",
          "height": 34
        }
      },
      "source": [
        "#not required\n",
        "isoriginalpresent =[col_name  for col_name in dummies_credit_data.columns if((dummies_credit_data[col_name].dtypes == 'object'))]\n",
        "isoriginalpresent"
      ],
      "execution_count": 15,
      "outputs": [
        {
          "output_type": "execute_result",
          "data": {
            "text/plain": [
              "[]"
            ]
          },
          "metadata": {
            "tags": []
          },
          "execution_count": 15
        }
      ]
    },
    {
      "cell_type": "code",
      "metadata": {
        "id": "L9k8sNDw9LSd",
        "colab_type": "code",
        "colab": {}
      },
      "source": [
        ""
      ],
      "execution_count": 0,
      "outputs": []
    },
    {
      "cell_type": "markdown",
      "metadata": {
        "id": "XLtFcI1m_0pQ",
        "colab_type": "text"
      },
      "source": [
        "### Q3 Split Train/Test data 70:30 ratio( 1 Marks)\n",
        "##### Hint:from sklearn.model_selection import train_test_split"
      ]
    },
    {
      "cell_type": "code",
      "metadata": {
        "id": "pHxXKL92_0pS",
        "colab_type": "code",
        "colab": {}
      },
      "source": [
        "from sklearn.model_selection import train_test_split\n",
        "X=dummies_credit_data.drop('default',axis=1, inplace=False)\n",
        "y=dummies_credit_data['default']\n",
        "X_train, X_test, y_train, y_test = train_test_split(X, y, random_state = 5, test_size=0.3)"
      ],
      "execution_count": 0,
      "outputs": []
    },
    {
      "cell_type": "markdown",
      "metadata": {
        "id": "wWTpd4Ng_0pW",
        "colab_type": "text"
      },
      "source": [
        "### Q4 Build Random Forest Model( 1 Marks)\n",
        "#### Hint:from sklearn.ensemble import RandomForestClassifier using n_jobs=2,n_estimators=500,criterion=\"entropy\",random_state=9999"
      ]
    },
    {
      "cell_type": "code",
      "metadata": {
        "id": "AHX5tgQm_0pY",
        "colab_type": "code",
        "colab": {}
      },
      "source": [
        "from sklearn.ensemble import RandomForestClassifier"
      ],
      "execution_count": 0,
      "outputs": []
    },
    {
      "cell_type": "code",
      "metadata": {
        "id": "X7eKljkjOPMf",
        "colab_type": "code",
        "colab": {}
      },
      "source": [
        "randomForestModel = RandomForestClassifier(n_estimators = 500, n_jobs=2, criterion='entropy', random_state=9999)"
      ],
      "execution_count": 0,
      "outputs": []
    },
    {
      "cell_type": "code",
      "metadata": {
        "id": "wrc6fgvdOPI1",
        "colab_type": "code",
        "outputId": "a8bc9a6b-cf53-47a1-c79b-7c94391702eb",
        "colab": {
          "base_uri": "https://localhost:8080/",
          "height": 136
        }
      },
      "source": [
        "randomForestModel.fit(X=X_train, y=y_train)"
      ],
      "execution_count": 19,
      "outputs": [
        {
          "output_type": "execute_result",
          "data": {
            "text/plain": [
              "RandomForestClassifier(bootstrap=True, class_weight=None, criterion='entropy',\n",
              "                       max_depth=None, max_features='auto', max_leaf_nodes=None,\n",
              "                       min_impurity_decrease=0.0, min_impurity_split=None,\n",
              "                       min_samples_leaf=1, min_samples_split=2,\n",
              "                       min_weight_fraction_leaf=0.0, n_estimators=500, n_jobs=2,\n",
              "                       oob_score=False, random_state=9999, verbose=0,\n",
              "                       warm_start=False)"
            ]
          },
          "metadata": {
            "tags": []
          },
          "execution_count": 19
        }
      ]
    },
    {
      "cell_type": "code",
      "metadata": {
        "id": "7LQhxYpZPk16",
        "colab_type": "code",
        "outputId": "86befe40-a73c-4f8f-ac3d-076038528930",
        "colab": {
          "base_uri": "https://localhost:8080/",
          "height": 34
        }
      },
      "source": [
        "randomForestModel.score(X=X_test, y=y_test)"
      ],
      "execution_count": 20,
      "outputs": [
        {
          "output_type": "execute_result",
          "data": {
            "text/plain": [
              "0.7633333333333333"
            ]
          },
          "metadata": {
            "tags": []
          },
          "execution_count": 20
        }
      ]
    },
    {
      "cell_type": "markdown",
      "metadata": {
        "id": "LuQwgG7T_0pa",
        "colab_type": "text"
      },
      "source": [
        "### Q5 Calculate Confusion Matrix and Accuracy score (1 Marks)\n",
        "##### Hint: Use confusion_matrix and accuracy_score"
      ]
    },
    {
      "cell_type": "code",
      "metadata": {
        "id": "YgczdMEB_0pc",
        "colab_type": "code",
        "colab": {}
      },
      "source": [
        "from sklearn.metrics import confusion_matrix, accuracy_score"
      ],
      "execution_count": 0,
      "outputs": []
    },
    {
      "cell_type": "code",
      "metadata": {
        "id": "Ej8dTobXQlX8",
        "colab_type": "code",
        "outputId": "4c0c4909-c81b-472b-c31d-28333abf1697",
        "colab": {
          "base_uri": "https://localhost:8080/",
          "height": 51
        }
      },
      "source": [
        "confusion_matrix(y_test, randomForestModel.predict(X_test))"
      ],
      "execution_count": 22,
      "outputs": [
        {
          "output_type": "execute_result",
          "data": {
            "text/plain": [
              "array([[198,  20],\n",
              "       [ 51,  31]])"
            ]
          },
          "metadata": {
            "tags": []
          },
          "execution_count": 22
        }
      ]
    },
    {
      "cell_type": "code",
      "metadata": {
        "id": "uo13xvolQlfj",
        "colab_type": "code",
        "outputId": "73d4499c-08f4-4b12-9be5-a67acec8348a",
        "colab": {
          "base_uri": "https://localhost:8080/",
          "height": 34
        }
      },
      "source": [
        "accuracy_score(y_test, randomForestModel.predict(X_test))"
      ],
      "execution_count": 23,
      "outputs": [
        {
          "output_type": "execute_result",
          "data": {
            "text/plain": [
              "0.7633333333333333"
            ]
          },
          "metadata": {
            "tags": []
          },
          "execution_count": 23
        }
      ]
    },
    {
      "cell_type": "markdown",
      "metadata": {
        "id": "x2wDGYcC_0pf",
        "colab_type": "text"
      },
      "source": [
        "### Q6 Show the list of the features importance( 1 Marks)"
      ]
    },
    {
      "cell_type": "code",
      "metadata": {
        "id": "bEWKBXX8_0ph",
        "colab_type": "code",
        "outputId": "78612171-19bf-49d6-f2ae-182f2e6af3b5",
        "colab": {
          "base_uri": "https://localhost:8080/",
          "height": 1000
        }
      },
      "source": [
        "feature_imp = randomForestModel.feature_importances_\n",
        "coln_names = dummies_credit_data.columns\n",
        "for coln in range(0, len(feature_imp)):\n",
        "  print()\n",
        "  print(coln_names[coln])\n",
        "  print(feature_imp[coln])\n"
      ],
      "execution_count": 24,
      "outputs": [
        {
          "output_type": "stream",
          "text": [
            "\n",
            "default\n",
            "0.08817412883729894\n",
            "\n",
            "duration_in_month\n",
            "0.11620183011083411\n",
            "\n",
            "credit_amount\n",
            "0.04094168390906494\n",
            "\n",
            "installment_as_income_perc\n",
            "0.03894229483658752\n",
            "\n",
            "present_res_since\n",
            "0.08669203681752573\n",
            "\n",
            "age\n",
            "0.023518980297037317\n",
            "\n",
            "credits_this_bank\n",
            "0.014604298013217585\n",
            "\n",
            "people_under_maintenance\n",
            "0.03815418493129797\n",
            "\n",
            "account_check_status_< 0 DM\n",
            "0.011008204336061436\n",
            "\n",
            "account_check_status_>= 200 DM / salary assignments for at least 1 year\n",
            "0.060245280772048306\n",
            "\n",
            "account_check_status_no checking account\n",
            "0.02511863889338319\n",
            "\n",
            "credit_history_critical account/ other credits existing (not at this bank)\n",
            "0.009890452648219613\n",
            "\n",
            "credit_history_delay in paying off in the past\n",
            "0.016700000520317886\n",
            "\n",
            "credit_history_existing credits paid back duly till now\n",
            "0.010199967718474711\n",
            "\n",
            "credit_history_no credits taken/ all credits paid back duly\n",
            "0.011316166953140028\n",
            "\n",
            "purpose_business\n",
            "0.016483283634388713\n",
            "\n",
            "purpose_car (new)\n",
            "0.010440053963851417\n",
            "\n",
            "purpose_car (used)\n",
            "0.015314340024370625\n",
            "\n",
            "purpose_domestic appliances\n",
            "0.006150823453474982\n",
            "\n",
            "purpose_education\n",
            "0.002431822272627474\n",
            "\n",
            "purpose_furniture/equipment\n",
            "0.014129649792782702\n",
            "\n",
            "purpose_radio/television\n",
            "0.0011215472136820769\n",
            "\n",
            "purpose_repairs\n",
            "0.0007185360424051413\n",
            "\n",
            "purpose_retraining\n",
            "0.02063774607783441\n",
            "\n",
            "savings_... < 100 DM\n",
            "0.009799002138342032\n",
            "\n",
            "savings_100 <= ... < 500 DM\n",
            "0.006585354230995067\n",
            "\n",
            "savings_500 <= ... < 1000 DM \n",
            "0.015527625738948439\n",
            "\n",
            "savings_unknown/ no savings account\n",
            "0.01621914482831112\n",
            "\n",
            "present_emp_since_... < 1 year \n",
            "0.017692006959586396\n",
            "\n",
            "present_emp_since_1 <= ... < 4 years\n",
            "0.014201876685804086\n",
            "\n",
            "present_emp_since_4 <= ... < 7 years\n",
            "0.013512931315789851\n",
            "\n",
            "present_emp_since_unemployed\n",
            "0.008831120419031984\n",
            "\n",
            "personal_status_sex_male : divorced/separated\n",
            "0.008582702301356495\n",
            "\n",
            "personal_status_sex_male : married/widowed\n",
            "0.02054838244586377\n",
            "\n",
            "personal_status_sex_male : single\n",
            "0.005978801906987349\n",
            "\n",
            "other_debtors_guarantor\n",
            "0.010403832042352321\n",
            "\n",
            "other_debtors_none\n",
            "0.018618486819445747\n",
            "\n",
            "property_if not A121/A122 : car or other, not in attribute 6\n",
            "0.017846495826339282\n",
            "\n",
            "property_real estate\n",
            "0.01394467541602394\n",
            "\n",
            "property_unknown / no property\n",
            "0.0233763663383833\n",
            "\n",
            "other_installment_plans_none\n",
            "0.007308318389165725\n",
            "\n",
            "other_installment_plans_stores\n",
            "0.01983308533740243\n",
            "\n",
            "housing_own\n",
            "0.012292288877859922\n",
            "\n",
            "housing_rent\n",
            "0.018700341995439896\n",
            "\n",
            "job_skilled employee / official\n",
            "0.0026121385929533864\n",
            "\n",
            "job_unemployed/ unskilled - non-resident\n",
            "0.013116296295938763\n",
            "\n",
            "job_unskilled - resident\n",
            "0.020871845452300985\n",
            "\n",
            "telephone_yes, registered under the customers name \n",
            "0.004460927575450934\n"
          ],
          "name": "stdout"
        }
      ]
    },
    {
      "cell_type": "markdown",
      "metadata": {
        "id": "U7VnUE71_0pk",
        "colab_type": "text"
      },
      "source": [
        "### Q7 K-fold cross-validation( 2 Marks)\n",
        "##### k-fold cross validation( without stratification)\n",
        "##### Usually k is set as 10-20 in practical settings, depends on data set size"
      ]
    },
    {
      "cell_type": "code",
      "metadata": {
        "id": "Pf6rIo-c_0pm",
        "colab_type": "code",
        "colab": {}
      },
      "source": [
        "from sklearn.model_selection import KFold\n",
        "from sklearn.model_selection import cross_val_score\n",
        "from sklearn.metrics import roc_curve,auc"
      ],
      "execution_count": 0,
      "outputs": []
    },
    {
      "cell_type": "code",
      "metadata": {
        "id": "SLIiX3BP_0pp",
        "colab_type": "code",
        "colab": {}
      },
      "source": [
        "# Use below values\n",
        "num_folds = 10\n",
        "seed = 77"
      ],
      "execution_count": 0,
      "outputs": []
    },
    {
      "cell_type": "code",
      "metadata": {
        "id": "lDyCh_OG_0pt",
        "colab_type": "code",
        "colab": {}
      },
      "source": [
        "#Validate the Random Forest model build above using k fold\n",
        "\n",
        "kfold = KFold(num_folds, True, seed)\n",
        "randomForestModel_kfold = RandomForestClassifier(n_estimators = 500, n_jobs=2, criterion='entropy', random_state=9999)"
      ],
      "execution_count": 0,
      "outputs": []
    },
    {
      "cell_type": "code",
      "metadata": {
        "id": "jcxmsKAWfWR7",
        "colab_type": "code",
        "colab": {}
      },
      "source": [
        "def compute_roc_auc(index):\n",
        "    y_predict = randomForestModel_kfold.predict_proba(X.iloc[index])[:,1]\n",
        "    fpr, tpr, thresholds = roc_curve(y.iloc[index], y_predict)\n",
        "    auc_score = auc(fpr, tpr)\n",
        "    return fpr, tpr, auc_score"
      ],
      "execution_count": 0,
      "outputs": []
    },
    {
      "cell_type": "code",
      "metadata": {
        "id": "fvxAgXik_0p0",
        "colab_type": "code",
        "colab": {}
      },
      "source": [
        "results = pd.DataFrame(columns=['training_score', 'test_score'])\n",
        "fprs, tprs, scores, accuracy = [], [], [], []\n",
        "    \n",
        "for (train, test), i in zip(kfold.split(X, y), range(5)):\n",
        "    randomForestModel_kfold.fit(X.iloc[train], y.iloc[train])\n",
        "    _, _, auc_score_train = compute_roc_auc(train)\n",
        "    fpr, tpr, auc_score = compute_roc_auc(test)\n",
        "    scores.append((auc_score_train, auc_score))\n",
        "    fprs.append(fpr)\n",
        "    tprs.append(tpr)\n",
        "    acc = accuracy_score(randomForestModel_kfold.predict(X.iloc[test]), y.iloc[test])\n",
        "    accuracy.append(acc)"
      ],
      "execution_count": 0,
      "outputs": []
    },
    {
      "cell_type": "code",
      "metadata": {
        "id": "HTQGUdbrgh3t",
        "colab_type": "code",
        "colab": {
          "base_uri": "https://localhost:8080/",
          "height": 204
        },
        "outputId": "fc37bfe7-36ba-4cb4-b326-e62ff006b46e"
      },
      "source": [
        "results = pd.DataFrame(scores, columns=['AUC Train', 'AUC Test'])\n",
        "results"
      ],
      "execution_count": 63,
      "outputs": [
        {
          "output_type": "execute_result",
          "data": {
            "text/html": [
              "<div>\n",
              "<style scoped>\n",
              "    .dataframe tbody tr th:only-of-type {\n",
              "        vertical-align: middle;\n",
              "    }\n",
              "\n",
              "    .dataframe tbody tr th {\n",
              "        vertical-align: top;\n",
              "    }\n",
              "\n",
              "    .dataframe thead th {\n",
              "        text-align: right;\n",
              "    }\n",
              "</style>\n",
              "<table border=\"1\" class=\"dataframe\">\n",
              "  <thead>\n",
              "    <tr style=\"text-align: right;\">\n",
              "      <th></th>\n",
              "      <th>AUC Train</th>\n",
              "      <th>AUC Test</th>\n",
              "    </tr>\n",
              "  </thead>\n",
              "  <tbody>\n",
              "    <tr>\n",
              "      <th>0</th>\n",
              "      <td>1.0</td>\n",
              "      <td>0.815202</td>\n",
              "    </tr>\n",
              "    <tr>\n",
              "      <th>1</th>\n",
              "      <td>1.0</td>\n",
              "      <td>0.831229</td>\n",
              "    </tr>\n",
              "    <tr>\n",
              "      <th>2</th>\n",
              "      <td>1.0</td>\n",
              "      <td>0.750248</td>\n",
              "    </tr>\n",
              "    <tr>\n",
              "      <th>3</th>\n",
              "      <td>1.0</td>\n",
              "      <td>0.760198</td>\n",
              "    </tr>\n",
              "    <tr>\n",
              "      <th>4</th>\n",
              "      <td>1.0</td>\n",
              "      <td>0.772727</td>\n",
              "    </tr>\n",
              "  </tbody>\n",
              "</table>\n",
              "</div>"
            ],
            "text/plain": [
              "   AUC Train  AUC Test\n",
              "0        1.0  0.815202\n",
              "1        1.0  0.831229\n",
              "2        1.0  0.750248\n",
              "3        1.0  0.760198\n",
              "4        1.0  0.772727"
            ]
          },
          "metadata": {
            "tags": []
          },
          "execution_count": 63
        }
      ]
    },
    {
      "cell_type": "code",
      "metadata": {
        "id": "6r8p73dT_0p6",
        "colab_type": "code",
        "colab": {}
      },
      "source": [
        "   #Calculate Mean score"
      ],
      "execution_count": 0,
      "outputs": []
    },
    {
      "cell_type": "code",
      "metadata": {
        "id": "Rr132f7H_0qD",
        "colab_type": "code",
        "colab": {}
      },
      "source": [
        "# Calculate score standard deviation using std()"
      ],
      "execution_count": 0,
      "outputs": []
    },
    {
      "cell_type": "code",
      "metadata": {
        "id": "qtGEiGuu_0qA",
        "colab_type": "code",
        "colab": {
          "base_uri": "https://localhost:8080/",
          "height": 68
        },
        "outputId": "1d6cea08-e9e1-4728-878e-274d09126bd3"
      },
      "source": [
        "accuracy = np.array(accuracy)\n",
        "print('Accuracy Score')\n",
        "print('Avearge: ', accuracy.mean())\n",
        "print('Standard deviation: ', accuracy.std())"
      ],
      "execution_count": 102,
      "outputs": [
        {
          "output_type": "stream",
          "text": [
            "Accuracy Score\n",
            "Avearge:  0.772\n",
            "Standard deviation:  0.07573638491504596\n"
          ],
          "name": "stdout"
        }
      ]
    },
    {
      "cell_type": "markdown",
      "metadata": {
        "id": "kB0x5yLs_0qM",
        "colab_type": "text"
      },
      "source": [
        "# Q8 Print the confusion matrix( 1 Marks)"
      ]
    },
    {
      "cell_type": "code",
      "metadata": {
        "id": "WiS5l8Cn_0qO",
        "colab_type": "code",
        "colab": {
          "base_uri": "https://localhost:8080/",
          "height": 51
        },
        "outputId": "a8ee8e54-6eae-4e71-a242-59303b671a61"
      },
      "source": [
        "confusion_matrix(y_test, randomForestModel_kfold.predict(X_test))"
      ],
      "execution_count": 71,
      "outputs": [
        {
          "output_type": "execute_result",
          "data": {
            "text/plain": [
              "array([[216,   2],\n",
              "       [  9,  73]])"
            ]
          },
          "metadata": {
            "tags": []
          },
          "execution_count": 71
        }
      ]
    },
    {
      "cell_type": "markdown",
      "metadata": {
        "id": "uMLxrkNg_0qR",
        "colab_type": "text"
      },
      "source": [
        "# Q9.Classification accuracy: \n",
        "percentage of correct predictions and Calculate sensitivity (or True Positive Rate or Recall) and Precision.\n",
        "( 1 Marks)"
      ]
    },
    {
      "cell_type": "code",
      "metadata": {
        "id": "QUG5Y_li_0qT",
        "colab_type": "code",
        "colab": {}
      },
      "source": [
        "from sklearn.metrics import classification_report"
      ],
      "execution_count": 0,
      "outputs": []
    },
    {
      "cell_type": "code",
      "metadata": {
        "id": "IS9CZaZr_0qX",
        "colab_type": "code",
        "colab": {
          "base_uri": "https://localhost:8080/",
          "height": 170
        },
        "outputId": "48db6bd9-9494-40f8-c5bb-3870468ea454"
      },
      "source": [
        "print(classification_report(y_true=y_test, y_pred=randomForestModel_kfold.predict(X_test)))"
      ],
      "execution_count": 94,
      "outputs": [
        {
          "output_type": "stream",
          "text": [
            "              precision    recall  f1-score   support\n",
            "\n",
            "           0       0.96      0.99      0.98       218\n",
            "           1       0.97      0.89      0.93        82\n",
            "\n",
            "    accuracy                           0.96       300\n",
            "   macro avg       0.97      0.94      0.95       300\n",
            "weighted avg       0.96      0.96      0.96       300\n",
            "\n"
          ],
          "name": "stdout"
        }
      ]
    },
    {
      "cell_type": "markdown",
      "metadata": {
        "id": "IlPEO3pO_0qa",
        "colab_type": "text"
      },
      "source": [
        "# Q10.Plot Receiver Operating Characteristic (ROC) Curves( 1 Marks)"
      ]
    },
    {
      "cell_type": "code",
      "metadata": {
        "id": "TvMRfq7yfdIL",
        "colab_type": "code",
        "colab": {}
      },
      "source": [
        "def plot_roc_curve(fprs, tprs):\n",
        "    \"\"\"Plot the Receiver Operating Characteristic from a list\n",
        "    of true positive rates and false positive rates.\"\"\"\n",
        "    \n",
        "    # Initialize useful lists + the plot axes.\n",
        "    tprs_interp = []\n",
        "    aucs = []\n",
        "    mean_fpr = np.linspace(0, 1, 100)\n",
        "    f, ax = plt.subplots(figsize=(14,10))\n",
        "    \n",
        "    # Plot ROC for each K-Fold + compute AUC scores.\n",
        "    for i, (fpr, tpr) in enumerate(zip(fprs, tprs)):\n",
        "        tprs_interp.append(np.interp(mean_fpr, fpr, tpr))\n",
        "        tprs_interp[-1][0] = 0.0\n",
        "        roc_auc = auc(fpr, tpr)\n",
        "        aucs.append(roc_auc)\n",
        "        ax.plot(fpr, tpr, lw=1, alpha=0.3,\n",
        "                 label='ROC fold %d (AUC = %0.2f)' % (i, roc_auc))\n",
        "        \n",
        "    # Plot the luck line.\n",
        "    plt.plot([0, 1], [0, 1], linestyle='--', lw=2, color='r',\n",
        "             label='Luck', alpha=.8)\n",
        "    \n",
        "    # Plot the mean ROC.\n",
        "    mean_tpr = np.mean(tprs_interp, axis=0)\n",
        "    mean_tpr[-1] = 1.0\n",
        "    mean_auc = auc(mean_fpr, mean_tpr)\n",
        "    std_auc = np.std(aucs)\n",
        "    ax.plot(mean_fpr, mean_tpr, color='b',\n",
        "             label=r'Mean ROC (AUC = %0.2f $\\pm$ %0.2f)' % (mean_auc, std_auc),\n",
        "             lw=2, alpha=.8)\n",
        "    \n",
        "    # Plot the standard deviation around the mean ROC.\n",
        "    std_tpr = np.std(tprs_interp, axis=0)\n",
        "    tprs_upper = np.minimum(mean_tpr + std_tpr, 1)\n",
        "    tprs_lower = np.maximum(mean_tpr - std_tpr, 0)\n",
        "    ax.fill_between(mean_fpr, tprs_lower, tprs_upper, color='grey', alpha=.2,\n",
        "                     label=r'$\\pm$ 1 std. dev.')\n",
        "    \n",
        "    # Fine tune and show the plot.\n",
        "    ax.set_xlim([-0.05, 1.05])\n",
        "    ax.set_ylim([-0.05, 1.05])\n",
        "    ax.set_xlabel('False Positive Rate')\n",
        "    ax.set_ylabel('True Positive Rate')\n",
        "    ax.set_title('Receiver operating characteristic')\n",
        "    ax.legend(loc=\"lower right\")\n",
        "    plt.show()\n",
        "    return (f, ax)"
      ],
      "execution_count": 0,
      "outputs": []
    },
    {
      "cell_type": "code",
      "metadata": {
        "id": "ZCJ-wYLX_0qo",
        "colab_type": "code",
        "colab": {
          "base_uri": "https://localhost:8080/",
          "height": 621
        },
        "outputId": "fcfc5d3e-529d-4ff1-b96f-1ac0f67f8501"
      },
      "source": [
        "plot_roc_curve(fprs, tprs);"
      ],
      "execution_count": 70,
      "outputs": [
        {
          "output_type": "display_data",
          "data": {
            "image/png": "[encoded data removed]",
            "text/plain": [
              "<Figure size 1008x720 with 1 Axes>"
            ]
          },
          "metadata": {
            "tags": []
          }
        }
      ]
    },
    {
      "cell_type": "markdown",
      "metadata": {
        "id": "annGF0Bh_0qr",
        "colab_type": "text"
      },
      "source": [
        "ROC curve can help you to choose a threshold that balances sensitivity and specificity in a way that makes sense for your particular context"
      ]
    },
    {
      "cell_type": "markdown",
      "metadata": {
        "id": "rE4Qbbh5_0qt",
        "colab_type": "text"
      },
      "source": [
        "# Q11. Calculate AUC(the percentage of the ROC plot that is underneath the curve) - optional"
      ]
    },
    {
      "cell_type": "code",
      "metadata": {
        "id": "8nwRSPz4_0qu",
        "colab_type": "code",
        "colab": {
          "base_uri": "https://localhost:8080/",
          "height": 34
        },
        "outputId": "65019a9d-1fd5-4a19-f5f9-27de209adb09"
      },
      "source": [
        "auc(fpr, tpr)"
      ],
      "execution_count": 95,
      "outputs": [
        {
          "output_type": "execute_result",
          "data": {
            "text/plain": [
              "0.7727272727272727"
            ]
          },
          "metadata": {
            "tags": []
          },
          "execution_count": 95
        }
      ]
    },
    {
      "cell_type": "code",
      "metadata": {
        "id": "fsjK0GSg_0qx",
        "colab_type": "code",
        "colab": {}
      },
      "source": [
        ""
      ],
      "execution_count": 0,
      "outputs": []
    },
    {
      "cell_type": "code",
      "metadata": {
        "id": "dA8Cha75_0qz",
        "colab_type": "code",
        "colab": {}
      },
      "source": [
        ""
      ],
      "execution_count": 0,
      "outputs": []
    },
    {
      "cell_type": "code",
      "metadata": {
        "id": "NiON-6bu_0q4",
        "colab_type": "code",
        "colab": {}
      },
      "source": [
        ""
      ],
      "execution_count": 0,
      "outputs": []
    },
    {
      "cell_type": "markdown",
      "metadata": {
        "id": "BZ43LYtQ_0q9",
        "colab_type": "text"
      },
      "source": [
        "### Bootstrapping ( Bonus)\n",
        "##### Given a dataset of size n, a bootstrap sample is created by sampling n instances uniformly from the data (with/without replacement)\n",
        "##### Create a model with each bootstrap sample and validate it with the test set\n",
        "##### Final result is calculated by averaging the accuracy of models"
      ]
    },
    {
      "cell_type": "code",
      "metadata": {
        "id": "8KwXPTNE_0q9",
        "colab_type": "code",
        "colab": {}
      },
      "source": [
        "# Number of iterations for bootstrapping\n",
        "bootstrap_iteration = 10\n",
        "accuracy = []\n",
        "randomForestModel_bonus = RandomForestClassifier(n_estimators = 500, n_jobs=2, criterion='entropy', random_state=9999)"
      ],
      "execution_count": 0,
      "outputs": []
    },
    {
      "cell_type": "code",
      "metadata": {
        "id": "rVQTCij9_0rA",
        "colab_type": "code",
        "colab": {}
      },
      "source": [
        "from sklearn.utils import resample\n",
        "from sklearn.metrics import accuracy_score\n",
        "\n",
        "for i in range(bootstrap_iteration):\n",
        "    X_, y_ = resample(X_train, y_train)\n",
        "    randomForestModel_bonus.fit(X_, y_)\n",
        "    y_pred = randomForestModel_bonus.predict(X_test)\n",
        "    \n",
        "    acc = accuracy_score(y_pred, y_test)\n",
        "    accuracy.append(acc)"
      ],
      "execution_count": 0,
      "outputs": []
    },
    {
      "cell_type": "code",
      "metadata": {
        "id": "lRtfc6p7_0rD",
        "colab_type": "code",
        "outputId": "9f416697-9b3b-44c4-dfa8-3fe907c54d2d",
        "colab": {
          "base_uri": "https://localhost:8080/",
          "height": 68
        }
      },
      "source": [
        "accuracy = np.array(accuracy)\n",
        "print('Accuracy Score')\n",
        "print('Avearge: ', accuracy.mean())\n",
        "print('Standard deviation: ', accuracy.std())"
      ],
      "execution_count": 106,
      "outputs": [
        {
          "output_type": "stream",
          "text": [
            "Accuracy Score\n",
            "Avearge:  0.7543333333333334\n",
            "Standard deviation:  0.014224392195567922\n"
          ],
          "name": "stdout"
        }
      ]
    },
    {
      "cell_type": "code",
      "metadata": {
        "id": "7ItbXIpd_0rH",
        "colab_type": "code",
        "colab": {}
      },
      "source": [
        ""
      ],
      "execution_count": 0,
      "outputs": []
    }
  ]
}