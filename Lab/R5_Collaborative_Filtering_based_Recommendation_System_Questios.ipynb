{
  "nbformat": 4,
  "nbformat_minor": 0,
  "metadata": {
    "kernelspec": {
      "name": "python3",
      "display_name": "Python 3"
    },
    "language_info": {
      "codemirror_mode": {
        "name": "ipython",
        "version": 3
      },
      "file_extension": ".py",
      "mimetype": "text/x-python",
      "name": "python",
      "nbconvert_exporter": "python",
      "pygments_lexer": "ipython3",
      "version": "3.6.4"
    },
    "colab": {
      "name": "Collaborative Filtering based Recommendation System_Questios.ipynb",
      "provenance": [],
      "collapsed_sections": [
        "S7tZUc6gcdmC",
        "g-OkAXq4cdma"
      ],
      "machine_shape": "hm"
    },
    "accelerator": "GPU"
  },
  "cells": [
    {
      "cell_type": "markdown",
      "metadata": {
        "id": "p7K6Vmifcdi9",
        "colab_type": "text"
      },
      "source": [
        "**About Book Crossing Dataset**<br>\n",
        "\n",
        "This dataset has been compiled by Cai-Nicolas Ziegler in 2004, and it comprises of three tables for users, books and ratings. Explicit ratings are expressed on a scale from 1-10 (higher values denoting higher appreciation) and implicit rating is expressed by 0."
      ]
    },
    {
      "cell_type": "markdown",
      "metadata": {
        "id": "j49st82zcdjD",
        "colab_type": "text"
      },
      "source": [
        "Reference: http://www2.informatik.uni-freiburg.de/~cziegler/BX/ "
      ]
    },
    {
      "cell_type": "markdown",
      "metadata": {
        "id": "1zKMfmPlcdjG",
        "colab_type": "text"
      },
      "source": [
        "**Objective**\n",
        "\n",
        "This project entails building a Book Recommender System for users based on user-based and item-based collaborative filtering approaches."
      ]
    },
    {
      "cell_type": "markdown",
      "metadata": {
        "id": "yWqho4yRcdjI",
        "colab_type": "text"
      },
      "source": [
        "#### Execute the below cell to load the datasets"
      ]
    },
    {
      "cell_type": "code",
      "metadata": {
        "id": "A-p8mvs6dJsW",
        "colab_type": "code",
        "colab": {}
      },
      "source": [
        "import numpy as np\n",
        "import pandas as pd\n",
        "import os\n",
        "import seaborn as sns\n",
        "import matplotlib.pyplot as plt\n",
        "from sklearn.model_selection import train_test_split\n",
        "%matplotlib inline\n",
        "import timeit\n",
        "from scipy.linalg import svd"
      ],
      "execution_count": 0,
      "outputs": []
    },
    {
      "cell_type": "code",
      "metadata": {
        "id": "UTCh-XCmdQzH",
        "colab_type": "code",
        "colab": {}
      },
      "source": [
        "from google.colab import drive\n",
        "drive.mount('/content/drive')"
      ],
      "execution_count": 0,
      "outputs": []
    },
    {
      "cell_type": "code",
      "metadata": {
        "scrolled": true,
        "id": "3zcxi-EqcdjK",
        "colab_type": "code",
        "outputId": "653afe9b-c9d3-4890-c355-a68318c002c5",
        "colab": {
          "base_uri": "https://localhost:8080/",
          "height": 139
        }
      },
      "source": [
        "#Loading data\n",
        "books = pd.read_csv(\"/content/drive/My Drive/Datasets/books.csv\", sep=\";\", error_bad_lines=False, encoding=\"latin-1\")\n",
        "books.columns = ['ISBN', 'bookTitle', 'bookAuthor', 'yearOfPublication', 'publisher', 'imageUrlS', 'imageUrlM', 'imageUrlL']"
      ],
      "execution_count": 3,
      "outputs": [
        {
          "output_type": "stream",
          "text": [
            "b'Skipping line 6452: expected 8 fields, saw 9\\nSkipping line 43667: expected 8 fields, saw 10\\nSkipping line 51751: expected 8 fields, saw 9\\n'\n",
            "b'Skipping line 92038: expected 8 fields, saw 9\\nSkipping line 104319: expected 8 fields, saw 9\\nSkipping line 121768: expected 8 fields, saw 9\\n'\n",
            "b'Skipping line 144058: expected 8 fields, saw 9\\nSkipping line 150789: expected 8 fields, saw 9\\nSkipping line 157128: expected 8 fields, saw 9\\nSkipping line 180189: expected 8 fields, saw 9\\nSkipping line 185738: expected 8 fields, saw 9\\n'\n",
            "b'Skipping line 209388: expected 8 fields, saw 9\\nSkipping line 220626: expected 8 fields, saw 9\\nSkipping line 227933: expected 8 fields, saw 11\\nSkipping line 228957: expected 8 fields, saw 10\\nSkipping line 245933: expected 8 fields, saw 9\\nSkipping line 251296: expected 8 fields, saw 9\\nSkipping line 259941: expected 8 fields, saw 9\\nSkipping line 261529: expected 8 fields, saw 9\\n'\n",
            "/usr/local/lib/python3.6/dist-packages/IPython/core/interactiveshell.py:2718: DtypeWarning: Columns (3) have mixed types. Specify dtype option on import or set low_memory=False.\n",
            "  interactivity=interactivity, compiler=compiler, result=result)\n"
          ],
          "name": "stderr"
        }
      ]
    },
    {
      "cell_type": "code",
      "metadata": {
        "id": "4QhVlcOGP05U",
        "colab_type": "code",
        "colab": {}
      },
      "source": [
        "ratings = pd.read_csv('/content/drive/My Drive/Datasets/ratings.csv', sep=';', error_bad_lines=False, encoding=\"latin-1\")\n",
        "ratings.columns = ['userID', 'ISBN', 'bookRating']"
      ],
      "execution_count": 0,
      "outputs": []
    },
    {
      "cell_type": "code",
      "metadata": {
        "id": "cliVA0h88r4F",
        "colab_type": "code",
        "colab": {}
      },
      "source": [
        "users = pd.read_csv('/content/drive/My Drive/Datasets/users.csv', sep=';', error_bad_lines=False, encoding=\"latin-1\")\n",
        "users.columns = ['userID', 'Location', 'Age']"
      ],
      "execution_count": 0,
      "outputs": []
    },
    {
      "cell_type": "markdown",
      "metadata": {
        "id": "ktZxW6J_cdjV",
        "colab_type": "text"
      },
      "source": [
        "### Check no.of records and features given in each dataset"
      ]
    },
    {
      "cell_type": "code",
      "metadata": {
        "id": "4QyLZ4D6cdjW",
        "colab_type": "code",
        "outputId": "c7b34288-e96d-419d-cbd6-7df9a046a9d4",
        "colab": {
          "base_uri": "https://localhost:8080/",
          "height": 68
        }
      },
      "source": [
        "print(\"ratinsg:\", ratings.shape)\n",
        "print(\"books:\", books.shape)\n",
        "print(\"users:\", users.shape)"
      ],
      "execution_count": 6,
      "outputs": [
        {
          "output_type": "stream",
          "text": [
            "ratinsg: (1149780, 3)\n",
            "books: (271360, 8)\n",
            "users: (278858, 3)\n"
          ],
          "name": "stdout"
        }
      ]
    },
    {
      "cell_type": "code",
      "metadata": {
        "id": "vASl68phL-CT",
        "colab_type": "code",
        "outputId": "d26a962f-ac36-44fa-e464-6323d4f5836b",
        "colab": {
          "base_uri": "https://localhost:8080/",
          "height": 153
        }
      },
      "source": [
        "ratings.info()\n",
        "# initial intuation from info: no missing value but ISBN is obj not int64"
      ],
      "execution_count": 7,
      "outputs": [
        {
          "output_type": "stream",
          "text": [
            "<class 'pandas.core.frame.DataFrame'>\n",
            "RangeIndex: 1149780 entries, 0 to 1149779\n",
            "Data columns (total 3 columns):\n",
            "userID        1149780 non-null int64\n",
            "ISBN          1149780 non-null object\n",
            "bookRating    1149780 non-null int64\n",
            "dtypes: int64(2), object(1)\n",
            "memory usage: 26.3+ MB\n"
          ],
          "name": "stdout"
        }
      ]
    },
    {
      "cell_type": "code",
      "metadata": {
        "id": "VQJ7dmgMcdjc",
        "colab_type": "code",
        "outputId": "84d8fbb9-9a71-4e2a-b6f4-d50fb15ce0fb",
        "colab": {
          "base_uri": "https://localhost:8080/",
          "height": 238
        }
      },
      "source": [
        "books.info()\n",
        "# initial intuation from info: some missing values in author, publisher, imageUrlL. Also yearOfPublication as Object not int"
      ],
      "execution_count": 8,
      "outputs": [
        {
          "output_type": "stream",
          "text": [
            "<class 'pandas.core.frame.DataFrame'>\n",
            "RangeIndex: 271360 entries, 0 to 271359\n",
            "Data columns (total 8 columns):\n",
            "ISBN                 271360 non-null object\n",
            "bookTitle            271360 non-null object\n",
            "bookAuthor           271359 non-null object\n",
            "yearOfPublication    271360 non-null object\n",
            "publisher            271358 non-null object\n",
            "imageUrlS            271360 non-null object\n",
            "imageUrlM            271360 non-null object\n",
            "imageUrlL            271357 non-null object\n",
            "dtypes: object(8)\n",
            "memory usage: 16.6+ MB\n"
          ],
          "name": "stdout"
        }
      ]
    },
    {
      "cell_type": "code",
      "metadata": {
        "id": "lSsvlMiWcdjh",
        "colab_type": "code",
        "outputId": "664a179f-4b0b-47f5-c98a-8da398c5a393",
        "colab": {
          "base_uri": "https://localhost:8080/",
          "height": 153
        }
      },
      "source": [
        "users.info()\n",
        "# initial intuation from info: missing values in age"
      ],
      "execution_count": 9,
      "outputs": [
        {
          "output_type": "stream",
          "text": [
            "<class 'pandas.core.frame.DataFrame'>\n",
            "RangeIndex: 278858 entries, 0 to 278857\n",
            "Data columns (total 3 columns):\n",
            "userID      278858 non-null int64\n",
            "Location    278858 non-null object\n",
            "Age         168096 non-null float64\n",
            "dtypes: float64(1), int64(1), object(1)\n",
            "memory usage: 6.4+ MB\n"
          ],
          "name": "stdout"
        }
      ]
    },
    {
      "cell_type": "markdown",
      "metadata": {
        "id": "4gD2Lzmecdjm",
        "colab_type": "text"
      },
      "source": [
        "## Exploring books dataset"
      ]
    },
    {
      "cell_type": "code",
      "metadata": {
        "scrolled": false,
        "id": "aVLnlU6Kcdjo",
        "colab_type": "code",
        "outputId": "39e090c6-af20-4bf5-a933-7f45c0745d8b",
        "colab": {
          "base_uri": "https://localhost:8080/",
          "height": 394
        }
      },
      "source": [
        "books.head()"
      ],
      "execution_count": 10,
      "outputs": [
        {
          "output_type": "execute_result",
          "data": {
            "text/html": [
              "<div>\n",
              "<style scoped>\n",
              "    .dataframe tbody tr th:only-of-type {\n",
              "        vertical-align: middle;\n",
              "    }\n",
              "\n",
              "    .dataframe tbody tr th {\n",
              "        vertical-align: top;\n",
              "    }\n",
              "\n",
              "    .dataframe thead th {\n",
              "        text-align: right;\n",
              "    }\n",
              "</style>\n",
              "<table border=\"1\" class=\"dataframe\">\n",
              "  <thead>\n",
              "    <tr style=\"text-align: right;\">\n",
              "      <th></th>\n",
              "      <th>ISBN</th>\n",
              "      <th>bookTitle</th>\n",
              "      <th>bookAuthor</th>\n",
              "      <th>yearOfPublication</th>\n",
              "      <th>publisher</th>\n",
              "      <th>imageUrlS</th>\n",
              "      <th>imageUrlM</th>\n",
              "      <th>imageUrlL</th>\n",
              "    </tr>\n",
              "  </thead>\n",
              "  <tbody>\n",
              "    <tr>\n",
              "      <th>0</th>\n",
              "      <td>0195153448</td>\n",
              "      <td>Classical Mythology</td>\n",
              "      <td>Mark P. O. Morford</td>\n",
              "      <td>2002</td>\n",
              "      <td>Oxford University Press</td>\n",
              "      <td>http://images.amazon.com/images/P/0195153448.0...</td>\n",
              "      <td>http://images.amazon.com/images/P/0195153448.0...</td>\n",
              "      <td>http://images.amazon.com/images/P/0195153448.0...</td>\n",
              "    </tr>\n",
              "    <tr>\n",
              "      <th>1</th>\n",
              "      <td>0002005018</td>\n",
              "      <td>Clara Callan</td>\n",
              "      <td>Richard Bruce Wright</td>\n",
              "      <td>2001</td>\n",
              "      <td>HarperFlamingo Canada</td>\n",
              "      <td>http://images.amazon.com/images/P/0002005018.0...</td>\n",
              "      <td>http://images.amazon.com/images/P/0002005018.0...</td>\n",
              "      <td>http://images.amazon.com/images/P/0002005018.0...</td>\n",
              "    </tr>\n",
              "    <tr>\n",
              "      <th>2</th>\n",
              "      <td>0060973129</td>\n",
              "      <td>Decision in Normandy</td>\n",
              "      <td>Carlo D'Este</td>\n",
              "      <td>1991</td>\n",
              "      <td>HarperPerennial</td>\n",
              "      <td>http://images.amazon.com/images/P/0060973129.0...</td>\n",
              "      <td>http://images.amazon.com/images/P/0060973129.0...</td>\n",
              "      <td>http://images.amazon.com/images/P/0060973129.0...</td>\n",
              "    </tr>\n",
              "    <tr>\n",
              "      <th>3</th>\n",
              "      <td>0374157065</td>\n",
              "      <td>Flu: The Story of the Great Influenza Pandemic...</td>\n",
              "      <td>Gina Bari Kolata</td>\n",
              "      <td>1999</td>\n",
              "      <td>Farrar Straus Giroux</td>\n",
              "      <td>http://images.amazon.com/images/P/0374157065.0...</td>\n",
              "      <td>http://images.amazon.com/images/P/0374157065.0...</td>\n",
              "      <td>http://images.amazon.com/images/P/0374157065.0...</td>\n",
              "    </tr>\n",
              "    <tr>\n",
              "      <th>4</th>\n",
              "      <td>0393045218</td>\n",
              "      <td>The Mummies of Urumchi</td>\n",
              "      <td>E. J. W. Barber</td>\n",
              "      <td>1999</td>\n",
              "      <td>W. W. Norton &amp;amp; Company</td>\n",
              "      <td>http://images.amazon.com/images/P/0393045218.0...</td>\n",
              "      <td>http://images.amazon.com/images/P/0393045218.0...</td>\n",
              "      <td>http://images.amazon.com/images/P/0393045218.0...</td>\n",
              "    </tr>\n",
              "  </tbody>\n",
              "</table>\n",
              "</div>"
            ],
            "text/plain": [
              "         ISBN  ...                                          imageUrlL\n",
              "0  0195153448  ...  http://images.amazon.com/images/P/0195153448.0...\n",
              "1  0002005018  ...  http://images.amazon.com/images/P/0002005018.0...\n",
              "2  0060973129  ...  http://images.amazon.com/images/P/0060973129.0...\n",
              "3  0374157065  ...  http://images.amazon.com/images/P/0374157065.0...\n",
              "4  0393045218  ...  http://images.amazon.com/images/P/0393045218.0...\n",
              "\n",
              "[5 rows x 8 columns]"
            ]
          },
          "metadata": {
            "tags": []
          },
          "execution_count": 10
        }
      ]
    },
    {
      "cell_type": "code",
      "metadata": {
        "id": "OcN82STIezD9",
        "colab_type": "code",
        "colab": {
          "base_uri": "https://localhost:8080/",
          "height": 204
        },
        "outputId": "2a92be20-4652-48ef-e75c-32f9103b937b"
      },
      "source": [
        "users.head()"
      ],
      "execution_count": 11,
      "outputs": [
        {
          "output_type": "execute_result",
          "data": {
            "text/html": [
              "<div>\n",
              "<style scoped>\n",
              "    .dataframe tbody tr th:only-of-type {\n",
              "        vertical-align: middle;\n",
              "    }\n",
              "\n",
              "    .dataframe tbody tr th {\n",
              "        vertical-align: top;\n",
              "    }\n",
              "\n",
              "    .dataframe thead th {\n",
              "        text-align: right;\n",
              "    }\n",
              "</style>\n",
              "<table border=\"1\" class=\"dataframe\">\n",
              "  <thead>\n",
              "    <tr style=\"text-align: right;\">\n",
              "      <th></th>\n",
              "      <th>userID</th>\n",
              "      <th>Location</th>\n",
              "      <th>Age</th>\n",
              "    </tr>\n",
              "  </thead>\n",
              "  <tbody>\n",
              "    <tr>\n",
              "      <th>0</th>\n",
              "      <td>1</td>\n",
              "      <td>nyc, new york, usa</td>\n",
              "      <td>NaN</td>\n",
              "    </tr>\n",
              "    <tr>\n",
              "      <th>1</th>\n",
              "      <td>2</td>\n",
              "      <td>stockton, california, usa</td>\n",
              "      <td>18.0</td>\n",
              "    </tr>\n",
              "    <tr>\n",
              "      <th>2</th>\n",
              "      <td>3</td>\n",
              "      <td>moscow, yukon territory, russia</td>\n",
              "      <td>NaN</td>\n",
              "    </tr>\n",
              "    <tr>\n",
              "      <th>3</th>\n",
              "      <td>4</td>\n",
              "      <td>porto, v.n.gaia, portugal</td>\n",
              "      <td>17.0</td>\n",
              "    </tr>\n",
              "    <tr>\n",
              "      <th>4</th>\n",
              "      <td>5</td>\n",
              "      <td>farnborough, hants, united kingdom</td>\n",
              "      <td>NaN</td>\n",
              "    </tr>\n",
              "  </tbody>\n",
              "</table>\n",
              "</div>"
            ],
            "text/plain": [
              "   userID                            Location   Age\n",
              "0       1                  nyc, new york, usa   NaN\n",
              "1       2           stockton, california, usa  18.0\n",
              "2       3     moscow, yukon territory, russia   NaN\n",
              "3       4           porto, v.n.gaia, portugal  17.0\n",
              "4       5  farnborough, hants, united kingdom   NaN"
            ]
          },
          "metadata": {
            "tags": []
          },
          "execution_count": 11
        }
      ]
    },
    {
      "cell_type": "code",
      "metadata": {
        "id": "bQjf-6iTezSr",
        "colab_type": "code",
        "outputId": "6fedffe9-ae88-48ef-8624-c8fbdbcb8267",
        "colab": {
          "base_uri": "https://localhost:8080/",
          "height": 204
        }
      },
      "source": [
        "ratings.head()"
      ],
      "execution_count": 13,
      "outputs": [
        {
          "output_type": "execute_result",
          "data": {
            "text/html": [
              "<div>\n",
              "<style scoped>\n",
              "    .dataframe tbody tr th:only-of-type {\n",
              "        vertical-align: middle;\n",
              "    }\n",
              "\n",
              "    .dataframe tbody tr th {\n",
              "        vertical-align: top;\n",
              "    }\n",
              "\n",
              "    .dataframe thead th {\n",
              "        text-align: right;\n",
              "    }\n",
              "</style>\n",
              "<table border=\"1\" class=\"dataframe\">\n",
              "  <thead>\n",
              "    <tr style=\"text-align: right;\">\n",
              "      <th></th>\n",
              "      <th>userID</th>\n",
              "      <th>ISBN</th>\n",
              "      <th>bookRating</th>\n",
              "    </tr>\n",
              "  </thead>\n",
              "  <tbody>\n",
              "    <tr>\n",
              "      <th>0</th>\n",
              "      <td>276725</td>\n",
              "      <td>034545104X</td>\n",
              "      <td>0</td>\n",
              "    </tr>\n",
              "    <tr>\n",
              "      <th>1</th>\n",
              "      <td>276726</td>\n",
              "      <td>0155061224</td>\n",
              "      <td>5</td>\n",
              "    </tr>\n",
              "    <tr>\n",
              "      <th>2</th>\n",
              "      <td>276727</td>\n",
              "      <td>0446520802</td>\n",
              "      <td>0</td>\n",
              "    </tr>\n",
              "    <tr>\n",
              "      <th>3</th>\n",
              "      <td>276729</td>\n",
              "      <td>052165615X</td>\n",
              "      <td>3</td>\n",
              "    </tr>\n",
              "    <tr>\n",
              "      <th>4</th>\n",
              "      <td>276729</td>\n",
              "      <td>0521795028</td>\n",
              "      <td>6</td>\n",
              "    </tr>\n",
              "  </tbody>\n",
              "</table>\n",
              "</div>"
            ],
            "text/plain": [
              "   userID        ISBN  bookRating\n",
              "0  276725  034545104X           0\n",
              "1  276726  0155061224           5\n",
              "2  276727  0446520802           0\n",
              "3  276729  052165615X           3\n",
              "4  276729  0521795028           6"
            ]
          },
          "metadata": {
            "tags": []
          },
          "execution_count": 13
        }
      ]
    },
    {
      "cell_type": "markdown",
      "metadata": {
        "id": "nmmzepSecdjv",
        "colab_type": "text"
      },
      "source": [
        "### Drop last three columns containing image URLs which will not be required for analysis"
      ]
    },
    {
      "cell_type": "code",
      "metadata": {
        "id": "-o77mnE3NGxJ",
        "colab_type": "code",
        "outputId": "2d79ee03-8861-4b70-beca-1890d3b93dbe",
        "colab": {
          "base_uri": "https://localhost:8080/",
          "height": 34
        }
      },
      "source": [
        "# keeping 'imageUrlS', 'imageUrlM','imageUrlL' in different set before droping the same\n",
        "image_url = books.loc[:,['ISBN', 'imageUrlS', 'imageUrlM','imageUrlL']]\n",
        "image_url.shape"
      ],
      "execution_count": 14,
      "outputs": [
        {
          "output_type": "execute_result",
          "data": {
            "text/plain": [
              "(271360, 4)"
            ]
          },
          "metadata": {
            "tags": []
          },
          "execution_count": 14
        }
      ]
    },
    {
      "cell_type": "code",
      "metadata": {
        "id": "l7OyEA_Kcdjw",
        "colab_type": "code",
        "colab": {}
      },
      "source": [
        "# image_url = books[['imageUrlS', 'imageUrlM','imageUrlL']]\n",
        "# image_url.shape"
      ],
      "execution_count": 0,
      "outputs": []
    },
    {
      "cell_type": "code",
      "metadata": {
        "id": "uIEZNYVaqZQS",
        "colab_type": "code",
        "colab": {}
      },
      "source": [
        "# Dropping the 'imageUrlS', 'imageUrlM','imageUrlL'\n",
        "books.drop(['imageUrlS', 'imageUrlM','imageUrlL'], axis=1, inplace=True);"
      ],
      "execution_count": 0,
      "outputs": []
    },
    {
      "cell_type": "code",
      "metadata": {
        "scrolled": true,
        "id": "c2m7T-NCcdj1",
        "colab_type": "code",
        "outputId": "3858adfd-b2f2-43e9-e708-e6a854f9db4b",
        "colab": {
          "base_uri": "https://localhost:8080/",
          "height": 204
        }
      },
      "source": [
        "books.head()"
      ],
      "execution_count": 17,
      "outputs": [
        {
          "output_type": "execute_result",
          "data": {
            "text/html": [
              "<div>\n",
              "<style scoped>\n",
              "    .dataframe tbody tr th:only-of-type {\n",
              "        vertical-align: middle;\n",
              "    }\n",
              "\n",
              "    .dataframe tbody tr th {\n",
              "        vertical-align: top;\n",
              "    }\n",
              "\n",
              "    .dataframe thead th {\n",
              "        text-align: right;\n",
              "    }\n",
              "</style>\n",
              "<table border=\"1\" class=\"dataframe\">\n",
              "  <thead>\n",
              "    <tr style=\"text-align: right;\">\n",
              "      <th></th>\n",
              "      <th>ISBN</th>\n",
              "      <th>bookTitle</th>\n",
              "      <th>bookAuthor</th>\n",
              "      <th>yearOfPublication</th>\n",
              "      <th>publisher</th>\n",
              "    </tr>\n",
              "  </thead>\n",
              "  <tbody>\n",
              "    <tr>\n",
              "      <th>0</th>\n",
              "      <td>0195153448</td>\n",
              "      <td>Classical Mythology</td>\n",
              "      <td>Mark P. O. Morford</td>\n",
              "      <td>2002</td>\n",
              "      <td>Oxford University Press</td>\n",
              "    </tr>\n",
              "    <tr>\n",
              "      <th>1</th>\n",
              "      <td>0002005018</td>\n",
              "      <td>Clara Callan</td>\n",
              "      <td>Richard Bruce Wright</td>\n",
              "      <td>2001</td>\n",
              "      <td>HarperFlamingo Canada</td>\n",
              "    </tr>\n",
              "    <tr>\n",
              "      <th>2</th>\n",
              "      <td>0060973129</td>\n",
              "      <td>Decision in Normandy</td>\n",
              "      <td>Carlo D'Este</td>\n",
              "      <td>1991</td>\n",
              "      <td>HarperPerennial</td>\n",
              "    </tr>\n",
              "    <tr>\n",
              "      <th>3</th>\n",
              "      <td>0374157065</td>\n",
              "      <td>Flu: The Story of the Great Influenza Pandemic...</td>\n",
              "      <td>Gina Bari Kolata</td>\n",
              "      <td>1999</td>\n",
              "      <td>Farrar Straus Giroux</td>\n",
              "    </tr>\n",
              "    <tr>\n",
              "      <th>4</th>\n",
              "      <td>0393045218</td>\n",
              "      <td>The Mummies of Urumchi</td>\n",
              "      <td>E. J. W. Barber</td>\n",
              "      <td>1999</td>\n",
              "      <td>W. W. Norton &amp;amp; Company</td>\n",
              "    </tr>\n",
              "  </tbody>\n",
              "</table>\n",
              "</div>"
            ],
            "text/plain": [
              "         ISBN  ...                   publisher\n",
              "0  0195153448  ...     Oxford University Press\n",
              "1  0002005018  ...       HarperFlamingo Canada\n",
              "2  0060973129  ...             HarperPerennial\n",
              "3  0374157065  ...        Farrar Straus Giroux\n",
              "4  0393045218  ...  W. W. Norton &amp; Company\n",
              "\n",
              "[5 rows x 5 columns]"
            ]
          },
          "metadata": {
            "tags": []
          },
          "execution_count": 17
        }
      ]
    },
    {
      "cell_type": "markdown",
      "metadata": {
        "id": "b4bJNQwucdj6",
        "colab_type": "text"
      },
      "source": [
        "**yearOfPublication**"
      ]
    },
    {
      "cell_type": "markdown",
      "metadata": {
        "id": "Vo1M4wJacdj7",
        "colab_type": "text"
      },
      "source": [
        "### Check unique values of yearOfPublication\n"
      ]
    },
    {
      "cell_type": "code",
      "metadata": {
        "id": "ZaTgwV6Wcdj9",
        "colab_type": "code",
        "outputId": "a40225bb-ef18-466f-8ef9-0d66ee4b8514",
        "colab": {
          "base_uri": "https://localhost:8080/",
          "height": 408
        }
      },
      "source": [
        "books['yearOfPublication'].unique()"
      ],
      "execution_count": 18,
      "outputs": [
        {
          "output_type": "execute_result",
          "data": {
            "text/plain": [
              "array([2002, 2001, 1991, 1999, 2000, 1993, 1996, 1988, 2004, 1998, 1994,\n",
              "       2003, 1997, 1983, 1979, 1995, 1982, 1985, 1992, 1986, 1978, 1980,\n",
              "       1952, 1987, 1990, 1981, 1989, 1984, 0, 1968, 1961, 1958, 1974,\n",
              "       1976, 1971, 1977, 1975, 1965, 1941, 1970, 1962, 1973, 1972, 1960,\n",
              "       1966, 1920, 1956, 1959, 1953, 1951, 1942, 1963, 1964, 1969, 1954,\n",
              "       1950, 1967, 2005, 1957, 1940, 1937, 1955, 1946, 1936, 1930, 2011,\n",
              "       1925, 1948, 1943, 1947, 1945, 1923, 2020, 1939, 1926, 1938, 2030,\n",
              "       1911, 1904, 1949, 1932, 1928, 1929, 1927, 1931, 1914, 2050, 1934,\n",
              "       1910, 1933, 1902, 1924, 1921, 1900, 2038, 2026, 1944, 1917, 1901,\n",
              "       2010, 1908, 1906, 1935, 1806, 2021, '2000', '1995', '1999', '2004',\n",
              "       '2003', '1990', '1994', '1986', '1989', '2002', '1981', '1993',\n",
              "       '1983', '1982', '1976', '1991', '1977', '1998', '1992', '1996',\n",
              "       '0', '1997', '2001', '1974', '1968', '1987', '1984', '1988',\n",
              "       '1963', '1956', '1970', '1985', '1978', '1973', '1980', '1979',\n",
              "       '1975', '1969', '1961', '1965', '1939', '1958', '1950', '1953',\n",
              "       '1966', '1971', '1959', '1972', '1955', '1957', '1945', '1960',\n",
              "       '1967', '1932', '1924', '1964', '2012', '1911', '1927', '1948',\n",
              "       '1962', '2006', '1952', '1940', '1951', '1931', '1954', '2005',\n",
              "       '1930', '1941', '1944', 'DK Publishing Inc', '1943', '1938',\n",
              "       '1900', '1942', '1923', '1920', '1933', 'Gallimard', '1909',\n",
              "       '1946', '2008', '1378', '2030', '1936', '1947', '2011', '2020',\n",
              "       '1919', '1949', '1922', '1897', '2024', '1376', '1926', '2037'],\n",
              "      dtype=object)"
            ]
          },
          "metadata": {
            "tags": []
          },
          "execution_count": 18
        }
      ]
    },
    {
      "cell_type": "markdown",
      "metadata": {
        "id": "K4_PQv-HcdkB",
        "colab_type": "text"
      },
      "source": [
        "As it can be seen from above that there are some incorrect entries in this field. It looks like Publisher names 'DK Publishing Inc' and 'Gallimard' have been incorrectly loaded as yearOfPublication in dataset due to some errors in csv file.\n",
        "\n",
        "\n",
        "Also some of the entries are strings and same years have been entered as numbers in some places. We will try to fix these things in the coming questions."
      ]
    },
    {
      "cell_type": "markdown",
      "metadata": {
        "id": "ccdCYX80cdkH",
        "colab_type": "text"
      },
      "source": [
        "### Check the rows having 'DK Publishing Inc' as yearOfPublication"
      ]
    },
    {
      "cell_type": "code",
      "metadata": {
        "id": "EJn6k6_CcdkJ",
        "colab_type": "code",
        "outputId": "97ba86d9-fb25-407e-8b70-fd3741cff0fc",
        "colab": {
          "base_uri": "https://localhost:8080/",
          "height": 142
        }
      },
      "source": [
        "#books[(books['yearOfPublication'] == 'DK Publishing Inc') | (books['yearOfPublication'] == 'Gallimard')] or\n",
        "books[books['yearOfPublication'].isin(['DK Publishing Inc', 'Gallimard'])]"
      ],
      "execution_count": 19,
      "outputs": [
        {
          "output_type": "execute_result",
          "data": {
            "text/html": [
              "<div>\n",
              "<style scoped>\n",
              "    .dataframe tbody tr th:only-of-type {\n",
              "        vertical-align: middle;\n",
              "    }\n",
              "\n",
              "    .dataframe tbody tr th {\n",
              "        vertical-align: top;\n",
              "    }\n",
              "\n",
              "    .dataframe thead th {\n",
              "        text-align: right;\n",
              "    }\n",
              "</style>\n",
              "<table border=\"1\" class=\"dataframe\">\n",
              "  <thead>\n",
              "    <tr style=\"text-align: right;\">\n",
              "      <th></th>\n",
              "      <th>ISBN</th>\n",
              "      <th>bookTitle</th>\n",
              "      <th>bookAuthor</th>\n",
              "      <th>yearOfPublication</th>\n",
              "      <th>publisher</th>\n",
              "    </tr>\n",
              "  </thead>\n",
              "  <tbody>\n",
              "    <tr>\n",
              "      <th>209538</th>\n",
              "      <td>078946697X</td>\n",
              "      <td>DK Readers: Creating the X-Men, How It All Beg...</td>\n",
              "      <td>2000</td>\n",
              "      <td>DK Publishing Inc</td>\n",
              "      <td>http://images.amazon.com/images/P/078946697X.0...</td>\n",
              "    </tr>\n",
              "    <tr>\n",
              "      <th>220731</th>\n",
              "      <td>2070426769</td>\n",
              "      <td>Peuple du ciel, suivi de 'Les Bergers\\\";Jean-M...</td>\n",
              "      <td>2003</td>\n",
              "      <td>Gallimard</td>\n",
              "      <td>http://images.amazon.com/images/P/2070426769.0...</td>\n",
              "    </tr>\n",
              "    <tr>\n",
              "      <th>221678</th>\n",
              "      <td>0789466953</td>\n",
              "      <td>DK Readers: Creating the X-Men, How Comic Book...</td>\n",
              "      <td>2000</td>\n",
              "      <td>DK Publishing Inc</td>\n",
              "      <td>http://images.amazon.com/images/P/0789466953.0...</td>\n",
              "    </tr>\n",
              "  </tbody>\n",
              "</table>\n",
              "</div>"
            ],
            "text/plain": [
              "              ISBN  ...                                          publisher\n",
              "209538  078946697X  ...  http://images.amazon.com/images/P/078946697X.0...\n",
              "220731  2070426769  ...  http://images.amazon.com/images/P/2070426769.0...\n",
              "221678  0789466953  ...  http://images.amazon.com/images/P/0789466953.0...\n",
              "\n",
              "[3 rows x 5 columns]"
            ]
          },
          "metadata": {
            "tags": []
          },
          "execution_count": 19
        }
      ]
    },
    {
      "cell_type": "code",
      "metadata": {
        "id": "NTZL8Yx7xi3D",
        "colab_type": "code",
        "colab": {}
      },
      "source": [
        "#books.index[(books['yearOfPublication'] == 'DK Publishing Inc') | (books['yearOfPublication'] == 'Gallimard')]"
      ],
      "execution_count": 0,
      "outputs": []
    },
    {
      "cell_type": "markdown",
      "metadata": {
        "id": "8rHl99cvcdkN",
        "colab_type": "text"
      },
      "source": [
        "### Drop the rows having `'DK Publishing Inc'` and `'Gallimard'` as `yearOfPublication`"
      ]
    },
    {
      "cell_type": "code",
      "metadata": {
        "id": "wtsBXIObx3V2",
        "colab_type": "code",
        "colab": {}
      },
      "source": [
        "books = books[~books['yearOfPublication'].isin(['DK Publishing Inc', 'Gallimard'])]\n",
        "#books.drop(books.index[(books['yearOfPublication'] == 'DK Publishing Inc') | (books['yearOfPublication'] == 'Gallimard')], axis=0, inplace=True)"
      ],
      "execution_count": 0,
      "outputs": []
    },
    {
      "cell_type": "code",
      "metadata": {
        "id": "QLEa7961u6cd",
        "colab_type": "code",
        "outputId": "9976e2c9-7a3b-49c7-dba5-70580c3e43ce",
        "colab": {
          "base_uri": "https://localhost:8080/",
          "height": 49
        }
      },
      "source": [
        "# checking whether the rows have been drop or not\n",
        "books[(books['yearOfPublication'] == 'DK Publishing Inc') | (books['yearOfPublication'] == 'Gallimard')]"
      ],
      "execution_count": 22,
      "outputs": [
        {
          "output_type": "execute_result",
          "data": {
            "text/html": [
              "<div>\n",
              "<style scoped>\n",
              "    .dataframe tbody tr th:only-of-type {\n",
              "        vertical-align: middle;\n",
              "    }\n",
              "\n",
              "    .dataframe tbody tr th {\n",
              "        vertical-align: top;\n",
              "    }\n",
              "\n",
              "    .dataframe thead th {\n",
              "        text-align: right;\n",
              "    }\n",
              "</style>\n",
              "<table border=\"1\" class=\"dataframe\">\n",
              "  <thead>\n",
              "    <tr style=\"text-align: right;\">\n",
              "      <th></th>\n",
              "      <th>ISBN</th>\n",
              "      <th>bookTitle</th>\n",
              "      <th>bookAuthor</th>\n",
              "      <th>yearOfPublication</th>\n",
              "      <th>publisher</th>\n",
              "    </tr>\n",
              "  </thead>\n",
              "  <tbody>\n",
              "  </tbody>\n",
              "</table>\n",
              "</div>"
            ],
            "text/plain": [
              "Empty DataFrame\n",
              "Columns: [ISBN, bookTitle, bookAuthor, yearOfPublication, publisher]\n",
              "Index: []"
            ]
          },
          "metadata": {
            "tags": []
          },
          "execution_count": 22
        }
      ]
    },
    {
      "cell_type": "markdown",
      "metadata": {
        "id": "PMGzN3nfcdkT",
        "colab_type": "text"
      },
      "source": [
        "### Change the datatype of yearOfPublication to 'int'"
      ]
    },
    {
      "cell_type": "code",
      "metadata": {
        "id": "ATPSUJHIcdkU",
        "colab_type": "code",
        "colab": {}
      },
      "source": [
        "books['yearOfPublication'] = books['yearOfPublication'].astype('int32')"
      ],
      "execution_count": 0,
      "outputs": []
    },
    {
      "cell_type": "code",
      "metadata": {
        "id": "lUvV5glBcdkY",
        "colab_type": "code",
        "outputId": "e80e7b51-2402-4c44-aa6d-6df2e56a5870",
        "colab": {
          "base_uri": "https://localhost:8080/",
          "height": 119
        }
      },
      "source": [
        "books.dtypes"
      ],
      "execution_count": 24,
      "outputs": [
        {
          "output_type": "execute_result",
          "data": {
            "text/plain": [
              "ISBN                 object\n",
              "bookTitle            object\n",
              "bookAuthor           object\n",
              "yearOfPublication     int32\n",
              "publisher            object\n",
              "dtype: object"
            ]
          },
          "metadata": {
            "tags": []
          },
          "execution_count": 24
        }
      ]
    },
    {
      "cell_type": "markdown",
      "metadata": {
        "id": "5NGs68qocdkd",
        "colab_type": "text"
      },
      "source": [
        "### Drop NaNs in `'publisher'` column\n"
      ]
    },
    {
      "cell_type": "code",
      "metadata": {
        "id": "pk0VAjCDcdkf",
        "colab_type": "code",
        "outputId": "ec7116e4-8ff7-472b-ccd3-0bdf239d8cab",
        "colab": {
          "base_uri": "https://localhost:8080/",
          "height": 119
        }
      },
      "source": [
        "books.isna().sum()"
      ],
      "execution_count": 25,
      "outputs": [
        {
          "output_type": "execute_result",
          "data": {
            "text/plain": [
              "ISBN                 0\n",
              "bookTitle            0\n",
              "bookAuthor           1\n",
              "yearOfPublication    0\n",
              "publisher            2\n",
              "dtype: int64"
            ]
          },
          "metadata": {
            "tags": []
          },
          "execution_count": 25
        }
      ]
    },
    {
      "cell_type": "code",
      "metadata": {
        "id": "Pq-egwecy_4J",
        "colab_type": "code",
        "outputId": "e43efe8a-49a1-4c14-9dc0-4bda4aa4d51a",
        "colab": {
          "base_uri": "https://localhost:8080/",
          "height": 34
        }
      },
      "source": [
        "rows_to_drop = books.index[books['publisher'].isna()]\n",
        "len(rows_to_drop)"
      ],
      "execution_count": 26,
      "outputs": [
        {
          "output_type": "execute_result",
          "data": {
            "text/plain": [
              "2"
            ]
          },
          "metadata": {
            "tags": []
          },
          "execution_count": 26
        }
      ]
    },
    {
      "cell_type": "code",
      "metadata": {
        "id": "zOGylPXzy_1I",
        "colab_type": "code",
        "colab": {}
      },
      "source": [
        "books.drop(rows_to_drop, axis=0, inplace=True)"
      ],
      "execution_count": 0,
      "outputs": []
    },
    {
      "cell_type": "markdown",
      "metadata": {
        "id": "sARZVdn_cdkj",
        "colab_type": "text"
      },
      "source": [
        "## Exploring Users dataset"
      ]
    },
    {
      "cell_type": "code",
      "metadata": {
        "scrolled": true,
        "id": "6A09nMFccdkk",
        "colab_type": "code",
        "outputId": "9edffcea-1e9f-4c0f-8d2a-58b52c8a8b0b",
        "colab": {
          "base_uri": "https://localhost:8080/",
          "height": 221
        }
      },
      "source": [
        "print(users.shape)\n",
        "users.head()"
      ],
      "execution_count": 28,
      "outputs": [
        {
          "output_type": "stream",
          "text": [
            "(278858, 3)\n"
          ],
          "name": "stdout"
        },
        {
          "output_type": "execute_result",
          "data": {
            "text/html": [
              "<div>\n",
              "<style scoped>\n",
              "    .dataframe tbody tr th:only-of-type {\n",
              "        vertical-align: middle;\n",
              "    }\n",
              "\n",
              "    .dataframe tbody tr th {\n",
              "        vertical-align: top;\n",
              "    }\n",
              "\n",
              "    .dataframe thead th {\n",
              "        text-align: right;\n",
              "    }\n",
              "</style>\n",
              "<table border=\"1\" class=\"dataframe\">\n",
              "  <thead>\n",
              "    <tr style=\"text-align: right;\">\n",
              "      <th></th>\n",
              "      <th>userID</th>\n",
              "      <th>Location</th>\n",
              "      <th>Age</th>\n",
              "    </tr>\n",
              "  </thead>\n",
              "  <tbody>\n",
              "    <tr>\n",
              "      <th>0</th>\n",
              "      <td>1</td>\n",
              "      <td>nyc, new york, usa</td>\n",
              "      <td>NaN</td>\n",
              "    </tr>\n",
              "    <tr>\n",
              "      <th>1</th>\n",
              "      <td>2</td>\n",
              "      <td>stockton, california, usa</td>\n",
              "      <td>18.0</td>\n",
              "    </tr>\n",
              "    <tr>\n",
              "      <th>2</th>\n",
              "      <td>3</td>\n",
              "      <td>moscow, yukon territory, russia</td>\n",
              "      <td>NaN</td>\n",
              "    </tr>\n",
              "    <tr>\n",
              "      <th>3</th>\n",
              "      <td>4</td>\n",
              "      <td>porto, v.n.gaia, portugal</td>\n",
              "      <td>17.0</td>\n",
              "    </tr>\n",
              "    <tr>\n",
              "      <th>4</th>\n",
              "      <td>5</td>\n",
              "      <td>farnborough, hants, united kingdom</td>\n",
              "      <td>NaN</td>\n",
              "    </tr>\n",
              "  </tbody>\n",
              "</table>\n",
              "</div>"
            ],
            "text/plain": [
              "   userID                            Location   Age\n",
              "0       1                  nyc, new york, usa   NaN\n",
              "1       2           stockton, california, usa  18.0\n",
              "2       3     moscow, yukon territory, russia   NaN\n",
              "3       4           porto, v.n.gaia, portugal  17.0\n",
              "4       5  farnborough, hants, united kingdom   NaN"
            ]
          },
          "metadata": {
            "tags": []
          },
          "execution_count": 28
        }
      ]
    },
    {
      "cell_type": "markdown",
      "metadata": {
        "id": "PfpX7LDicdkp",
        "colab_type": "text"
      },
      "source": [
        "### Get all unique values in ascending order for column `Age`"
      ]
    },
    {
      "cell_type": "code",
      "metadata": {
        "id": "3qhRg_IPcdkq",
        "colab_type": "code",
        "outputId": "6a559cfc-95c1-4e77-a901-450d900026e7",
        "colab": {
          "base_uri": "https://localhost:8080/",
          "height": 289
        }
      },
      "source": [
        "sorted_value = users['Age'].unique()\n",
        "sorted_value.sort()\n",
        "sorted_value"
      ],
      "execution_count": 29,
      "outputs": [
        {
          "output_type": "execute_result",
          "data": {
            "text/plain": [
              "array([  0.,   1.,   2.,   3.,   4.,   5.,   6.,   7.,   8.,   9.,  10.,\n",
              "        11.,  12.,  13.,  14.,  15.,  16.,  17.,  18.,  19.,  20.,  21.,\n",
              "        22.,  23.,  24.,  25.,  26.,  27.,  28.,  29.,  30.,  31.,  32.,\n",
              "        33.,  34.,  35.,  36.,  37.,  38.,  39.,  40.,  41.,  42.,  43.,\n",
              "        44.,  45.,  46.,  47.,  48.,  49.,  50.,  51.,  52.,  53.,  54.,\n",
              "        55.,  56.,  57.,  58.,  59.,  60.,  61.,  62.,  63.,  64.,  65.,\n",
              "        66.,  67.,  68.,  69.,  70.,  71.,  72.,  73.,  74.,  75.,  76.,\n",
              "        77.,  78.,  79.,  80.,  81.,  82.,  83.,  84.,  85.,  86.,  87.,\n",
              "        88.,  89.,  90.,  91.,  92.,  93.,  94.,  95.,  96.,  97.,  98.,\n",
              "        99., 100., 101., 102., 103., 104., 105., 106., 107., 108., 109.,\n",
              "       110., 111., 113., 114., 115., 116., 118., 119., 123., 124., 127.,\n",
              "       128., 132., 133., 136., 137., 138., 140., 141., 143., 146., 147.,\n",
              "       148., 151., 152., 156., 157., 159., 162., 168., 172., 175., 183.,\n",
              "       186., 189., 199., 200., 201., 204., 207., 208., 209., 210., 212.,\n",
              "       219., 220., 223., 226., 228., 229., 230., 231., 237., 239., 244.,\n",
              "        nan])"
            ]
          },
          "metadata": {
            "tags": []
          },
          "execution_count": 29
        }
      ]
    },
    {
      "cell_type": "code",
      "metadata": {
        "id": "wEGaXukF1zCY",
        "colab_type": "code",
        "outputId": "62b527ea-c071-4acf-a1ec-97ac75c3c4f1",
        "colab": {
          "base_uri": "https://localhost:8080/",
          "height": 54
        }
      },
      "source": [
        "print(sorted(users['Age'].unique()))"
      ],
      "execution_count": 30,
      "outputs": [
        {
          "output_type": "stream",
          "text": [
            "[nan, 0.0, 1.0, 2.0, 3.0, 4.0, 5.0, 6.0, 7.0, 8.0, 9.0, 10.0, 11.0, 12.0, 13.0, 14.0, 15.0, 16.0, 17.0, 18.0, 19.0, 20.0, 21.0, 22.0, 23.0, 24.0, 25.0, 26.0, 27.0, 28.0, 29.0, 30.0, 31.0, 32.0, 33.0, 34.0, 35.0, 36.0, 37.0, 38.0, 39.0, 40.0, 41.0, 42.0, 43.0, 44.0, 45.0, 46.0, 47.0, 48.0, 49.0, 50.0, 51.0, 52.0, 53.0, 54.0, 55.0, 56.0, 57.0, 58.0, 59.0, 60.0, 61.0, 62.0, 63.0, 64.0, 65.0, 66.0, 67.0, 68.0, 69.0, 70.0, 71.0, 72.0, 73.0, 74.0, 75.0, 76.0, 77.0, 78.0, 79.0, 80.0, 81.0, 82.0, 83.0, 84.0, 85.0, 86.0, 87.0, 88.0, 89.0, 90.0, 91.0, 92.0, 93.0, 94.0, 95.0, 96.0, 97.0, 98.0, 99.0, 100.0, 101.0, 102.0, 103.0, 104.0, 105.0, 106.0, 107.0, 108.0, 109.0, 110.0, 111.0, 113.0, 114.0, 115.0, 116.0, 118.0, 119.0, 123.0, 124.0, 127.0, 128.0, 132.0, 133.0, 136.0, 137.0, 138.0, 140.0, 141.0, 143.0, 146.0, 147.0, 148.0, 151.0, 152.0, 156.0, 157.0, 159.0, 162.0, 168.0, 172.0, 175.0, 183.0, 186.0, 189.0, 199.0, 200.0, 201.0, 204.0, 207.0, 208.0, 209.0, 210.0, 212.0, 219.0, 220.0, 223.0, 226.0, 228.0, 229.0, 230.0, 231.0, 237.0, 239.0, 244.0]\n"
          ],
          "name": "stdout"
        }
      ]
    },
    {
      "cell_type": "markdown",
      "metadata": {
        "id": "eZ8SP6kecdkw",
        "colab_type": "text"
      },
      "source": [
        "Age column has some invalid entries like nan, 0 and very high values like 100 and above"
      ]
    },
    {
      "cell_type": "markdown",
      "metadata": {
        "id": "aBd7XI8Zcdky",
        "colab_type": "text"
      },
      "source": [
        "### Values below 5 and above 90 do not make much sense for our book rating case...hence replace these by NaNs"
      ]
    },
    {
      "cell_type": "code",
      "metadata": {
        "id": "S7uIRrv05uqa",
        "colab_type": "code",
        "outputId": "7f709691-3119-4655-bf63-4663eb01cb78",
        "colab": {
          "base_uri": "https://localhost:8080/",
          "height": 71
        }
      },
      "source": [
        "index_to_replace = users.index[(users['Age'] < 5) | (users['Age'] > 90)]\n",
        "print (sorted(index_to_replace))\n",
        "print(len(index_to_replace))"
      ],
      "execution_count": 31,
      "outputs": [
        {
          "output_type": "stream",
          "text": [
            "[219, 469, 561, 612, 670, 931, 1148, 1288, 1322, 1460, 1564, 1578, 1685, 1849, 1909, 1954, 2151, 2805, 3084, 3210, 3436, 3610, 3676, 3688, 4041, 4254, 4344, 4346, 4782, 5501, 5569, 5776, 5935, 6361, 6523, 6535, 6625, 6711, 6875, 7111, 7213, 7736, 7884, 7942, 8067, 8329, 8432, 8457, 8549, 8594, 8654, 8679, 8781, 8799, 8895, 9018, 9116, 9167, 9698, 9967, 10586, 10737, 10778, 11054, 11086, 11325, 11389, 11503, 11922, 12691, 13080, 13272, 13518, 13800, 13913, 13961, 14487, 14531, 14588, 14600, 15117, 15169, 15288, 15518, 15628, 15810, 16273, 16512, 16686, 16987, 17095, 17111, 17177, 17215, 17389, 17405, 17688, 17771, 17902, 18569, 18734, 19262, 19876, 20127, 20201, 20449, 20552, 20687, 20844, 20850, 20852, 20855, 20856, 20858, 20925, 20932, 21131, 21463, 21911, 22259, 22294, 22345, 22773, 23457, 23568, 23819, 23862, 24167, 24194, 24272, 24410, 24434, 24461, 24477, 24506, 24674, 24870, 25100, 25110, 25143, 25714, 26082, 26271, 26430, 26883, 27013, 27096, 27551, 27637, 27717, 28090, 28367, 28372, 28462, 28543, 28564, 28731, 28966, 29327, 29439, 29555, 29626, 30445, 30504, 30589, 30619, 31535, 32479, 32641, 32655, 33213, 33796, 33952, 34030, 34520, 34592, 34856, 35351, 35394, 35426, 35797, 35860, 36184, 36305, 36550, 36567, 36858, 37125, 37834, 37922, 37932, 38380, 38693, 39779, 39889, 40312, 40506, 40592, 40910, 41264, 41357, 41383, 41852, 41869, 41983, 42146, 42184, 42271, 42447, 42499, 42811, 43002, 43386, 43426, 43911, 44315, 44325, 44417, 44555, 44777, 45234, 45523, 45640, 45688, 45953, 46093, 46166, 46176, 46262, 46263, 46500, 46800, 47408, 47427, 48098, 48226, 48280, 48572, 48666, 48818, 48915, 49318, 49334, 49435, 49750, 50144, 50234, 50325, 50768, 50969, 51102, 51175, 51667, 51848, 52120, 52136, 52471, 52648, 52738, 52795, 52809, 52888, 53170, 53345, 53609, 53808, 54018, 55317, 55530, 55829, 56303, 56462, 56916, 57265, 57399, 57604, 58150, 58203, 58222, 58285, 58619, 58926, 59066, 59135, 59478, 59573, 59897, 60473, 60593, 60650, 60989, 61103, 61340, 61695, 61826, 61988, 62404, 62568, 62909, 63276, 63284, 63338, 63665, 63928, 63982, 64222, 64521, 64771, 65283, 65487, 65993, 66319, 66402, 66416, 66529, 66537, 66959, 67201, 67362, 67563, 67591, 67962, 68108, 68381, 68828, 69279, 69359, 69646, 70116, 70326, 70380, 70439, 70513, 70639, 70924, 71409, 71468, 71636, 71799, 72574, 72589, 72830, 73207, 73237, 73698, 73950, 73963, 74040, 74280, 74286, 74622, 74676, 74753, 74848, 74927, 75665, 75762, 76085, 76166, 76239, 76330, 76481, 76599, 76804, 76864, 77127, 77581, 78387, 78558, 78593, 78642, 78785, 79283, 79591, 79666, 79978, 80017, 80140, 80532, 80774, 81137, 81772, 81838, 81846, 81872, 82031, 82041, 82255, 82280, 82337, 82833, 83379, 83454, 83473, 83596, 83734, 83841, 83882, 83890, 84046, 84322, 84386, 84440, 85211, 85316, 85431, 85473, 85577, 85841, 85846, 85878, 86588, 86720, 86788, 86908, 86979, 87020, 87096, 87116, 87462, 87639, 87727, 87756, 87780, 87826, 87864, 88478, 89307, 89668, 89778, 89920, 90535, 90765, 91465, 91477, 91487, 91494, 91497, 91630, 91683, 91998, 92145, 92583, 92857, 93438, 93452, 93686, 93991, 94308, 94578, 94862, 94897, 95486, 95790, 95815, 95863, 96273, 96444, 96472, 96495, 96535, 96619, 96713, 96900, 97245, 97253, 97511, 97680, 97738, 97853, 98292, 98470, 98564, 98711, 98874, 99155, 99255, 99478, 99729, 99895, 99939, 99944, 100003, 100197, 100528, 100570, 100871, 100880, 101324, 101667, 101992, 102052, 102164, 102555, 102602, 102627, 103017, 103124, 103213, 103246, 103264, 103265, 103630, 103693, 103986, 104350, 104520, 104591, 104815, 104836, 105040, 105702, 105891, 106023, 106143, 106505, 106891, 106901, 106979, 107063, 107095, 107338, 107493, 107660, 107711, 107714, 107835, 107876, 108343, 108414, 108558, 109150, 109177, 109499, 109783, 109810, 110321, 110393, 110738, 111160, 112240, 112355, 112486, 113739, 113853, 113895, 114037, 114587, 114730, 114864, 115167, 115393, 115416, 116773, 116918, 118069, 118766, 119225, 119254, 119281, 119366, 119770, 119926, 120276, 120305, 120688, 120778, 120859, 120935, 121425, 121446, 121613, 121725, 121745, 121850, 121874, 122559, 122595, 122676, 122677, 122683, 122876, 122962, 123169, 124652, 124923, 125428, 125450, 125786, 126167, 126450, 126566, 126679, 126866, 126962, 127243, 127275, 127661, 127968, 128530, 128974, 129002, 129232, 129341, 129524, 129734, 129762, 130115, 130197, 130709, 130973, 131059, 131129, 131251, 131483, 131715, 131742, 131921, 132496, 132525, 132630, 132667, 133728, 133754, 134260, 134413, 134818, 134842, 135009, 135054, 135176, 135476, 135490, 135953, 136082, 136202, 136356, 136504, 136518, 136658, 136773, 136874, 136954, 137178, 137402, 137725, 138303, 138480, 138747, 139101, 139352, 139617, 140133, 140272, 140379, 140585, 140729, 140879, 141250, 141657, 141753, 141754, 141963, 142113, 142291, 142328, 142625, 142638, 142681, 142792, 142915, 143004, 143570, 143877, 144379, 144744, 144766, 144836, 144840, 144946, 144986, 145008, 145200, 145515, 145524, 145570, 145852, 145931, 146191, 146284, 146311, 146541, 146895, 147463, 147501, 147517, 148084, 148204, 148632, 148862, 149227, 149326, 149364, 149818, 149828, 149970, 150040, 150115, 150238, 150240, 150248, 150673, 150860, 151325, 151774, 151785, 151873, 152575, 152875, 153020, 153188, 153286, 153369, 153484, 153927, 153995, 153999, 154307, 154919, 155098, 155246, 155427, 155586, 155594, 156353, 156786, 156838, 158211, 158593, 158597, 159396, 159402, 159853, 160312, 160596, 160863, 160882, 160894, 161096, 161217, 161235, 161323, 161428, 161796, 161826, 162002, 162188, 162239, 162321, 162387, 162778, 163079, 163204, 163282, 163351, 163501, 163654, 163826, 163880, 163912, 164777, 165337, 165351, 165823, 166486, 166664, 166936, 167071, 167488, 167653, 167770, 167875, 168194, 168294, 168457, 168656, 168716, 168744, 168752, 168769, 169292, 169409, 169984, 169989, 170079, 170205, 170622, 170806, 171386, 171456, 171562, 171862, 172057, 172089, 172600, 172624, 172633, 172868, 172945, 173018, 173027, 173176, 173194, 173270, 173871, 173973, 174235, 174275, 174508, 174957, 175619, 175658, 175741, 175749, 175879, 176613, 176661, 177269, 177387, 178039, 178053, 178615, 178842, 178933, 179114, 179467, 179568, 179632, 179669, 180422, 180574, 180590, 180614, 181048, 181109, 181456, 181495, 181868, 182343, 182621, 182769, 183014, 183262, 183269, 183332, 184228, 184336, 184774, 184860, 184881, 184948, 185177, 185337, 185395, 186432, 186458, 186497, 186596, 186734, 187409, 187481, 188258, 188401, 188531, 188628, 188841, 188887, 188991, 189235, 189279, 189606, 189615, 189661, 189774, 189788, 189924, 189979, 190008, 190380, 190462, 190466, 190620, 190646, 190693, 190926, 191481, 191805, 191864, 192064, 192406, 192412, 192470, 192622, 193019, 193170, 193488, 193694, 193705, 193954, 194105, 194386, 195046, 195254, 195390, 195391, 195521, 195556, 195691, 196035, 196903, 196953, 197175, 197444, 197533, 197579, 197733, 198837, 198921, 198983, 199264, 199321, 199508, 199517, 199918, 200148, 200379, 200703, 200719, 201485, 201604, 201616, 201751, 201984, 202051, 202259, 202639, 202787, 202918, 203330, 203416, 203870, 203918, 203927, 204318, 204896, 205339, 205919, 206115, 206343, 206698, 206779, 207001, 207256, 207399, 207401, 207490, 207668, 207861, 208031, 208431, 208645, 208718, 208937, 208991, 209100, 209437, 209509, 210012, 210475, 210670, 211042, 211044, 211132, 211313, 211401, 211410, 211520, 211755, 211936, 212119, 212480, 212515, 212953, 213095, 213149, 213169, 213251, 213646, 213752, 213784, 214019, 214192, 214220, 214255, 214259, 214280, 214350, 214374, 214544, 214686, 214819, 214986, 215311, 215949, 215981, 216665, 216891, 217182, 217540, 217550, 217630, 217816, 217853, 217889, 218063, 218599, 218682, 218806, 218951, 219123, 219755, 220098, 220104, 220197, 220423, 220548, 221074, 221312, 221391, 221589, 221876, 222630, 222659, 223217, 223260, 223526, 224002, 224266, 224584, 224600, 224633, 224651, 224763, 224875, 225017, 225142, 225170, 225172, 225231, 225428, 225437, 225525, 225671, 225766, 225866, 225959, 226266, 226615, 227250, 227276, 227314, 227408, 227814, 227885, 228250, 228277, 228378, 228633, 228833, 228989, 229131, 229207, 229276, 229800, 229838, 229869, 230401, 231052, 231349, 231421, 231580, 231893, 231945, 232006, 232252, 232634, 232719, 232823, 232914, 233214, 233485, 233512, 234285, 235234, 235535, 235716, 236107, 236288, 236307, 236648, 236848, 237046, 237276, 237469, 237527, 237564, 237612, 237651, 237834, 237976, 237987, 238033, 238411, 240043, 240207, 240213, 240273, 240499, 240759, 240865, 241039, 241130, 241174, 241337, 241794, 241898, 242213, 242329, 242570, 242716, 243083, 243195, 243254, 243301, 243308, 243402, 243810, 244077, 244324, 244370, 245004, 245084, 245230, 245454, 245761, 246182, 246359, 246447, 246470, 246519, 246554, 247173, 247174, 247396, 247561, 247805, 248026, 248891, 249076, 249082, 249202, 249671, 249686, 250061, 250633, 250823, 250958, 251433, 251453, 251544, 251604, 251628, 251697, 251794, 251918, 252197, 252509, 252829, 253089, 253272, 253348, 253872, 254254, 254647, 254652, 255188, 255192, 255714, 255982, 256120, 257113, 257177, 257193, 257429, 257968, 258551, 258733, 259016, 259041, 259172, 259556, 259607, 259625, 260154, 260272, 260601, 260622, 260709, 261265, 261553, 261759, 262016, 262275, 262362, 262426, 263066, 263140, 263194, 263252, 263363, 263433, 263441, 263676, 264329, 264607, 264648, 264687, 264933, 264937, 264965, 265259, 265337, 265843, 266115, 266175, 266275, 266276, 266534, 266809, 266934, 267049, 267829, 268132, 268214, 268673, 268721, 268793, 268863, 269193, 269235, 270222, 270274, 270443, 270444, 270764, 270814, 270920, 271015, 271087, 271276, 271418, 271843, 271895, 271989, 272351, 272409, 272480, 272482, 272483, 272595, 272988, 273525, 273688, 273872, 273875, 274171, 275284, 275332, 275392, 275393, 275470, 275565, 275582, 275697, 275739, 275884, 276047, 276073, 276184, 276226, 276315, 276352, 276577, 276692, 276784, 276889, 277075, 277107, 277503, 277558, 277908, 278301]\n",
            "1312\n"
          ],
          "name": "stdout"
        }
      ]
    },
    {
      "cell_type": "code",
      "metadata": {
        "id": "LxX7wPkW8wol",
        "colab_type": "code",
        "outputId": "fa245a57-0aaf-4126-b62b-6bbde8bb600d",
        "colab": {
          "base_uri": "https://localhost:8080/",
          "height": 34
        }
      },
      "source": [
        "users['Age'].isna().sum()"
      ],
      "execution_count": 32,
      "outputs": [
        {
          "output_type": "execute_result",
          "data": {
            "text/plain": [
              "110762"
            ]
          },
          "metadata": {
            "tags": []
          },
          "execution_count": 32
        }
      ]
    },
    {
      "cell_type": "code",
      "metadata": {
        "id": "fZWRo6HZcdkz",
        "colab_type": "code",
        "colab": {}
      },
      "source": [
        "users.loc[index_to_replace, 'Age'] = np.NaN"
      ],
      "execution_count": 0,
      "outputs": []
    },
    {
      "cell_type": "code",
      "metadata": {
        "id": "bYuwH99R5TXh",
        "colab_type": "code",
        "outputId": "a7c7fa96-8c74-4467-bbb6-6b5ead2d4f64",
        "colab": {
          "base_uri": "https://localhost:8080/",
          "height": 34
        }
      },
      "source": [
        "#cross check\n",
        "users.index[(users['Age'] < 5) | (users['Age'] > 90)]"
      ],
      "execution_count": 34,
      "outputs": [
        {
          "output_type": "execute_result",
          "data": {
            "text/plain": [
              "Int64Index([], dtype='int64')"
            ]
          },
          "metadata": {
            "tags": []
          },
          "execution_count": 34
        }
      ]
    },
    {
      "cell_type": "code",
      "metadata": {
        "id": "bjdAY3W57b1y",
        "colab_type": "code",
        "outputId": "dd1da529-ac42-4cd1-bd58-ae11642ef4bd",
        "colab": {
          "base_uri": "https://localhost:8080/",
          "height": 34
        }
      },
      "source": [
        "users['Age'].isna().sum()"
      ],
      "execution_count": 35,
      "outputs": [
        {
          "output_type": "execute_result",
          "data": {
            "text/plain": [
              "112074"
            ]
          },
          "metadata": {
            "tags": []
          },
          "execution_count": 35
        }
      ]
    },
    {
      "cell_type": "markdown",
      "metadata": {
        "id": "oQrAmlogcdk7",
        "colab_type": "text"
      },
      "source": [
        "### Replace null values in column `Age` with mean"
      ]
    },
    {
      "cell_type": "code",
      "metadata": {
        "id": "mcW9Y0m8cdlD",
        "colab_type": "code",
        "outputId": "9a3b3457-2c33-4082-b241-b83d3ecddba9",
        "colab": {
          "base_uri": "https://localhost:8080/",
          "height": 34
        }
      },
      "source": [
        "users['Age'].mean()"
      ],
      "execution_count": 36,
      "outputs": [
        {
          "output_type": "execute_result",
          "data": {
            "text/plain": [
              "34.72384041634689"
            ]
          },
          "metadata": {
            "tags": []
          },
          "execution_count": 36
        }
      ]
    },
    {
      "cell_type": "code",
      "metadata": {
        "id": "MGHDmIin-aIF",
        "colab_type": "code",
        "colab": {}
      },
      "source": [
        "users['Age'].replace(np.NaN, users['Age'].mean(), inplace=True)"
      ],
      "execution_count": 0,
      "outputs": []
    },
    {
      "cell_type": "code",
      "metadata": {
        "id": "T3EJe3Yx-Ztr",
        "colab_type": "code",
        "outputId": "41349bc2-68a6-48f0-d6c4-d57399babd81",
        "colab": {
          "base_uri": "https://localhost:8080/",
          "height": 34
        }
      },
      "source": [
        "users['Age'].isna().sum()"
      ],
      "execution_count": 38,
      "outputs": [
        {
          "output_type": "execute_result",
          "data": {
            "text/plain": [
              "0"
            ]
          },
          "metadata": {
            "tags": []
          },
          "execution_count": 38
        }
      ]
    },
    {
      "cell_type": "markdown",
      "metadata": {
        "id": "riJ0C0-lcdlI",
        "colab_type": "text"
      },
      "source": [
        "### Change the datatype of `Age` to `int`"
      ]
    },
    {
      "cell_type": "code",
      "metadata": {
        "id": "HulolHsYcdlJ",
        "colab_type": "code",
        "colab": {}
      },
      "source": [
        "users['Age'] = users['Age'].astype('int32')"
      ],
      "execution_count": 0,
      "outputs": []
    },
    {
      "cell_type": "code",
      "metadata": {
        "scrolled": true,
        "id": "O780ilrlcdlN",
        "colab_type": "code",
        "outputId": "b15c43ed-a1b5-4459-fc3a-a15221b29420",
        "colab": {
          "base_uri": "https://localhost:8080/",
          "height": 54
        }
      },
      "source": [
        "print(sorted(users.Age.unique()))"
      ],
      "execution_count": 40,
      "outputs": [
        {
          "output_type": "stream",
          "text": [
            "[5, 6, 7, 8, 9, 10, 11, 12, 13, 14, 15, 16, 17, 18, 19, 20, 21, 22, 23, 24, 25, 26, 27, 28, 29, 30, 31, 32, 33, 34, 35, 36, 37, 38, 39, 40, 41, 42, 43, 44, 45, 46, 47, 48, 49, 50, 51, 52, 53, 54, 55, 56, 57, 58, 59, 60, 61, 62, 63, 64, 65, 66, 67, 68, 69, 70, 71, 72, 73, 74, 75, 76, 77, 78, 79, 80, 81, 82, 83, 84, 85, 86, 87, 88, 89, 90]\n"
          ],
          "name": "stdout"
        }
      ]
    },
    {
      "cell_type": "markdown",
      "metadata": {
        "id": "9sgICHVbcdlT",
        "colab_type": "text"
      },
      "source": [
        "## Exploring the Ratings Dataset"
      ]
    },
    {
      "cell_type": "markdown",
      "metadata": {
        "id": "ocoRWXigcdlU",
        "colab_type": "text"
      },
      "source": [
        "### check the shape"
      ]
    },
    {
      "cell_type": "code",
      "metadata": {
        "scrolled": true,
        "id": "070dtuRBcdlV",
        "colab_type": "code",
        "outputId": "9a826bbb-3b3d-4e84-d28d-eeead35d0db4",
        "colab": {
          "base_uri": "https://localhost:8080/",
          "height": 34
        }
      },
      "source": [
        "ratings.shape"
      ],
      "execution_count": 41,
      "outputs": [
        {
          "output_type": "execute_result",
          "data": {
            "text/plain": [
              "(1149780, 3)"
            ]
          },
          "metadata": {
            "tags": []
          },
          "execution_count": 41
        }
      ]
    },
    {
      "cell_type": "code",
      "metadata": {
        "id": "e9qMXigocdla",
        "colab_type": "code",
        "colab": {}
      },
      "source": [
        "n_users = users.shape[0]\n",
        "n_books = books.shape[0]"
      ],
      "execution_count": 0,
      "outputs": []
    },
    {
      "cell_type": "code",
      "metadata": {
        "scrolled": true,
        "id": "eM84dOUXcdli",
        "colab_type": "code",
        "outputId": "22519d10-f0a1-4dab-a8d1-a07dd04547a7",
        "colab": {
          "base_uri": "https://localhost:8080/",
          "height": 204
        }
      },
      "source": [
        "ratings.head(5)"
      ],
      "execution_count": 44,
      "outputs": [
        {
          "output_type": "execute_result",
          "data": {
            "text/html": [
              "<div>\n",
              "<style scoped>\n",
              "    .dataframe tbody tr th:only-of-type {\n",
              "        vertical-align: middle;\n",
              "    }\n",
              "\n",
              "    .dataframe tbody tr th {\n",
              "        vertical-align: top;\n",
              "    }\n",
              "\n",
              "    .dataframe thead th {\n",
              "        text-align: right;\n",
              "    }\n",
              "</style>\n",
              "<table border=\"1\" class=\"dataframe\">\n",
              "  <thead>\n",
              "    <tr style=\"text-align: right;\">\n",
              "      <th></th>\n",
              "      <th>userID</th>\n",
              "      <th>ISBN</th>\n",
              "      <th>bookRating</th>\n",
              "    </tr>\n",
              "  </thead>\n",
              "  <tbody>\n",
              "    <tr>\n",
              "      <th>0</th>\n",
              "      <td>276725</td>\n",
              "      <td>034545104X</td>\n",
              "      <td>0</td>\n",
              "    </tr>\n",
              "    <tr>\n",
              "      <th>1</th>\n",
              "      <td>276726</td>\n",
              "      <td>0155061224</td>\n",
              "      <td>5</td>\n",
              "    </tr>\n",
              "    <tr>\n",
              "      <th>2</th>\n",
              "      <td>276727</td>\n",
              "      <td>0446520802</td>\n",
              "      <td>0</td>\n",
              "    </tr>\n",
              "    <tr>\n",
              "      <th>3</th>\n",
              "      <td>276729</td>\n",
              "      <td>052165615X</td>\n",
              "      <td>3</td>\n",
              "    </tr>\n",
              "    <tr>\n",
              "      <th>4</th>\n",
              "      <td>276729</td>\n",
              "      <td>0521795028</td>\n",
              "      <td>6</td>\n",
              "    </tr>\n",
              "  </tbody>\n",
              "</table>\n",
              "</div>"
            ],
            "text/plain": [
              "   userID        ISBN  bookRating\n",
              "0  276725  034545104X           0\n",
              "1  276726  0155061224           5\n",
              "2  276727  0446520802           0\n",
              "3  276729  052165615X           3\n",
              "4  276729  0521795028           6"
            ]
          },
          "metadata": {
            "tags": []
          },
          "execution_count": 44
        }
      ]
    },
    {
      "cell_type": "markdown",
      "metadata": {
        "id": "-O7zsxgYcdlm",
        "colab_type": "text"
      },
      "source": [
        "### Ratings dataset should have books only which exist in our books dataset. Drop the remaining rows"
      ]
    },
    {
      "cell_type": "code",
      "metadata": {
        "id": "ZHJovaTVULRm",
        "colab_type": "code",
        "outputId": "a8960872-cd5b-4b25-fe97-cfae34d4dba5",
        "colab": {
          "base_uri": "https://localhost:8080/",
          "height": 68
        }
      },
      "source": [
        "(ratings['ISBN'].isin(books['ISBN'])).value_counts() "
      ],
      "execution_count": 45,
      "outputs": [
        {
          "output_type": "execute_result",
          "data": {
            "text/plain": [
              "True     1031130\n",
              "False     118650\n",
              "Name: ISBN, dtype: int64"
            ]
          },
          "metadata": {
            "tags": []
          },
          "execution_count": 45
        }
      ]
    },
    {
      "cell_type": "code",
      "metadata": {
        "id": "wcjqwyj0FbMX",
        "colab_type": "code",
        "colab": {}
      },
      "source": [
        "ratings = ratings[ratings['ISBN'].isin(books['ISBN'])]"
      ],
      "execution_count": 0,
      "outputs": []
    },
    {
      "cell_type": "code",
      "metadata": {
        "id": "pN8PTAsVMZ6f",
        "colab_type": "code",
        "outputId": "d5e92b41-1fc9-452b-d4a7-44edd9703977",
        "colab": {
          "base_uri": "https://localhost:8080/",
          "height": 221
        }
      },
      "source": [
        "print(ratings.shape)\n",
        "ratings.head()"
      ],
      "execution_count": 47,
      "outputs": [
        {
          "output_type": "stream",
          "text": [
            "(1031130, 3)\n"
          ],
          "name": "stdout"
        },
        {
          "output_type": "execute_result",
          "data": {
            "text/html": [
              "<div>\n",
              "<style scoped>\n",
              "    .dataframe tbody tr th:only-of-type {\n",
              "        vertical-align: middle;\n",
              "    }\n",
              "\n",
              "    .dataframe tbody tr th {\n",
              "        vertical-align: top;\n",
              "    }\n",
              "\n",
              "    .dataframe thead th {\n",
              "        text-align: right;\n",
              "    }\n",
              "</style>\n",
              "<table border=\"1\" class=\"dataframe\">\n",
              "  <thead>\n",
              "    <tr style=\"text-align: right;\">\n",
              "      <th></th>\n",
              "      <th>userID</th>\n",
              "      <th>ISBN</th>\n",
              "      <th>bookRating</th>\n",
              "    </tr>\n",
              "  </thead>\n",
              "  <tbody>\n",
              "    <tr>\n",
              "      <th>0</th>\n",
              "      <td>276725</td>\n",
              "      <td>034545104X</td>\n",
              "      <td>0</td>\n",
              "    </tr>\n",
              "    <tr>\n",
              "      <th>1</th>\n",
              "      <td>276726</td>\n",
              "      <td>0155061224</td>\n",
              "      <td>5</td>\n",
              "    </tr>\n",
              "    <tr>\n",
              "      <th>2</th>\n",
              "      <td>276727</td>\n",
              "      <td>0446520802</td>\n",
              "      <td>0</td>\n",
              "    </tr>\n",
              "    <tr>\n",
              "      <th>3</th>\n",
              "      <td>276729</td>\n",
              "      <td>052165615X</td>\n",
              "      <td>3</td>\n",
              "    </tr>\n",
              "    <tr>\n",
              "      <th>4</th>\n",
              "      <td>276729</td>\n",
              "      <td>0521795028</td>\n",
              "      <td>6</td>\n",
              "    </tr>\n",
              "  </tbody>\n",
              "</table>\n",
              "</div>"
            ],
            "text/plain": [
              "   userID        ISBN  bookRating\n",
              "0  276725  034545104X           0\n",
              "1  276726  0155061224           5\n",
              "2  276727  0446520802           0\n",
              "3  276729  052165615X           3\n",
              "4  276729  0521795028           6"
            ]
          },
          "metadata": {
            "tags": []
          },
          "execution_count": 47
        }
      ]
    },
    {
      "cell_type": "markdown",
      "metadata": {
        "id": "NWqly5LQcdls",
        "colab_type": "text"
      },
      "source": [
        "### Ratings dataset should have ratings from users which exist in users dataset. Drop the remaining rows"
      ]
    },
    {
      "cell_type": "code",
      "metadata": {
        "id": "K0HnJDDbVGnS",
        "colab_type": "code",
        "outputId": "b0929783-534f-4e50-9be1-b3b2d2332134",
        "colab": {
          "base_uri": "https://localhost:8080/",
          "height": 51
        }
      },
      "source": [
        "(ratings['userID'].isin(users['userID'])).value_counts() "
      ],
      "execution_count": 48,
      "outputs": [
        {
          "output_type": "execute_result",
          "data": {
            "text/plain": [
              "True    1031130\n",
              "Name: userID, dtype: int64"
            ]
          },
          "metadata": {
            "tags": []
          },
          "execution_count": 48
        }
      ]
    },
    {
      "cell_type": "code",
      "metadata": {
        "id": "m9QeNuk0cdlt",
        "colab_type": "code",
        "outputId": "dc93b157-cf9d-414e-bd52-841cb88dffc7",
        "colab": {
          "base_uri": "https://localhost:8080/",
          "height": 221
        }
      },
      "source": [
        "ratings_new = ratings[ratings['userID'].isin(users['userID'])]\n",
        "print(ratings_new.shape)\n",
        "ratings_new.head()"
      ],
      "execution_count": 49,
      "outputs": [
        {
          "output_type": "stream",
          "text": [
            "(1031130, 3)\n"
          ],
          "name": "stdout"
        },
        {
          "output_type": "execute_result",
          "data": {
            "text/html": [
              "<div>\n",
              "<style scoped>\n",
              "    .dataframe tbody tr th:only-of-type {\n",
              "        vertical-align: middle;\n",
              "    }\n",
              "\n",
              "    .dataframe tbody tr th {\n",
              "        vertical-align: top;\n",
              "    }\n",
              "\n",
              "    .dataframe thead th {\n",
              "        text-align: right;\n",
              "    }\n",
              "</style>\n",
              "<table border=\"1\" class=\"dataframe\">\n",
              "  <thead>\n",
              "    <tr style=\"text-align: right;\">\n",
              "      <th></th>\n",
              "      <th>userID</th>\n",
              "      <th>ISBN</th>\n",
              "      <th>bookRating</th>\n",
              "    </tr>\n",
              "  </thead>\n",
              "  <tbody>\n",
              "    <tr>\n",
              "      <th>0</th>\n",
              "      <td>276725</td>\n",
              "      <td>034545104X</td>\n",
              "      <td>0</td>\n",
              "    </tr>\n",
              "    <tr>\n",
              "      <th>1</th>\n",
              "      <td>276726</td>\n",
              "      <td>0155061224</td>\n",
              "      <td>5</td>\n",
              "    </tr>\n",
              "    <tr>\n",
              "      <th>2</th>\n",
              "      <td>276727</td>\n",
              "      <td>0446520802</td>\n",
              "      <td>0</td>\n",
              "    </tr>\n",
              "    <tr>\n",
              "      <th>3</th>\n",
              "      <td>276729</td>\n",
              "      <td>052165615X</td>\n",
              "      <td>3</td>\n",
              "    </tr>\n",
              "    <tr>\n",
              "      <th>4</th>\n",
              "      <td>276729</td>\n",
              "      <td>0521795028</td>\n",
              "      <td>6</td>\n",
              "    </tr>\n",
              "  </tbody>\n",
              "</table>\n",
              "</div>"
            ],
            "text/plain": [
              "   userID        ISBN  bookRating\n",
              "0  276725  034545104X           0\n",
              "1  276726  0155061224           5\n",
              "2  276727  0446520802           0\n",
              "3  276729  052165615X           3\n",
              "4  276729  0521795028           6"
            ]
          },
          "metadata": {
            "tags": []
          },
          "execution_count": 49
        }
      ]
    },
    {
      "cell_type": "markdown",
      "metadata": {
        "id": "ICyprMJKcdl1",
        "colab_type": "text"
      },
      "source": [
        "### Consider only ratings from 1-10 and leave 0s in column `bookRating`"
      ]
    },
    {
      "cell_type": "code",
      "metadata": {
        "id": "U5VqwDEecdl4",
        "colab_type": "code",
        "outputId": "f9965eb6-e2e7-4f82-a539-cb4fa8629703",
        "colab": {
          "base_uri": "https://localhost:8080/",
          "height": 34
        }
      },
      "source": [
        "#checking the unique values of book ratings\n",
        "sorted(ratings['bookRating'].unique())"
      ],
      "execution_count": 50,
      "outputs": [
        {
          "output_type": "execute_result",
          "data": {
            "text/plain": [
              "[0, 1, 2, 3, 4, 5, 6, 7, 8, 9, 10]"
            ]
          },
          "metadata": {
            "tags": []
          },
          "execution_count": 50
        }
      ]
    },
    {
      "cell_type": "code",
      "metadata": {
        "id": "slhMzQyuLHfi",
        "colab_type": "code",
        "colab": {}
      },
      "source": [
        "ratings_excluding_zero = ratings[ratings['bookRating'] != 0]\n",
        "ratings_including_zero = ratings[ratings['bookRating'] == 0]"
      ],
      "execution_count": 0,
      "outputs": []
    },
    {
      "cell_type": "code",
      "metadata": {
        "id": "LzodoOPKLHaZ",
        "colab_type": "code",
        "outputId": "e7f8ae95-cd12-4e02-b52e-c82bf77058c2",
        "colab": {
          "base_uri": "https://localhost:8080/",
          "height": 34
        }
      },
      "source": [
        "sorted(ratings_excluding_zero['bookRating'].unique())"
      ],
      "execution_count": 52,
      "outputs": [
        {
          "output_type": "execute_result",
          "data": {
            "text/plain": [
              "[1, 2, 3, 4, 5, 6, 7, 8, 9, 10]"
            ]
          },
          "metadata": {
            "tags": []
          },
          "execution_count": 52
        }
      ]
    },
    {
      "cell_type": "markdown",
      "metadata": {
        "id": "924c2-W5cdl8",
        "colab_type": "text"
      },
      "source": [
        "### Find out which rating has been given highest number of times"
      ]
    },
    {
      "cell_type": "code",
      "metadata": {
        "id": "HnmZYXTucdl-",
        "colab_type": "code",
        "outputId": "f32d694a-0d9c-4b74-ac1e-3dec2486be69",
        "colab": {
          "base_uri": "https://localhost:8080/",
          "height": 204
        }
      },
      "source": [
        "ratings_excluding_zero['bookRating'].value_counts()\n",
        "# Rating 8 is given highest"
      ],
      "execution_count": 53,
      "outputs": [
        {
          "output_type": "execute_result",
          "data": {
            "text/plain": [
              "8     91804\n",
              "10    71225\n",
              "7     66401\n",
              "9     60776\n",
              "5     45355\n",
              "6     31687\n",
              "4      7617\n",
              "3      5118\n",
              "2      2375\n",
              "1      1481\n",
              "Name: bookRating, dtype: int64"
            ]
          },
          "metadata": {
            "tags": []
          },
          "execution_count": 53
        }
      ]
    },
    {
      "cell_type": "markdown",
      "metadata": {
        "id": "S7tZUc6gcdmC",
        "colab_type": "text"
      },
      "source": [
        "### **Collaborative Filtering Based Recommendation Systems**"
      ]
    },
    {
      "cell_type": "markdown",
      "metadata": {
        "id": "e7YQcFEvcdmD",
        "colab_type": "text"
      },
      "source": [
        "### For more accurate results only consider users who have rated atleast 100 books"
      ]
    },
    {
      "cell_type": "code",
      "metadata": {
        "id": "a8bTU7k7cdmF",
        "colab_type": "code",
        "outputId": "c42ea45d-2d16-48bd-ad87-857888ac3149",
        "colab": {
          "base_uri": "https://localhost:8080/",
          "height": 34
        }
      },
      "source": [
        "ratings_excluding_zero.shape"
      ],
      "execution_count": 55,
      "outputs": [
        {
          "output_type": "execute_result",
          "data": {
            "text/plain": [
              "(383839, 3)"
            ]
          },
          "metadata": {
            "tags": []
          },
          "execution_count": 55
        }
      ]
    },
    {
      "cell_type": "code",
      "metadata": {
        "id": "G73Avys-WXeT",
        "colab_type": "code",
        "colab": {}
      },
      "source": [
        "ratings_excluding_zero_atleast_hundr = ratings_excluding_zero.groupby('userID').filter(lambda df: df['ISBN'].nunique() >= 100)"
      ],
      "execution_count": 0,
      "outputs": []
    },
    {
      "cell_type": "code",
      "metadata": {
        "id": "RyxXp1drNlF0",
        "colab_type": "code",
        "outputId": "665156c9-ffc4-4d64-b031-cf3c9d480868",
        "colab": {
          "base_uri": "https://localhost:8080/",
          "height": 221
        }
      },
      "source": [
        "#selective_ratings = non_zero_ratings[non_zero_ratings['userID'].isin((non_zero_ratings['userID'].value_counts() > 100).index)]\n",
        "print(ratings_excluding_zero_atleast_hundr.shape)\n",
        "ratings_excluding_zero_atleast_hundr.head()"
      ],
      "execution_count": 57,
      "outputs": [
        {
          "output_type": "stream",
          "text": [
            "(103269, 3)\n"
          ],
          "name": "stdout"
        },
        {
          "output_type": "execute_result",
          "data": {
            "text/html": [
              "<div>\n",
              "<style scoped>\n",
              "    .dataframe tbody tr th:only-of-type {\n",
              "        vertical-align: middle;\n",
              "    }\n",
              "\n",
              "    .dataframe tbody tr th {\n",
              "        vertical-align: top;\n",
              "    }\n",
              "\n",
              "    .dataframe thead th {\n",
              "        text-align: right;\n",
              "    }\n",
              "</style>\n",
              "<table border=\"1\" class=\"dataframe\">\n",
              "  <thead>\n",
              "    <tr style=\"text-align: right;\">\n",
              "      <th></th>\n",
              "      <th>userID</th>\n",
              "      <th>ISBN</th>\n",
              "      <th>bookRating</th>\n",
              "    </tr>\n",
              "  </thead>\n",
              "  <tbody>\n",
              "    <tr>\n",
              "      <th>1456</th>\n",
              "      <td>277427</td>\n",
              "      <td>002542730X</td>\n",
              "      <td>10</td>\n",
              "    </tr>\n",
              "    <tr>\n",
              "      <th>1458</th>\n",
              "      <td>277427</td>\n",
              "      <td>003008685X</td>\n",
              "      <td>8</td>\n",
              "    </tr>\n",
              "    <tr>\n",
              "      <th>1461</th>\n",
              "      <td>277427</td>\n",
              "      <td>0060006641</td>\n",
              "      <td>10</td>\n",
              "    </tr>\n",
              "    <tr>\n",
              "      <th>1465</th>\n",
              "      <td>277427</td>\n",
              "      <td>0060542128</td>\n",
              "      <td>7</td>\n",
              "    </tr>\n",
              "    <tr>\n",
              "      <th>1474</th>\n",
              "      <td>277427</td>\n",
              "      <td>0061009059</td>\n",
              "      <td>9</td>\n",
              "    </tr>\n",
              "  </tbody>\n",
              "</table>\n",
              "</div>"
            ],
            "text/plain": [
              "      userID        ISBN  bookRating\n",
              "1456  277427  002542730X          10\n",
              "1458  277427  003008685X           8\n",
              "1461  277427  0060006641          10\n",
              "1465  277427  0060542128           7\n",
              "1474  277427  0061009059           9"
            ]
          },
          "metadata": {
            "tags": []
          },
          "execution_count": 57
        }
      ]
    },
    {
      "cell_type": "markdown",
      "metadata": {
        "id": "6k7ObHrJcdmI",
        "colab_type": "text"
      },
      "source": [
        "### Generating ratings matrix from explicit ratings\n"
      ]
    },
    {
      "cell_type": "markdown",
      "metadata": {
        "id": "c_-bQL4EcdmL",
        "colab_type": "text"
      },
      "source": [
        "#### Note: since NaNs cannot be handled by training algorithms, replace these by 0, which indicates absence of ratings"
      ]
    },
    {
      "cell_type": "code",
      "metadata": {
        "id": "IJmbfXtLNlAl",
        "colab_type": "code",
        "colab": {}
      },
      "source": [
        "ratings_matrix = ratings_excluding_zero_atleast_hundr.pivot(index='userID', columns='ISBN', values='bookRating').fillna(0)"
      ],
      "execution_count": 0,
      "outputs": []
    },
    {
      "cell_type": "code",
      "metadata": {
        "id": "kDqF7swbDpt6",
        "colab_type": "code",
        "outputId": "058b3742-ffe6-4a15-f1da-11b98fb383ba",
        "colab": {
          "base_uri": "https://localhost:8080/",
          "height": 301
        }
      },
      "source": [
        "print(ratings_matrix.shape)\n",
        "ratings_matrix.head()"
      ],
      "execution_count": 59,
      "outputs": [
        {
          "output_type": "stream",
          "text": [
            "(449, 66572)\n"
          ],
          "name": "stdout"
        },
        {
          "output_type": "execute_result",
          "data": {
            "text/html": [
              "<div>\n",
              "<style scoped>\n",
              "    .dataframe tbody tr th:only-of-type {\n",
              "        vertical-align: middle;\n",
              "    }\n",
              "\n",
              "    .dataframe tbody tr th {\n",
              "        vertical-align: top;\n",
              "    }\n",
              "\n",
              "    .dataframe thead th {\n",
              "        text-align: right;\n",
              "    }\n",
              "</style>\n",
              "<table border=\"1\" class=\"dataframe\">\n",
              "  <thead>\n",
              "    <tr style=\"text-align: right;\">\n",
              "      <th>ISBN</th>\n",
              "      <th>0000913154</th>\n",
              "      <th>0001046438</th>\n",
              "      <th>000104687X</th>\n",
              "      <th>0001047213</th>\n",
              "      <th>0001047973</th>\n",
              "      <th>000104799X</th>\n",
              "      <th>0001048082</th>\n",
              "      <th>0001053736</th>\n",
              "      <th>0001053744</th>\n",
              "      <th>0001055607</th>\n",
              "      <th>0001056107</th>\n",
              "      <th>0001845039</th>\n",
              "      <th>0001935968</th>\n",
              "      <th>0001944711</th>\n",
              "      <th>0001952803</th>\n",
              "      <th>0001953877</th>\n",
              "      <th>0002000547</th>\n",
              "      <th>0002005018</th>\n",
              "      <th>0002005050</th>\n",
              "      <th>0002005557</th>\n",
              "      <th>0002006588</th>\n",
              "      <th>0002115328</th>\n",
              "      <th>0002116286</th>\n",
              "      <th>0002118580</th>\n",
              "      <th>0002154900</th>\n",
              "      <th>0002158973</th>\n",
              "      <th>0002163713</th>\n",
              "      <th>0002176181</th>\n",
              "      <th>0002176432</th>\n",
              "      <th>0002179695</th>\n",
              "      <th>0002181924</th>\n",
              "      <th>0002184974</th>\n",
              "      <th>0002190915</th>\n",
              "      <th>0002197154</th>\n",
              "      <th>0002223929</th>\n",
              "      <th>0002228394</th>\n",
              "      <th>000223257X</th>\n",
              "      <th>0002233509</th>\n",
              "      <th>0002239183</th>\n",
              "      <th>0002240114</th>\n",
              "      <th>...</th>\n",
              "      <th>987960170X</th>\n",
              "      <th>9974643058</th>\n",
              "      <th>999058284X</th>\n",
              "      <th>9992003766</th>\n",
              "      <th>9992059958</th>\n",
              "      <th>9993584185</th>\n",
              "      <th>9994256963</th>\n",
              "      <th>9994348337</th>\n",
              "      <th>9997405137</th>\n",
              "      <th>9997406567</th>\n",
              "      <th>9997406990</th>\n",
              "      <th>999740923X</th>\n",
              "      <th>9997409728</th>\n",
              "      <th>9997411757</th>\n",
              "      <th>9997411870</th>\n",
              "      <th>9997412044</th>\n",
              "      <th>9997412958</th>\n",
              "      <th>9997507002</th>\n",
              "      <th>999750805X</th>\n",
              "      <th>9997508769</th>\n",
              "      <th>9997512952</th>\n",
              "      <th>9997519086</th>\n",
              "      <th>9997555635</th>\n",
              "      <th>9998914140</th>\n",
              "      <th>B00001U0CP</th>\n",
              "      <th>B00005TZWI</th>\n",
              "      <th>B00006CRTE</th>\n",
              "      <th>B00006I4OX</th>\n",
              "      <th>B00007FYKW</th>\n",
              "      <th>B00008RWPV</th>\n",
              "      <th>B000092Q0A</th>\n",
              "      <th>B00009EF82</th>\n",
              "      <th>B00009NDAN</th>\n",
              "      <th>B0000DYXID</th>\n",
              "      <th>B0000T6KHI</th>\n",
              "      <th>B0000VZEJQ</th>\n",
              "      <th>B0000X8HIE</th>\n",
              "      <th>B00013AX9E</th>\n",
              "      <th>B0001I1KOG</th>\n",
              "      <th>B000234N3A</th>\n",
              "    </tr>\n",
              "    <tr>\n",
              "      <th>userID</th>\n",
              "      <th></th>\n",
              "      <th></th>\n",
              "      <th></th>\n",
              "      <th></th>\n",
              "      <th></th>\n",
              "      <th></th>\n",
              "      <th></th>\n",
              "      <th></th>\n",
              "      <th></th>\n",
              "      <th></th>\n",
              "      <th></th>\n",
              "      <th></th>\n",
              "      <th></th>\n",
              "      <th></th>\n",
              "      <th></th>\n",
              "      <th></th>\n",
              "      <th></th>\n",
              "      <th></th>\n",
              "      <th></th>\n",
              "      <th></th>\n",
              "      <th></th>\n",
              "      <th></th>\n",
              "      <th></th>\n",
              "      <th></th>\n",
              "      <th></th>\n",
              "      <th></th>\n",
              "      <th></th>\n",
              "      <th></th>\n",
              "      <th></th>\n",
              "      <th></th>\n",
              "      <th></th>\n",
              "      <th></th>\n",
              "      <th></th>\n",
              "      <th></th>\n",
              "      <th></th>\n",
              "      <th></th>\n",
              "      <th></th>\n",
              "      <th></th>\n",
              "      <th></th>\n",
              "      <th></th>\n",
              "      <th></th>\n",
              "      <th></th>\n",
              "      <th></th>\n",
              "      <th></th>\n",
              "      <th></th>\n",
              "      <th></th>\n",
              "      <th></th>\n",
              "      <th></th>\n",
              "      <th></th>\n",
              "      <th></th>\n",
              "      <th></th>\n",
              "      <th></th>\n",
              "      <th></th>\n",
              "      <th></th>\n",
              "      <th></th>\n",
              "      <th></th>\n",
              "      <th></th>\n",
              "      <th></th>\n",
              "      <th></th>\n",
              "      <th></th>\n",
              "      <th></th>\n",
              "      <th></th>\n",
              "      <th></th>\n",
              "      <th></th>\n",
              "      <th></th>\n",
              "      <th></th>\n",
              "      <th></th>\n",
              "      <th></th>\n",
              "      <th></th>\n",
              "      <th></th>\n",
              "      <th></th>\n",
              "      <th></th>\n",
              "      <th></th>\n",
              "      <th></th>\n",
              "      <th></th>\n",
              "      <th></th>\n",
              "      <th></th>\n",
              "      <th></th>\n",
              "      <th></th>\n",
              "      <th></th>\n",
              "      <th></th>\n",
              "    </tr>\n",
              "  </thead>\n",
              "  <tbody>\n",
              "    <tr>\n",
              "      <th>2033</th>\n",
              "      <td>0.0</td>\n",
              "      <td>0.0</td>\n",
              "      <td>0.0</td>\n",
              "      <td>0.0</td>\n",
              "      <td>0.0</td>\n",
              "      <td>0.0</td>\n",
              "      <td>0.0</td>\n",
              "      <td>0.0</td>\n",
              "      <td>0.0</td>\n",
              "      <td>0.0</td>\n",
              "      <td>0.0</td>\n",
              "      <td>0.0</td>\n",
              "      <td>0.0</td>\n",
              "      <td>0.0</td>\n",
              "      <td>0.0</td>\n",
              "      <td>0.0</td>\n",
              "      <td>0.0</td>\n",
              "      <td>0.0</td>\n",
              "      <td>0.0</td>\n",
              "      <td>0.0</td>\n",
              "      <td>0.0</td>\n",
              "      <td>0.0</td>\n",
              "      <td>0.0</td>\n",
              "      <td>0.0</td>\n",
              "      <td>0.0</td>\n",
              "      <td>0.0</td>\n",
              "      <td>0.0</td>\n",
              "      <td>0.0</td>\n",
              "      <td>0.0</td>\n",
              "      <td>0.0</td>\n",
              "      <td>0.0</td>\n",
              "      <td>0.0</td>\n",
              "      <td>0.0</td>\n",
              "      <td>0.0</td>\n",
              "      <td>0.0</td>\n",
              "      <td>0.0</td>\n",
              "      <td>0.0</td>\n",
              "      <td>0.0</td>\n",
              "      <td>0.0</td>\n",
              "      <td>0.0</td>\n",
              "      <td>...</td>\n",
              "      <td>0.0</td>\n",
              "      <td>0.0</td>\n",
              "      <td>0.0</td>\n",
              "      <td>0.0</td>\n",
              "      <td>0.0</td>\n",
              "      <td>0.0</td>\n",
              "      <td>0.0</td>\n",
              "      <td>0.0</td>\n",
              "      <td>0.0</td>\n",
              "      <td>0.0</td>\n",
              "      <td>0.0</td>\n",
              "      <td>0.0</td>\n",
              "      <td>0.0</td>\n",
              "      <td>0.0</td>\n",
              "      <td>0.0</td>\n",
              "      <td>0.0</td>\n",
              "      <td>0.0</td>\n",
              "      <td>0.0</td>\n",
              "      <td>0.0</td>\n",
              "      <td>0.0</td>\n",
              "      <td>0.0</td>\n",
              "      <td>0.0</td>\n",
              "      <td>0.0</td>\n",
              "      <td>0.0</td>\n",
              "      <td>0.0</td>\n",
              "      <td>0.0</td>\n",
              "      <td>0.0</td>\n",
              "      <td>0.0</td>\n",
              "      <td>0.0</td>\n",
              "      <td>0.0</td>\n",
              "      <td>0.0</td>\n",
              "      <td>0.0</td>\n",
              "      <td>0.0</td>\n",
              "      <td>0.0</td>\n",
              "      <td>0.0</td>\n",
              "      <td>0.0</td>\n",
              "      <td>0.0</td>\n",
              "      <td>0.0</td>\n",
              "      <td>0.0</td>\n",
              "      <td>0.0</td>\n",
              "    </tr>\n",
              "    <tr>\n",
              "      <th>2110</th>\n",
              "      <td>0.0</td>\n",
              "      <td>0.0</td>\n",
              "      <td>0.0</td>\n",
              "      <td>0.0</td>\n",
              "      <td>0.0</td>\n",
              "      <td>0.0</td>\n",
              "      <td>0.0</td>\n",
              "      <td>0.0</td>\n",
              "      <td>0.0</td>\n",
              "      <td>0.0</td>\n",
              "      <td>0.0</td>\n",
              "      <td>0.0</td>\n",
              "      <td>0.0</td>\n",
              "      <td>0.0</td>\n",
              "      <td>0.0</td>\n",
              "      <td>0.0</td>\n",
              "      <td>0.0</td>\n",
              "      <td>0.0</td>\n",
              "      <td>0.0</td>\n",
              "      <td>0.0</td>\n",
              "      <td>0.0</td>\n",
              "      <td>0.0</td>\n",
              "      <td>0.0</td>\n",
              "      <td>0.0</td>\n",
              "      <td>0.0</td>\n",
              "      <td>0.0</td>\n",
              "      <td>0.0</td>\n",
              "      <td>0.0</td>\n",
              "      <td>0.0</td>\n",
              "      <td>0.0</td>\n",
              "      <td>0.0</td>\n",
              "      <td>0.0</td>\n",
              "      <td>0.0</td>\n",
              "      <td>0.0</td>\n",
              "      <td>0.0</td>\n",
              "      <td>0.0</td>\n",
              "      <td>0.0</td>\n",
              "      <td>0.0</td>\n",
              "      <td>0.0</td>\n",
              "      <td>0.0</td>\n",
              "      <td>...</td>\n",
              "      <td>0.0</td>\n",
              "      <td>0.0</td>\n",
              "      <td>0.0</td>\n",
              "      <td>0.0</td>\n",
              "      <td>0.0</td>\n",
              "      <td>0.0</td>\n",
              "      <td>0.0</td>\n",
              "      <td>0.0</td>\n",
              "      <td>0.0</td>\n",
              "      <td>0.0</td>\n",
              "      <td>0.0</td>\n",
              "      <td>0.0</td>\n",
              "      <td>0.0</td>\n",
              "      <td>0.0</td>\n",
              "      <td>0.0</td>\n",
              "      <td>0.0</td>\n",
              "      <td>0.0</td>\n",
              "      <td>0.0</td>\n",
              "      <td>0.0</td>\n",
              "      <td>0.0</td>\n",
              "      <td>0.0</td>\n",
              "      <td>0.0</td>\n",
              "      <td>0.0</td>\n",
              "      <td>0.0</td>\n",
              "      <td>0.0</td>\n",
              "      <td>0.0</td>\n",
              "      <td>0.0</td>\n",
              "      <td>0.0</td>\n",
              "      <td>0.0</td>\n",
              "      <td>0.0</td>\n",
              "      <td>0.0</td>\n",
              "      <td>0.0</td>\n",
              "      <td>0.0</td>\n",
              "      <td>0.0</td>\n",
              "      <td>0.0</td>\n",
              "      <td>0.0</td>\n",
              "      <td>0.0</td>\n",
              "      <td>0.0</td>\n",
              "      <td>0.0</td>\n",
              "      <td>0.0</td>\n",
              "    </tr>\n",
              "    <tr>\n",
              "      <th>2276</th>\n",
              "      <td>0.0</td>\n",
              "      <td>0.0</td>\n",
              "      <td>0.0</td>\n",
              "      <td>0.0</td>\n",
              "      <td>0.0</td>\n",
              "      <td>0.0</td>\n",
              "      <td>0.0</td>\n",
              "      <td>0.0</td>\n",
              "      <td>0.0</td>\n",
              "      <td>0.0</td>\n",
              "      <td>0.0</td>\n",
              "      <td>0.0</td>\n",
              "      <td>0.0</td>\n",
              "      <td>0.0</td>\n",
              "      <td>0.0</td>\n",
              "      <td>0.0</td>\n",
              "      <td>0.0</td>\n",
              "      <td>0.0</td>\n",
              "      <td>0.0</td>\n",
              "      <td>0.0</td>\n",
              "      <td>0.0</td>\n",
              "      <td>0.0</td>\n",
              "      <td>0.0</td>\n",
              "      <td>0.0</td>\n",
              "      <td>0.0</td>\n",
              "      <td>0.0</td>\n",
              "      <td>0.0</td>\n",
              "      <td>0.0</td>\n",
              "      <td>0.0</td>\n",
              "      <td>0.0</td>\n",
              "      <td>0.0</td>\n",
              "      <td>0.0</td>\n",
              "      <td>0.0</td>\n",
              "      <td>0.0</td>\n",
              "      <td>0.0</td>\n",
              "      <td>0.0</td>\n",
              "      <td>0.0</td>\n",
              "      <td>0.0</td>\n",
              "      <td>0.0</td>\n",
              "      <td>0.0</td>\n",
              "      <td>...</td>\n",
              "      <td>0.0</td>\n",
              "      <td>0.0</td>\n",
              "      <td>0.0</td>\n",
              "      <td>0.0</td>\n",
              "      <td>0.0</td>\n",
              "      <td>0.0</td>\n",
              "      <td>0.0</td>\n",
              "      <td>0.0</td>\n",
              "      <td>0.0</td>\n",
              "      <td>0.0</td>\n",
              "      <td>0.0</td>\n",
              "      <td>0.0</td>\n",
              "      <td>0.0</td>\n",
              "      <td>0.0</td>\n",
              "      <td>0.0</td>\n",
              "      <td>0.0</td>\n",
              "      <td>0.0</td>\n",
              "      <td>0.0</td>\n",
              "      <td>0.0</td>\n",
              "      <td>0.0</td>\n",
              "      <td>0.0</td>\n",
              "      <td>0.0</td>\n",
              "      <td>0.0</td>\n",
              "      <td>0.0</td>\n",
              "      <td>0.0</td>\n",
              "      <td>0.0</td>\n",
              "      <td>0.0</td>\n",
              "      <td>0.0</td>\n",
              "      <td>0.0</td>\n",
              "      <td>0.0</td>\n",
              "      <td>0.0</td>\n",
              "      <td>0.0</td>\n",
              "      <td>0.0</td>\n",
              "      <td>0.0</td>\n",
              "      <td>0.0</td>\n",
              "      <td>0.0</td>\n",
              "      <td>0.0</td>\n",
              "      <td>0.0</td>\n",
              "      <td>0.0</td>\n",
              "      <td>0.0</td>\n",
              "    </tr>\n",
              "    <tr>\n",
              "      <th>4017</th>\n",
              "      <td>0.0</td>\n",
              "      <td>0.0</td>\n",
              "      <td>0.0</td>\n",
              "      <td>0.0</td>\n",
              "      <td>0.0</td>\n",
              "      <td>0.0</td>\n",
              "      <td>0.0</td>\n",
              "      <td>0.0</td>\n",
              "      <td>0.0</td>\n",
              "      <td>0.0</td>\n",
              "      <td>0.0</td>\n",
              "      <td>0.0</td>\n",
              "      <td>0.0</td>\n",
              "      <td>0.0</td>\n",
              "      <td>0.0</td>\n",
              "      <td>0.0</td>\n",
              "      <td>0.0</td>\n",
              "      <td>0.0</td>\n",
              "      <td>0.0</td>\n",
              "      <td>0.0</td>\n",
              "      <td>0.0</td>\n",
              "      <td>0.0</td>\n",
              "      <td>0.0</td>\n",
              "      <td>0.0</td>\n",
              "      <td>0.0</td>\n",
              "      <td>0.0</td>\n",
              "      <td>0.0</td>\n",
              "      <td>0.0</td>\n",
              "      <td>0.0</td>\n",
              "      <td>0.0</td>\n",
              "      <td>0.0</td>\n",
              "      <td>0.0</td>\n",
              "      <td>0.0</td>\n",
              "      <td>0.0</td>\n",
              "      <td>0.0</td>\n",
              "      <td>0.0</td>\n",
              "      <td>0.0</td>\n",
              "      <td>0.0</td>\n",
              "      <td>0.0</td>\n",
              "      <td>0.0</td>\n",
              "      <td>...</td>\n",
              "      <td>0.0</td>\n",
              "      <td>0.0</td>\n",
              "      <td>0.0</td>\n",
              "      <td>0.0</td>\n",
              "      <td>0.0</td>\n",
              "      <td>0.0</td>\n",
              "      <td>0.0</td>\n",
              "      <td>0.0</td>\n",
              "      <td>0.0</td>\n",
              "      <td>0.0</td>\n",
              "      <td>0.0</td>\n",
              "      <td>0.0</td>\n",
              "      <td>0.0</td>\n",
              "      <td>0.0</td>\n",
              "      <td>0.0</td>\n",
              "      <td>0.0</td>\n",
              "      <td>0.0</td>\n",
              "      <td>0.0</td>\n",
              "      <td>0.0</td>\n",
              "      <td>0.0</td>\n",
              "      <td>0.0</td>\n",
              "      <td>0.0</td>\n",
              "      <td>0.0</td>\n",
              "      <td>0.0</td>\n",
              "      <td>0.0</td>\n",
              "      <td>0.0</td>\n",
              "      <td>0.0</td>\n",
              "      <td>0.0</td>\n",
              "      <td>0.0</td>\n",
              "      <td>0.0</td>\n",
              "      <td>0.0</td>\n",
              "      <td>0.0</td>\n",
              "      <td>0.0</td>\n",
              "      <td>0.0</td>\n",
              "      <td>0.0</td>\n",
              "      <td>0.0</td>\n",
              "      <td>0.0</td>\n",
              "      <td>0.0</td>\n",
              "      <td>0.0</td>\n",
              "      <td>0.0</td>\n",
              "    </tr>\n",
              "    <tr>\n",
              "      <th>4385</th>\n",
              "      <td>0.0</td>\n",
              "      <td>0.0</td>\n",
              "      <td>0.0</td>\n",
              "      <td>0.0</td>\n",
              "      <td>0.0</td>\n",
              "      <td>0.0</td>\n",
              "      <td>0.0</td>\n",
              "      <td>0.0</td>\n",
              "      <td>0.0</td>\n",
              "      <td>0.0</td>\n",
              "      <td>0.0</td>\n",
              "      <td>0.0</td>\n",
              "      <td>0.0</td>\n",
              "      <td>0.0</td>\n",
              "      <td>0.0</td>\n",
              "      <td>0.0</td>\n",
              "      <td>0.0</td>\n",
              "      <td>0.0</td>\n",
              "      <td>0.0</td>\n",
              "      <td>0.0</td>\n",
              "      <td>0.0</td>\n",
              "      <td>0.0</td>\n",
              "      <td>0.0</td>\n",
              "      <td>0.0</td>\n",
              "      <td>0.0</td>\n",
              "      <td>0.0</td>\n",
              "      <td>0.0</td>\n",
              "      <td>0.0</td>\n",
              "      <td>0.0</td>\n",
              "      <td>0.0</td>\n",
              "      <td>0.0</td>\n",
              "      <td>0.0</td>\n",
              "      <td>0.0</td>\n",
              "      <td>0.0</td>\n",
              "      <td>0.0</td>\n",
              "      <td>0.0</td>\n",
              "      <td>0.0</td>\n",
              "      <td>0.0</td>\n",
              "      <td>0.0</td>\n",
              "      <td>0.0</td>\n",
              "      <td>...</td>\n",
              "      <td>0.0</td>\n",
              "      <td>0.0</td>\n",
              "      <td>0.0</td>\n",
              "      <td>0.0</td>\n",
              "      <td>0.0</td>\n",
              "      <td>0.0</td>\n",
              "      <td>0.0</td>\n",
              "      <td>0.0</td>\n",
              "      <td>0.0</td>\n",
              "      <td>0.0</td>\n",
              "      <td>0.0</td>\n",
              "      <td>0.0</td>\n",
              "      <td>0.0</td>\n",
              "      <td>0.0</td>\n",
              "      <td>0.0</td>\n",
              "      <td>0.0</td>\n",
              "      <td>0.0</td>\n",
              "      <td>0.0</td>\n",
              "      <td>0.0</td>\n",
              "      <td>0.0</td>\n",
              "      <td>0.0</td>\n",
              "      <td>0.0</td>\n",
              "      <td>0.0</td>\n",
              "      <td>0.0</td>\n",
              "      <td>0.0</td>\n",
              "      <td>0.0</td>\n",
              "      <td>0.0</td>\n",
              "      <td>0.0</td>\n",
              "      <td>0.0</td>\n",
              "      <td>0.0</td>\n",
              "      <td>0.0</td>\n",
              "      <td>0.0</td>\n",
              "      <td>0.0</td>\n",
              "      <td>0.0</td>\n",
              "      <td>0.0</td>\n",
              "      <td>0.0</td>\n",
              "      <td>0.0</td>\n",
              "      <td>0.0</td>\n",
              "      <td>0.0</td>\n",
              "      <td>0.0</td>\n",
              "    </tr>\n",
              "  </tbody>\n",
              "</table>\n",
              "<p>5 rows × 66572 columns</p>\n",
              "</div>"
            ],
            "text/plain": [
              "ISBN    0000913154  0001046438  000104687X  ...  B00013AX9E  B0001I1KOG  B000234N3A\n",
              "userID                                      ...                                    \n",
              "2033           0.0         0.0         0.0  ...         0.0         0.0         0.0\n",
              "2110           0.0         0.0         0.0  ...         0.0         0.0         0.0\n",
              "2276           0.0         0.0         0.0  ...         0.0         0.0         0.0\n",
              "4017           0.0         0.0         0.0  ...         0.0         0.0         0.0\n",
              "4385           0.0         0.0         0.0  ...         0.0         0.0         0.0\n",
              "\n",
              "[5 rows x 66572 columns]"
            ]
          },
          "metadata": {
            "tags": []
          },
          "execution_count": 59
        }
      ]
    },
    {
      "cell_type": "code",
      "metadata": {
        "id": "tv4MfR4b4HK3",
        "colab_type": "code",
        "colab": {}
      },
      "source": [
        "userID = ratings_matrix.index"
      ],
      "execution_count": 0,
      "outputs": []
    },
    {
      "cell_type": "code",
      "metadata": {
        "id": "nc46-xvG4Nb0",
        "colab_type": "code",
        "colab": {}
      },
      "source": [
        "ISBN = ratings_matrix.columns"
      ],
      "execution_count": 0,
      "outputs": []
    },
    {
      "cell_type": "markdown",
      "metadata": {
        "id": "92qzdNo8cdmR",
        "colab_type": "text"
      },
      "source": [
        "### Generate the predicted ratings using SVD with no.of singular values to be 50"
      ]
    },
    {
      "cell_type": "code",
      "metadata": {
        "id": "Q4HaaXYEcdmU",
        "colab_type": "code",
        "colab": {}
      },
      "source": [
        "from scipy.sparse.linalg import svds\n",
        "#singluar value decomposition\n",
        "#Compute the largest k singular values/vectors for a sparse matrix.\n",
        "#k: Number of singular values and vectors to compute. Must be 1 <= k < min(R_df.shape)\n",
        "# R_df is to compute the SVD on\n",
        "# The singular values - sigma\n",
        "U, sigma, Vt = svds(ratings_matrix, k = 50)"
      ],
      "execution_count": 0,
      "outputs": []
    },
    {
      "cell_type": "code",
      "metadata": {
        "id": "P4FDzEGXEjyC",
        "colab_type": "code",
        "colab": {}
      },
      "source": [
        "sigma = np.diag(sigma)"
      ],
      "execution_count": 0,
      "outputs": []
    },
    {
      "cell_type": "code",
      "metadata": {
        "id": "gJMvIZLmEkuC",
        "colab_type": "code",
        "colab": {}
      },
      "source": [
        "#I also need to add the user means back to get the predicted 5-star ratings\n",
        "all_user_predicted_ratings = np.dot(np.dot(U, sigma), Vt) \n",
        "preds_df = pd.DataFrame(all_user_predicted_ratings, columns = ratings_matrix.columns)"
      ],
      "execution_count": 0,
      "outputs": []
    },
    {
      "cell_type": "code",
      "metadata": {
        "id": "rs5T1u6_Ek1_",
        "colab_type": "code",
        "outputId": "28f4357d-6e15-4334-cd6b-17dd23e95096",
        "colab": {
          "base_uri": "https://localhost:8080/",
          "height": 253
        }
      },
      "source": [
        "preds_df.head(5)"
      ],
      "execution_count": 66,
      "outputs": [
        {
          "output_type": "execute_result",
          "data": {
            "text/html": [
              "<div>\n",
              "<style scoped>\n",
              "    .dataframe tbody tr th:only-of-type {\n",
              "        vertical-align: middle;\n",
              "    }\n",
              "\n",
              "    .dataframe tbody tr th {\n",
              "        vertical-align: top;\n",
              "    }\n",
              "\n",
              "    .dataframe thead th {\n",
              "        text-align: right;\n",
              "    }\n",
              "</style>\n",
              "<table border=\"1\" class=\"dataframe\">\n",
              "  <thead>\n",
              "    <tr style=\"text-align: right;\">\n",
              "      <th>ISBN</th>\n",
              "      <th>0000913154</th>\n",
              "      <th>0001046438</th>\n",
              "      <th>000104687X</th>\n",
              "      <th>0001047213</th>\n",
              "      <th>0001047973</th>\n",
              "      <th>000104799X</th>\n",
              "      <th>0001048082</th>\n",
              "      <th>0001053736</th>\n",
              "      <th>0001053744</th>\n",
              "      <th>0001055607</th>\n",
              "      <th>0001056107</th>\n",
              "      <th>0001845039</th>\n",
              "      <th>0001935968</th>\n",
              "      <th>0001944711</th>\n",
              "      <th>0001952803</th>\n",
              "      <th>0001953877</th>\n",
              "      <th>0002000547</th>\n",
              "      <th>0002005018</th>\n",
              "      <th>0002005050</th>\n",
              "      <th>0002005557</th>\n",
              "      <th>0002006588</th>\n",
              "      <th>0002115328</th>\n",
              "      <th>0002116286</th>\n",
              "      <th>0002118580</th>\n",
              "      <th>0002154900</th>\n",
              "      <th>0002158973</th>\n",
              "      <th>0002163713</th>\n",
              "      <th>0002176181</th>\n",
              "      <th>0002176432</th>\n",
              "      <th>0002179695</th>\n",
              "      <th>0002181924</th>\n",
              "      <th>0002184974</th>\n",
              "      <th>0002190915</th>\n",
              "      <th>0002197154</th>\n",
              "      <th>0002223929</th>\n",
              "      <th>0002228394</th>\n",
              "      <th>000223257X</th>\n",
              "      <th>0002233509</th>\n",
              "      <th>0002239183</th>\n",
              "      <th>0002240114</th>\n",
              "      <th>...</th>\n",
              "      <th>987960170X</th>\n",
              "      <th>9974643058</th>\n",
              "      <th>999058284X</th>\n",
              "      <th>9992003766</th>\n",
              "      <th>9992059958</th>\n",
              "      <th>9993584185</th>\n",
              "      <th>9994256963</th>\n",
              "      <th>9994348337</th>\n",
              "      <th>9997405137</th>\n",
              "      <th>9997406567</th>\n",
              "      <th>9997406990</th>\n",
              "      <th>999740923X</th>\n",
              "      <th>9997409728</th>\n",
              "      <th>9997411757</th>\n",
              "      <th>9997411870</th>\n",
              "      <th>9997412044</th>\n",
              "      <th>9997412958</th>\n",
              "      <th>9997507002</th>\n",
              "      <th>999750805X</th>\n",
              "      <th>9997508769</th>\n",
              "      <th>9997512952</th>\n",
              "      <th>9997519086</th>\n",
              "      <th>9997555635</th>\n",
              "      <th>9998914140</th>\n",
              "      <th>B00001U0CP</th>\n",
              "      <th>B00005TZWI</th>\n",
              "      <th>B00006CRTE</th>\n",
              "      <th>B00006I4OX</th>\n",
              "      <th>B00007FYKW</th>\n",
              "      <th>B00008RWPV</th>\n",
              "      <th>B000092Q0A</th>\n",
              "      <th>B00009EF82</th>\n",
              "      <th>B00009NDAN</th>\n",
              "      <th>B0000DYXID</th>\n",
              "      <th>B0000T6KHI</th>\n",
              "      <th>B0000VZEJQ</th>\n",
              "      <th>B0000X8HIE</th>\n",
              "      <th>B00013AX9E</th>\n",
              "      <th>B0001I1KOG</th>\n",
              "      <th>B000234N3A</th>\n",
              "    </tr>\n",
              "  </thead>\n",
              "  <tbody>\n",
              "    <tr>\n",
              "      <th>0</th>\n",
              "      <td>0.025341</td>\n",
              "      <td>-0.002146</td>\n",
              "      <td>-0.001431</td>\n",
              "      <td>-0.002146</td>\n",
              "      <td>-0.002146</td>\n",
              "      <td>0.002971</td>\n",
              "      <td>-0.003920</td>\n",
              "      <td>0.007035</td>\n",
              "      <td>0.007035</td>\n",
              "      <td>0.012316</td>\n",
              "      <td>0.054595</td>\n",
              "      <td>-0.012940</td>\n",
              "      <td>0.006665</td>\n",
              "      <td>-0.010082</td>\n",
              "      <td>0.053074</td>\n",
              "      <td>-0.001822</td>\n",
              "      <td>0.007457</td>\n",
              "      <td>-0.013443</td>\n",
              "      <td>0.017193</td>\n",
              "      <td>0.010776</td>\n",
              "      <td>0.001230</td>\n",
              "      <td>0.000226</td>\n",
              "      <td>0.005593</td>\n",
              "      <td>-0.015124</td>\n",
              "      <td>0.007875</td>\n",
              "      <td>-0.020879</td>\n",
              "      <td>-0.001908</td>\n",
              "      <td>-0.001640</td>\n",
              "      <td>-0.008402</td>\n",
              "      <td>0.010628</td>\n",
              "      <td>0.007035</td>\n",
              "      <td>-0.005855</td>\n",
              "      <td>-0.001822</td>\n",
              "      <td>0.006890</td>\n",
              "      <td>0.004294</td>\n",
              "      <td>0.000226</td>\n",
              "      <td>0.002308</td>\n",
              "      <td>-0.007902</td>\n",
              "      <td>-0.001662</td>\n",
              "      <td>0.003342</td>\n",
              "      <td>...</td>\n",
              "      <td>-0.008402</td>\n",
              "      <td>-0.011763</td>\n",
              "      <td>0.000006</td>\n",
              "      <td>-0.001192</td>\n",
              "      <td>0.030001</td>\n",
              "      <td>-0.040839</td>\n",
              "      <td>0.021513</td>\n",
              "      <td>-0.000155</td>\n",
              "      <td>0.004755</td>\n",
              "      <td>0.003854</td>\n",
              "      <td>-0.001669</td>\n",
              "      <td>0.000219</td>\n",
              "      <td>-0.001908</td>\n",
              "      <td>-0.001669</td>\n",
              "      <td>0.004798</td>\n",
              "      <td>0.006792</td>\n",
              "      <td>0.013479</td>\n",
              "      <td>0.007035</td>\n",
              "      <td>-0.001431</td>\n",
              "      <td>0.080380</td>\n",
              "      <td>0.013479</td>\n",
              "      <td>-0.001192</td>\n",
              "      <td>-0.001908</td>\n",
              "      <td>0.005367</td>\n",
              "      <td>0.164765</td>\n",
              "      <td>-0.032351</td>\n",
              "      <td>0.008362</td>\n",
              "      <td>0.010628</td>\n",
              "      <td>0.019123</td>\n",
              "      <td>-0.009564</td>\n",
              "      <td>0.000180</td>\n",
              "      <td>0.000226</td>\n",
              "      <td>0.042081</td>\n",
              "      <td>-0.016804</td>\n",
              "      <td>-0.080028</td>\n",
              "      <td>0.004746</td>\n",
              "      <td>0.028314</td>\n",
              "      <td>0.000120</td>\n",
              "      <td>-0.001693</td>\n",
              "      <td>0.067503</td>\n",
              "    </tr>\n",
              "    <tr>\n",
              "      <th>1</th>\n",
              "      <td>-0.010012</td>\n",
              "      <td>-0.003669</td>\n",
              "      <td>-0.002446</td>\n",
              "      <td>-0.003669</td>\n",
              "      <td>-0.003669</td>\n",
              "      <td>0.001075</td>\n",
              "      <td>0.001440</td>\n",
              "      <td>-0.003500</td>\n",
              "      <td>-0.003500</td>\n",
              "      <td>0.001612</td>\n",
              "      <td>0.001259</td>\n",
              "      <td>-0.005109</td>\n",
              "      <td>-0.000171</td>\n",
              "      <td>0.000662</td>\n",
              "      <td>-0.003104</td>\n",
              "      <td>0.000009</td>\n",
              "      <td>0.001131</td>\n",
              "      <td>0.000883</td>\n",
              "      <td>0.005803</td>\n",
              "      <td>0.001411</td>\n",
              "      <td>-0.000134</td>\n",
              "      <td>0.000403</td>\n",
              "      <td>0.000848</td>\n",
              "      <td>0.000993</td>\n",
              "      <td>0.002255</td>\n",
              "      <td>-0.005046</td>\n",
              "      <td>-0.003262</td>\n",
              "      <td>0.000008</td>\n",
              "      <td>0.000552</td>\n",
              "      <td>0.007652</td>\n",
              "      <td>-0.003500</td>\n",
              "      <td>0.002155</td>\n",
              "      <td>0.000009</td>\n",
              "      <td>0.001973</td>\n",
              "      <td>0.003213</td>\n",
              "      <td>0.000403</td>\n",
              "      <td>0.000251</td>\n",
              "      <td>-0.003468</td>\n",
              "      <td>-0.002650</td>\n",
              "      <td>0.001210</td>\n",
              "      <td>...</td>\n",
              "      <td>0.000552</td>\n",
              "      <td>0.000773</td>\n",
              "      <td>0.000784</td>\n",
              "      <td>-0.002039</td>\n",
              "      <td>-0.005804</td>\n",
              "      <td>0.120308</td>\n",
              "      <td>-0.005266</td>\n",
              "      <td>0.000032</td>\n",
              "      <td>0.021818</td>\n",
              "      <td>-0.000255</td>\n",
              "      <td>-0.002854</td>\n",
              "      <td>-0.000660</td>\n",
              "      <td>-0.003262</td>\n",
              "      <td>-0.002854</td>\n",
              "      <td>0.001023</td>\n",
              "      <td>0.031169</td>\n",
              "      <td>0.002922</td>\n",
              "      <td>-0.003500</td>\n",
              "      <td>-0.002446</td>\n",
              "      <td>0.008922</td>\n",
              "      <td>0.002922</td>\n",
              "      <td>-0.002039</td>\n",
              "      <td>-0.003262</td>\n",
              "      <td>0.004016</td>\n",
              "      <td>-0.015303</td>\n",
              "      <td>-0.020895</td>\n",
              "      <td>0.001265</td>\n",
              "      <td>0.007652</td>\n",
              "      <td>-0.004681</td>\n",
              "      <td>0.003764</td>\n",
              "      <td>-0.000363</td>\n",
              "      <td>0.000403</td>\n",
              "      <td>0.008142</td>\n",
              "      <td>0.001104</td>\n",
              "      <td>-0.029224</td>\n",
              "      <td>0.000999</td>\n",
              "      <td>0.002363</td>\n",
              "      <td>-0.000242</td>\n",
              "      <td>0.000029</td>\n",
              "      <td>-0.013059</td>\n",
              "    </tr>\n",
              "    <tr>\n",
              "      <th>2</th>\n",
              "      <td>-0.015054</td>\n",
              "      <td>-0.015457</td>\n",
              "      <td>-0.010304</td>\n",
              "      <td>-0.015457</td>\n",
              "      <td>-0.015457</td>\n",
              "      <td>0.007281</td>\n",
              "      <td>-0.014033</td>\n",
              "      <td>0.011941</td>\n",
              "      <td>0.011941</td>\n",
              "      <td>0.011796</td>\n",
              "      <td>-0.004049</td>\n",
              "      <td>0.023737</td>\n",
              "      <td>0.006648</td>\n",
              "      <td>0.003442</td>\n",
              "      <td>-0.036117</td>\n",
              "      <td>-0.002065</td>\n",
              "      <td>0.008070</td>\n",
              "      <td>0.004590</td>\n",
              "      <td>0.015218</td>\n",
              "      <td>0.010321</td>\n",
              "      <td>0.000954</td>\n",
              "      <td>0.001907</td>\n",
              "      <td>0.006052</td>\n",
              "      <td>0.005163</td>\n",
              "      <td>0.001332</td>\n",
              "      <td>0.018083</td>\n",
              "      <td>-0.013739</td>\n",
              "      <td>-0.001858</td>\n",
              "      <td>0.002869</td>\n",
              "      <td>0.013533</td>\n",
              "      <td>0.011941</td>\n",
              "      <td>0.016617</td>\n",
              "      <td>-0.002065</td>\n",
              "      <td>0.001166</td>\n",
              "      <td>0.030942</td>\n",
              "      <td>0.001907</td>\n",
              "      <td>0.007312</td>\n",
              "      <td>-0.010540</td>\n",
              "      <td>-0.004909</td>\n",
              "      <td>0.008192</td>\n",
              "      <td>...</td>\n",
              "      <td>0.002869</td>\n",
              "      <td>0.004016</td>\n",
              "      <td>0.003425</td>\n",
              "      <td>-0.008587</td>\n",
              "      <td>-0.025641</td>\n",
              "      <td>-0.012612</td>\n",
              "      <td>0.013397</td>\n",
              "      <td>0.002103</td>\n",
              "      <td>-0.037849</td>\n",
              "      <td>0.006883</td>\n",
              "      <td>-0.012022</td>\n",
              "      <td>0.013289</td>\n",
              "      <td>-0.013739</td>\n",
              "      <td>-0.012022</td>\n",
              "      <td>0.003307</td>\n",
              "      <td>-0.054070</td>\n",
              "      <td>0.012416</td>\n",
              "      <td>0.011941</td>\n",
              "      <td>-0.010304</td>\n",
              "      <td>0.011615</td>\n",
              "      <td>0.012416</td>\n",
              "      <td>-0.008587</td>\n",
              "      <td>-0.013739</td>\n",
              "      <td>0.038678</td>\n",
              "      <td>0.006883</td>\n",
              "      <td>-0.072622</td>\n",
              "      <td>0.003984</td>\n",
              "      <td>0.013533</td>\n",
              "      <td>0.011908</td>\n",
              "      <td>-0.009658</td>\n",
              "      <td>-0.000455</td>\n",
              "      <td>0.001907</td>\n",
              "      <td>0.047982</td>\n",
              "      <td>0.005737</td>\n",
              "      <td>0.117859</td>\n",
              "      <td>0.006945</td>\n",
              "      <td>0.003119</td>\n",
              "      <td>-0.000304</td>\n",
              "      <td>0.009009</td>\n",
              "      <td>-0.057692</td>\n",
              "    </tr>\n",
              "    <tr>\n",
              "      <th>3</th>\n",
              "      <td>-0.021499</td>\n",
              "      <td>0.035602</td>\n",
              "      <td>0.023735</td>\n",
              "      <td>0.035602</td>\n",
              "      <td>0.035602</td>\n",
              "      <td>0.030307</td>\n",
              "      <td>0.024215</td>\n",
              "      <td>-0.001053</td>\n",
              "      <td>-0.001053</td>\n",
              "      <td>0.067579</td>\n",
              "      <td>0.023864</td>\n",
              "      <td>-0.025956</td>\n",
              "      <td>0.033893</td>\n",
              "      <td>-0.005291</td>\n",
              "      <td>0.263229</td>\n",
              "      <td>0.001122</td>\n",
              "      <td>0.035044</td>\n",
              "      <td>-0.007054</td>\n",
              "      <td>0.099573</td>\n",
              "      <td>0.059131</td>\n",
              "      <td>0.007660</td>\n",
              "      <td>0.009912</td>\n",
              "      <td>0.026283</td>\n",
              "      <td>-0.007936</td>\n",
              "      <td>0.001811</td>\n",
              "      <td>0.049120</td>\n",
              "      <td>0.031646</td>\n",
              "      <td>0.001010</td>\n",
              "      <td>-0.004409</td>\n",
              "      <td>0.025253</td>\n",
              "      <td>-0.001053</td>\n",
              "      <td>0.033152</td>\n",
              "      <td>0.001122</td>\n",
              "      <td>0.001585</td>\n",
              "      <td>0.040178</td>\n",
              "      <td>0.009912</td>\n",
              "      <td>0.041300</td>\n",
              "      <td>0.060636</td>\n",
              "      <td>0.087445</td>\n",
              "      <td>0.034096</td>\n",
              "      <td>...</td>\n",
              "      <td>-0.004409</td>\n",
              "      <td>-0.006172</td>\n",
              "      <td>0.018133</td>\n",
              "      <td>0.019779</td>\n",
              "      <td>-0.020739</td>\n",
              "      <td>-0.091102</td>\n",
              "      <td>-0.059037</td>\n",
              "      <td>0.000851</td>\n",
              "      <td>-0.088358</td>\n",
              "      <td>0.029520</td>\n",
              "      <td>0.027690</td>\n",
              "      <td>0.024363</td>\n",
              "      <td>0.031646</td>\n",
              "      <td>0.027690</td>\n",
              "      <td>0.003501</td>\n",
              "      <td>-0.126226</td>\n",
              "      <td>0.063417</td>\n",
              "      <td>-0.001053</td>\n",
              "      <td>0.023735</td>\n",
              "      <td>0.029974</td>\n",
              "      <td>0.063417</td>\n",
              "      <td>0.019779</td>\n",
              "      <td>0.031646</td>\n",
              "      <td>0.050222</td>\n",
              "      <td>-0.059763</td>\n",
              "      <td>-0.143405</td>\n",
              "      <td>0.011302</td>\n",
              "      <td>0.025253</td>\n",
              "      <td>-0.052477</td>\n",
              "      <td>-0.037072</td>\n",
              "      <td>0.002971</td>\n",
              "      <td>0.009912</td>\n",
              "      <td>0.086248</td>\n",
              "      <td>-0.008818</td>\n",
              "      <td>0.016154</td>\n",
              "      <td>0.028848</td>\n",
              "      <td>-0.000125</td>\n",
              "      <td>0.001981</td>\n",
              "      <td>0.031201</td>\n",
              "      <td>-0.046664</td>\n",
              "    </tr>\n",
              "    <tr>\n",
              "      <th>4</th>\n",
              "      <td>0.002077</td>\n",
              "      <td>-0.007965</td>\n",
              "      <td>-0.005310</td>\n",
              "      <td>-0.007965</td>\n",
              "      <td>-0.007965</td>\n",
              "      <td>0.002947</td>\n",
              "      <td>0.003057</td>\n",
              "      <td>0.000231</td>\n",
              "      <td>0.000231</td>\n",
              "      <td>0.006080</td>\n",
              "      <td>-0.021917</td>\n",
              "      <td>-0.001408</td>\n",
              "      <td>0.006661</td>\n",
              "      <td>0.005652</td>\n",
              "      <td>-0.026389</td>\n",
              "      <td>0.000036</td>\n",
              "      <td>0.005533</td>\n",
              "      <td>0.007536</td>\n",
              "      <td>0.007065</td>\n",
              "      <td>0.005320</td>\n",
              "      <td>0.000705</td>\n",
              "      <td>0.001597</td>\n",
              "      <td>0.004150</td>\n",
              "      <td>0.008478</td>\n",
              "      <td>-0.001238</td>\n",
              "      <td>0.026154</td>\n",
              "      <td>-0.007080</td>\n",
              "      <td>0.000033</td>\n",
              "      <td>0.004710</td>\n",
              "      <td>-0.001892</td>\n",
              "      <td>0.000231</td>\n",
              "      <td>0.011853</td>\n",
              "      <td>0.000036</td>\n",
              "      <td>-0.001083</td>\n",
              "      <td>-0.004126</td>\n",
              "      <td>0.001597</td>\n",
              "      <td>0.004514</td>\n",
              "      <td>-0.000233</td>\n",
              "      <td>0.002080</td>\n",
              "      <td>0.003315</td>\n",
              "      <td>...</td>\n",
              "      <td>0.004710</td>\n",
              "      <td>0.006594</td>\n",
              "      <td>-0.000443</td>\n",
              "      <td>-0.004425</td>\n",
              "      <td>0.021233</td>\n",
              "      <td>0.005352</td>\n",
              "      <td>-0.007687</td>\n",
              "      <td>0.001126</td>\n",
              "      <td>-0.038776</td>\n",
              "      <td>0.009884</td>\n",
              "      <td>-0.006195</td>\n",
              "      <td>0.010187</td>\n",
              "      <td>-0.007080</td>\n",
              "      <td>-0.006195</td>\n",
              "      <td>-0.002295</td>\n",
              "      <td>-0.055394</td>\n",
              "      <td>0.006868</td>\n",
              "      <td>0.000231</td>\n",
              "      <td>-0.005310</td>\n",
              "      <td>-0.016919</td>\n",
              "      <td>0.006868</td>\n",
              "      <td>-0.004425</td>\n",
              "      <td>-0.007080</td>\n",
              "      <td>-0.005157</td>\n",
              "      <td>0.002095</td>\n",
              "      <td>-0.007807</td>\n",
              "      <td>-0.003500</td>\n",
              "      <td>-0.001892</td>\n",
              "      <td>-0.006833</td>\n",
              "      <td>0.003431</td>\n",
              "      <td>0.002120</td>\n",
              "      <td>0.001597</td>\n",
              "      <td>-0.012181</td>\n",
              "      <td>0.009420</td>\n",
              "      <td>0.673459</td>\n",
              "      <td>0.002591</td>\n",
              "      <td>-0.008229</td>\n",
              "      <td>0.001413</td>\n",
              "      <td>0.004918</td>\n",
              "      <td>0.047773</td>\n",
              "    </tr>\n",
              "  </tbody>\n",
              "</table>\n",
              "<p>5 rows × 66572 columns</p>\n",
              "</div>"
            ],
            "text/plain": [
              "ISBN  0000913154  0001046438  000104687X  ...  B00013AX9E  B0001I1KOG  B000234N3A\n",
              "0       0.025341   -0.002146   -0.001431  ...    0.000120   -0.001693    0.067503\n",
              "1      -0.010012   -0.003669   -0.002446  ...   -0.000242    0.000029   -0.013059\n",
              "2      -0.015054   -0.015457   -0.010304  ...   -0.000304    0.009009   -0.057692\n",
              "3      -0.021499    0.035602    0.023735  ...    0.001981    0.031201   -0.046664\n",
              "4       0.002077   -0.007965   -0.005310  ...    0.001413    0.004918    0.047773\n",
              "\n",
              "[5 rows x 66572 columns]"
            ]
          },
          "metadata": {
            "tags": []
          },
          "execution_count": 66
        }
      ]
    },
    {
      "cell_type": "markdown",
      "metadata": {
        "id": "g-OkAXq4cdma",
        "colab_type": "text"
      },
      "source": [
        "### Take a particular user_id"
      ]
    },
    {
      "cell_type": "markdown",
      "metadata": {
        "id": "4QcwOdoWcdmc",
        "colab_type": "text"
      },
      "source": [
        "### Lets find the recommendations for user with id `2110`\n",
        "\n",
        "#### Note: Execute the below cells to get the variables loaded"
      ]
    },
    {
      "cell_type": "code",
      "metadata": {
        "id": "P8wEHdz5cdmg",
        "colab_type": "code",
        "colab": {}
      },
      "source": [
        "userID = 2110"
      ],
      "execution_count": 0,
      "outputs": []
    },
    {
      "cell_type": "code",
      "metadata": {
        "id": "rLWMirHhcdmk",
        "colab_type": "code",
        "colab": {}
      },
      "source": [
        "user_id = 2 #2nd row in ratings matrix and predicted matrix"
      ],
      "execution_count": 0,
      "outputs": []
    },
    {
      "cell_type": "markdown",
      "metadata": {
        "id": "7Dmuyh2ycdmn",
        "colab_type": "text"
      },
      "source": [
        "### Get the predicted ratings for userID `2110` and sort them in descending order"
      ]
    },
    {
      "cell_type": "code",
      "metadata": {
        "id": "HPTjaKRVrVB0",
        "colab_type": "code",
        "colab": {
          "base_uri": "https://localhost:8080/",
          "height": 238
        },
        "outputId": "648c0473-8f95-43d4-9966-7335fa95d15d"
      },
      "source": [
        "# Get and sort the user's predictions\n",
        "user_row_number = user_id - 1 # UserID starts at 1, not 0\n",
        "sorted_user_predictions = preds_df.iloc[user_row_number].sort_values(ascending=False)\n",
        "sorted_user_predictions"
      ],
      "execution_count": 69,
      "outputs": [
        {
          "output_type": "execute_result",
          "data": {
            "text/plain": [
              "ISBN\n",
              "059035342X    0.682444\n",
              "0345370775    0.368946\n",
              "0345384911    0.333624\n",
              "043935806X    0.333209\n",
              "044021145X    0.329336\n",
              "                ...   \n",
              "0671744577   -0.056397\n",
              "0399141383   -0.057334\n",
              "0553569783   -0.060981\n",
              "0515127833   -0.061348\n",
              "0553561618   -0.067188\n",
              "Name: 1, Length: 66572, dtype: float64"
            ]
          },
          "metadata": {
            "tags": []
          },
          "execution_count": 69
        }
      ]
    },
    {
      "cell_type": "markdown",
      "metadata": {
        "id": "sh4e-kGJcdmu",
        "colab_type": "text"
      },
      "source": [
        "### Create a dataframe with name `user_data` containing userID `2110` explicitly interacted books"
      ]
    },
    {
      "cell_type": "code",
      "metadata": {
        "id": "mLyXuGmlsfUO",
        "colab_type": "code",
        "colab": {}
      },
      "source": [
        "user_data = ratings_excluding_zero_atleast_hundr[ratings_excluding_zero_atleast_hundr.userID == userID]"
      ],
      "execution_count": 0,
      "outputs": []
    },
    {
      "cell_type": "code",
      "metadata": {
        "id": "jt2bm8IaGZc9",
        "colab_type": "code",
        "outputId": "7aac67cb-2a5d-4340-a69a-ecf221f25f1e",
        "colab": {
          "base_uri": "https://localhost:8080/",
          "height": 204
        }
      },
      "source": [
        "user_data.head()"
      ],
      "execution_count": 71,
      "outputs": [
        {
          "output_type": "execute_result",
          "data": {
            "text/html": [
              "<div>\n",
              "<style scoped>\n",
              "    .dataframe tbody tr th:only-of-type {\n",
              "        vertical-align: middle;\n",
              "    }\n",
              "\n",
              "    .dataframe tbody tr th {\n",
              "        vertical-align: top;\n",
              "    }\n",
              "\n",
              "    .dataframe thead th {\n",
              "        text-align: right;\n",
              "    }\n",
              "</style>\n",
              "<table border=\"1\" class=\"dataframe\">\n",
              "  <thead>\n",
              "    <tr style=\"text-align: right;\">\n",
              "      <th></th>\n",
              "      <th>userID</th>\n",
              "      <th>ISBN</th>\n",
              "      <th>bookRating</th>\n",
              "    </tr>\n",
              "  </thead>\n",
              "  <tbody>\n",
              "    <tr>\n",
              "      <th>14448</th>\n",
              "      <td>2110</td>\n",
              "      <td>0060987529</td>\n",
              "      <td>7</td>\n",
              "    </tr>\n",
              "    <tr>\n",
              "      <th>14449</th>\n",
              "      <td>2110</td>\n",
              "      <td>0064472779</td>\n",
              "      <td>8</td>\n",
              "    </tr>\n",
              "    <tr>\n",
              "      <th>14450</th>\n",
              "      <td>2110</td>\n",
              "      <td>0140022651</td>\n",
              "      <td>10</td>\n",
              "    </tr>\n",
              "    <tr>\n",
              "      <th>14452</th>\n",
              "      <td>2110</td>\n",
              "      <td>0142302163</td>\n",
              "      <td>8</td>\n",
              "    </tr>\n",
              "    <tr>\n",
              "      <th>14453</th>\n",
              "      <td>2110</td>\n",
              "      <td>0151008116</td>\n",
              "      <td>5</td>\n",
              "    </tr>\n",
              "  </tbody>\n",
              "</table>\n",
              "</div>"
            ],
            "text/plain": [
              "       userID        ISBN  bookRating\n",
              "14448    2110  0060987529           7\n",
              "14449    2110  0064472779           8\n",
              "14450    2110  0140022651          10\n",
              "14452    2110  0142302163           8\n",
              "14453    2110  0151008116           5"
            ]
          },
          "metadata": {
            "tags": []
          },
          "execution_count": 71
        }
      ]
    },
    {
      "cell_type": "code",
      "metadata": {
        "id": "7H9bRUoCsxmX",
        "colab_type": "code",
        "colab": {
          "base_uri": "https://localhost:8080/",
          "height": 34
        },
        "outputId": "f6bfa468-31e5-4c47-a736-25c997eb6a95"
      },
      "source": [
        "user_data.shape"
      ],
      "execution_count": 72,
      "outputs": [
        {
          "output_type": "execute_result",
          "data": {
            "text/plain": [
              "(103, 3)"
            ]
          },
          "metadata": {
            "tags": []
          },
          "execution_count": 72
        }
      ]
    },
    {
      "cell_type": "markdown",
      "metadata": {
        "id": "sz5yh1FZcdnE",
        "colab_type": "text"
      },
      "source": [
        "### Combine the user_data and and corresponding book data(`book_data`) in a single dataframe with name `user_full_info`"
      ]
    },
    {
      "cell_type": "code",
      "metadata": {
        "id": "Gl54TCcJs1BJ",
        "colab_type": "code",
        "colab": {}
      },
      "source": [
        "user_full_info = pd.merge(user_data,books,on='ISBN')"
      ],
      "execution_count": 0,
      "outputs": []
    },
    {
      "cell_type": "code",
      "metadata": {
        "id": "dyQ-4-Xls3fs",
        "colab_type": "code",
        "colab": {
          "base_uri": "https://localhost:8080/",
          "height": 204
        },
        "outputId": "5243aa57-d349-4d50-e62c-c75553cd29e5"
      },
      "source": [
        "user_full_info.head()"
      ],
      "execution_count": 74,
      "outputs": [
        {
          "output_type": "execute_result",
          "data": {
            "text/html": [
              "<div>\n",
              "<style scoped>\n",
              "    .dataframe tbody tr th:only-of-type {\n",
              "        vertical-align: middle;\n",
              "    }\n",
              "\n",
              "    .dataframe tbody tr th {\n",
              "        vertical-align: top;\n",
              "    }\n",
              "\n",
              "    .dataframe thead th {\n",
              "        text-align: right;\n",
              "    }\n",
              "</style>\n",
              "<table border=\"1\" class=\"dataframe\">\n",
              "  <thead>\n",
              "    <tr style=\"text-align: right;\">\n",
              "      <th></th>\n",
              "      <th>userID</th>\n",
              "      <th>ISBN</th>\n",
              "      <th>bookRating</th>\n",
              "      <th>bookTitle</th>\n",
              "      <th>bookAuthor</th>\n",
              "      <th>yearOfPublication</th>\n",
              "      <th>publisher</th>\n",
              "    </tr>\n",
              "  </thead>\n",
              "  <tbody>\n",
              "    <tr>\n",
              "      <th>0</th>\n",
              "      <td>2110</td>\n",
              "      <td>0060987529</td>\n",
              "      <td>7</td>\n",
              "      <td>Confessions of an Ugly Stepsister : A Novel</td>\n",
              "      <td>Gregory Maguire</td>\n",
              "      <td>2000</td>\n",
              "      <td>Regan Books</td>\n",
              "    </tr>\n",
              "    <tr>\n",
              "      <th>1</th>\n",
              "      <td>2110</td>\n",
              "      <td>0064472779</td>\n",
              "      <td>8</td>\n",
              "      <td>All-American Girl</td>\n",
              "      <td>Meg Cabot</td>\n",
              "      <td>2003</td>\n",
              "      <td>HarperTrophy</td>\n",
              "    </tr>\n",
              "    <tr>\n",
              "      <th>2</th>\n",
              "      <td>2110</td>\n",
              "      <td>0140022651</td>\n",
              "      <td>10</td>\n",
              "      <td>Journey to the Center of the Earth</td>\n",
              "      <td>Jules Verne</td>\n",
              "      <td>1965</td>\n",
              "      <td>Penguin Books</td>\n",
              "    </tr>\n",
              "    <tr>\n",
              "      <th>3</th>\n",
              "      <td>2110</td>\n",
              "      <td>0142302163</td>\n",
              "      <td>8</td>\n",
              "      <td>The Ghost Sitter</td>\n",
              "      <td>Peni R. Griffin</td>\n",
              "      <td>2002</td>\n",
              "      <td>Puffin Books</td>\n",
              "    </tr>\n",
              "    <tr>\n",
              "      <th>4</th>\n",
              "      <td>2110</td>\n",
              "      <td>0151008116</td>\n",
              "      <td>5</td>\n",
              "      <td>Life of Pi</td>\n",
              "      <td>Yann Martel</td>\n",
              "      <td>2002</td>\n",
              "      <td>Harcourt</td>\n",
              "    </tr>\n",
              "  </tbody>\n",
              "</table>\n",
              "</div>"
            ],
            "text/plain": [
              "   userID        ISBN  ...  yearOfPublication      publisher\n",
              "0    2110  0060987529  ...               2000    Regan Books\n",
              "1    2110  0064472779  ...               2003   HarperTrophy\n",
              "2    2110  0140022651  ...               1965  Penguin Books\n",
              "3    2110  0142302163  ...               2002   Puffin Books\n",
              "4    2110  0151008116  ...               2002       Harcourt\n",
              "\n",
              "[5 rows x 7 columns]"
            ]
          },
          "metadata": {
            "tags": []
          },
          "execution_count": 74
        }
      ]
    },
    {
      "cell_type": "markdown",
      "metadata": {
        "id": "9JCFaaGicdnn",
        "colab_type": "text"
      },
      "source": [
        "### Get top 10 recommendations for above given userID from the books not already rated by that user"
      ]
    },
    {
      "cell_type": "code",
      "metadata": {
        "id": "hLH10EISs70x",
        "colab_type": "code",
        "colab": {}
      },
      "source": [
        "# Recommend the highest predicted rating books that the user hasn't seen yet.\n",
        "# select the book which are in user list and remove those from our books list\n",
        "# Then merge with the sorted user predictions with the ISBN with left join\n",
        "# Rename the columns to 'predictions'\n",
        "recommendations = (books[~books['ISBN'].isin(user_full_info['ISBN'])].\n",
        "     merge(pd.DataFrame(sorted_user_predictions).reset_index(), how = 'left', left_on = 'ISBN', right_on = 'ISBN').\n",
        "     rename(columns = {user_row_number: 'Predictions'}))\n",
        "\n",
        "#sort the prediction values\n",
        "recommendations = (recommendations.sort_values('Predictions', ascending = False).\n",
        "                   iloc[:10, :-1]\n",
        "                  )"
      ],
      "execution_count": 0,
      "outputs": []
    },
    {
      "cell_type": "code",
      "metadata": {
        "id": "QNND_qPHs8QY",
        "colab_type": "code",
        "colab": {
          "base_uri": "https://localhost:8080/",
          "height": 376
        },
        "outputId": "632da4be-5291-41f4-c2a0-fac67c102024"
      },
      "source": [
        "print('The top 10 recommendatations for user id %d are as below'% (userID))\n",
        "recommendations"
      ],
      "execution_count": 76,
      "outputs": [
        {
          "output_type": "stream",
          "text": [
            "The top 10 recommendatations for user id 2110 are as below\n"
          ],
          "name": "stdout"
        },
        {
          "output_type": "execute_result",
          "data": {
            "text/html": [
              "<div>\n",
              "<style scoped>\n",
              "    .dataframe tbody tr th:only-of-type {\n",
              "        vertical-align: middle;\n",
              "    }\n",
              "\n",
              "    .dataframe tbody tr th {\n",
              "        vertical-align: top;\n",
              "    }\n",
              "\n",
              "    .dataframe thead th {\n",
              "        text-align: right;\n",
              "    }\n",
              "</style>\n",
              "<table border=\"1\" class=\"dataframe\">\n",
              "  <thead>\n",
              "    <tr style=\"text-align: right;\">\n",
              "      <th></th>\n",
              "      <th>ISBN</th>\n",
              "      <th>bookTitle</th>\n",
              "      <th>bookAuthor</th>\n",
              "      <th>yearOfPublication</th>\n",
              "      <th>publisher</th>\n",
              "    </tr>\n",
              "  </thead>\n",
              "  <tbody>\n",
              "    <tr>\n",
              "      <th>1192</th>\n",
              "      <td>0345370775</td>\n",
              "      <td>Jurassic Park</td>\n",
              "      <td>Michael Crichton</td>\n",
              "      <td>1999</td>\n",
              "      <td>Ballantine Books</td>\n",
              "    </tr>\n",
              "    <tr>\n",
              "      <th>6184</th>\n",
              "      <td>0345384911</td>\n",
              "      <td>Crystal Line</td>\n",
              "      <td>Anne McCaffrey</td>\n",
              "      <td>1993</td>\n",
              "      <td>Del Rey Books</td>\n",
              "    </tr>\n",
              "    <tr>\n",
              "      <th>5458</th>\n",
              "      <td>043935806X</td>\n",
              "      <td>Harry Potter and the Order of the Phoenix (Boo...</td>\n",
              "      <td>J. K. Rowling</td>\n",
              "      <td>2003</td>\n",
              "      <td>Scholastic</td>\n",
              "    </tr>\n",
              "    <tr>\n",
              "      <th>455</th>\n",
              "      <td>044021145X</td>\n",
              "      <td>The Firm</td>\n",
              "      <td>John Grisham</td>\n",
              "      <td>1992</td>\n",
              "      <td>Bantam Dell Publishing Group</td>\n",
              "    </tr>\n",
              "    <tr>\n",
              "      <th>2031</th>\n",
              "      <td>0451151259</td>\n",
              "      <td>Eyes of the Dragon</td>\n",
              "      <td>Stephen King</td>\n",
              "      <td>1988</td>\n",
              "      <td>Penguin Putnam~mass</td>\n",
              "    </tr>\n",
              "    <tr>\n",
              "      <th>5383</th>\n",
              "      <td>0439139597</td>\n",
              "      <td>Harry Potter and the Goblet of Fire (Book 4)</td>\n",
              "      <td>J. K. Rowling</td>\n",
              "      <td>2000</td>\n",
              "      <td>Scholastic</td>\n",
              "    </tr>\n",
              "    <tr>\n",
              "      <th>3413</th>\n",
              "      <td>0439064872</td>\n",
              "      <td>Harry Potter and the Chamber of Secrets (Book 2)</td>\n",
              "      <td>J. K. Rowling</td>\n",
              "      <td>2000</td>\n",
              "      <td>Scholastic</td>\n",
              "    </tr>\n",
              "    <tr>\n",
              "      <th>976</th>\n",
              "      <td>0380759497</td>\n",
              "      <td>Xanth 15: The Color of Her Panties</td>\n",
              "      <td>Piers Anthony</td>\n",
              "      <td>1992</td>\n",
              "      <td>Eos</td>\n",
              "    </tr>\n",
              "    <tr>\n",
              "      <th>2435</th>\n",
              "      <td>0345353145</td>\n",
              "      <td>Sphere</td>\n",
              "      <td>MICHAEL CRICHTON</td>\n",
              "      <td>1988</td>\n",
              "      <td>Ballantine Books</td>\n",
              "    </tr>\n",
              "    <tr>\n",
              "      <th>6048</th>\n",
              "      <td>0451167317</td>\n",
              "      <td>The Dark Half</td>\n",
              "      <td>Stephen King</td>\n",
              "      <td>1994</td>\n",
              "      <td>Signet Book</td>\n",
              "    </tr>\n",
              "  </tbody>\n",
              "</table>\n",
              "</div>"
            ],
            "text/plain": [
              "            ISBN  ...                     publisher\n",
              "1192  0345370775  ...              Ballantine Books\n",
              "6184  0345384911  ...                 Del Rey Books\n",
              "5458  043935806X  ...                    Scholastic\n",
              "455   044021145X  ...  Bantam Dell Publishing Group\n",
              "2031  0451151259  ...           Penguin Putnam~mass\n",
              "5383  0439139597  ...                    Scholastic\n",
              "3413  0439064872  ...                    Scholastic\n",
              "976   0380759497  ...                           Eos\n",
              "2435  0345353145  ...              Ballantine Books\n",
              "6048  0451167317  ...                   Signet Book\n",
              "\n",
              "[10 rows x 5 columns]"
            ]
          },
          "metadata": {
            "tags": []
          },
          "execution_count": 76
        }
      ]
    },
    {
      "cell_type": "code",
      "metadata": {
        "id": "-P7aWcruHNtI",
        "colab_type": "code",
        "colab": {}
      },
      "source": [
        ""
      ],
      "execution_count": 0,
      "outputs": []
    }
  ]
}