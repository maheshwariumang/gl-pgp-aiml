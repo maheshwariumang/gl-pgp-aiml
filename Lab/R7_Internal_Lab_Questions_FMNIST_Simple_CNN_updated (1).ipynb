{
  "nbformat": 4,
  "nbformat_minor": 0,
  "metadata": {
    "accelerator": "GPU",
    "colab": {
      "name": "R7_Internal_Lab_Questions_FMNIST_Simple_CNN_updated.ipynb",
      "provenance": [],
      "collapsed_sections": []
    },
    "kernelspec": {
      "name": "python3",
      "display_name": "Python 3"
    },
    "language_info": {
      "codemirror_mode": {
        "name": "ipython",
        "version": 3
      },
      "file_extension": ".py",
      "mimetype": "text/x-python",
      "name": "python",
      "nbconvert_exporter": "python",
      "pygments_lexer": "ipython3",
      "version": "3.7.3"
    }
  },
  "cells": [
    {
      "cell_type": "markdown",
      "metadata": {
        "colab_type": "text",
        "id": "MyfMmMnPJjvn"
      },
      "source": [
        "## Train a simple convnet on the Fashion MNIST dataset"
      ]
    },
    {
      "cell_type": "markdown",
      "metadata": {
        "colab_type": "text",
        "id": "zjcGOJhcJjvp"
      },
      "source": [
        "In this, we will see how to deal with image data and train a convnet for image classification task."
      ]
    },
    {
      "cell_type": "markdown",
      "metadata": {
        "id": "YvbL1jmax1dx",
        "colab_type": "text"
      },
      "source": [
        "###1. Import and set and Tensorflow 2 and verify version"
      ]
    },
    {
      "cell_type": "code",
      "metadata": {
        "id": "Uqhs2LTNx0lQ",
        "colab_type": "code",
        "outputId": "38e69d90-ff8c-4dd5-ae3d-f1548c579f07",
        "colab": {
          "base_uri": "https://localhost:8080/",
          "height": 34
        }
      },
      "source": [
        "%tensorflow_version 2.x\n",
        "import tensorflow as tf"
      ],
      "execution_count": 1,
      "outputs": [
        {
          "output_type": "stream",
          "text": [
            "TensorFlow 2.x selected.\n"
          ],
          "name": "stdout"
        }
      ]
    },
    {
      "cell_type": "code",
      "metadata": {
        "id": "Avo11HuX-Z1O",
        "colab_type": "code",
        "colab": {}
      },
      "source": [
        "import numpy as np\n",
        "import matplotlib.pyplot as plt\n",
        "%matplotlib inline"
      ],
      "execution_count": 0,
      "outputs": []
    },
    {
      "cell_type": "markdown",
      "metadata": {
        "colab_type": "text",
        "id": "jR0Pl2XjJjvq"
      },
      "source": [
        "# 2. Load the  `fashion_mnist`  dataset\n",
        "\n",
        "** Use keras.datasets to load the dataset **"
      ]
    },
    {
      "cell_type": "code",
      "metadata": {
        "colab_type": "code",
        "id": "Qr75v_UYJjvs",
        "colab": {
          "base_uri": "https://localhost:8080/",
          "height": 34
        },
        "outputId": "93d6a7c8-1f0e-4034-c752-7e0f80a8a90b"
      },
      "source": [
        "from keras.datasets import fashion_mnist\n",
        "(x_train, y_train), (x_test, y_test) = fashion_mnist.load_data()"
      ],
      "execution_count": 3,
      "outputs": [
        {
          "output_type": "stream",
          "text": [
            "Using TensorFlow backend.\n"
          ],
          "name": "stderr"
        }
      ]
    },
    {
      "cell_type": "markdown",
      "metadata": {
        "id": "Zf2NG5NJ05w_",
        "colab_type": "text"
      },
      "source": [
        "###3. Create a list 'class_names' of below Class Names\n",
        "**Class - Class Name** ==> \n",
        "0 - T-shirt, \n",
        "1 - Trouser, \n",
        "2 - Pullover, \n",
        "3 - Dress, \n",
        "4 - Coat, \n",
        "5 - Sandal, \n",
        "6 - Shirt, \n",
        "7 - Sneaker, \n",
        "8 - Bag, \n",
        "9 - Ankle boot,"
      ]
    },
    {
      "cell_type": "code",
      "metadata": {
        "id": "30E9G9cRRxwx",
        "colab_type": "code",
        "colab": {}
      },
      "source": [
        "class_names = ['T-shirt', 'Trouser', 'Pullover', 'Dress', 'Coat', 'Sandal', 'Shirt', 'Sneaker', 'Bag', 'Ankle boot']"
      ],
      "execution_count": 0,
      "outputs": []
    },
    {
      "cell_type": "markdown",
      "metadata": {
        "colab_type": "text",
        "id": "hTI42-0qJjvw"
      },
      "source": [
        "###4. Find no.of samples in training and test dataset"
      ]
    },
    {
      "cell_type": "code",
      "metadata": {
        "colab_type": "code",
        "id": "g2sf67VoJjvx",
        "colab": {
          "base_uri": "https://localhost:8080/",
          "height": 51
        },
        "outputId": "f8fac974-b2d1-4246-b61c-6bd5aa2cff64"
      },
      "source": [
        "print('Number of samples in training set: ', x_train.shape[0])\n",
        "print('Number of samples in test set: ', x_test.shape[0])"
      ],
      "execution_count": 5,
      "outputs": [
        {
          "output_type": "stream",
          "text": [
            "Number of samples in training set:  60000\n",
            "Number of samples in test set:  10000\n"
          ],
          "name": "stdout"
        }
      ]
    },
    {
      "cell_type": "markdown",
      "metadata": {
        "colab_type": "text",
        "id": "WytT2eRnJjv4"
      },
      "source": [
        "###5. Find dimensions of an image in the dataset"
      ]
    },
    {
      "cell_type": "code",
      "metadata": {
        "colab_type": "code",
        "id": "XycQGBSGJjv5",
        "colab": {
          "base_uri": "https://localhost:8080/",
          "height": 51
        },
        "outputId": "9fb15793-1e69-4a54-8251-3628144b24a8"
      },
      "source": [
        "print('Dimensions of samples in training set: ', x_train.shape[1:])\n",
        "print('Dimensions of samples in test set: ', x_test.shape[1:])"
      ],
      "execution_count": 6,
      "outputs": [
        {
          "output_type": "stream",
          "text": [
            "Dimensions of samples in training set:  (28, 28)\n",
            "Dimensions of samples in test set:  (28, 28)\n"
          ],
          "name": "stdout"
        }
      ]
    },
    {
      "cell_type": "markdown",
      "metadata": {
        "id": "JJaUaIKATSVr",
        "colab_type": "text"
      },
      "source": [
        "### 6. Verify if existing labels/Classes are correct "
      ]
    },
    {
      "cell_type": "code",
      "metadata": {
        "id": "UAzXREYjTRhn",
        "colab_type": "code",
        "colab": {
          "base_uri": "https://localhost:8080/",
          "height": 139
        },
        "outputId": "176156eb-f416-4811-da8b-cd88497d3217"
      },
      "source": [
        "plt.figure(figsize=(10,10))\n",
        "for i in range(5):\n",
        "    plt.subplot(5,5,i+1)\n",
        "    plt.xticks([])\n",
        "    plt.yticks([])\n",
        "    plt.grid(False)\n",
        "    plt.imshow(x_train[i], cmap='gray')\n",
        "    plt.xlabel(class_names[y_train[i]])\n",
        "plt.show()"
      ],
      "execution_count": 7,
      "outputs": [
        {
          "output_type": "display_data",
          "data": {
            "image/png": "[encoded data removed]",
            "text/plain": [
              "<Figure size 720x720 with 5 Axes>"
            ]
          },
          "metadata": {
            "tags": []
          }
        }
      ]
    },
    {
      "cell_type": "markdown",
      "metadata": {
        "colab_type": "text",
        "id": "5jtdZ7RqJjv8"
      },
      "source": [
        "### 7. Convert train and test labels to one hot vectors\n",
        "\n",
        "** check `tensorflow.keras.utils.to_categorical()` **"
      ]
    },
    {
      "cell_type": "code",
      "metadata": {
        "colab_type": "code",
        "id": "sAD3q5I6Jjv9",
        "colab": {}
      },
      "source": [
        "y_train_tf = tf.keras.utils.to_categorical(y_train)\n",
        "y_test_tf = tf.keras.utils.to_categorical(y_test)"
      ],
      "execution_count": 0,
      "outputs": []
    },
    {
      "cell_type": "code",
      "metadata": {
        "colab_type": "code",
        "id": "mgHSCXy3JjwA",
        "colab": {
          "base_uri": "https://localhost:8080/",
          "height": 34
        },
        "outputId": "a6486e64-28ba-46e7-bef1-cff0f18042e8"
      },
      "source": [
        "y_train_tf[2] # T-shirt --> 0"
      ],
      "execution_count": 9,
      "outputs": [
        {
          "output_type": "execute_result",
          "data": {
            "text/plain": [
              "array([1., 0., 0., 0., 0., 0., 0., 0., 0., 0.], dtype=float32)"
            ]
          },
          "metadata": {
            "tags": []
          },
          "execution_count": 9
        }
      ]
    },
    {
      "cell_type": "markdown",
      "metadata": {
        "colab_type": "text",
        "id": "xO5BRBzBJjwD"
      },
      "source": [
        "###8. Normalize both the train and test image data from 0-255 to 0-1"
      ]
    },
    {
      "cell_type": "code",
      "metadata": {
        "colab_type": "code",
        "id": "3fUQpMHxJjwE",
        "colab": {}
      },
      "source": [
        "x_train_norm = (x_train/255)\n",
        "x_test_norm = (x_test/255)"
      ],
      "execution_count": 0,
      "outputs": []
    },
    {
      "cell_type": "code",
      "metadata": {
        "colab_type": "code",
        "id": "Okwo_SB5JjwI",
        "colab": {}
      },
      "source": [
        "#Clear out tensorflow memory\n",
        "tf.keras.backend.clear_session()"
      ],
      "execution_count": 0,
      "outputs": []
    },
    {
      "cell_type": "markdown",
      "metadata": {
        "colab_type": "text",
        "id": "da5-DwgrJjwM"
      },
      "source": [
        "###9. Reshape the data from 28x28 to 28x28x1 to match input dimensions in Conv2D layer in keras\n",
        "check `tensorflow.keras.backend.expand_dims`\n"
      ]
    },
    {
      "cell_type": "code",
      "metadata": {
        "id": "pzCTVIOiTex6",
        "colab_type": "code",
        "colab": {}
      },
      "source": [
        "# We can reshape using expand dims\n",
        "x_train_with_dims = tf.keras.backend.expand_dims(x_train_norm,axis=-1)\n",
        "x_test_with_dims = tf.keras.backend.expand_dims(x_test_norm,axis=-1)"
      ],
      "execution_count": 0,
      "outputs": []
    },
    {
      "cell_type": "code",
      "metadata": {
        "colab_type": "code",
        "id": "LPGVQ-JJJjwN",
        "colab": {}
      },
      "source": [
        "# or we can follow the below approach\n",
        "\n",
        "#Reshape data from 2D (28,28) to 3D (28, 28, 1)\n",
        "# model.add(tf.keras.layers.Reshape((28,28,1),input_shape=(28,28,)))"
      ],
      "execution_count": 0,
      "outputs": []
    },
    {
      "cell_type": "markdown",
      "metadata": {
        "colab_type": "text",
        "id": "OFRRTJq8JjwQ"
      },
      "source": [
        "###10. Import the necessary layers from keras to build the model"
      ]
    },
    {
      "cell_type": "code",
      "metadata": {
        "colab_type": "code",
        "id": "dWTZYnKSJjwR",
        "colab": {}
      },
      "source": [
        "from tensorflow.keras.models import Sequential\n",
        "from tensorflow.keras.layers import BatchNormalization\n",
        "from tensorflow.keras.layers import Conv2D\n",
        "from tensorflow.keras.layers import Flatten\n",
        "from tensorflow.keras.layers import Dense\n",
        "from tensorflow.keras.layers import Dropout\n",
        "from tensorflow.keras.layers import Reshape\n",
        "from tensorflow.keras.layers import MaxPool2D"
      ],
      "execution_count": 0,
      "outputs": []
    },
    {
      "cell_type": "markdown",
      "metadata": {
        "colab_type": "text",
        "id": "C18AoS7eJjwU"
      },
      "source": [
        "\n",
        "### 11. Build a model \n",
        "\n",
        "** with 2 Conv layers having `32 3x3 filters` in both convolutions with `relu activations` and `flatten` before passing the feature map into 2 fully connected layers (or Dense Layers) having 128 and 10 neurons with `relu` and `softmax` activations respectively. Now, using `categorical_crossentropy` loss with `adam` optimizer train the model with no.of `epochs=10`. **"
      ]
    },
    {
      "cell_type": "code",
      "metadata": {
        "colab_type": "code",
        "id": "DORCLgSwJjwV",
        "colab": {}
      },
      "source": [
        "#Initialize Sequential model\n",
        "model = Sequential()\n",
        "\n",
        "#normalize data\n",
        "model.add(BatchNormalization())\n",
        "\n",
        "#Add first convolutional layer\n",
        "model.add(Conv2D(32, #Number of filters \n",
        "                                 kernel_size=(3,3), #Size of the filter\n",
        "                                 activation='relu'))\n",
        "\n",
        "#Add second convolutional layer\n",
        "model.add(Conv2D(32, #Number of filters \n",
        "                                 kernel_size=(3,3), #Size of the filter\n",
        "                                 activation='relu'))\n",
        "\n",
        "#Flatten the output\n",
        "model.add(Flatten())\n",
        "\n",
        "#Dense layer\n",
        "model.add(Dense(128, activation='relu'))\n",
        "\n",
        "#Add another dropout layer\n",
        "model.add(Dropout(0.25))\n",
        "\n",
        "#Output layer\n",
        "model.add(Dense(10, activation='softmax'))\n",
        "\n",
        "model.compile(optimizer='adam', \n",
        "              loss='categorical_crossentropy', metrics=['accuracy'])"
      ],
      "execution_count": 0,
      "outputs": []
    },
    {
      "cell_type": "code",
      "metadata": {
        "id": "nUrpBkZENRG5",
        "colab_type": "code",
        "colab": {
          "base_uri": "https://localhost:8080/",
          "height": 391
        },
        "outputId": "5525f0e6-997d-418d-d3a8-20a9f8561b9f"
      },
      "source": [
        "model.fit(x_train_with_dims,tf.convert_to_tensor(y_train_tf),          \n",
        "          validation_data=(x_test_with_dims,tf.convert_to_tensor(y_test_tf)),\n",
        "          epochs=10,\n",
        "          batch_size=32)"
      ],
      "execution_count": 16,
      "outputs": [
        {
          "output_type": "stream",
          "text": [
            "Train on 60000 samples, validate on 10000 samples\n",
            "Epoch 1/10\n",
            "60000/60000 [==============================] - 11s 179us/sample - loss: 0.4050 - accuracy: 0.8554 - val_loss: 0.2988 - val_accuracy: 0.8870\n",
            "Epoch 2/10\n",
            "60000/60000 [==============================] - 9s 147us/sample - loss: 0.2540 - accuracy: 0.9072 - val_loss: 0.2642 - val_accuracy: 0.9046\n",
            "Epoch 3/10\n",
            "60000/60000 [==============================] - 9s 148us/sample - loss: 0.1892 - accuracy: 0.9291 - val_loss: 0.2560 - val_accuracy: 0.9103\n",
            "Epoch 4/10\n",
            "60000/60000 [==============================] - 9s 147us/sample - loss: 0.1451 - accuracy: 0.9462 - val_loss: 0.2779 - val_accuracy: 0.9131\n",
            "Epoch 5/10\n",
            "60000/60000 [==============================] - 9s 146us/sample - loss: 0.1114 - accuracy: 0.9579 - val_loss: 0.2999 - val_accuracy: 0.9124\n",
            "Epoch 6/10\n",
            "60000/60000 [==============================] - 9s 147us/sample - loss: 0.0871 - accuracy: 0.9674 - val_loss: 0.3190 - val_accuracy: 0.9147\n",
            "Epoch 7/10\n",
            "60000/60000 [==============================] - 9s 147us/sample - loss: 0.0689 - accuracy: 0.9739 - val_loss: 0.3323 - val_accuracy: 0.9180\n",
            "Epoch 8/10\n",
            "60000/60000 [==============================] - 9s 147us/sample - loss: 0.0603 - accuracy: 0.9780 - val_loss: 0.3388 - val_accuracy: 0.9151\n",
            "Epoch 9/10\n",
            "60000/60000 [==============================] - 9s 147us/sample - loss: 0.0512 - accuracy: 0.9812 - val_loss: 0.3843 - val_accuracy: 0.9174\n",
            "Epoch 10/10\n",
            "60000/60000 [==============================] - 9s 147us/sample - loss: 0.0431 - accuracy: 0.9848 - val_loss: 0.4519 - val_accuracy: 0.9144\n"
          ],
          "name": "stdout"
        },
        {
          "output_type": "execute_result",
          "data": {
            "text/plain": [
              "<tensorflow.python.keras.callbacks.History at 0x7f24a009df28>"
            ]
          },
          "metadata": {
            "tags": []
          },
          "execution_count": 16
        }
      ]
    },
    {
      "cell_type": "code",
      "metadata": {
        "id": "RvGTbOmENPQv",
        "colab_type": "code",
        "colab": {
          "base_uri": "https://localhost:8080/",
          "height": 391
        },
        "outputId": "d4ce911e-b27e-468a-fca4-69adacd2f10a"
      },
      "source": [
        "model.summary()"
      ],
      "execution_count": 17,
      "outputs": [
        {
          "output_type": "stream",
          "text": [
            "Model: \"sequential\"\n",
            "_________________________________________________________________\n",
            "Layer (type)                 Output Shape              Param #   \n",
            "=================================================================\n",
            "batch_normalization (BatchNo multiple                  4         \n",
            "_________________________________________________________________\n",
            "conv2d (Conv2D)              multiple                  320       \n",
            "_________________________________________________________________\n",
            "conv2d_1 (Conv2D)            multiple                  9248      \n",
            "_________________________________________________________________\n",
            "flatten (Flatten)            multiple                  0         \n",
            "_________________________________________________________________\n",
            "dense (Dense)                multiple                  2359424   \n",
            "_________________________________________________________________\n",
            "dropout (Dropout)            multiple                  0         \n",
            "_________________________________________________________________\n",
            "dense_1 (Dense)              multiple                  1290      \n",
            "=================================================================\n",
            "Total params: 2,370,286\n",
            "Trainable params: 2,370,284\n",
            "Non-trainable params: 2\n",
            "_________________________________________________________________\n"
          ],
          "name": "stdout"
        }
      ]
    },
    {
      "cell_type": "markdown",
      "metadata": {
        "colab_type": "text",
        "id": "ju69vKdIJjwX"
      },
      "source": [
        "###12. Now, to the above model add `max` pooling layer of `filter size 2x2` and `dropout` layer with `p=0.25` after the 2 conv layers and run the model"
      ]
    },
    {
      "cell_type": "code",
      "metadata": {
        "id": "4LtBEAeuNXhJ",
        "colab_type": "code",
        "colab": {}
      },
      "source": [
        "#Initialize Sequential model\n",
        "model2 = Sequential()\n",
        "\n",
        "#normalize data\n",
        "model2.add(BatchNormalization())\n",
        "\n",
        "#Add first convolutional layer\n",
        "model2.add(Conv2D(32, #Number of filters \n",
        "                                 kernel_size=(3,3), #Size of the filter\n",
        "                                 activation='relu'))\n",
        "\n",
        "#Add second convolutional layer\n",
        "model2.add(Conv2D(32, #Number of filters \n",
        "                                 kernel_size=(3,3), #Size of the filter\n",
        "                                 activation='relu'))\n",
        "\n",
        "#Add MaxPooling layer\n",
        "model2.add(MaxPool2D(pool_size=(2,2)))\n",
        "\n",
        "#Flatten the output\n",
        "model2.add(Flatten())\n",
        "\n",
        "#Dense layer\n",
        "model2.add(Dense(128, activation='relu'))\n",
        "\n",
        "#Add another dropout layer\n",
        "model2.add(Dropout(0.25))\n",
        "\n",
        "#Output layer\n",
        "model2.add(Dense(10, activation='softmax'))\n",
        "\n",
        "model2.compile(optimizer='adam', \n",
        "              loss='categorical_crossentropy', metrics=['accuracy'])"
      ],
      "execution_count": 0,
      "outputs": []
    },
    {
      "cell_type": "code",
      "metadata": {
        "id": "E4T2h14SEqqW",
        "colab_type": "code",
        "colab": {
          "base_uri": "https://localhost:8080/",
          "height": 391
        },
        "outputId": "966fa5a4-2de7-40bc-d5c2-152230f71cb7"
      },
      "source": [
        "#Train the model\n",
        "model2.fit(x_train_with_dims, tf.convert_to_tensor(y_train_tf),          \n",
        "          validation_data=(x_test_with_dims, tf.convert_to_tensor(y_test_tf)),\n",
        "          epochs=10,\n",
        "          batch_size=32)"
      ],
      "execution_count": 19,
      "outputs": [
        {
          "output_type": "stream",
          "text": [
            "Train on 60000 samples, validate on 10000 samples\n",
            "Epoch 1/10\n",
            "60000/60000 [==============================] - 9s 152us/sample - loss: 0.3850 - accuracy: 0.8623 - val_loss: 0.2777 - val_accuracy: 0.8962\n",
            "Epoch 2/10\n",
            "60000/60000 [==============================] - 9s 142us/sample - loss: 0.2463 - accuracy: 0.9103 - val_loss: 0.2392 - val_accuracy: 0.9100\n",
            "Epoch 3/10\n",
            "60000/60000 [==============================] - 9s 147us/sample - loss: 0.1995 - accuracy: 0.9270 - val_loss: 0.2318 - val_accuracy: 0.9167\n",
            "Epoch 4/10\n",
            "60000/60000 [==============================] - 9s 143us/sample - loss: 0.1659 - accuracy: 0.9385 - val_loss: 0.2233 - val_accuracy: 0.9206\n",
            "Epoch 5/10\n",
            "60000/60000 [==============================] - 8s 142us/sample - loss: 0.1423 - accuracy: 0.9475 - val_loss: 0.2362 - val_accuracy: 0.9215\n",
            "Epoch 6/10\n",
            "60000/60000 [==============================] - 9s 144us/sample - loss: 0.1189 - accuracy: 0.9559 - val_loss: 0.2575 - val_accuracy: 0.9224\n",
            "Epoch 7/10\n",
            "60000/60000 [==============================] - 9s 142us/sample - loss: 0.1028 - accuracy: 0.9614 - val_loss: 0.2710 - val_accuracy: 0.9216\n",
            "Epoch 8/10\n",
            "60000/60000 [==============================] - 8s 141us/sample - loss: 0.0899 - accuracy: 0.9666 - val_loss: 0.2737 - val_accuracy: 0.9263\n",
            "Epoch 9/10\n",
            "60000/60000 [==============================] - 8s 141us/sample - loss: 0.0794 - accuracy: 0.9706 - val_loss: 0.2999 - val_accuracy: 0.9186\n",
            "Epoch 10/10\n",
            "60000/60000 [==============================] - 9s 142us/sample - loss: 0.0679 - accuracy: 0.9748 - val_loss: 0.2941 - val_accuracy: 0.9239\n"
          ],
          "name": "stdout"
        },
        {
          "output_type": "execute_result",
          "data": {
            "text/plain": [
              "<tensorflow.python.keras.callbacks.History at 0x7f24843530b8>"
            ]
          },
          "metadata": {
            "tags": []
          },
          "execution_count": 19
        }
      ]
    },
    {
      "cell_type": "code",
      "metadata": {
        "id": "WxD9NERQEqtB",
        "colab_type": "code",
        "colab": {
          "base_uri": "https://localhost:8080/",
          "height": 425
        },
        "outputId": "c2c584fb-2dbf-4138-b79c-62e895636660"
      },
      "source": [
        "model2.summary()"
      ],
      "execution_count": 20,
      "outputs": [
        {
          "output_type": "stream",
          "text": [
            "Model: \"sequential_1\"\n",
            "_________________________________________________________________\n",
            "Layer (type)                 Output Shape              Param #   \n",
            "=================================================================\n",
            "batch_normalization_1 (Batch multiple                  4         \n",
            "_________________________________________________________________\n",
            "conv2d_2 (Conv2D)            multiple                  320       \n",
            "_________________________________________________________________\n",
            "conv2d_3 (Conv2D)            multiple                  9248      \n",
            "_________________________________________________________________\n",
            "max_pooling2d (MaxPooling2D) multiple                  0         \n",
            "_________________________________________________________________\n",
            "flatten_1 (Flatten)          multiple                  0         \n",
            "_________________________________________________________________\n",
            "dense_2 (Dense)              multiple                  589952    \n",
            "_________________________________________________________________\n",
            "dropout_1 (Dropout)          multiple                  0         \n",
            "_________________________________________________________________\n",
            "dense_3 (Dense)              multiple                  1290      \n",
            "=================================================================\n",
            "Total params: 600,814\n",
            "Trainable params: 600,812\n",
            "Non-trainable params: 2\n",
            "_________________________________________________________________\n"
          ],
          "name": "stdout"
        }
      ]
    },
    {
      "cell_type": "markdown",
      "metadata": {
        "colab_type": "text",
        "id": "MwQQW5iOJjwq"
      },
      "source": [
        "###13. Verify accuracy of the model\n",
        "\n",
        "> "
      ]
    },
    {
      "cell_type": "code",
      "metadata": {
        "colab_type": "code",
        "id": "L2hAP94vJjwY",
        "colab": {
          "base_uri": "https://localhost:8080/",
          "height": 68
        },
        "outputId": "e01903bf-7d70-4866-85b2-5fe013541f6d"
      },
      "source": [
        "model.evaluate(x_test_with_dims, tf.convert_to_tensor(y_test_tf))\n",
        "model2.evaluate(x_test_with_dims, tf.convert_to_tensor(y_test_tf))"
      ],
      "execution_count": 21,
      "outputs": [
        {
          "output_type": "stream",
          "text": [
            "10000/10000 [==============================] - 1s 92us/sample - loss: 0.4519 - accuracy: 0.9144\n",
            "10000/10000 [==============================] - 1s 93us/sample - loss: 0.2941 - accuracy: 0.9239\n"
          ],
          "name": "stdout"
        },
        {
          "output_type": "execute_result",
          "data": {
            "text/plain": [
              "[0.2941040391534567, 0.9239]"
            ]
          },
          "metadata": {
            "tags": []
          },
          "execution_count": 21
        }
      ]
    },
    {
      "cell_type": "markdown",
      "metadata": {
        "id": "qfjNBWhbZ2KM",
        "colab_type": "text"
      },
      "source": [
        "####14. Verify performance of your model selectively "
      ]
    },
    {
      "cell_type": "code",
      "metadata": {
        "id": "erPkStxJaHEO",
        "colab_type": "code",
        "colab": {}
      },
      "source": [
        "predictions = model2.predict(x_train_with_dims)\n",
        "\n",
        "def plot_image(i, predictions_array, true_label, img):\n",
        "  predictions_array, true_label, img = predictions_array, true_label[i], img[i]\n",
        "  plt.grid(False)\n",
        "  plt.xticks([])\n",
        "  plt.yticks([])\n",
        "\n",
        "  plt.imshow(img, cmap=plt.cm.binary)\n",
        "\n",
        "  predicted_label = np.argmax(predictions_array)\n",
        "\n",
        "  plt.xlabel(\"{} {:2.0f}% ({})\".format(class_names[predicted_label],\n",
        "                                100*np.max(predictions_array),\n",
        "                                class_names[true_label]),\n",
        "                                color='green')\n",
        "\n",
        "def plot_value_array(i, predictions_array, true_label):\n",
        "  predictions_array, true_label = predictions_array, true_label[i]\n",
        "  plt.grid(False)\n",
        "  plt.xticks(range(9), class_names, rotation=90)\n",
        "  plt.yticks([])\n",
        "  thisplot = plt.bar(range(10), predictions_array, color='blue')\n",
        "  plt.ylim([0, 1])\n",
        "  predicted_label = np.argmax(predictions_array)"
      ],
      "execution_count": 0,
      "outputs": []
    },
    {
      "cell_type": "code",
      "metadata": {
        "id": "cFPzCbnDaYAH",
        "colab_type": "code",
        "colab": {
          "base_uri": "https://localhost:8080/",
          "height": 296
        },
        "outputId": "3521bd9f-7e4e-4e59-df7a-562fcea5199f"
      },
      "source": [
        "#Replace value of i with other index to check other product\n",
        "i = 5\n",
        "plt.figure(figsize=(8,4))\n",
        "plt.subplot(1,2,1)\n",
        "plot_image(i, predictions[i], y_train, x_train)\n",
        "plt.subplot(1,2,2)\n",
        "plot_value_array(i, predictions[i],  y_train)\n",
        "plt.show()"
      ],
      "execution_count": 25,
      "outputs": [
        {
          "output_type": "display_data",
          "data": {
            "image/png": "[encoded data removed]",
            "text/plain": [
              "<Figure size 576x288 with 2 Axes>"
            ]
          },
          "metadata": {
            "tags": []
          }
        }
      ]
    },
    {
      "cell_type": "markdown",
      "metadata": {
        "colab_type": "text",
        "id": "lGTA3bfEJjwa"
      },
      "source": [
        "### Now, to the above model, lets add Data Augmentation "
      ]
    },
    {
      "cell_type": "markdown",
      "metadata": {
        "colab_type": "text",
        "id": "F6gX8n5SJjwb"
      },
      "source": [
        "###15. Import the ImageDataGenrator from keras and fit the training images"
      ]
    },
    {
      "cell_type": "code",
      "metadata": {
        "colab_type": "code",
        "id": "Cbz4uHBuJjwc",
        "colab": {}
      },
      "source": [
        "datagen = tf.keras.preprocessing.image.ImageDataGenerator(horizontal_flip=True)"
      ],
      "execution_count": 0,
      "outputs": []
    },
    {
      "cell_type": "code",
      "metadata": {
        "id": "N74ie-HBMPyg",
        "colab_type": "code",
        "colab": {}
      },
      "source": [
        "datagen.fit(x_train_with_dims)"
      ],
      "execution_count": 0,
      "outputs": []
    },
    {
      "cell_type": "code",
      "metadata": {
        "id": "eFpkUJWWMQBI",
        "colab_type": "code",
        "colab": {}
      },
      "source": [
        ""
      ],
      "execution_count": 0,
      "outputs": []
    },
    {
      "cell_type": "markdown",
      "metadata": {
        "colab_type": "text",
        "id": "pl-8dOo7Jjwf"
      },
      "source": [
        "####16. Showing 5 versions of the first image in training dataset using image datagenerator.flow()"
      ]
    },
    {
      "cell_type": "code",
      "metadata": {
        "colab_type": "code",
        "id": "DpI1_McYJjwg",
        "scrolled": true,
        "colab": {
          "base_uri": "https://localhost:8080/",
          "height": 89
        },
        "outputId": "3f4991de-01e7-49bb-84c2-e59e45f56b3e"
      },
      "source": [
        "from matplotlib import pyplot as plt\n",
        "gen = datagen.flow(x_train_with_dims[0:1], batch_size=1)\n",
        "for i in range(1, 6):\n",
        "    plt.subplot(1,5,i)\n",
        "    plt.axis(\"off\")\n",
        "    plt.imshow(gen.next().squeeze(), cmap='gray')\n",
        "    plt.plot()\n",
        "plt.show()"
      ],
      "execution_count": 29,
      "outputs": [
        {
          "output_type": "display_data",
          "data": {
            "image/png": "[encoded data removed]",
            "text/plain": [
              "<Figure size 432x288 with 5 Axes>"
            ]
          },
          "metadata": {
            "tags": []
          }
        }
      ]
    },
    {
      "cell_type": "code",
      "metadata": {
        "colab_type": "code",
        "id": "c1SrtBEPJjwq",
        "colab": {}
      },
      "source": [
        ""
      ],
      "execution_count": 0,
      "outputs": []
    },
    {
      "cell_type": "code",
      "metadata": {
        "colab_type": "code",
        "id": "ZBwVWNQC2qZD",
        "colab": {}
      },
      "source": [
        ""
      ],
      "execution_count": 0,
      "outputs": []
    }
  ]
}