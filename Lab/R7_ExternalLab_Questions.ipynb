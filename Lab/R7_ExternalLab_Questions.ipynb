{
  "nbformat": 4,
  "nbformat_minor": 0,
  "metadata": {
    "colab": {
      "name": "Updated_R7_ExternalLab_Questions.ipynb",
      "provenance": [],
      "collapsed_sections": []
    },
    "kernelspec": {
      "name": "python3",
      "display_name": "Python 3"
    },
    "accelerator": "GPU"
  },
  "cells": [
    {
      "cell_type": "markdown",
      "metadata": {
        "id": "4WH1Pr4KQlCh",
        "colab_type": "text"
      },
      "source": [
        "### Build a DNN using Keras with `RELU` and `ADAM`"
      ]
    },
    {
      "cell_type": "markdown",
      "metadata": {
        "id": "TbvI8LqlQlCl",
        "colab_type": "text"
      },
      "source": [
        "#### Load tensorflow"
      ]
    },
    {
      "cell_type": "code",
      "metadata": {
        "id": "SPW-a-qYQlCp",
        "colab_type": "code",
        "colab": {
          "base_uri": "https://localhost:8080/",
          "height": 34
        },
        "outputId": "86422e9f-60df-4f63-9dbf-a26390b6bbb3"
      },
      "source": [
        "%tensorflow_version 2.x\n",
        "import tensorflow as tf"
      ],
      "execution_count": 1,
      "outputs": [
        {
          "output_type": "stream",
          "text": [
            "TensorFlow 2.x selected.\n"
          ],
          "name": "stdout"
        }
      ]
    },
    {
      "cell_type": "code",
      "metadata": {
        "id": "gfjy9otV8ssL",
        "colab_type": "code",
        "colab": {}
      },
      "source": [
        "from tensorflow.keras.models import Sequential\n",
        "from tensorflow.keras.layers import BatchNormalization\n",
        "from tensorflow.keras.layers import Conv2D\n",
        "from tensorflow.keras.layers import Flatten\n",
        "from tensorflow.keras.layers import Dense\n",
        "from tensorflow.keras.layers import Dropout\n",
        "from tensorflow.keras.layers import Reshape\n",
        "from tensorflow.keras.layers import MaxPool2D\n",
        "\n",
        "import numpy as np\n",
        "import matplotlib.pyplot as plt\n",
        "%matplotlib inline"
      ],
      "execution_count": 0,
      "outputs": []
    },
    {
      "cell_type": "markdown",
      "metadata": {
        "id": "74cQBsi5QlCw",
        "colab_type": "text"
      },
      "source": [
        "#### Collect Fashion mnist data from tf.keras.datasets "
      ]
    },
    {
      "cell_type": "code",
      "metadata": {
        "id": "wVWy0oDTr2Kj",
        "colab_type": "code",
        "colab": {
          "base_uri": "https://localhost:8080/",
          "height": 34
        },
        "outputId": "d0177db1-30e3-494e-8d63-5ecdbc282fee"
      },
      "source": [
        "from keras.datasets import fashion_mnist\n",
        "(X_train, y_train), (X_test, y_test) = fashion_mnist.load_data()"
      ],
      "execution_count": 3,
      "outputs": [
        {
          "output_type": "stream",
          "text": [
            "Using TensorFlow backend.\n"
          ],
          "name": "stderr"
        }
      ]
    },
    {
      "cell_type": "markdown",
      "metadata": {
        "id": "no7aWYZyQlC1",
        "colab_type": "text"
      },
      "source": [
        "#### Change train and test labels into one-hot vectors"
      ]
    },
    {
      "cell_type": "code",
      "metadata": {
        "id": "UX6otc4wQlC2",
        "colab_type": "code",
        "colab": {}
      },
      "source": [
        "class_names = ['T-shirt', 'Trouser', 'Pullover', 'Dress', 'Coat', 'Sandal', 'Shirt', 'Sneaker', 'Bag', 'Ankle boot']"
      ],
      "execution_count": 0,
      "outputs": []
    },
    {
      "cell_type": "code",
      "metadata": {
        "id": "gNw4jH2e9Ccu",
        "colab_type": "code",
        "colab": {
          "base_uri": "https://localhost:8080/",
          "height": 51
        },
        "outputId": "787d121e-0203-45cc-ff28-78dbc7096350"
      },
      "source": [
        "print('Number of samples in training set: ', X_train.shape[0])\n",
        "print('Number of samples in test set: ', X_test.shape[0])"
      ],
      "execution_count": 5,
      "outputs": [
        {
          "output_type": "stream",
          "text": [
            "Number of samples in training set:  60000\n",
            "Number of samples in test set:  10000\n"
          ],
          "name": "stdout"
        }
      ]
    },
    {
      "cell_type": "code",
      "metadata": {
        "id": "r0kRQuyb9CU2",
        "colab_type": "code",
        "colab": {
          "base_uri": "https://localhost:8080/",
          "height": 51
        },
        "outputId": "f351615d-009e-4ff2-83ca-be57aaad5f73"
      },
      "source": [
        "\n",
        "print('Dimensions of samples in training set: ', X_train.shape[1:])\n",
        "print('Dimensions of samples in test set: ', X_test.shape[1:])"
      ],
      "execution_count": 6,
      "outputs": [
        {
          "output_type": "stream",
          "text": [
            "Dimensions of samples in training set:  (28, 28)\n",
            "Dimensions of samples in test set:  (28, 28)\n"
          ],
          "name": "stdout"
        }
      ]
    },
    {
      "cell_type": "code",
      "metadata": {
        "id": "-1DEDhlP9CRw",
        "colab_type": "code",
        "colab": {
          "base_uri": "https://localhost:8080/",
          "height": 139
        },
        "outputId": "f9b8bdf4-cedb-46b8-aec8-d70a20a43aca"
      },
      "source": [
        "\n",
        "plt.figure(figsize=(10,10))\n",
        "for i in range(5):\n",
        "    plt.subplot(5,5,i+1)\n",
        "    plt.xticks([])\n",
        "    plt.yticks([])\n",
        "    plt.grid(False)\n",
        "    plt.imshow(X_train[i], cmap='gray')\n",
        "    plt.xlabel(class_names[y_train[i]])\n",
        "plt.show()"
      ],
      "execution_count": 7,
      "outputs": [
        {
          "output_type": "display_data",
          "data": {
            "image/png": "[encoded data removed]",
            "text/plain": [
              "<Figure size 720x720 with 5 Axes>"
            ]
          },
          "metadata": {
            "tags": []
          }
        }
      ]
    },
    {
      "cell_type": "code",
      "metadata": {
        "id": "_YAyddJw9VSj",
        "colab_type": "code",
        "colab": {}
      },
      "source": [
        "y_train_tf = tf.keras.utils.to_categorical(y_train)\n",
        "y_test_tf = tf.keras.utils.to_categorical(y_test)"
      ],
      "execution_count": 0,
      "outputs": []
    },
    {
      "cell_type": "code",
      "metadata": {
        "id": "eFhaoG5S9X_C",
        "colab_type": "code",
        "colab": {
          "base_uri": "https://localhost:8080/",
          "height": 34
        },
        "outputId": "48c94796-fcee-42cd-e469-e354610fb39d"
      },
      "source": [
        "y_train_tf[2]"
      ],
      "execution_count": 9,
      "outputs": [
        {
          "output_type": "execute_result",
          "data": {
            "text/plain": [
              "array([1., 0., 0., 0., 0., 0., 0., 0., 0., 0.], dtype=float32)"
            ]
          },
          "metadata": {
            "tags": []
          },
          "execution_count": 9
        }
      ]
    },
    {
      "cell_type": "markdown",
      "metadata": {
        "id": "QjNrRTdoQlC5",
        "colab_type": "text"
      },
      "source": [
        "#### Build the Graph"
      ]
    },
    {
      "cell_type": "markdown",
      "metadata": {
        "id": "CDJ9DHVNQlC7",
        "colab_type": "text"
      },
      "source": [
        "#### Initialize model, reshape & normalize data"
      ]
    },
    {
      "cell_type": "markdown",
      "metadata": {
        "id": "kBGwTTilQlDD",
        "colab_type": "text"
      },
      "source": [
        "#### Add two fully connected layers with 200 and 100 neurons respectively with `relu` activations. Add a dropout layer with `p=0.25`"
      ]
    },
    {
      "cell_type": "markdown",
      "metadata": {
        "id": "5I8f5otcQlDJ",
        "colab_type": "text"
      },
      "source": [
        "### Add the output layer with a fully connected layer with 10 neurons with `softmax` activation. Use `categorical_crossentropy` loss and `adam` optimizer and train the network. And, report the final validation."
      ]
    },
    {
      "cell_type": "code",
      "metadata": {
        "id": "pCDQs_g1QlC8",
        "colab_type": "code",
        "colab": {}
      },
      "source": [
        "X_train_norm = (X_train/255)\n",
        "X_test_norm = (X_test/255)"
      ],
      "execution_count": 0,
      "outputs": []
    },
    {
      "cell_type": "code",
      "metadata": {
        "id": "5PBWqVCf9hn4",
        "colab_type": "code",
        "colab": {}
      },
      "source": [
        "#Clear out tensorflow memory\n",
        "tf.keras.backend.clear_session()"
      ],
      "execution_count": 0,
      "outputs": []
    },
    {
      "cell_type": "code",
      "metadata": {
        "id": "5-09t0ZL9hl8",
        "colab_type": "code",
        "colab": {}
      },
      "source": [
        "#  We can reshape using expand dims\n",
        "x_train_with_dims = tf.keras.backend.expand_dims(X_train_norm,axis=-1)\n",
        "x_test_with_dims = tf.keras.backend.expand_dims(X_test_norm,axis=-1)"
      ],
      "execution_count": 0,
      "outputs": []
    },
    {
      "cell_type": "code",
      "metadata": {
        "id": "IadvL9lM9heU",
        "colab_type": "code",
        "colab": {}
      },
      "source": [
        "#Initialize Sequential model\n",
        "model = Sequential()\n",
        "\n",
        "#normalize data\n",
        "model.add(BatchNormalization())\n",
        "\n",
        "#Add first convolutional layer\n",
        "model.add(Conv2D(32, #Number of filters \n",
        "                                 kernel_size=(3,3), #Size of the filter\n",
        "                                 activation='relu'))\n",
        "\n",
        "#Add second convolutional layer\n",
        "model.add(Conv2D(32, #Number of filters \n",
        "                                 kernel_size=(3,3), #Size of the filter\n",
        "                                 activation='relu'))\n",
        "\n",
        "#Add MaxPooling layer\n",
        "model.add(MaxPool2D(pool_size=(2,2)))\n",
        "\n",
        "#Flatten the output\n",
        "model.add(Flatten())\n",
        "\n",
        "#Dense layer\n",
        "model.add(Dense(200, activation='relu'))\n",
        "\n",
        "#Add another dropout layer\n",
        "model.add(Dropout(0.25))\n",
        "\n",
        "#Dense layer\n",
        "model.add(Dense(100, activation='relu'))\n",
        "\n",
        "#Add another dropout layer\n",
        "model.add(Dropout(0.25))\n",
        "\n",
        "#Output layer\n",
        "model.add(Dense(10, activation='softmax'))\n",
        "\n",
        "model.compile(optimizer='adam', \n",
        "              loss='categorical_crossentropy', metrics=['accuracy'])"
      ],
      "execution_count": 0,
      "outputs": []
    },
    {
      "cell_type": "code",
      "metadata": {
        "id": "IXbfpfOzQlDF",
        "colab_type": "code",
        "outputId": "44802029-fec4-41af-c885-a0d444a05ae2",
        "colab": {
          "base_uri": "https://localhost:8080/",
          "height": 391
        }
      },
      "source": [
        "model.fit(x_train_with_dims, tf.convert_to_tensor(y_train_tf),          \n",
        "          validation_data=(x_test_with_dims, tf.convert_to_tensor(y_test_tf)),\n",
        "          epochs=10,\n",
        "          batch_size=32)"
      ],
      "execution_count": 23,
      "outputs": [
        {
          "output_type": "stream",
          "text": [
            "Train on 60000 samples, validate on 10000 samples\n",
            "Epoch 1/10\n",
            "60000/60000 [==============================] - 8s 131us/sample - loss: 0.4295 - accuracy: 0.8467 - val_loss: 0.2967 - val_accuracy: 0.8885\n",
            "Epoch 2/10\n",
            "60000/60000 [==============================] - 7s 122us/sample - loss: 0.2721 - accuracy: 0.9024 - val_loss: 0.2551 - val_accuracy: 0.9078\n",
            "Epoch 3/10\n",
            "60000/60000 [==============================] - 7s 120us/sample - loss: 0.2171 - accuracy: 0.9212 - val_loss: 0.2385 - val_accuracy: 0.9150\n",
            "Epoch 4/10\n",
            "60000/60000 [==============================] - 7s 121us/sample - loss: 0.1825 - accuracy: 0.9323 - val_loss: 0.2339 - val_accuracy: 0.9161\n",
            "Epoch 5/10\n",
            "60000/60000 [==============================] - 7s 121us/sample - loss: 0.1527 - accuracy: 0.9443 - val_loss: 0.2452 - val_accuracy: 0.9186\n",
            "Epoch 6/10\n",
            "60000/60000 [==============================] - 7s 122us/sample - loss: 0.1319 - accuracy: 0.9504 - val_loss: 0.2428 - val_accuracy: 0.9238\n",
            "Epoch 7/10\n",
            "60000/60000 [==============================] - 7s 124us/sample - loss: 0.1149 - accuracy: 0.9580 - val_loss: 0.2660 - val_accuracy: 0.9240\n",
            "Epoch 8/10\n",
            "60000/60000 [==============================] - 7s 120us/sample - loss: 0.1005 - accuracy: 0.9626 - val_loss: 0.2924 - val_accuracy: 0.9209\n",
            "Epoch 9/10\n",
            "60000/60000 [==============================] - 7s 123us/sample - loss: 0.0863 - accuracy: 0.9681 - val_loss: 0.3260 - val_accuracy: 0.9240\n",
            "Epoch 10/10\n",
            "60000/60000 [==============================] - 7s 122us/sample - loss: 0.0788 - accuracy: 0.9718 - val_loss: 0.3069 - val_accuracy: 0.9233\n"
          ],
          "name": "stdout"
        },
        {
          "output_type": "execute_result",
          "data": {
            "text/plain": [
              "<tensorflow.python.keras.callbacks.History at 0x7f661275df98>"
            ]
          },
          "metadata": {
            "tags": []
          },
          "execution_count": 23
        }
      ]
    },
    {
      "cell_type": "code",
      "metadata": {
        "id": "VKGwF9FYKTdI",
        "colab_type": "code",
        "colab": {
          "base_uri": "https://localhost:8080/",
          "height": 493
        },
        "outputId": "370ebd18-0b28-4932-f484-becc2846a7e3"
      },
      "source": [
        "model.summary()"
      ],
      "execution_count": 24,
      "outputs": [
        {
          "output_type": "stream",
          "text": [
            "Model: \"sequential\"\n",
            "_________________________________________________________________\n",
            "Layer (type)                 Output Shape              Param #   \n",
            "=================================================================\n",
            "batch_normalization (BatchNo multiple                  4         \n",
            "_________________________________________________________________\n",
            "conv2d (Conv2D)              multiple                  320       \n",
            "_________________________________________________________________\n",
            "conv2d_1 (Conv2D)            multiple                  9248      \n",
            "_________________________________________________________________\n",
            "max_pooling2d (MaxPooling2D) multiple                  0         \n",
            "_________________________________________________________________\n",
            "flatten (Flatten)            multiple                  0         \n",
            "_________________________________________________________________\n",
            "dense (Dense)                multiple                  921800    \n",
            "_________________________________________________________________\n",
            "dropout (Dropout)            multiple                  0         \n",
            "_________________________________________________________________\n",
            "dense_1 (Dense)              multiple                  20100     \n",
            "_________________________________________________________________\n",
            "dropout_1 (Dropout)          multiple                  0         \n",
            "_________________________________________________________________\n",
            "dense_2 (Dense)              multiple                  1010      \n",
            "=================================================================\n",
            "Total params: 952,482\n",
            "Trainable params: 952,480\n",
            "Non-trainable params: 2\n",
            "_________________________________________________________________\n"
          ],
          "name": "stdout"
        }
      ]
    },
    {
      "cell_type": "code",
      "metadata": {
        "id": "JZkvKymSd0Sr",
        "colab_type": "code",
        "colab": {
          "base_uri": "https://localhost:8080/",
          "height": 51
        },
        "outputId": "5fdd88db-d1c1-4709-99c7-3a0c661049ef"
      },
      "source": [
        "model.evaluate(x_test_with_dims, tf.convert_to_tensor(y_test_tf))"
      ],
      "execution_count": 25,
      "outputs": [
        {
          "output_type": "stream",
          "text": [
            "10000/10000 [==============================] - 1s 75us/sample - loss: 0.3069 - accuracy: 0.9233\n"
          ],
          "name": "stdout"
        },
        {
          "output_type": "execute_result",
          "data": {
            "text/plain": [
              "[0.30689583716243507, 0.9233]"
            ]
          },
          "metadata": {
            "tags": []
          },
          "execution_count": 25
        }
      ]
    },
    {
      "cell_type": "code",
      "metadata": {
        "id": "RK5-IJlrD5_9",
        "colab_type": "code",
        "colab": {
          "base_uri": "https://localhost:8080/",
          "height": 340
        },
        "outputId": "dba7f965-806f-48fc-9bca-6a39ea9fd618"
      },
      "source": [
        "from sklearn.metrics import classification_report,confusion_matrix\n",
        "\n",
        "print(\"Please find the classification report as following: \\n\")\n",
        "print(classification_report(model.predict_classes(x_test_with_dims), y_test))\n",
        " "
      ],
      "execution_count": 26,
      "outputs": [
        {
          "output_type": "stream",
          "text": [
            "Please find the classification report as following: \n",
            "\n",
            "              precision    recall  f1-score   support\n",
            "\n",
            "           0       0.86      0.89      0.88       965\n",
            "           1       0.98      0.99      0.99       984\n",
            "           2       0.85      0.91      0.88       936\n",
            "           3       0.93      0.90      0.92      1030\n",
            "           4       0.91      0.87      0.89      1041\n",
            "           5       0.99      0.98      0.99      1004\n",
            "           6       0.80      0.77      0.79      1033\n",
            "           7       0.97      0.96      0.97      1014\n",
            "           8       0.99      0.98      0.98      1009\n",
            "           9       0.96      0.98      0.97       984\n",
            "\n",
            "    accuracy                           0.92     10000\n",
            "   macro avg       0.92      0.92      0.92     10000\n",
            "weighted avg       0.92      0.92      0.92     10000\n",
            "\n"
          ],
          "name": "stdout"
        }
      ]
    },
    {
      "cell_type": "code",
      "metadata": {
        "id": "o-7LXdW0HHlV",
        "colab_type": "code",
        "colab": {
          "base_uri": "https://localhost:8080/",
          "height": 221
        },
        "outputId": "070aa081-4e09-4d8a-9226-8b8bf0f49a1d"
      },
      "source": [
        "print(\"Please find the confusion matrix as following: \\n\")\n",
        "print(confusion_matrix(model.predict_classes(x_test_with_dims), y_test))   "
      ],
      "execution_count": 27,
      "outputs": [
        {
          "output_type": "stream",
          "text": [
            "Please find the confusion matrix as following: \n",
            "\n",
            "[[861   0  12  16   2   0  72   0   2   0]\n",
            " [  1 978   0   3   0   0   1   0   1   0]\n",
            " [ 21   0 848   7  21   0  37   0   1   1]\n",
            " [ 12  17   9 932  29   0  27   0   4   0]\n",
            " [  5   0  57  16 907   0  54   0   2   0]\n",
            " [  1   0   0   0   0 988   0   9   1   5]\n",
            " [ 93   2  72  26  41   0 798   0   1   0]\n",
            " [  0   0   0   0   0   9   0 972   1  32]\n",
            " [  6   3   2   0   0   0  11   0 987   0]\n",
            " [  0   0   0   0   0   3   0  19   0 962]]\n"
          ],
          "name": "stdout"
        }
      ]
    },
    {
      "cell_type": "code",
      "metadata": {
        "id": "Q7gQFQQxHO1U",
        "colab_type": "code",
        "colab": {
          "base_uri": "https://localhost:8080/",
          "height": 187
        },
        "outputId": "0288e114-a4d8-4c57-ca5a-6258cfda814c"
      },
      "source": [
        "for i in range(len(class_names)):\n",
        "    print(\"class {} represent {}\".format(i, class_names[i]))"
      ],
      "execution_count": 18,
      "outputs": [
        {
          "output_type": "stream",
          "text": [
            "class 0 represent T-shirt\n",
            "class 1 represent Trouser\n",
            "class 2 represent Pullover\n",
            "class 3 represent Dress\n",
            "class 4 represent Coat\n",
            "class 5 represent Sandal\n",
            "class 6 represent Shirt\n",
            "class 7 represent Sneaker\n",
            "class 8 represent Bag\n",
            "class 9 represent Ankle boot\n"
          ],
          "name": "stdout"
        }
      ]
    },
    {
      "cell_type": "markdown",
      "metadata": {
        "id": "4Fz2_daPFegT",
        "colab_type": "text"
      },
      "source": [
        "Following are the observation from the above assignment:\n",
        "- From the classification you can see the most of the classes have f1 score near to 1\n",
        "- For the classes Shirt, T-shirt and dress networ is making most of the mistakes.\n",
        "- need to have variation in the data for the above three class so that it can distinguish more preciesly\n",
        "- Data augmentation might help in this case to achieve the same.\n",
        "- From confusion matrix we can se most number wrong prediction comes from these cases for example, for the T-shirt it have predicted Dress almost for 93 images which is big error."
      ]
    },
    {
      "cell_type": "code",
      "metadata": {
        "id": "Oqudje6gFVsP",
        "colab_type": "code",
        "colab": {}
      },
      "source": [
        ""
      ],
      "execution_count": 0,
      "outputs": []
    },
    {
      "cell_type": "code",
      "metadata": {
        "id": "muWQox0HGT-m",
        "colab_type": "code",
        "colab": {}
      },
      "source": [
        ""
      ],
      "execution_count": 0,
      "outputs": []
    }
  ]
}