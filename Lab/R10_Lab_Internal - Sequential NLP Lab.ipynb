{
 "cells": [
  {
   "cell_type": "markdown",
   "metadata": {
    "colab_type": "text",
    "id": "vXE926qT0jHg"
   },
   "source": [
    "# Time series prediction using LSTM"
   ]
  },
  {
   "cell_type": "markdown",
   "metadata": {
    "colab_type": "text",
    "id": "54u8ql4Z4kBE"
   },
   "source": [
    "## Dataset\n",
    "- Daily minimum temperatures in Melbourne, Australia, 1981-1990\n",
    "- Units: Degrees Celcius"
   ]
  },
  {
   "cell_type": "markdown",
   "metadata": {
    "colab_type": "text",
    "id": "IPkYyOzY77yl"
   },
   "source": [
    "## Question 1"
   ]
  },
  {
   "cell_type": "markdown",
   "metadata": {
    "colab_type": "text",
    "id": "aXEOY69f8B9d"
   },
   "source": [
    "### Load the data\n",
    "- load daily-minimum-temperatures-in-me.csv"
   ]
  },
  {
   "cell_type": "code",
   "execution_count": 2,
   "metadata": {},
   "outputs": [],
   "source": [
    "import pandas as pd\n",
    "from sklearn.preprocessing import MinMaxScaler\n",
    "from tensorflow.keras.layers import Dense, LSTM\n",
    "from tensorflow.keras.models import Sequential"
   ]
  },
  {
   "cell_type": "code",
   "execution_count": 3,
   "metadata": {
    "colab": {},
    "colab_type": "code",
    "id": "1Yvcuhqz0m23"
   },
   "outputs": [],
   "source": [
    "daily_min_temp_df = pd.read_csv('./daily-minimum-temperatures-in-me.csv')"
   ]
  },
  {
   "cell_type": "code",
   "execution_count": 4,
   "metadata": {
    "colab": {},
    "colab_type": "code",
    "id": "LA7R2II8-Jxh"
   },
   "outputs": [
    {
     "data": {
      "text/plain": [
       "(3650, 2)"
      ]
     },
     "execution_count": 4,
     "metadata": {},
     "output_type": "execute_result"
    }
   ],
   "source": [
    "daily_min_temp_df.shape"
   ]
  },
  {
   "cell_type": "markdown",
   "metadata": {
    "colab_type": "text",
    "id": "pWcMgg69-T6k"
   },
   "source": [
    "### Print the data\n",
    "- First 5 rows only"
   ]
  },
  {
   "cell_type": "code",
   "execution_count": 5,
   "metadata": {
    "colab": {},
    "colab_type": "code",
    "id": "SM828gT_-Ra2"
   },
   "outputs": [
    {
     "data": {
      "text/html": [
       "<div>\n",
       "<style scoped>\n",
       "    .dataframe tbody tr th:only-of-type {\n",
       "        vertical-align: middle;\n",
       "    }\n",
       "\n",
       "    .dataframe tbody tr th {\n",
       "        vertical-align: top;\n",
       "    }\n",
       "\n",
       "    .dataframe thead th {\n",
       "        text-align: right;\n",
       "    }\n",
       "</style>\n",
       "<table border=\"1\" class=\"dataframe\">\n",
       "  <thead>\n",
       "    <tr style=\"text-align: right;\">\n",
       "      <th></th>\n",
       "      <th>Date</th>\n",
       "      <th>Temperature</th>\n",
       "    </tr>\n",
       "  </thead>\n",
       "  <tbody>\n",
       "    <tr>\n",
       "      <th>0</th>\n",
       "      <td>1981-01-01</td>\n",
       "      <td>20.7</td>\n",
       "    </tr>\n",
       "    <tr>\n",
       "      <th>1</th>\n",
       "      <td>1981-01-02</td>\n",
       "      <td>17.9</td>\n",
       "    </tr>\n",
       "    <tr>\n",
       "      <th>2</th>\n",
       "      <td>1981-01-03</td>\n",
       "      <td>18.8</td>\n",
       "    </tr>\n",
       "    <tr>\n",
       "      <th>3</th>\n",
       "      <td>1981-01-04</td>\n",
       "      <td>14.6</td>\n",
       "    </tr>\n",
       "    <tr>\n",
       "      <th>4</th>\n",
       "      <td>1981-01-05</td>\n",
       "      <td>15.8</td>\n",
       "    </tr>\n",
       "  </tbody>\n",
       "</table>\n",
       "</div>"
      ],
      "text/plain": [
       "         Date  Temperature\n",
       "0  1981-01-01         20.7\n",
       "1  1981-01-02         17.9\n",
       "2  1981-01-03         18.8\n",
       "3  1981-01-04         14.6\n",
       "4  1981-01-05         15.8"
      ]
     },
     "execution_count": 5,
     "metadata": {},
     "output_type": "execute_result"
    }
   ],
   "source": [
    "daily_min_temp_df.head()"
   ]
  },
  {
   "cell_type": "markdown",
   "metadata": {
    "colab_type": "text",
    "id": "JGnWESz9BKx8"
   },
   "source": [
    "### Set index column\n",
    "- Set the DataFrame index using \"Date\" column"
   ]
  },
  {
   "cell_type": "code",
   "execution_count": 6,
   "metadata": {
    "colab": {},
    "colab_type": "code",
    "id": "nFrbd_vd-eZP"
   },
   "outputs": [],
   "source": [
    "daily_min_temp_df.set_index('Date', inplace=True)"
   ]
  },
  {
   "cell_type": "markdown",
   "metadata": {
    "colab_type": "text",
    "id": "sS7IVXq7B1P1"
   },
   "source": [
    "## Question 2"
   ]
  },
  {
   "cell_type": "markdown",
   "metadata": {
    "colab_type": "text",
    "id": "PcgAOybZCc5-"
   },
   "source": [
    "### Check the total count of null values in the data"
   ]
  },
  {
   "cell_type": "code",
   "execution_count": 7,
   "metadata": {
    "colab": {},
    "colab_type": "code",
    "id": "UTMe5jdCCj4k"
   },
   "outputs": [
    {
     "data": {
      "text/plain": [
       "Temperature    0\n",
       "dtype: int64"
      ]
     },
     "execution_count": 7,
     "metadata": {},
     "output_type": "execute_result"
    }
   ],
   "source": [
    "daily_min_temp_df.isnull().sum()"
   ]
  },
  {
   "cell_type": "markdown",
   "metadata": {
    "colab_type": "text",
    "id": "Ua-AeW2YC3kY"
   },
   "source": [
    "### Drop all the rows with null values\n",
    "- use dropna() method"
   ]
  },
  {
   "cell_type": "code",
   "execution_count": 8,
   "metadata": {
    "colab": {},
    "colab_type": "code",
    "id": "9l9UeA6YC8RV"
   },
   "outputs": [
    {
     "data": {
      "text/plain": [
       "(3650, 1)"
      ]
     },
     "execution_count": 8,
     "metadata": {},
     "output_type": "execute_result"
    }
   ],
   "source": [
    "daily_min_temp_df.dropna(inplace=True)\n",
    "daily_min_temp_df.shape"
   ]
  },
  {
   "cell_type": "markdown",
   "metadata": {
    "colab_type": "text",
    "id": "SJam5Ho-DHK7"
   },
   "source": [
    "## Question 3"
   ]
  },
  {
   "cell_type": "markdown",
   "metadata": {
    "colab_type": "text",
    "id": "3esUPJAMDzCJ"
   },
   "source": [
    "### Describe your dataframe\n",
    "- use describe() method"
   ]
  },
  {
   "cell_type": "code",
   "execution_count": 9,
   "metadata": {
    "colab": {},
    "colab_type": "code",
    "id": "uhH8OwGVELyH"
   },
   "outputs": [
    {
     "data": {
      "text/html": [
       "<div>\n",
       "<style scoped>\n",
       "    .dataframe tbody tr th:only-of-type {\n",
       "        vertical-align: middle;\n",
       "    }\n",
       "\n",
       "    .dataframe tbody tr th {\n",
       "        vertical-align: top;\n",
       "    }\n",
       "\n",
       "    .dataframe thead th {\n",
       "        text-align: right;\n",
       "    }\n",
       "</style>\n",
       "<table border=\"1\" class=\"dataframe\">\n",
       "  <thead>\n",
       "    <tr style=\"text-align: right;\">\n",
       "      <th></th>\n",
       "      <th>count</th>\n",
       "      <th>mean</th>\n",
       "      <th>std</th>\n",
       "      <th>min</th>\n",
       "      <th>25%</th>\n",
       "      <th>50%</th>\n",
       "      <th>75%</th>\n",
       "      <th>max</th>\n",
       "    </tr>\n",
       "  </thead>\n",
       "  <tbody>\n",
       "    <tr>\n",
       "      <th>Temperature</th>\n",
       "      <td>3650.0</td>\n",
       "      <td>11.177753</td>\n",
       "      <td>4.071837</td>\n",
       "      <td>0.0</td>\n",
       "      <td>8.3</td>\n",
       "      <td>11.0</td>\n",
       "      <td>14.0</td>\n",
       "      <td>26.3</td>\n",
       "    </tr>\n",
       "  </tbody>\n",
       "</table>\n",
       "</div>"
      ],
      "text/plain": [
       "              count       mean       std  min  25%   50%   75%   max\n",
       "Temperature  3650.0  11.177753  4.071837  0.0  8.3  11.0  14.0  26.3"
      ]
     },
     "execution_count": 9,
     "metadata": {},
     "output_type": "execute_result"
    }
   ],
   "source": [
    "daily_min_temp_df.describe().T"
   ]
  },
  {
   "cell_type": "markdown",
   "metadata": {
    "colab_type": "text",
    "id": "bizrToFMB4ix"
   },
   "source": [
    "### Plot the dataframe\n",
    "- use plot() method"
   ]
  },
  {
   "cell_type": "code",
   "execution_count": 10,
   "metadata": {
    "colab": {},
    "colab_type": "code",
    "id": "rNiXK6YZB30N"
   },
   "outputs": [
    {
     "data": {
      "image/png": "[encoded data removed]",
      "text/plain": [
       "<Figure size 1800x720 with 1 Axes>"
      ]
     },
     "metadata": {
      "needs_background": "light"
     },
     "output_type": "display_data"
    }
   ],
   "source": [
    "daily_min_temp_df.plot(figsize=(25,10));"
   ]
  },
  {
   "cell_type": "markdown",
   "metadata": {
    "colab_type": "text",
    "id": "OtI9ZGJqE1lh"
   },
   "source": [
    "### Get representation of the distribution of data using histogram\n",
    "- use hist() method"
   ]
  },
  {
   "cell_type": "code",
   "execution_count": 11,
   "metadata": {
    "colab": {},
    "colab_type": "code",
    "id": "qan611HdE9nR"
   },
   "outputs": [
    {
     "data": {
      "text/plain": [
       "array([[<matplotlib.axes._subplots.AxesSubplot object at 0x000001BA306BAB00>]],\n",
       "      dtype=object)"
      ]
     },
     "execution_count": 11,
     "metadata": {},
     "output_type": "execute_result"
    },
    {
     "data": {
      "image/png": "[encoded data removed]",
      "text/plain": [
       "<Figure size 1800x720 with 1 Axes>"
      ]
     },
     "metadata": {
      "needs_background": "light"
     },
     "output_type": "display_data"
    }
   ],
   "source": [
    "daily_min_temp_df.hist(figsize=(25,10))"
   ]
  },
  {
   "cell_type": "markdown",
   "metadata": {
    "colab_type": "text",
    "id": "D8VDVRisHAsH"
   },
   "source": [
    "### Check minimum and maximum temperature\n",
    "- use min() and max() methods"
   ]
  },
  {
   "cell_type": "code",
   "execution_count": 12,
   "metadata": {
    "colab": {},
    "colab_type": "code",
    "id": "xlwlVtRfG_qX"
   },
   "outputs": [
    {
     "data": {
      "text/plain": [
       "Temperature    0.0\n",
       "dtype: float64"
      ]
     },
     "execution_count": 12,
     "metadata": {},
     "output_type": "execute_result"
    }
   ],
   "source": [
    "daily_min_temp_df.min()"
   ]
  },
  {
   "cell_type": "code",
   "execution_count": 13,
   "metadata": {
    "colab": {},
    "colab_type": "code",
    "id": "abO5iWWAFFCJ"
   },
   "outputs": [
    {
     "data": {
      "text/plain": [
       "Temperature    26.3\n",
       "dtype: float64"
      ]
     },
     "execution_count": 13,
     "metadata": {},
     "output_type": "execute_result"
    }
   ],
   "source": [
    "daily_min_temp_df.max()"
   ]
  },
  {
   "cell_type": "markdown",
   "metadata": {
    "colab_type": "text",
    "id": "qTjD3zhSI_BD"
   },
   "source": [
    "## Question 4"
   ]
  },
  {
   "cell_type": "markdown",
   "metadata": {
    "colab_type": "text",
    "id": "QSDmmRxBMOO7"
   },
   "source": [
    "### Split the dataset into training and testing\n",
    "- training data: 75%\n",
    "- testing data: 25%"
   ]
  },
  {
   "cell_type": "code",
   "execution_count": 14,
   "metadata": {
    "colab": {},
    "colab_type": "code",
    "id": "dbrspzBVM6Gg"
   },
   "outputs": [],
   "source": [
    "train = daily_min_temp_df[0:int(len(daily_min_temp_df)*0.75)] \n",
    "test = daily_min_temp_df[int(len(daily_min_temp_df)*0.75):]"
   ]
  },
  {
   "cell_type": "markdown",
   "metadata": {
    "colab_type": "text",
    "id": "eEgBn5JkKwrZ"
   },
   "source": [
    "### Normalize the data\n",
    "- normalize temperature values using MinMaxScaler\n",
    "- feature_range: 0-1\n",
    "- fit MinMaxScaler on train data and transform it\n",
    "  - use fit_transform() method\n",
    "- transform test data using MinMaxScaler object\n",
    "  - use transform() method"
   ]
  },
  {
   "cell_type": "code",
   "execution_count": 15,
   "metadata": {
    "colab": {},
    "colab_type": "code",
    "id": "OqDcm7tbI19Z"
   },
   "outputs": [],
   "source": [
    "mms = MinMaxScaler(feature_range=(0,1))"
   ]
  },
  {
   "cell_type": "code",
   "execution_count": 16,
   "metadata": {},
   "outputs": [],
   "source": [
    "train = mms.fit_transform(train)"
   ]
  },
  {
   "cell_type": "code",
   "execution_count": 17,
   "metadata": {},
   "outputs": [],
   "source": [
    "test = mms.transform(test)"
   ]
  },
  {
   "cell_type": "markdown",
   "metadata": {
    "colab_type": "text",
    "id": "4HjbO8gRQ3M1"
   },
   "source": [
    "### Print scaled train and test data\n",
    "- print only first 5 values"
   ]
  },
  {
   "cell_type": "code",
   "execution_count": 18,
   "metadata": {
    "colab": {},
    "colab_type": "code",
    "id": "U_WDZwKxRBRx"
   },
   "outputs": [
    {
     "data": {
      "text/plain": [
       "array([[0.78707224],\n",
       "       [0.68060837],\n",
       "       [0.7148289 ],\n",
       "       [0.55513308],\n",
       "       [0.60076046]])"
      ]
     },
     "execution_count": 18,
     "metadata": {},
     "output_type": "execute_result"
    }
   ],
   "source": [
    "train[0:5]"
   ]
  },
  {
   "cell_type": "code",
   "execution_count": 19,
   "metadata": {
    "colab": {},
    "colab_type": "code",
    "id": "vYlwALHrRGcX"
   },
   "outputs": [
    {
     "data": {
      "text/plain": [
       "array([[0.22813688],\n",
       "       [0.22053232],\n",
       "       [0.18631179],\n",
       "       [0.19011407],\n",
       "       [0.31939163]])"
      ]
     },
     "execution_count": 19,
     "metadata": {},
     "output_type": "execute_result"
    }
   ],
   "source": [
    "test[0:5]"
   ]
  },
  {
   "cell_type": "markdown",
   "metadata": {
    "colab_type": "text",
    "id": "JB5lHp94RQWY"
   },
   "source": [
    "## Question 5"
   ]
  },
  {
   "cell_type": "markdown",
   "metadata": {
    "colab_type": "text",
    "id": "kVqNUf00RSiv"
   },
   "source": [
    "### Create sequential data\n",
    "Map the temperature at a particular day 'd' to the temperature at day t\n",
    "'d+n', where n is any number you define.\n",
    "\n",
    "For example: to map temperatures of consecutive days, use d+1, i.e. lookback = 1\n",
    "- Below function takes data as input and returns sequential data.\n",
    "- X as features and y as labels"
   ]
  },
  {
   "cell_type": "code",
   "execution_count": 20,
   "metadata": {
    "colab": {},
    "colab_type": "code",
    "id": "AtxhXruAWws-"
   },
   "outputs": [],
   "source": [
    "import numpy as np\n",
    "def create_seq_data(data, lookback=1):\n",
    "  X, y = list(), list()\n",
    "  \n",
    "  for day in range((len(data)-lookback)):\n",
    "    X.append(data[day: day+lookback, 0])\n",
    "    y.append(data[day+lookback, 0])\n",
    "  return np.array(X), np.array(y)"
   ]
  },
  {
   "cell_type": "markdown",
   "metadata": {
    "colab_type": "text",
    "id": "VMBJpuDQJzcG"
   },
   "source": [
    "### Use the above function to create train and test sets\n",
    "- Get X_train and y_train\n",
    "- Get X_test and y_test\n",
    "- lookback = 1"
   ]
  },
  {
   "cell_type": "code",
   "execution_count": 21,
   "metadata": {
    "colab": {},
    "colab_type": "code",
    "id": "Uq6GGmJ0Zqem"
   },
   "outputs": [],
   "source": [
    "x_train, y_train = create_seq_data(train)\n",
    "x_test, y_test = create_seq_data(test)"
   ]
  },
  {
   "cell_type": "markdown",
   "metadata": {
    "colab_type": "text",
    "id": "-E2iixEfK0Px"
   },
   "source": [
    "### Reshape the data\n",
    "- Reshape X_train and X_test\n",
    "- use np.reshape() method\n",
    "- this is to be done to make the data ready for input in model"
   ]
  },
  {
   "cell_type": "code",
   "execution_count": 22,
   "metadata": {},
   "outputs": [
    {
     "name": "stdout",
     "output_type": "stream",
     "text": [
      "shape of x_train, y_train =  (2736, 1) (2736,)\n",
      "shape of x_test, y_test =  (912, 1) (912,)\n"
     ]
    }
   ],
   "source": [
    "print(\"shape of x_train, y_train = \", x_train.shape, y_train.shape)\n",
    "print(\"shape of x_test, y_test = \", x_test.shape, y_test.shape)"
   ]
  },
  {
   "cell_type": "code",
   "execution_count": 23,
   "metadata": {
    "colab": {},
    "colab_type": "code",
    "id": "X3qhXEqoZxQ3"
   },
   "outputs": [],
   "source": [
    "x_train = np.reshape(x_train, (x_train.shape[0], x_train.shape[1], 1))\n",
    "x_test = np.reshape(x_test, (x_test.shape[0], x_test.shape[1], 1))"
   ]
  },
  {
   "cell_type": "markdown",
   "metadata": {
    "colab_type": "text",
    "id": "zKZ8SALZcuNB"
   },
   "source": [
    "### Print shape of data\n",
    "- print shape of X_train and X_test"
   ]
  },
  {
   "cell_type": "code",
   "execution_count": 24,
   "metadata": {
    "colab": {},
    "colab_type": "code",
    "id": "OSg_rbP6c_HI"
   },
   "outputs": [
    {
     "name": "stdout",
     "output_type": "stream",
     "text": [
      "shape of x_train, y_train =  (2736, 1, 1) (2736,)\n",
      "shape of x_test, y_test =  (912, 1, 1) (912,)\n"
     ]
    }
   ],
   "source": [
    "print(\"shape of x_train, y_train = \", x_train.shape, y_train.shape)\n",
    "print(\"shape of x_test, y_test = \", x_test.shape, y_test.shape)"
   ]
  },
  {
   "cell_type": "markdown",
   "metadata": {
    "colab_type": "text",
    "id": "emGjaYZ5dfRq"
   },
   "source": [
    "## Question 6"
   ]
  },
  {
   "cell_type": "markdown",
   "metadata": {
    "colab_type": "text",
    "id": "7fk2Ze24dsXw"
   },
   "source": [
    "### Define sequential model\n",
    "- initialize a Sequential model\n",
    "- add an LSTM layer\n",
    "  - units: 10\n",
    "  - stateful: True\n",
    "  - pass a `batch_input_shape` argument to your layer\n",
    "  - batch_input_shape: (batch_size, look_back, 1)\n",
    "    - batch_size: 1\n",
    "    - look_back: 1\n",
    "- add Dense layer with 1 neuron"
   ]
  },
  {
   "cell_type": "code",
   "execution_count": 25,
   "metadata": {
    "colab": {},
    "colab_type": "code",
    "id": "eXU6UNt4dhJz"
   },
   "outputs": [],
   "source": [
    "model = Sequential()\n",
    "model.add(LSTM(units=10, stateful=True, batch_input_shape=(1,1,1)))\n",
    "model.add(Dense(1))"
   ]
  },
  {
   "cell_type": "markdown",
   "metadata": {
    "colab_type": "text",
    "id": "cLymvPFzEQSp"
   },
   "source": [
    "## Question 7"
   ]
  },
  {
   "cell_type": "markdown",
   "metadata": {
    "colab_type": "text",
    "id": "AZmlvbcMrCTh"
   },
   "source": [
    "### compile your model\n",
    "- loss: mean_squared_error\n",
    "- optimizer: adam"
   ]
  },
  {
   "cell_type": "code",
   "execution_count": 26,
   "metadata": {
    "colab": {},
    "colab_type": "code",
    "id": "TrcHrSdtg62Q"
   },
   "outputs": [],
   "source": [
    "model.compile(loss='mean_squared_error', optimizer='adam')"
   ]
  },
  {
   "cell_type": "markdown",
   "metadata": {
    "colab_type": "text",
    "id": "WWAoHdFurJN5"
   },
   "source": [
    "### summarize your model\n",
    "- use summary() method"
   ]
  },
  {
   "cell_type": "code",
   "execution_count": 27,
   "metadata": {
    "colab": {},
    "colab_type": "code",
    "id": "UlIaCMtBrPU2"
   },
   "outputs": [
    {
     "name": "stdout",
     "output_type": "stream",
     "text": [
      "Model: \"sequential\"\n",
      "_________________________________________________________________\n",
      "Layer (type)                 Output Shape              Param #   \n",
      "=================================================================\n",
      "lstm (LSTM)                  (1, 10)                   480       \n",
      "_________________________________________________________________\n",
      "dense (Dense)                (1, 1)                    11        \n",
      "=================================================================\n",
      "Total params: 491\n",
      "Trainable params: 491\n",
      "Non-trainable params: 0\n",
      "_________________________________________________________________\n"
     ]
    }
   ],
   "source": [
    "model.summary()"
   ]
  },
  {
   "cell_type": "markdown",
   "metadata": {
    "colab_type": "text",
    "id": "dq5a3i6uEcJI"
   },
   "source": [
    "## Question 8"
   ]
  },
  {
   "cell_type": "markdown",
   "metadata": {
    "colab_type": "text",
    "id": "0Ca3CFhOrf83"
   },
   "source": [
    "### fit your model\n",
    "- epochs: 50\n",
    "- batch_size: 1"
   ]
  },
  {
   "cell_type": "code",
   "execution_count": 28,
   "metadata": {
    "colab": {},
    "colab_type": "code",
    "id": "BbuB-XGPhH6h"
   },
   "outputs": [
    {
     "name": "stdout",
     "output_type": "stream",
     "text": [
      "Train on 2736 samples\n",
      "Epoch 1/50\n",
      "2736/2736 [==============================] - 9s 3ms/sample - loss: 0.0125\n",
      "Epoch 2/50\n",
      "2736/2736 [==============================] - 7s 2ms/sample - loss: 0.0103\n",
      "Epoch 3/50\n",
      "2736/2736 [==============================] - 7s 2ms/sample - loss: 0.0103\n",
      "Epoch 4/50\n",
      "2736/2736 [==============================] - 7s 2ms/sample - loss: 0.0101\n",
      "Epoch 5/50\n",
      "2736/2736 [==============================] - 6s 2ms/sample - loss: 0.0101\n",
      "Epoch 6/50\n",
      "2736/2736 [==============================] - 7s 2ms/sample - loss: 0.0101\n",
      "Epoch 7/50\n",
      "2736/2736 [==============================] - 7s 2ms/sample - loss: 0.0101\n",
      "Epoch 8/50\n",
      "2736/2736 [==============================] - 7s 2ms/sample - loss: 0.0100\n",
      "Epoch 9/50\n",
      "2736/2736 [==============================] - 6s 2ms/sample - loss: 0.0101\n",
      "Epoch 10/50\n",
      "2736/2736 [==============================] - 6s 2ms/sample - loss: 0.0100\n",
      "Epoch 11/50\n",
      "2736/2736 [==============================] - 6s 2ms/sample - loss: 0.0100\n",
      "Epoch 12/50\n",
      "2736/2736 [==============================] - 7s 2ms/sample - loss: 0.0100\n",
      "Epoch 13/50\n",
      "2736/2736 [==============================] - 7s 2ms/sample - loss: 0.0099\n",
      "Epoch 14/50\n",
      "2736/2736 [==============================] - 6s 2ms/sample - loss: 0.0099\n",
      "Epoch 15/50\n",
      "2736/2736 [==============================] - 6s 2ms/sample - loss: 0.0100\n",
      "Epoch 16/50\n",
      "2736/2736 [==============================] - 7s 2ms/sample - loss: 0.0099\n",
      "Epoch 17/50\n",
      "2736/2736 [==============================] - 7s 2ms/sample - loss: 0.0100\n",
      "Epoch 18/50\n",
      "2736/2736 [==============================] - 6s 2ms/sample - loss: 0.0099\n",
      "Epoch 19/50\n",
      "2736/2736 [==============================] - 6s 2ms/sample - loss: 0.0100\n",
      "Epoch 20/50\n",
      "2736/2736 [==============================] - 6s 2ms/sample - loss: 0.0100\n",
      "Epoch 21/50\n",
      "2736/2736 [==============================] - 6s 2ms/sample - loss: 0.0100\n",
      "Epoch 22/50\n",
      "2736/2736 [==============================] - 6s 2ms/sample - loss: 0.0100\n",
      "Epoch 23/50\n",
      "2736/2736 [==============================] - 6s 2ms/sample - loss: 0.0100\n",
      "Epoch 24/50\n",
      "2736/2736 [==============================] - 6s 2ms/sample - loss: 0.0100\n",
      "Epoch 25/50\n",
      "2736/2736 [==============================] - 6s 2ms/sample - loss: 0.0099\n",
      "Epoch 26/50\n",
      "2736/2736 [==============================] - 6s 2ms/sample - loss: 0.0100\n",
      "Epoch 27/50\n",
      "2736/2736 [==============================] - 6s 2ms/sample - loss: 0.0099\n",
      "Epoch 28/50\n",
      "2736/2736 [==============================] - 6s 2ms/sample - loss: 0.0100\n",
      "Epoch 29/50\n",
      "2736/2736 [==============================] - 6s 2ms/sample - loss: 0.0100\n",
      "Epoch 30/50\n",
      "2736/2736 [==============================] - 6s 2ms/sample - loss: 0.0099\n",
      "Epoch 31/50\n",
      "2736/2736 [==============================] - 6s 2ms/sample - loss: 0.0099\n",
      "Epoch 32/50\n",
      "2736/2736 [==============================] - 6s 2ms/sample - loss: 0.0100\n",
      "Epoch 33/50\n",
      "2736/2736 [==============================] - 6s 2ms/sample - loss: 0.0099\n",
      "Epoch 34/50\n",
      "2736/2736 [==============================] - 6s 2ms/sample - loss: 0.0099\n",
      "Epoch 35/50\n",
      "2736/2736 [==============================] - 6s 2ms/sample - loss: 0.0099\n",
      "Epoch 36/50\n",
      "2736/2736 [==============================] - 6s 2ms/sample - loss: 0.0100\n",
      "Epoch 37/50\n",
      "2736/2736 [==============================] - 6s 2ms/sample - loss: 0.0099\n",
      "Epoch 38/50\n",
      "2736/2736 [==============================] - 6s 2ms/sample - loss: 0.0099\n",
      "Epoch 39/50\n",
      "2736/2736 [==============================] - 6s 2ms/sample - loss: 0.0099\n",
      "Epoch 40/50\n",
      "2736/2736 [==============================] - 6s 2ms/sample - loss: 0.0100\n",
      "Epoch 41/50\n",
      "2736/2736 [==============================] - 6s 2ms/sample - loss: 0.0099\n",
      "Epoch 42/50\n",
      "2736/2736 [==============================] - 7s 2ms/sample - loss: 0.0100\n",
      "Epoch 43/50\n",
      "2736/2736 [==============================] - 7s 2ms/sample - loss: 0.0099\n",
      "Epoch 44/50\n",
      "2736/2736 [==============================] - 6s 2ms/sample - loss: 0.0099\n",
      "Epoch 45/50\n",
      "2736/2736 [==============================] - 6s 2ms/sample - loss: 0.0100\n",
      "Epoch 46/50\n",
      "2736/2736 [==============================] - 6s 2ms/sample - loss: 0.0099\n",
      "Epoch 47/50\n",
      "2736/2736 [==============================] - 6s 2ms/sample - loss: 0.0099\n",
      "Epoch 48/50\n",
      "2736/2736 [==============================] - 7s 2ms/sample - loss: 0.0100\n",
      "Epoch 49/50\n",
      "2736/2736 [==============================] - 6s 2ms/sample - loss: 0.0099\n",
      "Epoch 50/50\n",
      "2736/2736 [==============================] - 6s 2ms/sample - loss: 0.0100\n"
     ]
    },
    {
     "data": {
      "text/plain": [
       "<tensorflow.python.keras.callbacks.History at 0x1bb64188518>"
      ]
     },
     "execution_count": 28,
     "metadata": {},
     "output_type": "execute_result"
    }
   ],
   "source": [
    "model.fit(x_train, y_train, epochs=50, batch_size=1)"
   ]
  },
  {
   "cell_type": "markdown",
   "metadata": {
    "colab_type": "text",
    "id": "hqRlEmbjEqyG"
   },
   "source": [
    "## Question 9"
   ]
  },
  {
   "cell_type": "markdown",
   "metadata": {
    "colab_type": "text",
    "id": "12IhOtvUHJBF"
   },
   "source": [
    "### make predictions on train data\n",
    "- use predict() method\n",
    "  - batch_size: 1\n",
    "- store predictions in a variable"
   ]
  },
  {
   "cell_type": "code",
   "execution_count": 29,
   "metadata": {
    "colab": {},
    "colab_type": "code",
    "id": "iXWuJikQHURm"
   },
   "outputs": [],
   "source": [
    "train_pred = model.predict(x_train, batch_size=1)"
   ]
  },
  {
   "cell_type": "code",
   "execution_count": 51,
   "metadata": {},
   "outputs": [],
   "source": []
  },
  {
   "cell_type": "markdown",
   "metadata": {
    "colab_type": "text",
    "id": "XxxWOa-PsieH"
   },
   "source": [
    "### reset model state\n",
    "- if you are using stateful=True in your model then you should call reset_states every time, when you want to make consecutive model calls independent.\n",
    "- use reset_states() method"
   ]
  },
  {
   "cell_type": "code",
   "execution_count": 30,
   "metadata": {
    "colab": {},
    "colab_type": "code",
    "id": "ZdV5_F1Eo8SY"
   },
   "outputs": [],
   "source": [
    "model.reset_states()"
   ]
  },
  {
   "cell_type": "markdown",
   "metadata": {
    "colab_type": "text",
    "id": "KAhziPVBJD0u"
   },
   "source": [
    "### make predictions on test data\n",
    "- use predict() method\n",
    "  - batch_size: 1\n",
    "- store predictions in a variable"
   ]
  },
  {
   "cell_type": "code",
   "execution_count": 31,
   "metadata": {
    "colab": {},
    "colab_type": "code",
    "id": "HuHopEXNJU_y"
   },
   "outputs": [],
   "source": [
    "test_pred = model.predict(x_test, batch_size=1)"
   ]
  },
  {
   "cell_type": "markdown",
   "metadata": {
    "colab_type": "text",
    "id": "pO81E-fsJruD"
   },
   "source": [
    "## Question 10"
   ]
  },
  {
   "cell_type": "markdown",
   "metadata": {
    "colab_type": "text",
    "id": "RImBG7sCtnlb"
   },
   "source": [
    "### Inverse train predictions and true labels\n",
    "- use your MinMaxSclarer object\n",
    "- use inverse_transform() method"
   ]
  },
  {
   "cell_type": "code",
   "execution_count": 33,
   "metadata": {
    "colab": {},
    "colab_type": "code",
    "id": "xXfce41cqN-h"
   },
   "outputs": [],
   "source": [
    "train_pred = mms.inverse_transform(train_pred)\n",
    "y_train = mms.inverse_transform([y_train])"
   ]
  },
  {
   "cell_type": "markdown",
   "metadata": {
    "colab_type": "text",
    "id": "5fWSzk8cuPbp"
   },
   "source": [
    "### Inverse test predictions and true labels\n",
    "- use your MinMaxSclarer object\n",
    "- use inverse_transform() method"
   ]
  },
  {
   "cell_type": "code",
   "execution_count": 34,
   "metadata": {
    "colab": {},
    "colab_type": "code",
    "id": "nVJ1wMupuPbu"
   },
   "outputs": [],
   "source": [
    "test_pred = mms.inverse_transform(test_pred)\n",
    "y_test = mms.inverse_transform([y_test])"
   ]
  },
  {
   "cell_type": "markdown",
   "metadata": {
    "colab_type": "text",
    "id": "VtowvAItJv6c"
   },
   "source": [
    "### Evaluate train predictions\n",
    "- calculate RMSE\n",
    "- RMSE = sqrt(mean_squared_error(true_labels, predicted_labels))\n",
    "- use sqrt() and mean_squared_error() method\n",
    "- print training RMSE"
   ]
  },
  {
   "cell_type": "code",
   "execution_count": 35,
   "metadata": {
    "colab": {},
    "colab_type": "code",
    "id": "GjXbis_bJ9GL"
   },
   "outputs": [],
   "source": [
    "import math\n",
    "from sklearn.metrics import mean_squared_error"
   ]
  },
  {
   "cell_type": "code",
   "execution_count": 36,
   "metadata": {
    "colab": {},
    "colab_type": "code",
    "id": "pLb65-QiqMDX"
   },
   "outputs": [
    {
     "name": "stdout",
     "output_type": "stream",
     "text": [
      "Train Score: 2.60 RMSE\n"
     ]
    }
   ],
   "source": [
    "train_score = math.sqrt(mean_squared_error(y_train[0], train_pred[:,0]))\n",
    "print('Train Score: %.2f RMSE' % (train_score))"
   ]
  },
  {
   "cell_type": "markdown",
   "metadata": {
    "colab_type": "text",
    "id": "DBOfSPRDvERE"
   },
   "source": [
    "### Evaluate test predictions\n",
    "- calculate RMSE\n",
    "- RMSE = sqrt(mean_squared_error(true_labels, predicted_labels))\n",
    "- use sqrt() and mean_squared_error() method\n",
    "- print testing RMSE"
   ]
  },
  {
   "cell_type": "code",
   "execution_count": 37,
   "metadata": {
    "colab": {},
    "colab_type": "code",
    "id": "8rQOereovERJ"
   },
   "outputs": [],
   "source": [
    "test_score = math.sqrt(mean_squared_error(y_test[0], test_pred[:,0]))"
   ]
  },
  {
   "cell_type": "code",
   "execution_count": 38,
   "metadata": {
    "colab": {},
    "colab_type": "code",
    "id": "8DhUsMnvvERT"
   },
   "outputs": [
    {
     "name": "stdout",
     "output_type": "stream",
     "text": [
      "Test Score: 2.51 RMSE\n"
     ]
    }
   ],
   "source": [
    "print('Test Score: %.2f RMSE' % (test_score))"
   ]
  },
  {
   "cell_type": "code",
   "execution_count": 39,
   "metadata": {
    "colab": {},
    "colab_type": "code",
    "id": "PAnzxOyoy5Bj"
   },
   "outputs": [
    {
     "data": {
      "text/plain": [
       "[<matplotlib.lines.Line2D at 0x1bb74004cf8>]"
      ]
     },
     "execution_count": 39,
     "metadata": {},
     "output_type": "execute_result"
    },
    {
     "data": {
      "image/png": "[encoded data removed]",
      "text/plain": [
       "<Figure size 1440x360 with 1 Axes>"
      ]
     },
     "metadata": {
      "needs_background": "light"
     },
     "output_type": "display_data"
    }
   ],
   "source": [
    "import matplotlib.pyplot as plt\n",
    "\n",
    "y_train=y_train.reshape(2736, 1)\n",
    "plt.subplots(figsize=(20,5))\n",
    "plt.plot(y_train[0:100])\n",
    "plt.plot(train_pred[0:100],color='red')"
   ]
  },
  {
   "cell_type": "markdown",
   "metadata": {
    "colab_type": "text",
    "id": "ueeUkE9Pvs91"
   },
   "source": [
    "# Neural Machine Translation\n",
    "\n",
    "- Translate a given sentence in one language to another desired language.\n",
    "\n",
    "#### In this notebook, we aim to build a model which can translate German sentences to English."
   ]
  },
  {
   "cell_type": "markdown",
   "metadata": {
    "colab_type": "text",
    "id": "HphxvZ0fv_kr"
   },
   "source": [
    "## Dataset\n",
    "\n",
    "Dataset is taken from http://www.manythings.org/anki/.\n",
    "\n",
    "We are considering German – English deu-eng.zip file from the above mentioned website.\n",
    "\n",
    "In the above zip file there is a file with name **`deu.txt`** that contains **152,820** pairs of English to German phrases, one pair per line with a tab separating the phrases.\n",
    "\n",
    "\n",
    "For example,\n",
    "\n",
    "The first 5 lines in deu.txt are as given below.\n",
    "\n",
    "***\n",
    "```\n",
    "Hi.    Hallo!\n",
    "Hi.    Grüß Gott!\n",
    "Run!    Lauf!\n",
    "Wow!    Potzdonner!\n",
    "Wow!    Donnerwetter!\n",
    "```\n",
    "***\n"
   ]
  },
  {
   "cell_type": "markdown",
   "metadata": {
    "colab_type": "text",
    "id": "KzhjY_3MxlCT"
   },
   "source": [
    "## Problem\n",
    "\n",
    "### Given a sequence of words in German as input, predict the sequence of words in English."
   ]
  },
  {
   "cell_type": "markdown",
   "metadata": {
    "colab_type": "text",
    "id": "STq1sKSHywCQ"
   },
   "source": [
    "### 1. Prepare Data\n",
    "\n",
    "\n",
    "The preprocessing of the data involves:\n",
    "\n",
    "1. Removing punctuation marks from the data.\n",
    "\n",
    "2. Converting text corpus into lower case characters.\n",
    "\n",
    "3. Split into Train and Test sets.\n",
    "\n",
    "4. Shuffling the sentences.\n",
    "\n",
    "\n",
    "\n",
    "The above tasks are done  and full dataset is given as **``english-german-both.pkl``** respectively.\n",
    "\n",
    "Download dataset files from here: https://drive.google.com/open?id=1gWVk7SuuE93Cf_nT9Lb7GBCiwfAgdBiX\n",
    "\n",
    "\n"
   ]
  },
  {
   "cell_type": "markdown",
   "metadata": {
    "colab_type": "text",
    "id": "x9JDfVgWosMJ"
   },
   "source": [
    "# Character level Machine Translation"
   ]
  },
  {
   "cell_type": "markdown",
   "metadata": {
    "colab_type": "text",
    "id": "sP4P2nnAXD5G"
   },
   "source": [
    "## Initialize parameters\n",
    "Run the below code to initialize the variables required for the model."
   ]
  },
  {
   "cell_type": "code",
   "execution_count": 40,
   "metadata": {
    "colab": {},
    "colab_type": "code",
    "id": "4jRTxBQ9owHH"
   },
   "outputs": [],
   "source": [
    "batch_size = 64  # Batch size for training.\n",
    "epochs = 10  # Number of epochs to train for.\n",
    "latent_dim = 256  # Latent dimensionality of the encoding space.\n",
    "num_samples = 10000  # Number of samples to train on.\n",
    "# Path to the data txt file on disk.\n",
    "data_path = 'fra.txt'"
   ]
  },
  {
   "cell_type": "markdown",
   "metadata": {
    "colab_type": "text",
    "id": "0N1Q-zzUJtO0"
   },
   "source": [
    "### Connect to google drive"
   ]
  },
  {
   "cell_type": "code",
   "execution_count": 0,
   "metadata": {
    "colab": {},
    "colab_type": "code",
    "id": "SEtf-c5Fo7eF"
   },
   "outputs": [],
   "source": [
    "from google.colab import drive\n",
    "drive.mount('/content/drive/')"
   ]
  },
  {
   "cell_type": "markdown",
   "metadata": {
    "colab_type": "text",
    "id": "Mv0XAJSZJyOl"
   },
   "source": [
    "### Give the path for the folder in which the dataset is present in google drive"
   ]
  },
  {
   "cell_type": "code",
   "execution_count": 0,
   "metadata": {
    "colab": {},
    "colab_type": "code",
    "id": "fXQOArlSo8SX"
   },
   "outputs": [],
   "source": [
    "project_path = \"\""
   ]
  },
  {
   "cell_type": "markdown",
   "metadata": {
    "colab_type": "text",
    "id": "SoEhVDh3qfuj"
   },
   "source": [
    "### Change present working directory"
   ]
  },
  {
   "cell_type": "code",
   "execution_count": 0,
   "metadata": {
    "colab": {},
    "colab_type": "code",
    "id": "g-plftRTqlgB"
   },
   "outputs": [],
   "source": [
    "import os\n",
    "os.chdir(project_path)"
   ]
  },
  {
   "cell_type": "markdown",
   "metadata": {
    "colab_type": "text",
    "id": "GkAdNgJrKDvK"
   },
   "source": [
    "## Load the pickle file (`english-german-both.pkl`) into a variable with name `dataset`\n",
    "Run the below code to load the .pkl file."
   ]
  },
  {
   "cell_type": "code",
   "execution_count": 0,
   "metadata": {
    "colab": {},
    "colab_type": "code",
    "id": "a8fpd1Lxo8VH"
   },
   "outputs": [],
   "source": [
    "import pickle\n",
    "\n",
    "with open(project_path + 'english-german-both.pkl', 'rb') as f:\n",
    "  dataset = pickle.load(f)"
   ]
  },
  {
   "cell_type": "markdown",
   "metadata": {
    "colab_type": "text",
    "id": "9pkL351SKaWb"
   },
   "source": [
    "## Check the `dataset` variable at this step. It should be as given below"
   ]
  },
  {
   "cell_type": "code",
   "execution_count": 0,
   "metadata": {
    "colab": {},
    "colab_type": "code",
    "id": "D6kEL_65KmHe"
   },
   "outputs": [],
   "source": [
    "dataset"
   ]
  },
  {
   "cell_type": "markdown",
   "metadata": {
    "colab_type": "text",
    "id": "uQ270GmwK2Qt"
   },
   "source": [
    "## Feature set and target set division from the **dataset**\n",
    "\n",
    "### Run the below code to divide the dataset into feature set(input) and target set(output). \n",
    "\n",
    "1. We are creating two lists for storing input sentences and output sentences separately. \n",
    "2. We are storing each character in a list from both input and target sets separately. \n",
    "3. Print and check `input_texts` and `target_texts`.\n",
    "4. Print and check `input_characters` and `target_characters`."
   ]
  },
  {
   "cell_type": "code",
   "execution_count": 0,
   "metadata": {
    "colab": {},
    "colab_type": "code",
    "id": "fJ95hstto8Xy"
   },
   "outputs": [],
   "source": [
    "# Vectorize the data.\n",
    "input_texts = []\n",
    "target_texts = []\n",
    "input_characters = set()\n",
    "target_characters = set()\n",
    "\n",
    "for line in dataset[: min(num_samples, len(dataset) - 1)]:\n",
    "    input_text, target_text = line[0], line[1]\n",
    "    # We use \"tab\" as the \"start sequence\" character\n",
    "    # for the targets, and \"\\n\" as \"end sequence\" character.\n",
    "    target_text = '\\t' + target_text + '\\n'\n",
    "    input_texts.append(input_text)\n",
    "    target_texts.append(target_text)\n",
    "    for char in input_text:\n",
    "        if char not in input_characters:\n",
    "            input_characters.add(char)\n",
    "    for char in target_text:\n",
    "        if char not in target_characters:\n",
    "            target_characters.add(char)"
   ]
  },
  {
   "cell_type": "markdown",
   "metadata": {
    "colab_type": "text",
    "id": "wwWZMeVjlPjB"
   },
   "source": [
    "### Print input text"
   ]
  },
  {
   "cell_type": "code",
   "execution_count": 0,
   "metadata": {
    "colab": {},
    "colab_type": "code",
    "id": "S-1OyZSULuJY"
   },
   "outputs": [],
   "source": []
  },
  {
   "cell_type": "markdown",
   "metadata": {
    "colab_type": "text",
    "id": "fo7Mno1JlVWP"
   },
   "source": [
    "### Print target text"
   ]
  },
  {
   "cell_type": "code",
   "execution_count": 0,
   "metadata": {
    "colab": {},
    "colab_type": "code",
    "id": "_pnLXkk8LzBx"
   },
   "outputs": [],
   "source": []
  },
  {
   "cell_type": "markdown",
   "metadata": {
    "colab_type": "text",
    "id": "u7IhmN_hlb1K"
   },
   "source": [
    "### Print input character"
   ]
  },
  {
   "cell_type": "code",
   "execution_count": 0,
   "metadata": {
    "colab": {},
    "colab_type": "code",
    "id": "9az5VYFjNe7I"
   },
   "outputs": [],
   "source": []
  },
  {
   "cell_type": "markdown",
   "metadata": {
    "colab_type": "text",
    "id": "CX30Y8dZlfGQ"
   },
   "source": [
    "### Print target character"
   ]
  },
  {
   "cell_type": "code",
   "execution_count": 0,
   "metadata": {
    "colab": {},
    "colab_type": "code",
    "id": "kxg3509lNjnU"
   },
   "outputs": [],
   "source": []
  },
  {
   "cell_type": "markdown",
   "metadata": {
    "colab_type": "text",
    "id": "Dw10uDT3Oc1N"
   },
   "source": [
    "## Stats from the dataset\n",
    "\n",
    "### Run the below code to check the stats from the dataset"
   ]
  },
  {
   "cell_type": "code",
   "execution_count": 0,
   "metadata": {
    "colab": {},
    "colab_type": "code",
    "id": "T4stnzMpo8ci"
   },
   "outputs": [],
   "source": [
    "input_characters = sorted(list(input_characters))\n",
    "target_characters = sorted(list(target_characters))\n",
    "num_encoder_tokens = len(input_characters)\n",
    "num_decoder_tokens = len(target_characters)\n",
    "max_encoder_seq_length = max([len(txt) for txt in input_texts])\n",
    "max_decoder_seq_length = max([len(txt) for txt in target_texts])"
   ]
  },
  {
   "cell_type": "code",
   "execution_count": 0,
   "metadata": {
    "colab": {},
    "colab_type": "code",
    "id": "VfbreAAUo8e6"
   },
   "outputs": [],
   "source": [
    "print('Number of samples:', len(input_texts))\n",
    "print('Number of unique input tokens:', num_encoder_tokens)\n",
    "print('Number of unique output tokens:', num_decoder_tokens)\n",
    "print('Max sequence length for inputs:', max_encoder_seq_length)\n",
    "print('Max sequence length for outputs:', max_decoder_seq_length)"
   ]
  },
  {
   "cell_type": "markdown",
   "metadata": {
    "colab_type": "text",
    "id": "mVuwMY0UTVKD"
   },
   "source": [
    "## Build character to index dictionary names `input_token_index` and `target_token_index` for input and target sets respectively."
   ]
  },
  {
   "cell_type": "code",
   "execution_count": 0,
   "metadata": {
    "colab": {},
    "colab_type": "code",
    "id": "QYXSW9zOo8hl"
   },
   "outputs": [],
   "source": []
  },
  {
   "cell_type": "markdown",
   "metadata": {
    "colab_type": "text",
    "id": "9aUS5gEamGiC"
   },
   "source": [
    "### Print input_index_token"
   ]
  },
  {
   "cell_type": "code",
   "execution_count": 0,
   "metadata": {
    "colab": {},
    "colab_type": "code",
    "id": "__ga4KfKTijk"
   },
   "outputs": [],
   "source": [
    "input_token_index"
   ]
  },
  {
   "cell_type": "markdown",
   "metadata": {
    "colab_type": "text",
    "id": "zGs66ZhjmNBA"
   },
   "source": [
    "### Print target_token_index"
   ]
  },
  {
   "cell_type": "code",
   "execution_count": 0,
   "metadata": {
    "colab": {},
    "colab_type": "code",
    "id": "Sa3DArDrTm1z"
   },
   "outputs": [],
   "source": [
    "target_token_index"
   ]
  },
  {
   "cell_type": "markdown",
   "metadata": {
    "colab_type": "text",
    "id": "UB7uI724TrlM"
   },
   "source": [
    "## Build Model\n",
    "Initialize the required layers from keras\n",
    "\n",
    "### Import libraries"
   ]
  },
  {
   "cell_type": "code",
   "execution_count": 0,
   "metadata": {
    "colab": {},
    "colab_type": "code",
    "id": "T1GuGnDiqOz3"
   },
   "outputs": [],
   "source": [
    "from __future__ import print_function\n",
    "\n",
    "from keras.models import Model\n",
    "from keras.layers import Input, LSTM, Dense\n",
    "import numpy as np"
   ]
  },
  {
   "cell_type": "markdown",
   "metadata": {
    "colab_type": "text",
    "id": "3q9GVu-pT9UR"
   },
   "source": [
    "### Run the below code to build one-hot vectors for the characters"
   ]
  },
  {
   "cell_type": "code",
   "execution_count": 0,
   "metadata": {
    "colab": {},
    "colab_type": "code",
    "id": "uatzEBy5qIpI"
   },
   "outputs": [],
   "source": [
    "encoder_input_data = np.zeros(\n",
    "    (len(input_texts), max_encoder_seq_length, num_encoder_tokens),\n",
    "    dtype='float32')\n",
    "decoder_input_data = np.zeros(\n",
    "    (len(input_texts), max_decoder_seq_length, num_decoder_tokens),\n",
    "    dtype='float32')\n",
    "decoder_target_data = np.zeros(\n",
    "    (len(input_texts), max_decoder_seq_length, num_decoder_tokens),\n",
    "    dtype='float32')"
   ]
  },
  {
   "cell_type": "code",
   "execution_count": 0,
   "metadata": {
    "colab": {},
    "colab_type": "code",
    "id": "MDGoIZXuqLF7"
   },
   "outputs": [],
   "source": [
    "for i, (input_text, target_text) in enumerate(zip(input_texts, target_texts)):\n",
    "    for t, char in enumerate(input_text):\n",
    "        encoder_input_data[i, t, input_token_index[char]] = 1.\n",
    "    for t, char in enumerate(target_text):\n",
    "        # decoder_target_data is ahead of decoder_input_data by one timestep\n",
    "        decoder_input_data[i, t, target_token_index[char]] = 1.\n",
    "        if t > 0:\n",
    "            # decoder_target_data will be ahead by one timestep\n",
    "            # and will not include the start character.\n",
    "            decoder_target_data[i, t - 1, target_token_index[char]] = 1."
   ]
  },
  {
   "cell_type": "markdown",
   "metadata": {
    "colab_type": "text",
    "id": "i0ihyyfeW7le"
   },
   "source": [
    "### Build the encoder Model\n",
    "\n",
    "Define an input sequence and process it.\n",
    "\n",
    "Discard `encoder_outputs` and only keep the states."
   ]
  },
  {
   "cell_type": "code",
   "execution_count": 0,
   "metadata": {
    "colab": {},
    "colab_type": "code",
    "id": "CQU4zjxdqXnG"
   },
   "outputs": [],
   "source": []
  },
  {
   "cell_type": "markdown",
   "metadata": {
    "colab_type": "text",
    "id": "X3PzX5oBXfGW"
   },
   "source": [
    "### Build the decoder Model\n",
    "\n",
    "Set up the decoder, using `encoder_states` as initial state.\n",
    "\n",
    "We set up our decoder to return full output sequences, and to return internal states as well. We don't use the return states in the training model, but we will use them in inference."
   ]
  },
  {
   "cell_type": "code",
   "execution_count": 0,
   "metadata": {
    "colab": {},
    "colab_type": "code",
    "id": "ytn5MNCjqZuc"
   },
   "outputs": [],
   "source": []
  },
  {
   "cell_type": "markdown",
   "metadata": {
    "colab_type": "text",
    "id": "XpJnlQgvn8vN"
   },
   "source": [
    "### Define Model\n",
    "\n",
    "Define the model that will turn `encoder_input_data ` & ` decoder_input_data` into `decoder_target_data`"
   ]
  },
  {
   "cell_type": "code",
   "execution_count": 0,
   "metadata": {
    "colab": {},
    "colab_type": "code",
    "id": "E24IW9wIqcYq"
   },
   "outputs": [],
   "source": []
  },
  {
   "cell_type": "markdown",
   "metadata": {
    "colab_type": "text",
    "id": "qvawc6CfXkzG"
   },
   "source": [
    "### Compile and fit the model"
   ]
  },
  {
   "cell_type": "code",
   "execution_count": 0,
   "metadata": {
    "colab": {},
    "colab_type": "code",
    "id": "vhXLFmApqeU4"
   },
   "outputs": [],
   "source": []
  },
  {
   "cell_type": "markdown",
   "metadata": {
    "colab_type": "text",
    "id": "7o4khltlof6H"
   },
   "source": [
    "### Save the model"
   ]
  },
  {
   "cell_type": "code",
   "execution_count": 0,
   "metadata": {
    "colab": {},
    "colab_type": "code",
    "id": "nVgGMc5Lojmo"
   },
   "outputs": [],
   "source": [
    "# Save model\n",
    "model.save('s2s.h5')"
   ]
  },
  {
   "cell_type": "markdown",
   "metadata": {
    "colab_type": "text",
    "id": "zbLdraJ1XpsR"
   },
   "source": [
    "## Run the below code for inferencing the model"
   ]
  },
  {
   "cell_type": "code",
   "execution_count": 0,
   "metadata": {
    "colab": {},
    "colab_type": "code",
    "id": "4O7jtJYh29uo"
   },
   "outputs": [],
   "source": [
    "encoder_model = Model(encoder_inputs, encoder_states)\n",
    "\n",
    "decoder_state_input_h = Input(shape=(latent_dim,))\n",
    "decoder_state_input_c = Input(shape=(latent_dim,))\n",
    "decoder_states_inputs = [decoder_state_input_h, decoder_state_input_c]\n",
    "decoder_outputs, state_h, state_c = decoder_lstm(decoder_inputs, initial_state=decoder_states_inputs)\n",
    "decoder_states = [state_h, state_c]\n",
    "decoder_outputs = decoder_dense(decoder_outputs)\n",
    "\n",
    "decoder_model = Model(\n",
    "    [decoder_inputs] + decoder_states_inputs,\n",
    "    [decoder_outputs] + decoder_states)"
   ]
  },
  {
   "cell_type": "markdown",
   "metadata": {
    "colab_type": "text",
    "id": "scaoVQVapHLk"
   },
   "source": [
    "## Reverse-lookup token index to decode sequences back to something readable."
   ]
  },
  {
   "cell_type": "code",
   "execution_count": 0,
   "metadata": {
    "colab": {},
    "colab_type": "code",
    "id": "_3t_ntoTq0fP"
   },
   "outputs": [],
   "source": [
    "# Reverse-lookup token index to decode sequences back to\n",
    "# something readable.\n",
    "reverse_input_char_index = dict(\n",
    "    (i, char) for char, i in input_token_index.items())\n",
    "reverse_target_char_index = dict(\n",
    "    (i, char) for char, i in target_token_index.items())"
   ]
  },
  {
   "cell_type": "code",
   "execution_count": 0,
   "metadata": {
    "colab": {},
    "colab_type": "code",
    "id": "_9WAWX6ApcrG"
   },
   "outputs": [],
   "source": [
    "print(reverse_input_char_index)\n",
    "print(reverse_target_char_index)"
   ]
  },
  {
   "cell_type": "code",
   "execution_count": 0,
   "metadata": {
    "colab": {},
    "colab_type": "code",
    "id": "FYJkd_AZq0iI"
   },
   "outputs": [],
   "source": [
    "def decode_sequence(input_seq):\n",
    "    # Encode the input as state vectors.\n",
    "    states_value = encoder_model.predict(input_seq)\n",
    "\n",
    "    # Generate empty target sequence of length 1.\n",
    "    target_seq = np.zeros((1, 1, num_decoder_tokens))\n",
    "    # Populate the first character of target sequence with the start character.\n",
    "    target_seq[0, 0, target_token_index['\\t']] = 1.\n",
    "\n",
    "    # Sampling loop for a batch of sequences\n",
    "    # (to simplify, here we assume a batch of size 1).\n",
    "    stop_condition = False\n",
    "    decoded_sentence = ''\n",
    "    while not stop_condition:\n",
    "        output_tokens, h, c = decoder_model.predict(\n",
    "            [target_seq] + states_value)\n",
    "\n",
    "        # Sample a token\n",
    "        sampled_token_index = np.argmax(output_tokens[0, -1, :])\n",
    "        sampled_char = reverse_target_char_index[sampled_token_index]\n",
    "        decoded_sentence += sampled_char\n",
    "\n",
    "        # Exit condition: either hit max length\n",
    "        # or find stop character.\n",
    "        if (sampled_char == '\\n' or\n",
    "           len(decoded_sentence) > max_decoder_seq_length):\n",
    "            stop_condition = True\n",
    "\n",
    "        # Update the target sequence (of length 1).\n",
    "        target_seq = np.zeros((1, 1, num_decoder_tokens))\n",
    "        target_seq[0, 0, sampled_token_index] = 1.\n",
    "\n",
    "        # Update states\n",
    "        states_value = [h, c]\n",
    "\n",
    "    return decoded_sentence"
   ]
  },
  {
   "cell_type": "markdown",
   "metadata": {
    "colab_type": "text",
    "id": "jiPl9MHkXv0z"
   },
   "source": [
    "## Run the below code for checking some outputs from the model."
   ]
  },
  {
   "cell_type": "code",
   "execution_count": 0,
   "metadata": {
    "colab": {},
    "colab_type": "code",
    "id": "7IFQIeCGq0nk"
   },
   "outputs": [],
   "source": [
    "for seq_index in range(10):\n",
    "    # Take one sequence (part of the training set)\n",
    "    # for trying out decoding.\n",
    "    input_seq = encoder_input_data[seq_index: seq_index + 1]\n",
    "    decoded_sentence = decode_sequence(input_seq)\n",
    "    print('-')\n",
    "    print('Input sentence:', input_texts[seq_index])\n",
    "    print('Decoded sentence:', decoded_sentence)"
   ]
  }
 ],
 "metadata": {
  "colab": {
   "collapsed_sections": [],
   "name": "Questions - Internal - Sequential NLP Lab - 16 Hours.ipynb",
   "provenance": []
  },
  "kernelspec": {
   "display_name": "Python 3",
   "language": "python",
   "name": "python3"
  },
  "language_info": {
   "codemirror_mode": {
    "name": "ipython",
    "version": 3
   },
   "file_extension": ".py",
   "mimetype": "text/x-python",
   "name": "python",
   "nbconvert_exporter": "python",
   "pygments_lexer": "ipython3",
   "version": "3.6.10"
  }
 },
 "nbformat": 4,
 "nbformat_minor": 1
}
