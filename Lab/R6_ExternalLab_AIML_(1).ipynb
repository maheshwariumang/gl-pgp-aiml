{
  "nbformat": 4,
  "nbformat_minor": 0,
  "metadata": {
    "colab": {
      "name": "R6_ExternalLab_AIML (1).ipynb",
      "provenance": [],
      "collapsed_sections": []
    },
    "kernelspec": {
      "name": "python2",
      "display_name": "Python 2"
    },
    "accelerator": "GPU"
  },
  "cells": [
    {
      "cell_type": "markdown",
      "metadata": {
        "id": "YYk8NG3yOIT9",
        "colab_type": "text"
      },
      "source": [
        "### A MNIST-like fashion product database\n",
        "\n",
        "In this, we classify the images into respective classes given in the dataset. We use a Neural Net and a Deep Neural Net in Keras to solve this and check the accuracy scores."
      ]
    },
    {
      "cell_type": "markdown",
      "metadata": {
        "id": "tFO6PuxzOIT_",
        "colab_type": "text"
      },
      "source": [
        "### Load tensorflow"
      ]
    },
    {
      "cell_type": "code",
      "metadata": {
        "id": "efNjNImfOIUC",
        "colab_type": "code",
        "colab": {
          "base_uri": "https://localhost:8080/",
          "height": 34
        },
        "outputId": "99c6f978-ad65-4adf-8f38-cfd1dd69f72f"
      },
      "source": [
        "%tensorflow_version 2.x\n",
        "# tf.set_random_seed(42)"
      ],
      "execution_count": 1,
      "outputs": [
        {
          "output_type": "stream",
          "text": [
            "TensorFlow 2.x selected.\n"
          ],
          "name": "stdout"
        }
      ]
    },
    {
      "cell_type": "code",
      "metadata": {
        "id": "l9C4aAIGOIUH",
        "colab_type": "code",
        "outputId": "d9d5ccdc-73f3-48ee-f074-f87a0c3f9b77",
        "colab": {
          "base_uri": "https://localhost:8080/",
          "height": 34
        }
      },
      "source": [
        "import tensorflow as tf\n",
        "tf.__version__"
      ],
      "execution_count": 3,
      "outputs": [
        {
          "output_type": "execute_result",
          "data": {
            "text/plain": [
              "'2.0.0'"
            ]
          },
          "metadata": {
            "tags": []
          },
          "execution_count": 3
        }
      ]
    },
    {
      "cell_type": "markdown",
      "metadata": {
        "id": "HcoZBStrOIUQ",
        "colab_type": "text"
      },
      "source": [
        "### Collect Data"
      ]
    },
    {
      "cell_type": "code",
      "metadata": {
        "id": "XA1WsFSeOIUS",
        "colab_type": "code",
        "colab": {
          "base_uri": "https://localhost:8080/",
          "height": 34
        },
        "outputId": "2f7290b3-f1cd-453c-e16a-67bb3c27450e"
      },
      "source": [
        "import keras"
      ],
      "execution_count": 4,
      "outputs": [
        {
          "output_type": "stream",
          "text": [
            "Using TensorFlow backend.\n"
          ],
          "name": "stderr"
        }
      ]
    },
    {
      "cell_type": "code",
      "metadata": {
        "id": "qnbx7TyQOIUY",
        "colab_type": "code",
        "colab": {}
      },
      "source": [
        "(trainX, trainY), (testX, testY) = keras.datasets.fashion_mnist.load_data()"
      ],
      "execution_count": 0,
      "outputs": []
    },
    {
      "cell_type": "code",
      "metadata": {
        "id": "DJaYSAV5za6T",
        "colab_type": "code",
        "colab": {
          "base_uri": "https://localhost:8080/",
          "height": 34
        },
        "outputId": "76586817-b317-4f7f-edfb-00e247fe6206"
      },
      "source": [
        "print(testY[0:5])"
      ],
      "execution_count": 6,
      "outputs": [
        {
          "output_type": "stream",
          "text": [
            "[9 2 1 1 6]\n"
          ],
          "name": "stdout"
        }
      ]
    },
    {
      "cell_type": "code",
      "metadata": {
        "id": "UbiHj5YPOIUc",
        "colab_type": "code",
        "outputId": "87e1b9cd-07f0-45cb-e706-0d51ad742d72",
        "colab": {}
      },
      "source": [
        "print(testY[0:5])"
      ],
      "execution_count": 0,
      "outputs": [
        {
          "output_type": "stream",
          "text": [
            "[9 2 1 1 6]\n"
          ],
          "name": "stdout"
        }
      ]
    },
    {
      "cell_type": "markdown",
      "metadata": {
        "id": "lDAYzkwyOIUj",
        "colab_type": "text"
      },
      "source": [
        "### Convert both training and testing labels into one-hot vectors.\n",
        "\n",
        "**Hint:** check **tf.keras.utils.to_categorical()**"
      ]
    },
    {
      "cell_type": "code",
      "metadata": {
        "id": "vBlfYlANOIUk",
        "colab_type": "code",
        "colab": {}
      },
      "source": [
        "trainY = tf.keras.utils.to_categorical(trainY, num_classes=10)\n",
        "testY = tf.keras.utils.to_categorical(testY, num_classes=10)"
      ],
      "execution_count": 0,
      "outputs": []
    },
    {
      "cell_type": "code",
      "metadata": {
        "scrolled": true,
        "id": "RHV3b9mzOIUq",
        "colab_type": "code",
        "outputId": "e6cdb99c-34e8-492c-ca19-ffd4eedf4831",
        "colab": {
          "base_uri": "https://localhost:8080/",
          "height": 121
        }
      },
      "source": [
        "print(trainY.shape)\n",
        "print('First 5 examples now are: ', trainY[0:5])"
      ],
      "execution_count": 61,
      "outputs": [
        {
          "output_type": "stream",
          "text": [
            "(60000, 10)\n",
            "('First 5 examples now are: ', array([[0., 0., 0., 0., 0., 0., 0., 0., 0., 1.],\n",
            "       [1., 0., 0., 0., 0., 0., 0., 0., 0., 0.],\n",
            "       [1., 0., 0., 0., 0., 0., 0., 0., 0., 0.],\n",
            "       [0., 0., 0., 1., 0., 0., 0., 0., 0., 0.],\n",
            "       [1., 0., 0., 0., 0., 0., 0., 0., 0., 0.]], dtype=float32))\n"
          ],
          "name": "stdout"
        }
      ]
    },
    {
      "cell_type": "markdown",
      "metadata": {
        "id": "FwhQ8e7VOIUw",
        "colab_type": "text"
      },
      "source": [
        "### Visualize the data\n",
        "\n",
        "Plot first 10 images in the triaining set and their labels."
      ]
    },
    {
      "cell_type": "code",
      "metadata": {
        "id": "G1n0idTd0N4s",
        "colab_type": "code",
        "colab": {}
      },
      "source": [
        "import numpy as np\n",
        "import matplotlib.pyplot as plt"
      ],
      "execution_count": 0,
      "outputs": []
    },
    {
      "cell_type": "code",
      "metadata": {
        "id": "vL8DdSiZ0N1e",
        "colab_type": "code",
        "colab": {
          "base_uri": "https://localhost:8080/",
          "height": 286
        },
        "outputId": "5cd21c7b-e12e-43f6-a149-5e806c1eb58b"
      },
      "source": [
        "# Show one of the images from the training dataset\n",
        "plt.imshow(trainX[1])"
      ],
      "execution_count": 12,
      "outputs": [
        {
          "output_type": "execute_result",
          "data": {
            "text/plain": [
              "<matplotlib.image.AxesImage at 0x7fc2b8c7ad90>"
            ]
          },
          "metadata": {
            "tags": []
          },
          "execution_count": 12
        },
        {
          "output_type": "display_data",
          "data": {
            "image/png": "[encoded data removed]",
            "text/plain": [
              "<Figure size 432x288 with 1 Axes>"
            ]
          },
          "metadata": {
            "tags": []
          }
        }
      ]
    },
    {
      "cell_type": "code",
      "metadata": {
        "id": "v4zvXWa90q31",
        "colab_type": "code",
        "colab": {
          "base_uri": "https://localhost:8080/",
          "height": 297
        },
        "outputId": "d430f16a-4e57-455d-c926-1c7b56458f55"
      },
      "source": [
        "fig=plt.figure(figsize=(8,8))\n",
        "for i in range(1, 11):\n",
        "    fig.add_subplot(1, 10, i) #rows,column\n",
        "    plt.imshow(trainX[i])\n",
        "plt.show()\n",
        "print(\"label for each of the above image:\")\n",
        "print(trainY[:11])"
      ],
      "execution_count": 19,
      "outputs": [
        {
          "output_type": "display_data",
          "data": {
            "image/png": "[encoded data removed]",
            "text/plain": [
              "<Figure size 576x576 with 10 Axes>"
            ]
          },
          "metadata": {
            "tags": []
          }
        },
        {
          "output_type": "stream",
          "text": [
            "label for each of the above image:\n",
            "[[0. 0. 0. 0. 0. 0. 0. 0. 0. 1.]\n",
            " [1. 0. 0. 0. 0. 0. 0. 0. 0. 0.]\n",
            " [1. 0. 0. 0. 0. 0. 0. 0. 0. 0.]\n",
            " [0. 0. 0. 1. 0. 0. 0. 0. 0. 0.]\n",
            " [1. 0. 0. 0. 0. 0. 0. 0. 0. 0.]\n",
            " [0. 0. 1. 0. 0. 0. 0. 0. 0. 0.]\n",
            " [0. 0. 0. 0. 0. 0. 0. 1. 0. 0.]\n",
            " [0. 0. 1. 0. 0. 0. 0. 0. 0. 0.]\n",
            " [0. 0. 0. 0. 0. 1. 0. 0. 0. 0.]\n",
            " [0. 0. 0. 0. 0. 1. 0. 0. 0. 0.]\n",
            " [1. 0. 0. 0. 0. 0. 0. 0. 0. 0.]]\n"
          ],
          "name": "stdout"
        }
      ]
    },
    {
      "cell_type": "code",
      "metadata": {
        "id": "V_w-hOE0zwS_",
        "colab_type": "code",
        "colab": {}
      },
      "source": [
        ""
      ],
      "execution_count": 0,
      "outputs": []
    },
    {
      "cell_type": "code",
      "metadata": {
        "id": "AvDML2OoOIUx",
        "colab_type": "code",
        "outputId": "9dafc94e-61a8-4089-be03-d143163d68aa",
        "colab": {}
      },
      "source": [
        ""
      ],
      "execution_count": 0,
      "outputs": [
        {
          "output_type": "display_data",
          "data": {
            "image/png": "[encoded data removed]",
            "text/plain": [
              "<matplotlib.figure.Figure at 0x7f60784a5950>"
            ]
          },
          "metadata": {
            "tags": []
          }
        },
        {
          "output_type": "stream",
          "text": [
            "label for each of the above image:\n",
            "9 0 0 3 0 2 7 2 5 5\n"
          ],
          "name": "stdout"
        }
      ]
    },
    {
      "cell_type": "markdown",
      "metadata": {
        "id": "l4TbJGeSOIU4",
        "colab_type": "text"
      },
      "source": [
        "### Build a neural Network with a cross entropy loss function and sgd optimizer in Keras. The output layer with 10 neurons as we have 10 classes."
      ]
    },
    {
      "cell_type": "code",
      "metadata": {
        "id": "eDiBedLE2Iul",
        "colab_type": "code",
        "colab": {}
      },
      "source": [
        "def buildModel_one_layer():\n",
        "    # Initialize Sequential model\n",
        "    model = tf.keras.models.Sequential()\n",
        "\n",
        "    # Reshape data from 2D to 1D -> 28x28 to 784\n",
        "    model.add(tf.keras.layers.Reshape((784,),input_shape=(28,28,)))\n",
        "\n",
        "    #Add 1st hidden layer\n",
        "    model.add(tf.keras.layers.Dense(200, activation='sigmoid'))\n",
        "\n",
        "    #Add OUTPUT layer\n",
        "    model.add(tf.keras.layers.Dense(10, activation='softmax'))\n",
        "    return model"
      ],
      "execution_count": 0,
      "outputs": []
    },
    {
      "cell_type": "code",
      "metadata": {
        "id": "Ac06XZZTOIU6",
        "colab_type": "code",
        "colab": {}
      },
      "source": [
        "model_one_layer = buildModel_one_layer()"
      ],
      "execution_count": 0,
      "outputs": []
    },
    {
      "cell_type": "code",
      "metadata": {
        "id": "W-OrZ5bd8b9p",
        "colab_type": "code",
        "colab": {
          "base_uri": "https://localhost:8080/",
          "height": 260
        },
        "outputId": "b3830af3-b2a5-42ec-8784-69304bf41499"
      },
      "source": [
        "model_one_layer.summary()"
      ],
      "execution_count": 70,
      "outputs": [
        {
          "output_type": "stream",
          "text": [
            "Model: \"sequential_7\"\n",
            "_________________________________________________________________\n",
            "Layer (type)                 Output Shape              Param #   \n",
            "=================================================================\n",
            "reshape_5 (Reshape)          (None, 784)               0         \n",
            "_________________________________________________________________\n",
            "dense_14 (Dense)             (None, 200)               157000    \n",
            "_________________________________________________________________\n",
            "dense_15 (Dense)             (None, 10)                2010      \n",
            "=================================================================\n",
            "Total params: 159,010\n",
            "Trainable params: 159,010\n",
            "Non-trainable params: 0\n",
            "_________________________________________________________________\n"
          ],
          "name": "stdout"
        }
      ]
    },
    {
      "cell_type": "code",
      "metadata": {
        "id": "ZJhcvGyQ2w7m",
        "colab_type": "code",
        "colab": {}
      },
      "source": [
        "model_one_layer.compile(loss='categorical_crossentropy',\n",
        "             optimizer=tf.keras.optimizers.SGD(lr=0.03),\n",
        "             metrics=['accuracy'])"
      ],
      "execution_count": 0,
      "outputs": []
    },
    {
      "cell_type": "code",
      "metadata": {
        "id": "Wg7PZkLC68q5",
        "colab_type": "code",
        "colab": {}
      },
      "source": [
        "from keras.utils import plot_model\n",
        "from IPython.display import SVG\n",
        "from keras.utils.vis_utils import model_to_dot"
      ],
      "execution_count": 0,
      "outputs": []
    },
    {
      "cell_type": "code",
      "metadata": {
        "id": "sl9ppjQ464C1",
        "colab_type": "code",
        "colab": {}
      },
      "source": [
        "plot_model(model_one_layer, to_file='model.png')\n",
        "SVG(model_to_dot(model_one_layer).create(prog='dot', format='svg'))"
      ],
      "execution_count": 0,
      "outputs": []
    },
    {
      "cell_type": "markdown",
      "metadata": {
        "id": "3hQpLv3aOIU_",
        "colab_type": "text"
      },
      "source": [
        "### Execute the model using model.fit()"
      ]
    },
    {
      "cell_type": "code",
      "metadata": {
        "id": "O59C_-IgOIVB",
        "colab_type": "code",
        "colab": {
          "base_uri": "https://localhost:8080/",
          "height": 1000
        },
        "outputId": "72ec958d-33da-4173-f46f-6ab79d40c10d"
      },
      "source": [
        "model_one_layer.fit(trainX, trainY,\n",
        "                  batch_size=64,\n",
        "                  epochs=30,\n",
        "                  verbose=1,\n",
        "                  validation_data=(x_test, testY))"
      ],
      "execution_count": 77,
      "outputs": [
        {
          "output_type": "stream",
          "text": [
            "Train on 60000 samples, validate on 10000 samples\n",
            "Epoch 1/30\n",
            "60000/60000 [==============================] - 4s 66us/sample - loss: 0.8670 - accuracy: 0.7124 - val_loss: 1.1747 - val_accuracy: 0.6014\n",
            "Epoch 2/30\n",
            "60000/60000 [==============================] - 3s 58us/sample - loss: 0.6968 - accuracy: 0.7534 - val_loss: 0.9199 - val_accuracy: 0.7350\n",
            "Epoch 3/30\n",
            "60000/60000 [==============================] - 3s 58us/sample - loss: 0.6876 - accuracy: 0.7534 - val_loss: 0.8475 - val_accuracy: 0.7337\n",
            "Epoch 4/30\n",
            "60000/60000 [==============================] - 3s 57us/sample - loss: 0.6681 - accuracy: 0.7615 - val_loss: 0.7768 - val_accuracy: 0.7631\n",
            "Epoch 5/30\n",
            "60000/60000 [==============================] - 3s 58us/sample - loss: 0.6655 - accuracy: 0.7599 - val_loss: 0.7662 - val_accuracy: 0.7458\n",
            "Epoch 6/30\n",
            "60000/60000 [==============================] - 4s 59us/sample - loss: 0.6518 - accuracy: 0.7643 - val_loss: 0.7734 - val_accuracy: 0.7238\n",
            "Epoch 7/30\n",
            "60000/60000 [==============================] - 4s 59us/sample - loss: 0.6552 - accuracy: 0.7614 - val_loss: 0.7483 - val_accuracy: 0.7452\n",
            "Epoch 8/30\n",
            "60000/60000 [==============================] - 3s 58us/sample - loss: 0.6518 - accuracy: 0.7656 - val_loss: 0.7163 - val_accuracy: 0.7518\n",
            "Epoch 9/30\n",
            "60000/60000 [==============================] - 3s 58us/sample - loss: 0.6665 - accuracy: 0.7650 - val_loss: 0.7289 - val_accuracy: 0.7421\n",
            "Epoch 10/30\n",
            "60000/60000 [==============================] - 4s 59us/sample - loss: 0.6459 - accuracy: 0.7704 - val_loss: 0.7191 - val_accuracy: 0.7438\n",
            "Epoch 11/30\n",
            "60000/60000 [==============================] - 4s 59us/sample - loss: 0.6365 - accuracy: 0.7704 - val_loss: 0.7002 - val_accuracy: 0.7497\n",
            "Epoch 12/30\n",
            "60000/60000 [==============================] - 3s 57us/sample - loss: 0.6440 - accuracy: 0.7706 - val_loss: 0.7028 - val_accuracy: 0.7570\n",
            "Epoch 13/30\n",
            "60000/60000 [==============================] - 3s 58us/sample - loss: 0.6600 - accuracy: 0.7614 - val_loss: 0.7092 - val_accuracy: 0.7350\n",
            "Epoch 14/30\n",
            "60000/60000 [==============================] - 4s 59us/sample - loss: 0.6426 - accuracy: 0.7652 - val_loss: 0.6897 - val_accuracy: 0.7547\n",
            "Epoch 15/30\n",
            "60000/60000 [==============================] - 4s 58us/sample - loss: 0.6514 - accuracy: 0.7647 - val_loss: 0.6981 - val_accuracy: 0.7489\n",
            "Epoch 16/30\n",
            "60000/60000 [==============================] - 3s 58us/sample - loss: 0.6429 - accuracy: 0.7656 - val_loss: 0.6956 - val_accuracy: 0.7494\n",
            "Epoch 17/30\n",
            "60000/60000 [==============================] - 3s 58us/sample - loss: 0.6360 - accuracy: 0.7691 - val_loss: 0.7167 - val_accuracy: 0.7387\n",
            "Epoch 18/30\n",
            "60000/60000 [==============================] - 4s 58us/sample - loss: 0.6322 - accuracy: 0.7716 - val_loss: 0.7083 - val_accuracy: 0.7409\n",
            "Epoch 19/30\n",
            "60000/60000 [==============================] - 4s 59us/sample - loss: 0.6369 - accuracy: 0.7685 - val_loss: 0.6841 - val_accuracy: 0.7569\n",
            "Epoch 20/30\n",
            "60000/60000 [==============================] - 3s 57us/sample - loss: 0.6433 - accuracy: 0.7623 - val_loss: 0.7248 - val_accuracy: 0.7316\n",
            "Epoch 21/30\n",
            "60000/60000 [==============================] - 3s 58us/sample - loss: 0.6289 - accuracy: 0.7655 - val_loss: 0.6910 - val_accuracy: 0.7472\n",
            "Epoch 22/30\n",
            "60000/60000 [==============================] - 3s 58us/sample - loss: 0.6250 - accuracy: 0.7717 - val_loss: 0.6643 - val_accuracy: 0.7664\n",
            "Epoch 23/30\n",
            "60000/60000 [==============================] - 3s 58us/sample - loss: 0.6354 - accuracy: 0.7718 - val_loss: 0.6994 - val_accuracy: 0.7372\n",
            "Epoch 24/30\n",
            "60000/60000 [==============================] - 3s 58us/sample - loss: 0.6490 - accuracy: 0.7637 - val_loss: 0.6924 - val_accuracy: 0.7523\n",
            "Epoch 25/30\n",
            "60000/60000 [==============================] - 3s 58us/sample - loss: 0.6309 - accuracy: 0.7728 - val_loss: 0.6766 - val_accuracy: 0.7589\n",
            "Epoch 26/30\n",
            "60000/60000 [==============================] - 3s 58us/sample - loss: 0.6364 - accuracy: 0.7711 - val_loss: 0.7211 - val_accuracy: 0.7473\n",
            "Epoch 27/30\n",
            "60000/60000 [==============================] - 3s 58us/sample - loss: 0.6559 - accuracy: 0.7571 - val_loss: 0.7061 - val_accuracy: 0.7397\n",
            "Epoch 28/30\n",
            "60000/60000 [==============================] - 3s 57us/sample - loss: 0.6579 - accuracy: 0.7599 - val_loss: 0.7109 - val_accuracy: 0.7456\n",
            "Epoch 29/30\n",
            "60000/60000 [==============================] - 3s 58us/sample - loss: 0.6428 - accuracy: 0.7661 - val_loss: 0.7083 - val_accuracy: 0.7414\n",
            "Epoch 30/30\n",
            "60000/60000 [==============================] - 3s 58us/sample - loss: 0.6399 - accuracy: 0.7675 - val_loss: 0.6848 - val_accuracy: 0.7536\n"
          ],
          "name": "stdout"
        },
        {
          "output_type": "execute_result",
          "data": {
            "text/plain": [
              "<tensorflow.python.keras.callbacks.History at 0x7fc24039acd0>"
            ]
          },
          "metadata": {
            "tags": []
          },
          "execution_count": 77
        }
      ]
    },
    {
      "cell_type": "markdown",
      "metadata": {
        "id": "JdzDtGwDOIVF",
        "colab_type": "text"
      },
      "source": [
        "### In the above Neural Network model add Batch Normalization layer after the input layer and repeat the steps."
      ]
    },
    {
      "cell_type": "code",
      "metadata": {
        "id": "kndfpdidOIVI",
        "colab_type": "code",
        "colab": {}
      },
      "source": [
        "def buildModel_with_batch_norm():\n",
        "    # Initialize Sequential model\n",
        "    model = tf.keras.models.Sequential()\n",
        "\n",
        "    # Reshape data from 2D to 1D -> 28x28 to 784\n",
        "    model.add(tf.keras.layers.Reshape((784,),input_shape=(28,28,)))\n",
        "\n",
        "    # Normalize the data\n",
        "    model.add(tf.keras.layers.BatchNormalization())\n",
        "\n",
        "    #Add 1st hidden layer\n",
        "    model.add(tf.keras.layers.Dense(200, activation='sigmoid'))\n",
        "\n",
        "    #Add 2nd hidden layer\n",
        "    model.add(tf.keras.layers.Dense(100, activation='sigmoid'))\n",
        "\n",
        "    #Add 3rd hidden layer\n",
        "    model.add(tf.keras.layers.Dense(60, activation='sigmoid'))\n",
        "\n",
        "    #Add OUTPUT layer\n",
        "    model.add(tf.keras.layers.Dense(10, activation='softmax'))\n",
        "    return model"
      ],
      "execution_count": 0,
      "outputs": []
    },
    {
      "cell_type": "code",
      "metadata": {
        "id": "t22OWryC-2Pd",
        "colab_type": "code",
        "colab": {}
      },
      "source": [
        "model_with_batch_norm = buildModel_with_batch_norm()"
      ],
      "execution_count": 0,
      "outputs": []
    },
    {
      "cell_type": "code",
      "metadata": {
        "id": "QQ8Uvt5m-9vT",
        "colab_type": "code",
        "colab": {
          "base_uri": "https://localhost:8080/",
          "height": 364
        },
        "outputId": "835bd68b-6f70-438f-abae-1cae3b8342ce"
      },
      "source": [
        "model_with_batch_norm.summary()"
      ],
      "execution_count": 80,
      "outputs": [
        {
          "output_type": "stream",
          "text": [
            "Model: \"sequential_8\"\n",
            "_________________________________________________________________\n",
            "Layer (type)                 Output Shape              Param #   \n",
            "=================================================================\n",
            "reshape_6 (Reshape)          (None, 784)               0         \n",
            "_________________________________________________________________\n",
            "batch_normalization_3 (Batch (None, 784)               3136      \n",
            "_________________________________________________________________\n",
            "dense_16 (Dense)             (None, 200)               157000    \n",
            "_________________________________________________________________\n",
            "dense_17 (Dense)             (None, 100)               20100     \n",
            "_________________________________________________________________\n",
            "dense_18 (Dense)             (None, 60)                6060      \n",
            "_________________________________________________________________\n",
            "dense_19 (Dense)             (None, 10)                610       \n",
            "=================================================================\n",
            "Total params: 186,906\n",
            "Trainable params: 185,338\n",
            "Non-trainable params: 1,568\n",
            "_________________________________________________________________\n"
          ],
          "name": "stdout"
        }
      ]
    },
    {
      "cell_type": "code",
      "metadata": {
        "id": "Kce9zsgo-2LD",
        "colab_type": "code",
        "colab": {}
      },
      "source": [
        "model_with_batch_norm.compile(loss='categorical_crossentropy',\n",
        "             optimizer=tf.keras.optimizers.SGD(lr=0.03),\n",
        "             metrics=['accuracy'])"
      ],
      "execution_count": 0,
      "outputs": []
    },
    {
      "cell_type": "markdown",
      "metadata": {
        "id": "mwk3T5LJOIVN",
        "colab_type": "text"
      },
      "source": [
        "### Execute the model"
      ]
    },
    {
      "cell_type": "code",
      "metadata": {
        "id": "JNLR8tcBOIVP",
        "colab_type": "code",
        "colab": {
          "base_uri": "https://localhost:8080/",
          "height": 1000
        },
        "outputId": "faf780db-faf6-4dd6-e542-a72ff727a558"
      },
      "source": [
        "model_with_batch_norm.fit(trainX, trainY,\n",
        "                  batch_size=64,\n",
        "                  epochs=30,\n",
        "                  verbose=1,\n",
        "                  validation_data=(x_test, testY))"
      ],
      "execution_count": 82,
      "outputs": [
        {
          "output_type": "stream",
          "text": [
            "Train on 60000 samples, validate on 10000 samples\n",
            "Epoch 1/30\n",
            "60000/60000 [==============================] - 5s 81us/sample - loss: 1.9371 - accuracy: 0.4277 - val_loss: 2.4698 - val_accuracy: 0.1000\n",
            "Epoch 2/30\n",
            "60000/60000 [==============================] - 4s 68us/sample - loss: 1.1702 - accuracy: 0.6398 - val_loss: 2.6223 - val_accuracy: 0.1000\n",
            "Epoch 3/30\n",
            "60000/60000 [==============================] - 4s 68us/sample - loss: 0.8451 - accuracy: 0.7214 - val_loss: 2.9082 - val_accuracy: 0.1000\n",
            "Epoch 4/30\n",
            "60000/60000 [==============================] - 4s 68us/sample - loss: 0.6916 - accuracy: 0.7487 - val_loss: 3.1910 - val_accuracy: 0.1000\n",
            "Epoch 5/30\n",
            "60000/60000 [==============================] - 4s 67us/sample - loss: 0.6196 - accuracy: 0.7701 - val_loss: 3.2461 - val_accuracy: 0.1000\n",
            "Epoch 6/30\n",
            "60000/60000 [==============================] - 4s 68us/sample - loss: 0.5711 - accuracy: 0.7932 - val_loss: 3.2651 - val_accuracy: 0.1000\n",
            "Epoch 7/30\n",
            "60000/60000 [==============================] - 4s 68us/sample - loss: 0.5371 - accuracy: 0.8080 - val_loss: 3.2465 - val_accuracy: 0.1000\n",
            "Epoch 8/30\n",
            "60000/60000 [==============================] - 4s 68us/sample - loss: 0.5073 - accuracy: 0.8211 - val_loss: 3.1730 - val_accuracy: 0.1000\n",
            "Epoch 9/30\n",
            "60000/60000 [==============================] - 4s 68us/sample - loss: 0.4857 - accuracy: 0.8278 - val_loss: 3.2737 - val_accuracy: 0.1003\n",
            "Epoch 10/30\n",
            "60000/60000 [==============================] - 4s 68us/sample - loss: 0.4662 - accuracy: 0.8354 - val_loss: 3.1972 - val_accuracy: 0.1000\n",
            "Epoch 11/30\n",
            "60000/60000 [==============================] - 4s 67us/sample - loss: 0.4490 - accuracy: 0.8411 - val_loss: 3.2476 - val_accuracy: 0.1000\n",
            "Epoch 12/30\n",
            "60000/60000 [==============================] - 4s 67us/sample - loss: 0.4352 - accuracy: 0.8459 - val_loss: 3.2267 - val_accuracy: 0.1000\n",
            "Epoch 13/30\n",
            "60000/60000 [==============================] - 4s 66us/sample - loss: 0.4226 - accuracy: 0.8493 - val_loss: 3.2643 - val_accuracy: 0.1000\n",
            "Epoch 14/30\n",
            "60000/60000 [==============================] - 4s 67us/sample - loss: 0.4111 - accuracy: 0.8548 - val_loss: 3.1505 - val_accuracy: 0.1000\n",
            "Epoch 15/30\n",
            "60000/60000 [==============================] - 4s 67us/sample - loss: 0.4040 - accuracy: 0.8569 - val_loss: 3.2605 - val_accuracy: 0.1000\n",
            "Epoch 16/30\n",
            "60000/60000 [==============================] - 4s 68us/sample - loss: 0.3947 - accuracy: 0.8605 - val_loss: 3.0333 - val_accuracy: 0.1000\n",
            "Epoch 17/30\n",
            "60000/60000 [==============================] - 4s 67us/sample - loss: 0.3861 - accuracy: 0.8625 - val_loss: 3.4938 - val_accuracy: 0.1000\n",
            "Epoch 18/30\n",
            "60000/60000 [==============================] - 4s 67us/sample - loss: 0.3791 - accuracy: 0.8654 - val_loss: 3.2834 - val_accuracy: 0.1000\n",
            "Epoch 19/30\n",
            "60000/60000 [==============================] - 4s 68us/sample - loss: 0.3710 - accuracy: 0.8685 - val_loss: 3.0097 - val_accuracy: 0.1000\n",
            "Epoch 20/30\n",
            "60000/60000 [==============================] - 4s 67us/sample - loss: 0.3633 - accuracy: 0.8707 - val_loss: 3.0607 - val_accuracy: 0.1000\n",
            "Epoch 21/30\n",
            "60000/60000 [==============================] - 4s 67us/sample - loss: 0.3577 - accuracy: 0.8722 - val_loss: 3.0015 - val_accuracy: 0.1000\n",
            "Epoch 22/30\n",
            "60000/60000 [==============================] - 4s 70us/sample - loss: 0.3531 - accuracy: 0.8737 - val_loss: 3.1269 - val_accuracy: 0.1000\n",
            "Epoch 23/30\n",
            "60000/60000 [==============================] - 4s 67us/sample - loss: 0.3446 - accuracy: 0.8768 - val_loss: 2.9603 - val_accuracy: 0.1000\n",
            "Epoch 24/30\n",
            "60000/60000 [==============================] - 4s 67us/sample - loss: 0.3400 - accuracy: 0.8783 - val_loss: 3.1636 - val_accuracy: 0.1005\n",
            "Epoch 25/30\n",
            "60000/60000 [==============================] - 4s 67us/sample - loss: 0.3347 - accuracy: 0.8805 - val_loss: 3.2433 - val_accuracy: 0.1000\n",
            "Epoch 26/30\n",
            "60000/60000 [==============================] - 4s 68us/sample - loss: 0.3287 - accuracy: 0.8827 - val_loss: 3.0413 - val_accuracy: 0.1000\n",
            "Epoch 27/30\n",
            "60000/60000 [==============================] - 4s 67us/sample - loss: 0.3226 - accuracy: 0.8845 - val_loss: 3.0565 - val_accuracy: 0.1000\n",
            "Epoch 28/30\n",
            "60000/60000 [==============================] - 4s 67us/sample - loss: 0.3189 - accuracy: 0.8862 - val_loss: 2.9753 - val_accuracy: 0.1000\n",
            "Epoch 29/30\n",
            "60000/60000 [==============================] - 4s 67us/sample - loss: 0.3145 - accuracy: 0.8875 - val_loss: 3.3157 - val_accuracy: 0.1171\n",
            "Epoch 30/30\n",
            "60000/60000 [==============================] - 4s 67us/sample - loss: 0.3104 - accuracy: 0.8889 - val_loss: 3.4785 - val_accuracy: 0.1000\n"
          ],
          "name": "stdout"
        },
        {
          "output_type": "execute_result",
          "data": {
            "text/plain": [
              "<tensorflow.python.keras.callbacks.History at 0x7fc23f6757d0>"
            ]
          },
          "metadata": {
            "tags": []
          },
          "execution_count": 82
        }
      ]
    },
    {
      "cell_type": "markdown",
      "metadata": {
        "id": "Py-KwkmjOIVU",
        "colab_type": "text"
      },
      "source": [
        "### Customize the learning rate to 0.001 in sgd optimizer and run the model"
      ]
    },
    {
      "cell_type": "code",
      "metadata": {
        "id": "yLXUE9jWOIVV",
        "colab_type": "code",
        "colab": {}
      },
      "source": [
        "model_with_batch_norm_2 = buildModel_with_batch_norm()"
      ],
      "execution_count": 0,
      "outputs": []
    },
    {
      "cell_type": "code",
      "metadata": {
        "id": "pJUqA5T4OIVc",
        "colab_type": "code",
        "colab": {}
      },
      "source": [
        "model_with_batch_norm_2.compile(loss='categorical_crossentropy',\n",
        "             optimizer=tf.keras.optimizers.SGD(lr=0.001),\n",
        "             metrics=['accuracy'])"
      ],
      "execution_count": 0,
      "outputs": []
    },
    {
      "cell_type": "code",
      "metadata": {
        "id": "jD_Jr5hR_mW4",
        "colab_type": "code",
        "colab": {
          "base_uri": "https://localhost:8080/",
          "height": 1000
        },
        "outputId": "29ac819f-879b-4f7d-9265-6edf792f6135"
      },
      "source": [
        "model_with_batch_norm_2.fit(trainX, trainY,\n",
        "                  batch_size=64,\n",
        "                  epochs=30,\n",
        "                  verbose=1,\n",
        "                  validation_data=(x_test, testY))"
      ],
      "execution_count": 85,
      "outputs": [
        {
          "output_type": "stream",
          "text": [
            "Train on 60000 samples, validate on 10000 samples\n",
            "Epoch 1/30\n",
            "60000/60000 [==============================] - 5s 78us/sample - loss: 2.3954 - accuracy: 0.1000 - val_loss: 2.3220 - val_accuracy: 0.1000\n",
            "Epoch 2/30\n",
            "60000/60000 [==============================] - 4s 67us/sample - loss: 2.2958 - accuracy: 0.1265 - val_loss: 2.3042 - val_accuracy: 0.1000\n",
            "Epoch 3/30\n",
            "60000/60000 [==============================] - 4s 68us/sample - loss: 2.2771 - accuracy: 0.2697 - val_loss: 2.3035 - val_accuracy: 0.1000\n",
            "Epoch 4/30\n",
            "60000/60000 [==============================] - 4s 67us/sample - loss: 2.2640 - accuracy: 0.3167 - val_loss: 2.3040 - val_accuracy: 0.1000\n",
            "Epoch 5/30\n",
            "60000/60000 [==============================] - 4s 67us/sample - loss: 2.2502 - accuracy: 0.3502 - val_loss: 2.3049 - val_accuracy: 0.1000\n",
            "Epoch 6/30\n",
            "60000/60000 [==============================] - 4s 68us/sample - loss: 2.2353 - accuracy: 0.3613 - val_loss: 2.3067 - val_accuracy: 0.1000\n",
            "Epoch 7/30\n",
            "60000/60000 [==============================] - 4s 68us/sample - loss: 2.2188 - accuracy: 0.3827 - val_loss: 2.3088 - val_accuracy: 0.1000\n",
            "Epoch 8/30\n",
            "60000/60000 [==============================] - 4s 68us/sample - loss: 2.2002 - accuracy: 0.4115 - val_loss: 2.3127 - val_accuracy: 0.1000\n",
            "Epoch 9/30\n",
            "60000/60000 [==============================] - 4s 68us/sample - loss: 2.1794 - accuracy: 0.4042 - val_loss: 2.3173 - val_accuracy: 0.1000\n",
            "Epoch 10/30\n",
            "60000/60000 [==============================] - 4s 67us/sample - loss: 2.1560 - accuracy: 0.4239 - val_loss: 2.3241 - val_accuracy: 0.1000\n",
            "Epoch 11/30\n",
            "60000/60000 [==============================] - 4s 67us/sample - loss: 2.1295 - accuracy: 0.4228 - val_loss: 2.3334 - val_accuracy: 0.1000\n",
            "Epoch 12/30\n",
            "60000/60000 [==============================] - 4s 68us/sample - loss: 2.0998 - accuracy: 0.4346 - val_loss: 2.3447 - val_accuracy: 0.1000\n",
            "Epoch 13/30\n",
            "60000/60000 [==============================] - 4s 68us/sample - loss: 2.0674 - accuracy: 0.4304 - val_loss: 2.3608 - val_accuracy: 0.1000\n",
            "Epoch 14/30\n",
            "60000/60000 [==============================] - 4s 68us/sample - loss: 2.0322 - accuracy: 0.4333 - val_loss: 2.3795 - val_accuracy: 0.1000\n",
            "Epoch 15/30\n",
            "60000/60000 [==============================] - 4s 67us/sample - loss: 1.9950 - accuracy: 0.4378 - val_loss: 2.4024 - val_accuracy: 0.1000\n",
            "Epoch 16/30\n",
            "60000/60000 [==============================] - 4s 67us/sample - loss: 1.9568 - accuracy: 0.4322 - val_loss: 2.4262 - val_accuracy: 0.1000\n",
            "Epoch 17/30\n",
            "60000/60000 [==============================] - 4s 68us/sample - loss: 1.9166 - accuracy: 0.4389 - val_loss: 2.4523 - val_accuracy: 0.1000\n",
            "Epoch 18/30\n",
            "60000/60000 [==============================] - 4s 67us/sample - loss: 1.8768 - accuracy: 0.4466 - val_loss: 2.4820 - val_accuracy: 0.1000\n",
            "Epoch 19/30\n",
            "60000/60000 [==============================] - 4s 68us/sample - loss: 1.8372 - accuracy: 0.4631 - val_loss: 2.5068 - val_accuracy: 0.1000\n",
            "Epoch 20/30\n",
            "60000/60000 [==============================] - 4s 68us/sample - loss: 1.7975 - accuracy: 0.4598 - val_loss: 2.5305 - val_accuracy: 0.1000\n",
            "Epoch 21/30\n",
            "60000/60000 [==============================] - 4s 67us/sample - loss: 1.7603 - accuracy: 0.4813 - val_loss: 2.5497 - val_accuracy: 0.1000\n",
            "Epoch 22/30\n",
            "60000/60000 [==============================] - 4s 66us/sample - loss: 1.7234 - accuracy: 0.4992 - val_loss: 2.5544 - val_accuracy: 0.1000\n",
            "Epoch 23/30\n",
            "60000/60000 [==============================] - 4s 68us/sample - loss: 1.6877 - accuracy: 0.5154 - val_loss: 2.5633 - val_accuracy: 0.1000\n",
            "Epoch 24/30\n",
            "60000/60000 [==============================] - 4s 67us/sample - loss: 1.6534 - accuracy: 0.5210 - val_loss: 2.5693 - val_accuracy: 0.1000\n",
            "Epoch 25/30\n",
            "60000/60000 [==============================] - 4s 68us/sample - loss: 1.6197 - accuracy: 0.5433 - val_loss: 2.5689 - val_accuracy: 0.1000\n",
            "Epoch 26/30\n",
            "60000/60000 [==============================] - 4s 67us/sample - loss: 1.5870 - accuracy: 0.5418 - val_loss: 2.5715 - val_accuracy: 0.1000\n",
            "Epoch 27/30\n",
            "60000/60000 [==============================] - 4s 67us/sample - loss: 1.5553 - accuracy: 0.5608 - val_loss: 2.5727 - val_accuracy: 0.1000\n",
            "Epoch 28/30\n",
            "60000/60000 [==============================] - 4s 67us/sample - loss: 1.5250 - accuracy: 0.5589 - val_loss: 2.5718 - val_accuracy: 0.1000\n",
            "Epoch 29/30\n",
            "60000/60000 [==============================] - 4s 67us/sample - loss: 1.4950 - accuracy: 0.5681 - val_loss: 2.5698 - val_accuracy: 0.1000\n",
            "Epoch 30/30\n",
            "60000/60000 [==============================] - 4s 67us/sample - loss: 1.4663 - accuracy: 0.5643 - val_loss: 2.5691 - val_accuracy: 0.1000\n"
          ],
          "name": "stdout"
        },
        {
          "output_type": "execute_result",
          "data": {
            "text/plain": [
              "<tensorflow.python.keras.callbacks.History at 0x7fc23df71490>"
            ]
          },
          "metadata": {
            "tags": []
          },
          "execution_count": 85
        }
      ]
    },
    {
      "cell_type": "code",
      "metadata": {
        "id": "YEouCHbo_mMB",
        "colab_type": "code",
        "colab": {}
      },
      "source": [
        ""
      ],
      "execution_count": 0,
      "outputs": []
    },
    {
      "cell_type": "markdown",
      "metadata": {
        "id": "j9CSqKvpOIVk",
        "colab_type": "text"
      },
      "source": [
        "### Build the Neural Network model with 3 Dense layers with 100,100,10 neurons respectively in each layer. Use cross entropy loss function and singmoid as activation in the hidden layers and softmax as activation function in the output layer. Use sgd optimizer with learning rate 0.03."
      ]
    },
    {
      "cell_type": "code",
      "metadata": {
        "id": "GGAad54JOIVm",
        "colab_type": "code",
        "colab": {}
      },
      "source": [
        "def buildModel_with_three_layer():\n",
        "    # Initialize Sequential model\n",
        "    model = tf.keras.models.Sequential()\n",
        "\n",
        "    # Reshape data from 2D to 1D -> 28x28 to 784\n",
        "    model.add(tf.keras.layers.Reshape((784,),input_shape=(28,28,)))\n",
        "\n",
        "    # Normalize the data\n",
        "    model.add(tf.keras.layers.BatchNormalization())\n",
        "# 157000\n",
        "# 10010010\n",
        "    #Add 1st hidden layer\n",
        "    model.add(tf.keras.layers.Dense(2000, activation='sigmoid'))\n",
        "\n",
        "    #Add 2nd hidden layer\n",
        "    model.add(tf.keras.layers.Dense(2000, activation='sigmoid'))\n",
        "\n",
        "    #Add 3rd hidden layer\n",
        "    model.add(tf.keras.layers.Dense(2000, activation='sigmoid'))\n",
        "\n",
        "    #Add OUTPUT layer\n",
        "    model.add(tf.keras.layers.Dense(10, activation='softmax'))\n",
        "    return model"
      ],
      "execution_count": 0,
      "outputs": []
    },
    {
      "cell_type": "code",
      "metadata": {
        "id": "MQ7oIymROIVp",
        "colab_type": "code",
        "colab": {}
      },
      "source": [
        "model_with_three_layer = buildModel_with_three_layer()"
      ],
      "execution_count": 0,
      "outputs": []
    },
    {
      "cell_type": "code",
      "metadata": {
        "id": "X-O-fFxnOIVt",
        "colab_type": "code",
        "colab": {}
      },
      "source": [
        "model_with_three_layer.compile(loss='categorical_crossentropy',\n",
        "             optimizer=tf.keras.optimizers.SGD(lr=0.03),\n",
        "             metrics=['accuracy'])"
      ],
      "execution_count": 0,
      "outputs": []
    },
    {
      "cell_type": "markdown",
      "metadata": {
        "id": "Nr2YsZV0OIV0",
        "colab_type": "text"
      },
      "source": [
        "## Review model"
      ]
    },
    {
      "cell_type": "code",
      "metadata": {
        "id": "HVMpTDxPBDdK",
        "colab_type": "code",
        "colab": {
          "base_uri": "https://localhost:8080/",
          "height": 364
        },
        "outputId": "10adaf02-50d0-4639-d4bd-5db6bf619f52"
      },
      "source": [
        "model_with_three_layer.summary()"
      ],
      "execution_count": 91,
      "outputs": [
        {
          "output_type": "stream",
          "text": [
            "Model: \"sequential_10\"\n",
            "_________________________________________________________________\n",
            "Layer (type)                 Output Shape              Param #   \n",
            "=================================================================\n",
            "reshape_8 (Reshape)          (None, 784)               0         \n",
            "_________________________________________________________________\n",
            "batch_normalization_5 (Batch (None, 784)               3136      \n",
            "_________________________________________________________________\n",
            "dense_24 (Dense)             (None, 2000)              1570000   \n",
            "_________________________________________________________________\n",
            "dense_25 (Dense)             (None, 2000)              4002000   \n",
            "_________________________________________________________________\n",
            "dense_26 (Dense)             (None, 2000)              4002000   \n",
            "_________________________________________________________________\n",
            "dense_27 (Dense)             (None, 10)                20010     \n",
            "=================================================================\n",
            "Total params: 9,597,146\n",
            "Trainable params: 9,595,578\n",
            "Non-trainable params: 1,568\n",
            "_________________________________________________________________\n"
          ],
          "name": "stdout"
        }
      ]
    },
    {
      "cell_type": "code",
      "metadata": {
        "id": "h4ojW6-oOIV2",
        "colab_type": "code",
        "colab": {}
      },
      "source": [
        ""
      ],
      "execution_count": 0,
      "outputs": []
    },
    {
      "cell_type": "markdown",
      "metadata": {
        "id": "gfFGmbZLOIV5",
        "colab_type": "text"
      },
      "source": [
        "### Run the model"
      ]
    },
    {
      "cell_type": "code",
      "metadata": {
        "id": "BiP7IL52OIVw",
        "colab_type": "code",
        "colab": {
          "base_uri": "https://localhost:8080/",
          "height": 1000
        },
        "outputId": "aa58d463-876c-45d4-a622-97617383e4cf"
      },
      "source": [
        "model_with_three_layer.fit(trainX, trainY,\n",
        "                  batch_size=64,\n",
        "                  epochs=30,\n",
        "                  verbose=1,\n",
        "                  validation_data=(x_test, testY))"
      ],
      "execution_count": 90,
      "outputs": [
        {
          "output_type": "stream",
          "text": [
            "Train on 60000 samples, validate on 10000 samples\n",
            "Epoch 1/30\n",
            "60000/60000 [==============================] - 6s 92us/sample - loss: 1.6232 - accuracy: 0.4112 - val_loss: 3.7802 - val_accuracy: 0.1000\n",
            "Epoch 2/30\n",
            "60000/60000 [==============================] - 5s 78us/sample - loss: 0.7919 - accuracy: 0.7062 - val_loss: 4.0490 - val_accuracy: 0.1000\n",
            "Epoch 3/30\n",
            "60000/60000 [==============================] - 5s 77us/sample - loss: 0.6617 - accuracy: 0.7490 - val_loss: 3.6947 - val_accuracy: 0.1000\n",
            "Epoch 4/30\n",
            "60000/60000 [==============================] - 5s 78us/sample - loss: 0.6023 - accuracy: 0.7758 - val_loss: 3.9832 - val_accuracy: 0.1000\n",
            "Epoch 5/30\n",
            "60000/60000 [==============================] - 5s 78us/sample - loss: 0.5640 - accuracy: 0.7932 - val_loss: 3.8509 - val_accuracy: 0.1000\n",
            "Epoch 6/30\n",
            "60000/60000 [==============================] - 5s 78us/sample - loss: 0.5350 - accuracy: 0.8040 - val_loss: 3.8352 - val_accuracy: 0.1000\n",
            "Epoch 7/30\n",
            "60000/60000 [==============================] - 5s 77us/sample - loss: 0.5119 - accuracy: 0.8131 - val_loss: 4.1259 - val_accuracy: 0.1000\n",
            "Epoch 8/30\n",
            "60000/60000 [==============================] - 5s 78us/sample - loss: 0.4953 - accuracy: 0.8213 - val_loss: 3.8529 - val_accuracy: 0.1000\n",
            "Epoch 9/30\n",
            "60000/60000 [==============================] - 5s 77us/sample - loss: 0.4801 - accuracy: 0.8278 - val_loss: 3.8695 - val_accuracy: 0.1000\n",
            "Epoch 10/30\n",
            "60000/60000 [==============================] - 5s 77us/sample - loss: 0.4704 - accuracy: 0.8303 - val_loss: 3.8627 - val_accuracy: 0.1000\n",
            "Epoch 11/30\n",
            "60000/60000 [==============================] - 5s 78us/sample - loss: 0.4604 - accuracy: 0.8351 - val_loss: 4.0372 - val_accuracy: 0.1000\n",
            "Epoch 12/30\n",
            "60000/60000 [==============================] - 5s 78us/sample - loss: 0.4528 - accuracy: 0.8367 - val_loss: 4.1544 - val_accuracy: 0.1000\n",
            "Epoch 13/30\n",
            "60000/60000 [==============================] - 5s 78us/sample - loss: 0.4471 - accuracy: 0.8403 - val_loss: 3.9934 - val_accuracy: 0.1000\n",
            "Epoch 14/30\n",
            "60000/60000 [==============================] - 5s 78us/sample - loss: 0.4410 - accuracy: 0.8422 - val_loss: 4.5339 - val_accuracy: 0.1000\n",
            "Epoch 15/30\n",
            "60000/60000 [==============================] - 5s 78us/sample - loss: 0.4335 - accuracy: 0.8437 - val_loss: 3.8032 - val_accuracy: 0.1000\n",
            "Epoch 16/30\n",
            "60000/60000 [==============================] - 5s 79us/sample - loss: 0.4291 - accuracy: 0.8452 - val_loss: 3.4262 - val_accuracy: 0.1000\n",
            "Epoch 17/30\n",
            "60000/60000 [==============================] - 5s 82us/sample - loss: 0.4235 - accuracy: 0.8490 - val_loss: 4.4558 - val_accuracy: 0.1000\n",
            "Epoch 18/30\n",
            "60000/60000 [==============================] - 5s 78us/sample - loss: 0.4208 - accuracy: 0.8494 - val_loss: 3.8735 - val_accuracy: 0.1000\n",
            "Epoch 19/30\n",
            "60000/60000 [==============================] - 5s 77us/sample - loss: 0.4157 - accuracy: 0.8505 - val_loss: 4.3721 - val_accuracy: 0.1000\n",
            "Epoch 20/30\n",
            "60000/60000 [==============================] - 5s 77us/sample - loss: 0.4109 - accuracy: 0.8523 - val_loss: 3.8029 - val_accuracy: 0.1000\n",
            "Epoch 21/30\n",
            "60000/60000 [==============================] - 5s 78us/sample - loss: 0.4055 - accuracy: 0.8550 - val_loss: 4.9340 - val_accuracy: 0.1000\n",
            "Epoch 22/30\n",
            "60000/60000 [==============================] - 5s 78us/sample - loss: 0.4049 - accuracy: 0.8551 - val_loss: 3.7795 - val_accuracy: 0.1000\n",
            "Epoch 23/30\n",
            "60000/60000 [==============================] - 5s 78us/sample - loss: 0.3988 - accuracy: 0.8578 - val_loss: 4.3101 - val_accuracy: 0.1000\n",
            "Epoch 24/30\n",
            "60000/60000 [==============================] - 5s 78us/sample - loss: 0.3969 - accuracy: 0.8580 - val_loss: 3.9710 - val_accuracy: 0.1000\n",
            "Epoch 25/30\n",
            "60000/60000 [==============================] - 5s 78us/sample - loss: 0.3911 - accuracy: 0.8589 - val_loss: 3.9747 - val_accuracy: 0.1000\n",
            "Epoch 26/30\n",
            "60000/60000 [==============================] - 5s 78us/sample - loss: 0.3882 - accuracy: 0.8600 - val_loss: 3.6803 - val_accuracy: 0.1000\n",
            "Epoch 27/30\n",
            "60000/60000 [==============================] - 5s 77us/sample - loss: 0.3842 - accuracy: 0.8622 - val_loss: 3.5520 - val_accuracy: 0.1000\n",
            "Epoch 28/30\n",
            "60000/60000 [==============================] - 5s 77us/sample - loss: 0.3806 - accuracy: 0.8627 - val_loss: 4.2752 - val_accuracy: 0.1000\n",
            "Epoch 29/30\n",
            "60000/60000 [==============================] - 5s 77us/sample - loss: 0.3785 - accuracy: 0.8625 - val_loss: 3.6170 - val_accuracy: 0.1000\n",
            "Epoch 30/30\n",
            "60000/60000 [==============================] - 5s 77us/sample - loss: 0.3747 - accuracy: 0.8655 - val_loss: 4.3189 - val_accuracy: 0.1000\n"
          ],
          "name": "stdout"
        },
        {
          "output_type": "execute_result",
          "data": {
            "text/plain": [
              "<tensorflow.python.keras.callbacks.History at 0x7fc23c796dd0>"
            ]
          },
          "metadata": {
            "tags": []
          },
          "execution_count": 90
        }
      ]
    },
    {
      "cell_type": "code",
      "metadata": {
        "id": "bIkbMEN5OIV7",
        "colab_type": "code",
        "colab": {}
      },
      "source": [
        ""
      ],
      "execution_count": 0,
      "outputs": []
    }
  ]
}