{
  "nbformat": 4,
  "nbformat_minor": 0,
  "metadata": {
    "colab": {
      "name": "R6_Internal_Lab_UpdatedTF2_Prices_Iris.ipynb",
      "provenance": [],
      "collapsed_sections": []
    },
    "kernelspec": {
      "name": "python3",
      "display_name": "Python 3"
    },
    "accelerator": "GPU"
  },
  "cells": [
    {
      "cell_type": "markdown",
      "metadata": {
        "colab_type": "text",
        "id": "84Q8JfvaeZZ6"
      },
      "source": [
        "## Linear Classifier in TensorFlow \n",
        "Using Low Level API in Eager Execution mode"
      ]
    },
    {
      "cell_type": "markdown",
      "metadata": {
        "colab_type": "text",
        "id": "sb7Epo0VOB58"
      },
      "source": [
        "### Load tensorflow"
      ]
    },
    {
      "cell_type": "code",
      "metadata": {
        "colab_type": "code",
        "id": "fHpCNRv1OB5-",
        "outputId": "01871904-12e5-41dc-8ea0-fc43af6f05f0",
        "colab": {
          "base_uri": "https://localhost:8080/",
          "height": 34
        }
      },
      "source": [
        "%tensorflow_version 2.x"
      ],
      "execution_count": 1,
      "outputs": [
        {
          "output_type": "stream",
          "text": [
            "TensorFlow 2.x selected.\n"
          ],
          "name": "stdout"
        }
      ]
    },
    {
      "cell_type": "code",
      "metadata": {
        "colab_type": "code",
        "id": "Mjtb-EMcm5K0",
        "colab": {
          "base_uri": "https://localhost:8080/",
          "height": 34
        },
        "outputId": "a48f8698-6e6b-4f1b-8931-84e6a46bb85e"
      },
      "source": [
        "import tensorflow as tf\n",
        "print(tf.__version__)"
      ],
      "execution_count": 5,
      "outputs": [
        {
          "output_type": "stream",
          "text": [
            "2.0.0\n"
          ],
          "name": "stdout"
        }
      ]
    },
    {
      "cell_type": "markdown",
      "metadata": {
        "colab_type": "text",
        "id": "DxJDmJqqOB6K"
      },
      "source": [
        "### Collect Data"
      ]
    },
    {
      "cell_type": "code",
      "metadata": {
        "colab_type": "code",
        "id": "FhllFLyKOB6N",
        "colab": {}
      },
      "source": [
        "from google.colab import drive\n",
        "drive.mount('/gdrive')"
      ],
      "execution_count": 0,
      "outputs": []
    },
    {
      "cell_type": "code",
      "metadata": {
        "id": "4UwJjsecuzoR",
        "colab_type": "code",
        "colab": {}
      },
      "source": [
        "from google.colab import drive\n",
        "drive.mount('/content/drive')"
      ],
      "execution_count": 0,
      "outputs": []
    },
    {
      "cell_type": "code",
      "metadata": {
        "colab_type": "code",
        "id": "KiObW4V4SIOz",
        "colab": {}
      },
      "source": [
        "import pandas as pd"
      ],
      "execution_count": 0,
      "outputs": []
    },
    {
      "cell_type": "code",
      "metadata": {
        "colab_type": "code",
        "id": "B4yQKMiJOB6R",
        "colab": {}
      },
      "source": [
        "data = pd.read_csv('/content/drive/My Drive/Colab Notebooks/Shared/Residency 6/prices.csv')"
      ],
      "execution_count": 0,
      "outputs": []
    },
    {
      "cell_type": "markdown",
      "metadata": {
        "colab_type": "text",
        "id": "fgkX6SEqOB6W"
      },
      "source": [
        "### Check all columns in the dataset"
      ]
    },
    {
      "cell_type": "code",
      "metadata": {
        "colab_type": "code",
        "id": "7K8pWsNQOB6X",
        "colab": {
          "base_uri": "https://localhost:8080/",
          "height": 34
        },
        "outputId": "3278a50f-37ad-42e8-a71f-329eb53049fd"
      },
      "source": [
        "data.shape"
      ],
      "execution_count": 6,
      "outputs": [
        {
          "output_type": "execute_result",
          "data": {
            "text/plain": [
              "(851264, 7)"
            ]
          },
          "metadata": {
            "tags": []
          },
          "execution_count": 6
        }
      ]
    },
    {
      "cell_type": "code",
      "metadata": {
        "id": "5OIZDYj3vTq1",
        "colab_type": "code",
        "colab": {
          "base_uri": "https://localhost:8080/",
          "height": 34
        },
        "outputId": "b0496bd2-4b62-4e69-96da-06d6b7df8bff"
      },
      "source": [
        "data.columns"
      ],
      "execution_count": 7,
      "outputs": [
        {
          "output_type": "execute_result",
          "data": {
            "text/plain": [
              "Index(['date', 'symbol', 'open', 'close', 'low', 'high', 'volume'], dtype='object')"
            ]
          },
          "metadata": {
            "tags": []
          },
          "execution_count": 7
        }
      ]
    },
    {
      "cell_type": "code",
      "metadata": {
        "id": "XoqKy78Fvbjl",
        "colab_type": "code",
        "colab": {
          "base_uri": "https://localhost:8080/",
          "height": 197
        },
        "outputId": "5d85179a-437a-4ae9-9871-1f3f66b0212a"
      },
      "source": [
        "data.head()"
      ],
      "execution_count": 8,
      "outputs": [
        {
          "output_type": "execute_result",
          "data": {
            "text/html": [
              "<div>\n",
              "<style scoped>\n",
              "    .dataframe tbody tr th:only-of-type {\n",
              "        vertical-align: middle;\n",
              "    }\n",
              "\n",
              "    .dataframe tbody tr th {\n",
              "        vertical-align: top;\n",
              "    }\n",
              "\n",
              "    .dataframe thead th {\n",
              "        text-align: right;\n",
              "    }\n",
              "</style>\n",
              "<table border=\"1\" class=\"dataframe\">\n",
              "  <thead>\n",
              "    <tr style=\"text-align: right;\">\n",
              "      <th></th>\n",
              "      <th>date</th>\n",
              "      <th>symbol</th>\n",
              "      <th>open</th>\n",
              "      <th>close</th>\n",
              "      <th>low</th>\n",
              "      <th>high</th>\n",
              "      <th>volume</th>\n",
              "    </tr>\n",
              "  </thead>\n",
              "  <tbody>\n",
              "    <tr>\n",
              "      <th>0</th>\n",
              "      <td>2016-01-05 00:00:00</td>\n",
              "      <td>WLTW</td>\n",
              "      <td>123.430000</td>\n",
              "      <td>125.839996</td>\n",
              "      <td>122.309998</td>\n",
              "      <td>126.250000</td>\n",
              "      <td>2163600.0</td>\n",
              "    </tr>\n",
              "    <tr>\n",
              "      <th>1</th>\n",
              "      <td>2016-01-06 00:00:00</td>\n",
              "      <td>WLTW</td>\n",
              "      <td>125.239998</td>\n",
              "      <td>119.980003</td>\n",
              "      <td>119.940002</td>\n",
              "      <td>125.540001</td>\n",
              "      <td>2386400.0</td>\n",
              "    </tr>\n",
              "    <tr>\n",
              "      <th>2</th>\n",
              "      <td>2016-01-07 00:00:00</td>\n",
              "      <td>WLTW</td>\n",
              "      <td>116.379997</td>\n",
              "      <td>114.949997</td>\n",
              "      <td>114.930000</td>\n",
              "      <td>119.739998</td>\n",
              "      <td>2489500.0</td>\n",
              "    </tr>\n",
              "    <tr>\n",
              "      <th>3</th>\n",
              "      <td>2016-01-08 00:00:00</td>\n",
              "      <td>WLTW</td>\n",
              "      <td>115.480003</td>\n",
              "      <td>116.620003</td>\n",
              "      <td>113.500000</td>\n",
              "      <td>117.440002</td>\n",
              "      <td>2006300.0</td>\n",
              "    </tr>\n",
              "    <tr>\n",
              "      <th>4</th>\n",
              "      <td>2016-01-11 00:00:00</td>\n",
              "      <td>WLTW</td>\n",
              "      <td>117.010002</td>\n",
              "      <td>114.970001</td>\n",
              "      <td>114.089996</td>\n",
              "      <td>117.330002</td>\n",
              "      <td>1408600.0</td>\n",
              "    </tr>\n",
              "  </tbody>\n",
              "</table>\n",
              "</div>"
            ],
            "text/plain": [
              "                  date symbol        open  ...         low        high     volume\n",
              "0  2016-01-05 00:00:00   WLTW  123.430000  ...  122.309998  126.250000  2163600.0\n",
              "1  2016-01-06 00:00:00   WLTW  125.239998  ...  119.940002  125.540001  2386400.0\n",
              "2  2016-01-07 00:00:00   WLTW  116.379997  ...  114.930000  119.739998  2489500.0\n",
              "3  2016-01-08 00:00:00   WLTW  115.480003  ...  113.500000  117.440002  2006300.0\n",
              "4  2016-01-11 00:00:00   WLTW  117.010002  ...  114.089996  117.330002  1408600.0\n",
              "\n",
              "[5 rows x 7 columns]"
            ]
          },
          "metadata": {
            "tags": []
          },
          "execution_count": 8
        }
      ]
    },
    {
      "cell_type": "code",
      "metadata": {
        "id": "b5nHoNXhvTkf",
        "colab_type": "code",
        "colab": {
          "base_uri": "https://localhost:8080/",
          "height": 230
        },
        "outputId": "e7520382-39ea-4066-83dc-f18c4e05d3e9"
      },
      "source": [
        "data.info()"
      ],
      "execution_count": 9,
      "outputs": [
        {
          "output_type": "stream",
          "text": [
            "<class 'pandas.core.frame.DataFrame'>\n",
            "RangeIndex: 851264 entries, 0 to 851263\n",
            "Data columns (total 7 columns):\n",
            "date      851264 non-null object\n",
            "symbol    851264 non-null object\n",
            "open      851264 non-null float64\n",
            "close     851264 non-null float64\n",
            "low       851264 non-null float64\n",
            "high      851264 non-null float64\n",
            "volume    851264 non-null float64\n",
            "dtypes: float64(5), object(2)\n",
            "memory usage: 45.5+ MB\n"
          ],
          "name": "stdout"
        }
      ]
    },
    {
      "cell_type": "code",
      "metadata": {
        "id": "rvSOg8AivgGR",
        "colab_type": "code",
        "colab": {
          "base_uri": "https://localhost:8080/",
          "height": 287
        },
        "outputId": "ae3cda2e-147b-4d15-9069-f4465b624125"
      },
      "source": [
        "data.describe()"
      ],
      "execution_count": 10,
      "outputs": [
        {
          "output_type": "execute_result",
          "data": {
            "text/html": [
              "<div>\n",
              "<style scoped>\n",
              "    .dataframe tbody tr th:only-of-type {\n",
              "        vertical-align: middle;\n",
              "    }\n",
              "\n",
              "    .dataframe tbody tr th {\n",
              "        vertical-align: top;\n",
              "    }\n",
              "\n",
              "    .dataframe thead th {\n",
              "        text-align: right;\n",
              "    }\n",
              "</style>\n",
              "<table border=\"1\" class=\"dataframe\">\n",
              "  <thead>\n",
              "    <tr style=\"text-align: right;\">\n",
              "      <th></th>\n",
              "      <th>open</th>\n",
              "      <th>close</th>\n",
              "      <th>low</th>\n",
              "      <th>high</th>\n",
              "      <th>volume</th>\n",
              "    </tr>\n",
              "  </thead>\n",
              "  <tbody>\n",
              "    <tr>\n",
              "      <th>count</th>\n",
              "      <td>851264.000000</td>\n",
              "      <td>851264.000000</td>\n",
              "      <td>851264.000000</td>\n",
              "      <td>851264.000000</td>\n",
              "      <td>8.512640e+05</td>\n",
              "    </tr>\n",
              "    <tr>\n",
              "      <th>mean</th>\n",
              "      <td>70.836986</td>\n",
              "      <td>70.857109</td>\n",
              "      <td>70.118414</td>\n",
              "      <td>71.543476</td>\n",
              "      <td>5.415113e+06</td>\n",
              "    </tr>\n",
              "    <tr>\n",
              "      <th>std</th>\n",
              "      <td>83.695876</td>\n",
              "      <td>83.689686</td>\n",
              "      <td>82.877294</td>\n",
              "      <td>84.465504</td>\n",
              "      <td>1.249468e+07</td>\n",
              "    </tr>\n",
              "    <tr>\n",
              "      <th>min</th>\n",
              "      <td>0.850000</td>\n",
              "      <td>0.860000</td>\n",
              "      <td>0.830000</td>\n",
              "      <td>0.880000</td>\n",
              "      <td>0.000000e+00</td>\n",
              "    </tr>\n",
              "    <tr>\n",
              "      <th>25%</th>\n",
              "      <td>33.840000</td>\n",
              "      <td>33.849998</td>\n",
              "      <td>33.480000</td>\n",
              "      <td>34.189999</td>\n",
              "      <td>1.221500e+06</td>\n",
              "    </tr>\n",
              "    <tr>\n",
              "      <th>50%</th>\n",
              "      <td>52.770000</td>\n",
              "      <td>52.799999</td>\n",
              "      <td>52.230000</td>\n",
              "      <td>53.310001</td>\n",
              "      <td>2.476250e+06</td>\n",
              "    </tr>\n",
              "    <tr>\n",
              "      <th>75%</th>\n",
              "      <td>79.879997</td>\n",
              "      <td>79.889999</td>\n",
              "      <td>79.110001</td>\n",
              "      <td>80.610001</td>\n",
              "      <td>5.222500e+06</td>\n",
              "    </tr>\n",
              "    <tr>\n",
              "      <th>max</th>\n",
              "      <td>1584.439941</td>\n",
              "      <td>1578.130005</td>\n",
              "      <td>1549.939941</td>\n",
              "      <td>1600.930054</td>\n",
              "      <td>8.596434e+08</td>\n",
              "    </tr>\n",
              "  </tbody>\n",
              "</table>\n",
              "</div>"
            ],
            "text/plain": [
              "                open          close            low           high        volume\n",
              "count  851264.000000  851264.000000  851264.000000  851264.000000  8.512640e+05\n",
              "mean       70.836986      70.857109      70.118414      71.543476  5.415113e+06\n",
              "std        83.695876      83.689686      82.877294      84.465504  1.249468e+07\n",
              "min         0.850000       0.860000       0.830000       0.880000  0.000000e+00\n",
              "25%        33.840000      33.849998      33.480000      34.189999  1.221500e+06\n",
              "50%        52.770000      52.799999      52.230000      53.310001  2.476250e+06\n",
              "75%        79.879997      79.889999      79.110001      80.610001  5.222500e+06\n",
              "max      1584.439941    1578.130005    1549.939941    1600.930054  8.596434e+08"
            ]
          },
          "metadata": {
            "tags": []
          },
          "execution_count": 10
        }
      ]
    },
    {
      "cell_type": "markdown",
      "metadata": {
        "colab_type": "text",
        "id": "7dU6X7MpOB6c"
      },
      "source": [
        "### Drop columns `date` and  `symbol`"
      ]
    },
    {
      "cell_type": "code",
      "metadata": {
        "colab_type": "code",
        "id": "lh_6spSKOB6e",
        "colab": {}
      },
      "source": [
        "data.drop(['date', 'symbol'], axis=1, inplace=True)"
      ],
      "execution_count": 0,
      "outputs": []
    },
    {
      "cell_type": "code",
      "metadata": {
        "colab_type": "code",
        "id": "xlwbUgTwOB6i",
        "outputId": "9906157d-a398-4c5a-bfa8-66db36ed6bc8",
        "colab": {
          "base_uri": "https://localhost:8080/",
          "height": 197
        }
      },
      "source": [
        "data.head()"
      ],
      "execution_count": 12,
      "outputs": [
        {
          "output_type": "execute_result",
          "data": {
            "text/html": [
              "<div>\n",
              "<style scoped>\n",
              "    .dataframe tbody tr th:only-of-type {\n",
              "        vertical-align: middle;\n",
              "    }\n",
              "\n",
              "    .dataframe tbody tr th {\n",
              "        vertical-align: top;\n",
              "    }\n",
              "\n",
              "    .dataframe thead th {\n",
              "        text-align: right;\n",
              "    }\n",
              "</style>\n",
              "<table border=\"1\" class=\"dataframe\">\n",
              "  <thead>\n",
              "    <tr style=\"text-align: right;\">\n",
              "      <th></th>\n",
              "      <th>open</th>\n",
              "      <th>close</th>\n",
              "      <th>low</th>\n",
              "      <th>high</th>\n",
              "      <th>volume</th>\n",
              "    </tr>\n",
              "  </thead>\n",
              "  <tbody>\n",
              "    <tr>\n",
              "      <th>0</th>\n",
              "      <td>123.430000</td>\n",
              "      <td>125.839996</td>\n",
              "      <td>122.309998</td>\n",
              "      <td>126.250000</td>\n",
              "      <td>2163600.0</td>\n",
              "    </tr>\n",
              "    <tr>\n",
              "      <th>1</th>\n",
              "      <td>125.239998</td>\n",
              "      <td>119.980003</td>\n",
              "      <td>119.940002</td>\n",
              "      <td>125.540001</td>\n",
              "      <td>2386400.0</td>\n",
              "    </tr>\n",
              "    <tr>\n",
              "      <th>2</th>\n",
              "      <td>116.379997</td>\n",
              "      <td>114.949997</td>\n",
              "      <td>114.930000</td>\n",
              "      <td>119.739998</td>\n",
              "      <td>2489500.0</td>\n",
              "    </tr>\n",
              "    <tr>\n",
              "      <th>3</th>\n",
              "      <td>115.480003</td>\n",
              "      <td>116.620003</td>\n",
              "      <td>113.500000</td>\n",
              "      <td>117.440002</td>\n",
              "      <td>2006300.0</td>\n",
              "    </tr>\n",
              "    <tr>\n",
              "      <th>4</th>\n",
              "      <td>117.010002</td>\n",
              "      <td>114.970001</td>\n",
              "      <td>114.089996</td>\n",
              "      <td>117.330002</td>\n",
              "      <td>1408600.0</td>\n",
              "    </tr>\n",
              "  </tbody>\n",
              "</table>\n",
              "</div>"
            ],
            "text/plain": [
              "         open       close         low        high     volume\n",
              "0  123.430000  125.839996  122.309998  126.250000  2163600.0\n",
              "1  125.239998  119.980003  119.940002  125.540001  2386400.0\n",
              "2  116.379997  114.949997  114.930000  119.739998  2489500.0\n",
              "3  115.480003  116.620003  113.500000  117.440002  2006300.0\n",
              "4  117.010002  114.970001  114.089996  117.330002  1408600.0"
            ]
          },
          "metadata": {
            "tags": []
          },
          "execution_count": 12
        }
      ]
    },
    {
      "cell_type": "markdown",
      "metadata": {
        "colab_type": "text",
        "id": "3DBv3WWYOB6q"
      },
      "source": [
        "### Consider only first 1000 rows in the dataset for building feature set and target set\n",
        "Target 'Volume' has very high values. Divide 'Volume' by 1000,000"
      ]
    },
    {
      "cell_type": "code",
      "metadata": {
        "colab_type": "code",
        "id": "Z_hG9rGBOB6s",
        "colab": {}
      },
      "source": [
        "first_1000_data = data[:1000]"
      ],
      "execution_count": 0,
      "outputs": []
    },
    {
      "cell_type": "code",
      "metadata": {
        "id": "AYw2y42Ow1Wf",
        "colab_type": "code",
        "colab": {}
      },
      "source": [
        "first_1000_data['volume'] = (first_1000_data['volume'] / 1000000)"
      ],
      "execution_count": 0,
      "outputs": []
    },
    {
      "cell_type": "code",
      "metadata": {
        "id": "ZWVbNiLpw1So",
        "colab_type": "code",
        "colab": {
          "base_uri": "https://localhost:8080/",
          "height": 197
        },
        "outputId": "298a32b4-2b76-49ce-a42b-8023a84d54bb"
      },
      "source": [
        "first_1000_data.head()"
      ],
      "execution_count": 39,
      "outputs": [
        {
          "output_type": "execute_result",
          "data": {
            "text/html": [
              "<div>\n",
              "<style scoped>\n",
              "    .dataframe tbody tr th:only-of-type {\n",
              "        vertical-align: middle;\n",
              "    }\n",
              "\n",
              "    .dataframe tbody tr th {\n",
              "        vertical-align: top;\n",
              "    }\n",
              "\n",
              "    .dataframe thead th {\n",
              "        text-align: right;\n",
              "    }\n",
              "</style>\n",
              "<table border=\"1\" class=\"dataframe\">\n",
              "  <thead>\n",
              "    <tr style=\"text-align: right;\">\n",
              "      <th></th>\n",
              "      <th>open</th>\n",
              "      <th>close</th>\n",
              "      <th>low</th>\n",
              "      <th>high</th>\n",
              "      <th>volume</th>\n",
              "    </tr>\n",
              "  </thead>\n",
              "  <tbody>\n",
              "    <tr>\n",
              "      <th>0</th>\n",
              "      <td>123.430000</td>\n",
              "      <td>125.839996</td>\n",
              "      <td>122.309998</td>\n",
              "      <td>126.250000</td>\n",
              "      <td>2.1636</td>\n",
              "    </tr>\n",
              "    <tr>\n",
              "      <th>1</th>\n",
              "      <td>125.239998</td>\n",
              "      <td>119.980003</td>\n",
              "      <td>119.940002</td>\n",
              "      <td>125.540001</td>\n",
              "      <td>2.3864</td>\n",
              "    </tr>\n",
              "    <tr>\n",
              "      <th>2</th>\n",
              "      <td>116.379997</td>\n",
              "      <td>114.949997</td>\n",
              "      <td>114.930000</td>\n",
              "      <td>119.739998</td>\n",
              "      <td>2.4895</td>\n",
              "    </tr>\n",
              "    <tr>\n",
              "      <th>3</th>\n",
              "      <td>115.480003</td>\n",
              "      <td>116.620003</td>\n",
              "      <td>113.500000</td>\n",
              "      <td>117.440002</td>\n",
              "      <td>2.0063</td>\n",
              "    </tr>\n",
              "    <tr>\n",
              "      <th>4</th>\n",
              "      <td>117.010002</td>\n",
              "      <td>114.970001</td>\n",
              "      <td>114.089996</td>\n",
              "      <td>117.330002</td>\n",
              "      <td>1.4086</td>\n",
              "    </tr>\n",
              "  </tbody>\n",
              "</table>\n",
              "</div>"
            ],
            "text/plain": [
              "         open       close         low        high  volume\n",
              "0  123.430000  125.839996  122.309998  126.250000  2.1636\n",
              "1  125.239998  119.980003  119.940002  125.540001  2.3864\n",
              "2  116.379997  114.949997  114.930000  119.739998  2.4895\n",
              "3  115.480003  116.620003  113.500000  117.440002  2.0063\n",
              "4  117.010002  114.970001  114.089996  117.330002  1.4086"
            ]
          },
          "metadata": {
            "tags": []
          },
          "execution_count": 39
        }
      ]
    },
    {
      "cell_type": "markdown",
      "metadata": {
        "colab_type": "text",
        "id": "M3UaApqYOB6x"
      },
      "source": [
        "### Divide the data into train and test sets"
      ]
    },
    {
      "cell_type": "code",
      "metadata": {
        "colab_type": "code",
        "id": "4LE4U8lTdQJq",
        "colab": {}
      },
      "source": [
        "from sklearn.model_selection import train_test_split"
      ],
      "execution_count": 0,
      "outputs": []
    },
    {
      "cell_type": "code",
      "metadata": {
        "id": "H7OzfBiuAVIe",
        "colab_type": "code",
        "colab": {}
      },
      "source": [
        "temp_data = data\n",
        "temp_data['volume'] = (temp_data['volume'] / 1000000)"
      ],
      "execution_count": 0,
      "outputs": []
    },
    {
      "cell_type": "code",
      "metadata": {
        "id": "V34ffhTdx_Km",
        "colab_type": "code",
        "colab": {}
      },
      "source": [
        "X = first_1000_data.drop('volume', axis=1, inplace=False)\n",
        "\n",
        "y = first_1000_data[['volume']]"
      ],
      "execution_count": 0,
      "outputs": []
    },
    {
      "cell_type": "code",
      "metadata": {
        "id": "6GjMA7zxxpD-",
        "colab_type": "code",
        "colab": {}
      },
      "source": [
        "X_train, X_test, y_train, y_test = train_test_split(X, y, test_size=0.30, random_state=4)"
      ],
      "execution_count": 0,
      "outputs": []
    },
    {
      "cell_type": "code",
      "metadata": {
        "id": "iaj7Fmilxo_N",
        "colab_type": "code",
        "colab": {}
      },
      "source": [
        ""
      ],
      "execution_count": 0,
      "outputs": []
    },
    {
      "cell_type": "markdown",
      "metadata": {
        "colab_type": "text",
        "id": "oYK-aUuLbrz2"
      },
      "source": [
        "#### Convert Training and Test Data to numpy float32 arrays\n"
      ]
    },
    {
      "cell_type": "code",
      "metadata": {
        "id": "nyNi8QQ57GC8",
        "colab_type": "code",
        "colab": {}
      },
      "source": [
        "X_train = tf.cast(X_train.values, tf.float32)\n",
        "X_test = tf.cast(X_test.values, tf.float32)\n",
        "y_train = tf.cast(y_train.values, tf.float32)\n",
        "y_test = tf.cast(y_test.values, tf.float32)"
      ],
      "execution_count": 0,
      "outputs": []
    },
    {
      "cell_type": "code",
      "metadata": {
        "colab_type": "code",
        "id": "Ao-S0tQGcncz",
        "colab": {}
      },
      "source": [
        "# X_train = X_train.astype('float32')\n",
        "# X_test = X_test.astype('float32')\n",
        "# y_train = y_train.astype('float32')\n",
        "# y_test = y_test.astype('float32')"
      ],
      "execution_count": 0,
      "outputs": []
    },
    {
      "cell_type": "markdown",
      "metadata": {
        "colab_type": "text",
        "id": "im1ZegbDdKgv"
      },
      "source": [
        "### Normalize the data\n",
        "You can use Normalizer from sklearn.preprocessing"
      ]
    },
    {
      "cell_type": "code",
      "metadata": {
        "colab_type": "code",
        "id": "2EkKAy7fOB6y",
        "colab": {}
      },
      "source": [
        "from sklearn.preprocessing import Normalizer\n",
        "\n",
        "normalizer_model = Normalizer()"
      ],
      "execution_count": 0,
      "outputs": []
    },
    {
      "cell_type": "code",
      "metadata": {
        "id": "WI5DeJ6t0hBE",
        "colab_type": "code",
        "colab": {}
      },
      "source": [
        "normalizer_model.fit(X_train)\n",
        "scaled_X_train = normalizer_model.transform(X_train)\n",
        "scaled_X_test = normalizer_model.transform(X_test)"
      ],
      "execution_count": 0,
      "outputs": []
    },
    {
      "cell_type": "code",
      "metadata": {
        "id": "WlqgH2RS0g88",
        "colab_type": "code",
        "colab": {}
      },
      "source": [
        ""
      ],
      "execution_count": 0,
      "outputs": []
    },
    {
      "cell_type": "markdown",
      "metadata": {
        "colab_type": "text",
        "id": "v6vE4eYCOB62"
      },
      "source": [
        "## Building the Model in tensorflow"
      ]
    },
    {
      "cell_type": "markdown",
      "metadata": {
        "colab_type": "text",
        "id": "297_qja4OB7A"
      },
      "source": [
        "1.Define Weights and Bias, use tf.zeros to initialize weights and Bias"
      ]
    },
    {
      "cell_type": "code",
      "metadata": {
        "colab_type": "code",
        "id": "L205qPeQOB7B",
        "colab": {}
      },
      "source": [
        "#  We are initializing weights and Bias of (Input-Hidden Layer)\n",
        "W = tf.zeros(shape=(4, 1))\n",
        "b = tf.zeros(shape=(1))"
      ],
      "execution_count": 0,
      "outputs": []
    },
    {
      "cell_type": "code",
      "metadata": {
        "id": "pi7ZFEwN1gAy",
        "colab_type": "code",
        "colab": {}
      },
      "source": [
        "# #We are initializing weights and Bias of (Hidden-Output)\n",
        "# w2 = tf.random_normal(shape=(5,1))\n",
        "# b2 = tf.zeros(shape=(1))"
      ],
      "execution_count": 0,
      "outputs": []
    },
    {
      "cell_type": "markdown",
      "metadata": {
        "colab_type": "text",
        "id": "HgtWA-UIOB7F"
      },
      "source": [
        "2.Define a function to calculate prediction"
      ]
    },
    {
      "cell_type": "code",
      "metadata": {
        "colab_type": "code",
        "id": "JveGlx25OB7H",
        "colab": {}
      },
      "source": [
        "@tf.function\n",
        "def prediction(features, W, b):\n",
        "    y_pred = tf.add(tf.matmul(features, W), b)\n",
        "    return y_pred"
      ],
      "execution_count": 0,
      "outputs": []
    },
    {
      "cell_type": "markdown",
      "metadata": {
        "colab_type": "text",
        "id": "TL1hIwf_OB7M"
      },
      "source": [
        "3.Loss (Cost) Function [Mean square error]"
      ]
    },
    {
      "cell_type": "code",
      "metadata": {
        "colab_type": "code",
        "id": "8VSWPiGXOB7P",
        "colab": {}
      },
      "source": [
        "@tf.function\n",
        "def loss(y_actual, y_predicted):\n",
        "    diff = y_actual - y_predicted\n",
        "    sqr = tf.square(diff)\n",
        "    avg = tf.reduce_mean(sqr)\n",
        "    return avg"
      ],
      "execution_count": 0,
      "outputs": []
    },
    {
      "cell_type": "markdown",
      "metadata": {
        "colab_type": "text",
        "id": "jzG85FUlOB7U"
      },
      "source": [
        "4.Function to train the Model\n",
        "\n",
        "1.   Record all the mathematical steps to calculate Loss\n",
        "2.   Calculate Gradients of Loss w.r.t weights and bias\n",
        "3.   Update Weights and Bias based on gradients and learning rate to minimize loss"
      ]
    },
    {
      "cell_type": "code",
      "metadata": {
        "colab_type": "code",
        "id": "cj802w-3OB7X",
        "colab": {}
      },
      "source": [
        "@tf.function\n",
        "def train(x, y_actual, w, b, learning_rate=0.01):\n",
        "    \n",
        "    # Record mathematical operations on 'tape' to calculate loss\n",
        "    with tf.GradientTape() as t:\n",
        "        t.watch([w,b])\n",
        "        current_prediction = prediction(x, w, b)\n",
        "        current_loss = loss(y_actual, current_prediction)\n",
        "    \n",
        "    # Calculate Gradients for Loss with respect to Weights and Bias\n",
        "    dw, db = t.gradient(current_loss,[w, b])\n",
        "    \n",
        "    # Update Weights and Bias\n",
        "    w = w - learning_rate * dw\n",
        "    b = b - learning_rate * db\n",
        "    \n",
        "    return w, b"
      ],
      "execution_count": 0,
      "outputs": []
    },
    {
      "cell_type": "markdown",
      "metadata": {
        "colab_type": "text",
        "id": "xSypb_u8OB7e"
      },
      "source": [
        "## Train the model for 100 epochs \n",
        "1. Observe the training loss at every iteration\n",
        "2. Observe Train loss at every 5th iteration"
      ]
    },
    {
      "cell_type": "markdown",
      "metadata": {
        "id": "8lWH2Czl5xQk",
        "colab_type": "text"
      },
      "source": [
        ""
      ]
    },
    {
      "cell_type": "code",
      "metadata": {
        "colab_type": "code",
        "id": "DVvgj7eQOB7f",
        "colab": {
          "base_uri": "https://localhost:8080/",
          "height": 372
        },
        "outputId": "7bbd1ddc-0ea8-4804-af5e-4b7b1d53a063"
      },
      "source": [
        "for i in range(100):    \n",
        "    W, b = train(scaled_X_train, y_train, W, b)\n",
        "    if(i%5 == 0):\n",
        "        print('Current Training Loss on iteration', i, loss(y_train, prediction(scaled_X_train, W, b)).numpy())    "
      ],
      "execution_count": 46,
      "outputs": [
        {
          "output_type": "stream",
          "text": [
            "Current Training Loss on iteration 0 219.92038\n",
            "Current Training Loss on iteration 5 211.47873\n",
            "Current Training Loss on iteration 10 205.86636\n",
            "Current Training Loss on iteration 15 202.135\n",
            "Current Training Loss on iteration 20 199.65427\n",
            "Current Training Loss on iteration 25 198.00497\n",
            "Current Training Loss on iteration 30 196.90842\n",
            "Current Training Loss on iteration 35 196.1794\n",
            "Current Training Loss on iteration 40 195.69464\n",
            "Current Training Loss on iteration 45 195.3724\n",
            "Current Training Loss on iteration 50 195.1581\n",
            "Current Training Loss on iteration 55 195.01569\n",
            "Current Training Loss on iteration 60 194.92094\n",
            "Current Training Loss on iteration 65 194.85794\n",
            "Current Training Loss on iteration 70 194.81607\n",
            "Current Training Loss on iteration 75 194.78816\n",
            "Current Training Loss on iteration 80 194.76962\n",
            "Current Training Loss on iteration 85 194.75728\n",
            "Current Training Loss on iteration 90 194.74908\n",
            "Current Training Loss on iteration 95 194.74362\n"
          ],
          "name": "stdout"
        }
      ]
    },
    {
      "cell_type": "markdown",
      "metadata": {
        "colab_type": "text",
        "id": "DOL2ncA1OB7q"
      },
      "source": [
        "### Get the shapes and values of W and b"
      ]
    },
    {
      "cell_type": "code",
      "metadata": {
        "colab_type": "code",
        "id": "ZGvtyTeuOB7r",
        "colab": {
          "base_uri": "https://localhost:8080/",
          "height": 105
        },
        "outputId": "d8d15b2d-1dfa-4263-848b-85439ce9565a"
      },
      "source": [
        "W"
      ],
      "execution_count": 47,
      "outputs": [
        {
          "output_type": "execute_result",
          "data": {
            "text/plain": [
              "<tf.Tensor: id=963, shape=(4, 1), dtype=float32, numpy=\n",
              "array([[1.265348 ],\n",
              "       [1.3042523],\n",
              "       [1.2596458],\n",
              "       [1.3096504]], dtype=float32)>"
            ]
          },
          "metadata": {
            "tags": []
          },
          "execution_count": 47
        }
      ]
    },
    {
      "cell_type": "code",
      "metadata": {
        "colab_type": "code",
        "id": "vhDtOv5UOB7x",
        "colab": {
          "base_uri": "https://localhost:8080/",
          "height": 34
        },
        "outputId": "92343b82-b43c-454d-ff15-db56859ef463"
      },
      "source": [
        "b"
      ],
      "execution_count": 48,
      "outputs": [
        {
          "output_type": "execute_result",
          "data": {
            "text/plain": [
              "<tf.Tensor: id=964, shape=(1,), dtype=float32, numpy=array([2.5699263], dtype=float32)>"
            ]
          },
          "metadata": {
            "tags": []
          },
          "execution_count": 48
        }
      ]
    },
    {
      "cell_type": "markdown",
      "metadata": {
        "colab_type": "text",
        "id": "ERq9GOKKciho"
      },
      "source": [
        "### Model Prediction on 1st Examples in Test Dataset"
      ]
    },
    {
      "cell_type": "code",
      "metadata": {
        "colab_type": "code",
        "id": "gKGvUWahcihp",
        "colab": {
          "base_uri": "https://localhost:8080/",
          "height": 34
        },
        "outputId": "e87cb6d8-6241-44be-acaa-ff6b0b950777"
      },
      "source": [
        "pred = prediction(scaled_X_test, W, b)\n",
        "print(\"Loss : {:.3f}\".format(loss(pred, y_test)))"
      ],
      "execution_count": 49,
      "outputs": [
        {
          "output_type": "stream",
          "text": [
            "Loss : 242.525\n"
          ],
          "name": "stdout"
        }
      ]
    },
    {
      "cell_type": "markdown",
      "metadata": {
        "colab_type": "text",
        "id": "YJRBuqXhOB7_"
      },
      "source": [
        "## Classification using tf.Keras\n",
        "\n",
        "In this exercise, we will build a Deep Neural Network using tf.Keras. We will use Iris Dataset for this exercise."
      ]
    },
    {
      "cell_type": "markdown",
      "metadata": {
        "colab_type": "text",
        "id": "O0g6lorycihf"
      },
      "source": [
        "### Load the given Iris data using pandas (Iris.csv)"
      ]
    },
    {
      "cell_type": "code",
      "metadata": {
        "colab_type": "code",
        "id": "6xFvb5sRcihg",
        "colab": {}
      },
      "source": [
        "iris_data = pd.read_csv('/content/drive/My Drive/Colab Notebooks/Shared/Residency 6/11_Iris.csv')"
      ],
      "execution_count": 0,
      "outputs": []
    },
    {
      "cell_type": "markdown",
      "metadata": {
        "colab_type": "text",
        "id": "SAB--Qdwcihm"
      },
      "source": [
        "### Target set has different categories. So, Label encode them. And convert into one-hot vectors using get_dummies in pandas."
      ]
    },
    {
      "cell_type": "code",
      "metadata": {
        "colab_type": "code",
        "id": "IJr5dYnocihm",
        "colab": {
          "base_uri": "https://localhost:8080/",
          "height": 197
        },
        "outputId": "5ab8fd93-c3ad-4f0b-e83c-4f964d3ecff6"
      },
      "source": [
        "iris_data.head()"
      ],
      "execution_count": 51,
      "outputs": [
        {
          "output_type": "execute_result",
          "data": {
            "text/html": [
              "<div>\n",
              "<style scoped>\n",
              "    .dataframe tbody tr th:only-of-type {\n",
              "        vertical-align: middle;\n",
              "    }\n",
              "\n",
              "    .dataframe tbody tr th {\n",
              "        vertical-align: top;\n",
              "    }\n",
              "\n",
              "    .dataframe thead th {\n",
              "        text-align: right;\n",
              "    }\n",
              "</style>\n",
              "<table border=\"1\" class=\"dataframe\">\n",
              "  <thead>\n",
              "    <tr style=\"text-align: right;\">\n",
              "      <th></th>\n",
              "      <th>Id</th>\n",
              "      <th>SepalLengthCm</th>\n",
              "      <th>SepalWidthCm</th>\n",
              "      <th>PetalLengthCm</th>\n",
              "      <th>PetalWidthCm</th>\n",
              "      <th>Species</th>\n",
              "    </tr>\n",
              "  </thead>\n",
              "  <tbody>\n",
              "    <tr>\n",
              "      <th>0</th>\n",
              "      <td>1</td>\n",
              "      <td>5.1</td>\n",
              "      <td>3.5</td>\n",
              "      <td>1.4</td>\n",
              "      <td>0.2</td>\n",
              "      <td>Iris-setosa</td>\n",
              "    </tr>\n",
              "    <tr>\n",
              "      <th>1</th>\n",
              "      <td>2</td>\n",
              "      <td>4.9</td>\n",
              "      <td>3.0</td>\n",
              "      <td>1.4</td>\n",
              "      <td>0.2</td>\n",
              "      <td>Iris-setosa</td>\n",
              "    </tr>\n",
              "    <tr>\n",
              "      <th>2</th>\n",
              "      <td>3</td>\n",
              "      <td>4.7</td>\n",
              "      <td>3.2</td>\n",
              "      <td>1.3</td>\n",
              "      <td>0.2</td>\n",
              "      <td>Iris-setosa</td>\n",
              "    </tr>\n",
              "    <tr>\n",
              "      <th>3</th>\n",
              "      <td>4</td>\n",
              "      <td>4.6</td>\n",
              "      <td>3.1</td>\n",
              "      <td>1.5</td>\n",
              "      <td>0.2</td>\n",
              "      <td>Iris-setosa</td>\n",
              "    </tr>\n",
              "    <tr>\n",
              "      <th>4</th>\n",
              "      <td>5</td>\n",
              "      <td>5.0</td>\n",
              "      <td>3.6</td>\n",
              "      <td>1.4</td>\n",
              "      <td>0.2</td>\n",
              "      <td>Iris-setosa</td>\n",
              "    </tr>\n",
              "  </tbody>\n",
              "</table>\n",
              "</div>"
            ],
            "text/plain": [
              "   Id  SepalLengthCm  SepalWidthCm  PetalLengthCm  PetalWidthCm      Species\n",
              "0   1            5.1           3.5            1.4           0.2  Iris-setosa\n",
              "1   2            4.9           3.0            1.4           0.2  Iris-setosa\n",
              "2   3            4.7           3.2            1.3           0.2  Iris-setosa\n",
              "3   4            4.6           3.1            1.5           0.2  Iris-setosa\n",
              "4   5            5.0           3.6            1.4           0.2  Iris-setosa"
            ]
          },
          "metadata": {
            "tags": []
          },
          "execution_count": 51
        }
      ]
    },
    {
      "cell_type": "code",
      "metadata": {
        "id": "pM49SB1AI1Sg",
        "colab_type": "code",
        "colab": {}
      },
      "source": [
        ""
      ],
      "execution_count": 0,
      "outputs": []
    },
    {
      "cell_type": "code",
      "metadata": {
        "id": "6PlIleFvDKKA",
        "colab_type": "code",
        "colab": {}
      },
      "source": [
        ""
      ],
      "execution_count": 0,
      "outputs": []
    },
    {
      "cell_type": "code",
      "metadata": {
        "id": "AFUIg6o9IXa2",
        "colab_type": "code",
        "colab": {}
      },
      "source": [
        ""
      ],
      "execution_count": 0,
      "outputs": []
    },
    {
      "cell_type": "markdown",
      "metadata": {
        "colab_type": "text",
        "id": "D95nY5ILcihj"
      },
      "source": [
        "### Splitting the data into feature set and target set"
      ]
    },
    {
      "cell_type": "code",
      "metadata": {
        "colab_type": "code",
        "id": "RyMQoLMucihj",
        "colab": {}
      },
      "source": [
        "X = iris_data.drop(['Id', 'Species'], axis=1, inplace=False)\n",
        "y = iris_data[['Species']] \n",
        "# y = pd.get_dummies(y)\n",
        "\n",
        "# X_train, X_test, y_train, y_test = train_test_split(X, y, test_size=0.30, random_state=4)"
      ],
      "execution_count": 0,
      "outputs": []
    },
    {
      "cell_type": "code",
      "metadata": {
        "id": "Io0TD6JHVkzX",
        "colab_type": "code",
        "colab": {
          "base_uri": "https://localhost:8080/",
          "height": 107
        },
        "outputId": "aef14a6b-06d1-4bfb-c39a-1891e57bc857"
      },
      "source": [
        "from sklearn import preprocessing\n",
        "le = preprocessing.LabelEncoder()\n",
        "le.fit(y)\n",
        "y = le.transform(y)"
      ],
      "execution_count": 98,
      "outputs": [
        {
          "output_type": "stream",
          "text": [
            "/usr/local/lib/python3.6/dist-packages/sklearn/preprocessing/label.py:219: DataConversionWarning: A column-vector y was passed when a 1d array was expected. Please change the shape of y to (n_samples, ), for example using ravel().\n",
            "  y = column_or_1d(y, warn=True)\n",
            "/usr/local/lib/python3.6/dist-packages/sklearn/preprocessing/label.py:252: DataConversionWarning: A column-vector y was passed when a 1d array was expected. Please change the shape of y to (n_samples, ), for example using ravel().\n",
            "  y = column_or_1d(y, warn=True)\n"
          ],
          "name": "stderr"
        }
      ]
    },
    {
      "cell_type": "code",
      "metadata": {
        "id": "_dHLaWpbWGdt",
        "colab_type": "code",
        "colab": {}
      },
      "source": [
        "X_train, X_test, y_train, y_test = train_test_split(X, y, test_size=0.30, random_state=4)\n",
        "\n",
        "y_train = tf.keras.utils.to_categorical(y_train, num_classes=3)\n",
        "y_test = tf.keras.utils.to_categorical(y_test, num_classes=3)"
      ],
      "execution_count": 0,
      "outputs": []
    },
    {
      "cell_type": "markdown",
      "metadata": {
        "colab_type": "text",
        "id": "b22qpC5xcihr"
      },
      "source": [
        "###  Building Model in tf.keras\n",
        "\n",
        "Build a Linear Classifier model  <br>\n",
        "1.  Use Dense Layer  with input shape of 4 (according to the feature set) and number of outputs set to 3<br> \n",
        "2. Apply Softmax on Dense Layer outputs <br>\n",
        "3. Use SGD as Optimizer\n",
        "4. Use categorical_crossentropy as loss function "
      ]
    },
    {
      "cell_type": "code",
      "metadata": {
        "colab_type": "code",
        "id": "Hov_UFnUciht",
        "colab": {}
      },
      "source": [
        "# Initialize Sequential model\n",
        "model = tf.keras.models.Sequential()\n",
        "\n",
        "model.add(tf.keras.layers.Dense(3, input_dim=4, kernel_initializer='normal', activation='relu'))\n",
        "\n",
        "# Add Dense Layer which provides 10 Outputs after applying softmax\n",
        "model.add(tf.keras.layers.Dense(3, activation='softmax'))"
      ],
      "execution_count": 0,
      "outputs": []
    },
    {
      "cell_type": "code",
      "metadata": {
        "id": "toRZyhWHJWC2",
        "colab_type": "code",
        "colab": {}
      },
      "source": [
        "# Comile the model\n",
        "model.compile(optimizer='sgd', loss='categorical_crossentropy', metrics=['accuracy', tf.keras.metrics.CategoricalAccuracy()])"
      ],
      "execution_count": 0,
      "outputs": []
    },
    {
      "cell_type": "markdown",
      "metadata": {
        "colab_type": "text",
        "id": "T5FdzqIKcihw"
      },
      "source": [
        "### Model Training "
      ]
    },
    {
      "cell_type": "code",
      "metadata": {
        "colab_type": "code",
        "id": "4qLEdHPscihx",
        "colab": {
          "base_uri": "https://localhost:8080/",
          "height": 1000
        },
        "outputId": "7ad05211-8847-47c5-c004-12d4ce181804"
      },
      "source": [
        "model.fit(X_train, y_train, validation_data=(X_test, y_test), epochs=50,\n",
        "          batch_size = X_train.shape[0])"
      ],
      "execution_count": 103,
      "outputs": [
        {
          "output_type": "stream",
          "text": [
            "WARNING:tensorflow:Falling back from v2 loop because of error: Failed to find data adapter that can handle input: <class 'pandas.core.frame.DataFrame'>, <class 'NoneType'>\n",
            "Train on 105 samples, validate on 45 samples\n",
            "Epoch 1/50\n",
            "105/105 [==============================] - 0s 982us/sample - loss: 1.0470 - accuracy: 0.3429 - categorical_accuracy: 0.3429 - val_loss: 1.0516 - val_accuracy: 0.3111 - val_categorical_accuracy: 0.3111\n",
            "Epoch 2/50\n",
            "105/105 [==============================] - 0s 80us/sample - loss: 1.0367 - accuracy: 0.3429 - categorical_accuracy: 0.3429 - val_loss: 1.0462 - val_accuracy: 0.3111 - val_categorical_accuracy: 0.3111\n",
            "Epoch 3/50\n",
            "105/105 [==============================] - 0s 63us/sample - loss: 1.0275 - accuracy: 0.3429 - categorical_accuracy: 0.3429 - val_loss: 1.0400 - val_accuracy: 0.3111 - val_categorical_accuracy: 0.3111\n",
            "Epoch 4/50\n",
            "105/105 [==============================] - 0s 65us/sample - loss: 1.0189 - accuracy: 0.3429 - categorical_accuracy: 0.3429 - val_loss: 1.0331 - val_accuracy: 0.3111 - val_categorical_accuracy: 0.3111\n",
            "Epoch 5/50\n",
            "105/105 [==============================] - 0s 66us/sample - loss: 1.0108 - accuracy: 0.3429 - categorical_accuracy: 0.3429 - val_loss: 1.0258 - val_accuracy: 0.3111 - val_categorical_accuracy: 0.3111\n",
            "Epoch 6/50\n",
            "105/105 [==============================] - 0s 71us/sample - loss: 1.0029 - accuracy: 0.3429 - categorical_accuracy: 0.3429 - val_loss: 1.0182 - val_accuracy: 0.3111 - val_categorical_accuracy: 0.3111\n",
            "Epoch 7/50\n",
            "105/105 [==============================] - 0s 84us/sample - loss: 0.9954 - accuracy: 0.3429 - categorical_accuracy: 0.3429 - val_loss: 1.0106 - val_accuracy: 0.3111 - val_categorical_accuracy: 0.3111\n",
            "Epoch 8/50\n",
            "105/105 [==============================] - 0s 66us/sample - loss: 0.9883 - accuracy: 0.3429 - categorical_accuracy: 0.3429 - val_loss: 1.0044 - val_accuracy: 0.3111 - val_categorical_accuracy: 0.3111\n",
            "Epoch 9/50\n",
            "105/105 [==============================] - 0s 65us/sample - loss: 0.9818 - accuracy: 0.3429 - categorical_accuracy: 0.3429 - val_loss: 0.9984 - val_accuracy: 0.3111 - val_categorical_accuracy: 0.3111\n",
            "Epoch 10/50\n",
            "105/105 [==============================] - 0s 65us/sample - loss: 0.9756 - accuracy: 0.3429 - categorical_accuracy: 0.3429 - val_loss: 0.9935 - val_accuracy: 0.3111 - val_categorical_accuracy: 0.3111\n",
            "Epoch 11/50\n",
            "105/105 [==============================] - 0s 61us/sample - loss: 0.9698 - accuracy: 0.3429 - categorical_accuracy: 0.3429 - val_loss: 0.9869 - val_accuracy: 0.3111 - val_categorical_accuracy: 0.3111\n",
            "Epoch 12/50\n",
            "105/105 [==============================] - 0s 57us/sample - loss: 0.9640 - accuracy: 0.3429 - categorical_accuracy: 0.3429 - val_loss: 0.9818 - val_accuracy: 0.3111 - val_categorical_accuracy: 0.3111\n",
            "Epoch 13/50\n",
            "105/105 [==============================] - 0s 54us/sample - loss: 0.9585 - accuracy: 0.3429 - categorical_accuracy: 0.3429 - val_loss: 0.9748 - val_accuracy: 0.3111 - val_categorical_accuracy: 0.3111\n",
            "Epoch 14/50\n",
            "105/105 [==============================] - 0s 58us/sample - loss: 0.9531 - accuracy: 0.3429 - categorical_accuracy: 0.3429 - val_loss: 0.9706 - val_accuracy: 0.3111 - val_categorical_accuracy: 0.3111\n",
            "Epoch 15/50\n",
            "105/105 [==============================] - 0s 50us/sample - loss: 0.9481 - accuracy: 0.3429 - categorical_accuracy: 0.3429 - val_loss: 0.9661 - val_accuracy: 0.3111 - val_categorical_accuracy: 0.3111\n",
            "Epoch 16/50\n",
            "105/105 [==============================] - 0s 52us/sample - loss: 0.9434 - accuracy: 0.3429 - categorical_accuracy: 0.3429 - val_loss: 0.9632 - val_accuracy: 0.3111 - val_categorical_accuracy: 0.3111\n",
            "Epoch 17/50\n",
            "105/105 [==============================] - 0s 58us/sample - loss: 0.9388 - accuracy: 0.3429 - categorical_accuracy: 0.3429 - val_loss: 0.9590 - val_accuracy: 0.3111 - val_categorical_accuracy: 0.3111\n",
            "Epoch 18/50\n",
            "105/105 [==============================] - 0s 58us/sample - loss: 0.9345 - accuracy: 0.3429 - categorical_accuracy: 0.3429 - val_loss: 0.9569 - val_accuracy: 0.3111 - val_categorical_accuracy: 0.3111\n",
            "Epoch 19/50\n",
            "105/105 [==============================] - 0s 53us/sample - loss: 0.9305 - accuracy: 0.3429 - categorical_accuracy: 0.3429 - val_loss: 0.9528 - val_accuracy: 0.3111 - val_categorical_accuracy: 0.3111\n",
            "Epoch 20/50\n",
            "105/105 [==============================] - 0s 54us/sample - loss: 0.9267 - accuracy: 0.3429 - categorical_accuracy: 0.3429 - val_loss: 0.9527 - val_accuracy: 0.3111 - val_categorical_accuracy: 0.3111\n",
            "Epoch 21/50\n",
            "105/105 [==============================] - 0s 52us/sample - loss: 0.9230 - accuracy: 0.3429 - categorical_accuracy: 0.3429 - val_loss: 0.9484 - val_accuracy: 0.3111 - val_categorical_accuracy: 0.3111\n",
            "Epoch 22/50\n",
            "105/105 [==============================] - 0s 70us/sample - loss: 0.9194 - accuracy: 0.3429 - categorical_accuracy: 0.3429 - val_loss: 0.9476 - val_accuracy: 0.3111 - val_categorical_accuracy: 0.3111\n",
            "Epoch 23/50\n",
            "105/105 [==============================] - 0s 70us/sample - loss: 0.9161 - accuracy: 0.3429 - categorical_accuracy: 0.3429 - val_loss: 0.9428 - val_accuracy: 0.3111 - val_categorical_accuracy: 0.3111\n",
            "Epoch 24/50\n",
            "105/105 [==============================] - 0s 80us/sample - loss: 0.9129 - accuracy: 0.3619 - categorical_accuracy: 0.3619 - val_loss: 0.9426 - val_accuracy: 0.3111 - val_categorical_accuracy: 0.3111\n",
            "Epoch 25/50\n",
            "105/105 [==============================] - 0s 68us/sample - loss: 0.9097 - accuracy: 0.3714 - categorical_accuracy: 0.3714 - val_loss: 0.9390 - val_accuracy: 0.3778 - val_categorical_accuracy: 0.3778\n",
            "Epoch 26/50\n",
            "105/105 [==============================] - 0s 89us/sample - loss: 0.9067 - accuracy: 0.4476 - categorical_accuracy: 0.4476 - val_loss: 0.9381 - val_accuracy: 0.4222 - val_categorical_accuracy: 0.4222\n",
            "Epoch 27/50\n",
            "105/105 [==============================] - 0s 81us/sample - loss: 0.9038 - accuracy: 0.4571 - categorical_accuracy: 0.4571 - val_loss: 0.9362 - val_accuracy: 0.4444 - val_categorical_accuracy: 0.4444\n",
            "Epoch 28/50\n",
            "105/105 [==============================] - 0s 61us/sample - loss: 0.9011 - accuracy: 0.4762 - categorical_accuracy: 0.4762 - val_loss: 0.9342 - val_accuracy: 0.4667 - val_categorical_accuracy: 0.4667\n",
            "Epoch 29/50\n",
            "105/105 [==============================] - 0s 83us/sample - loss: 0.8985 - accuracy: 0.4952 - categorical_accuracy: 0.4952 - val_loss: 0.9320 - val_accuracy: 0.5111 - val_categorical_accuracy: 0.5111\n",
            "Epoch 30/50\n",
            "105/105 [==============================] - 0s 126us/sample - loss: 0.8959 - accuracy: 0.4952 - categorical_accuracy: 0.4952 - val_loss: 0.9303 - val_accuracy: 0.5333 - val_categorical_accuracy: 0.5333\n",
            "Epoch 31/50\n",
            "105/105 [==============================] - 0s 123us/sample - loss: 0.8934 - accuracy: 0.5048 - categorical_accuracy: 0.5048 - val_loss: 0.9283 - val_accuracy: 0.5556 - val_categorical_accuracy: 0.5556\n",
            "Epoch 32/50\n",
            "105/105 [==============================] - 0s 77us/sample - loss: 0.8911 - accuracy: 0.5333 - categorical_accuracy: 0.5333 - val_loss: 0.9262 - val_accuracy: 0.5778 - val_categorical_accuracy: 0.5778\n",
            "Epoch 33/50\n",
            "105/105 [==============================] - 0s 102us/sample - loss: 0.8887 - accuracy: 0.5333 - categorical_accuracy: 0.5333 - val_loss: 0.9247 - val_accuracy: 0.5778 - val_categorical_accuracy: 0.5778\n",
            "Epoch 34/50\n",
            "105/105 [==============================] - 0s 76us/sample - loss: 0.8865 - accuracy: 0.5333 - categorical_accuracy: 0.5333 - val_loss: 0.9224 - val_accuracy: 0.5778 - val_categorical_accuracy: 0.5778\n",
            "Epoch 35/50\n",
            "105/105 [==============================] - 0s 57us/sample - loss: 0.8843 - accuracy: 0.5429 - categorical_accuracy: 0.5429 - val_loss: 0.9220 - val_accuracy: 0.5778 - val_categorical_accuracy: 0.5778\n",
            "Epoch 36/50\n",
            "105/105 [==============================] - 0s 65us/sample - loss: 0.8822 - accuracy: 0.5333 - categorical_accuracy: 0.5333 - val_loss: 0.9192 - val_accuracy: 0.6000 - val_categorical_accuracy: 0.6000\n",
            "Epoch 37/50\n",
            "105/105 [==============================] - 0s 83us/sample - loss: 0.8802 - accuracy: 0.5429 - categorical_accuracy: 0.5429 - val_loss: 0.9191 - val_accuracy: 0.5778 - val_categorical_accuracy: 0.5778\n",
            "Epoch 38/50\n",
            "105/105 [==============================] - 0s 83us/sample - loss: 0.8782 - accuracy: 0.5333 - categorical_accuracy: 0.5333 - val_loss: 0.9161 - val_accuracy: 0.6000 - val_categorical_accuracy: 0.6000\n",
            "Epoch 39/50\n",
            "105/105 [==============================] - 0s 64us/sample - loss: 0.8762 - accuracy: 0.5429 - categorical_accuracy: 0.5429 - val_loss: 0.9159 - val_accuracy: 0.5778 - val_categorical_accuracy: 0.5778\n",
            "Epoch 40/50\n",
            "105/105 [==============================] - 0s 62us/sample - loss: 0.8743 - accuracy: 0.5333 - categorical_accuracy: 0.5333 - val_loss: 0.9145 - val_accuracy: 0.5778 - val_categorical_accuracy: 0.5778\n",
            "Epoch 41/50\n",
            "105/105 [==============================] - 0s 74us/sample - loss: 0.8725 - accuracy: 0.5429 - categorical_accuracy: 0.5429 - val_loss: 0.9131 - val_accuracy: 0.5778 - val_categorical_accuracy: 0.5778\n",
            "Epoch 42/50\n",
            "105/105 [==============================] - 0s 82us/sample - loss: 0.8707 - accuracy: 0.5429 - categorical_accuracy: 0.5429 - val_loss: 0.9115 - val_accuracy: 0.5778 - val_categorical_accuracy: 0.5778\n",
            "Epoch 43/50\n",
            "105/105 [==============================] - 0s 82us/sample - loss: 0.8690 - accuracy: 0.5429 - categorical_accuracy: 0.5429 - val_loss: 0.9098 - val_accuracy: 0.5778 - val_categorical_accuracy: 0.5778\n",
            "Epoch 44/50\n",
            "105/105 [==============================] - 0s 57us/sample - loss: 0.8673 - accuracy: 0.5429 - categorical_accuracy: 0.5429 - val_loss: 0.9087 - val_accuracy: 0.5778 - val_categorical_accuracy: 0.5778\n",
            "Epoch 45/50\n",
            "105/105 [==============================] - 0s 86us/sample - loss: 0.8656 - accuracy: 0.5429 - categorical_accuracy: 0.5429 - val_loss: 0.9067 - val_accuracy: 0.5778 - val_categorical_accuracy: 0.5778\n",
            "Epoch 46/50\n",
            "105/105 [==============================] - 0s 125us/sample - loss: 0.8640 - accuracy: 0.5429 - categorical_accuracy: 0.5429 - val_loss: 0.9054 - val_accuracy: 0.5778 - val_categorical_accuracy: 0.5778\n",
            "Epoch 47/50\n",
            "105/105 [==============================] - 0s 64us/sample - loss: 0.8624 - accuracy: 0.5429 - categorical_accuracy: 0.5429 - val_loss: 0.9042 - val_accuracy: 0.5778 - val_categorical_accuracy: 0.5778\n",
            "Epoch 48/50\n",
            "105/105 [==============================] - 0s 79us/sample - loss: 0.8608 - accuracy: 0.5429 - categorical_accuracy: 0.5429 - val_loss: 0.9026 - val_accuracy: 0.5778 - val_categorical_accuracy: 0.5778\n",
            "Epoch 49/50\n",
            "105/105 [==============================] - 0s 99us/sample - loss: 0.8593 - accuracy: 0.5429 - categorical_accuracy: 0.5429 - val_loss: 0.9013 - val_accuracy: 0.5778 - val_categorical_accuracy: 0.5778\n",
            "Epoch 50/50\n",
            "105/105 [==============================] - 0s 71us/sample - loss: 0.8578 - accuracy: 0.5429 - categorical_accuracy: 0.5429 - val_loss: 0.8999 - val_accuracy: 0.6000 - val_categorical_accuracy: 0.6000\n"
          ],
          "name": "stdout"
        },
        {
          "output_type": "execute_result",
          "data": {
            "text/plain": [
              "<tensorflow.python.keras.callbacks.History at 0x7fbbb43f1fd0>"
            ]
          },
          "metadata": {
            "tags": []
          },
          "execution_count": 103
        }
      ]
    },
    {
      "cell_type": "markdown",
      "metadata": {
        "colab_type": "text",
        "id": "y-SgSSdRcih5"
      },
      "source": [
        "### Model Prediction"
      ]
    },
    {
      "cell_type": "code",
      "metadata": {
        "colab_type": "code",
        "id": "GBgKZkhkcih6",
        "colab": {
          "base_uri": "https://localhost:8080/",
          "height": 834
        },
        "outputId": "f38c7685-d589-4fd7-b00c-b40f9a219128"
      },
      "source": [
        "model.predict(X_test)"
      ],
      "execution_count": 87,
      "outputs": [
        {
          "output_type": "stream",
          "text": [
            "WARNING:tensorflow:Falling back from v2 loop because of error: Failed to find data adapter that can handle input: <class 'pandas.core.frame.DataFrame'>, <class 'NoneType'>\n"
          ],
          "name": "stdout"
        },
        {
          "output_type": "execute_result",
          "data": {
            "text/plain": [
              "array([[0.23808855, 0.47041428, 0.2914972 ],\n",
              "       [0.36020252, 0.31986544, 0.31993204],\n",
              "       [0.22749622, 0.48880926, 0.28369457],\n",
              "       [0.22100109, 0.50024074, 0.2787581 ],\n",
              "       [0.22706187, 0.48957008, 0.28336808],\n",
              "       [0.2649335 , 0.43046468, 0.30460188],\n",
              "       [0.24877416, 0.4521659 , 0.29906   ],\n",
              "       [0.37450662, 0.30677074, 0.31872267],\n",
              "       [0.3610263 , 0.31730995, 0.32166374],\n",
              "       [0.24985659, 0.45121968, 0.29892376],\n",
              "       [0.34786275, 0.32993194, 0.32220528],\n",
              "       [0.3555544 , 0.32031196, 0.32413357],\n",
              "       [0.35372683, 0.32271403, 0.3235591 ],\n",
              "       [0.26136938, 0.43541622, 0.30321437],\n",
              "       [0.24682009, 0.45547986, 0.29770002],\n",
              "       [0.35324115, 0.3236212 , 0.32313764],\n",
              "       [0.27618775, 0.41220433, 0.31160793],\n",
              "       [0.3590295 , 0.31647763, 0.32449287],\n",
              "       [0.3481762 , 0.32796717, 0.32385662],\n",
              "       [0.2497852 , 0.45154715, 0.2986676 ],\n",
              "       [0.36162657, 0.31543905, 0.3229344 ],\n",
              "       [0.24129343, 0.4649087 , 0.29379788],\n",
              "       [0.25256577, 0.4480619 , 0.29937232],\n",
              "       [0.3536035 , 0.32346943, 0.3229271 ],\n",
              "       [0.35163686, 0.32409436, 0.32426876],\n",
              "       [0.36493045, 0.3118367 , 0.3232329 ],\n",
              "       [0.34053308, 0.33592367, 0.32354325],\n",
              "       [0.36977264, 0.3088844 , 0.32134297],\n",
              "       [0.35330117, 0.32588235, 0.3208165 ],\n",
              "       [0.24798135, 0.45350915, 0.29850945],\n",
              "       [0.26683572, 0.42459947, 0.3085648 ],\n",
              "       [0.35652176, 0.31850874, 0.32496953],\n",
              "       [0.23200934, 0.48093417, 0.28705645],\n",
              "       [0.35275078, 0.32429677, 0.32295242],\n",
              "       [0.2861998 , 0.39981076, 0.31398943],\n",
              "       [0.23891282, 0.46899563, 0.29209155],\n",
              "       [0.2352448 , 0.47532275, 0.2894324 ],\n",
              "       [0.27365372, 0.4189862 , 0.30736008],\n",
              "       [0.2638407 , 0.43544754, 0.3007117 ],\n",
              "       [0.36346796, 0.31328925, 0.32324272],\n",
              "       [0.22607519, 0.49130026, 0.28262448],\n",
              "       [0.35810065, 0.31877345, 0.32312587],\n",
              "       [0.27153435, 0.42595345, 0.30251217],\n",
              "       [0.36412013, 0.31436738, 0.32151246],\n",
              "       [0.23749512, 0.47143677, 0.2910681 ]], dtype=float32)"
            ]
          },
          "metadata": {
            "tags": []
          },
          "execution_count": 87
        }
      ]
    },
    {
      "cell_type": "code",
      "metadata": {
        "id": "Xx3PIeZAVt4j",
        "colab_type": "code",
        "colab": {
          "base_uri": "https://localhost:8080/",
          "height": 230
        },
        "outputId": "24bd775f-123c-4b80-8470-b815a78c5007"
      },
      "source": [
        "model.summary()"
      ],
      "execution_count": 105,
      "outputs": [
        {
          "output_type": "stream",
          "text": [
            "Model: \"sequential_7\"\n",
            "_________________________________________________________________\n",
            "Layer (type)                 Output Shape              Param #   \n",
            "=================================================================\n",
            "dense_14 (Dense)             (None, 3)                 15        \n",
            "_________________________________________________________________\n",
            "dense_15 (Dense)             (None, 3)                 12        \n",
            "=================================================================\n",
            "Total params: 27\n",
            "Trainable params: 27\n",
            "Non-trainable params: 0\n",
            "_________________________________________________________________\n"
          ],
          "name": "stdout"
        }
      ]
    },
    {
      "cell_type": "code",
      "metadata": {
        "id": "Xvb2UvE2Yl01",
        "colab_type": "code",
        "colab": {
          "base_uri": "https://localhost:8080/",
          "height": 34
        },
        "outputId": "b0eeaddf-fa72-4ba9-a76c-97e66c37870a"
      },
      "source": [
        "import numpy as np\n",
        "y_pred = model.predict(X_test)\n",
        "\n",
        "y_test_class = np.argmax(y_test,axis=1)\n",
        "y_pred_class = np.argmax(y_pred,axis=1)"
      ],
      "execution_count": 109,
      "outputs": [
        {
          "output_type": "stream",
          "text": [
            "WARNING:tensorflow:Falling back from v2 loop because of error: Failed to find data adapter that can handle input: <class 'pandas.core.frame.DataFrame'>, <class 'NoneType'>\n"
          ],
          "name": "stdout"
        }
      ]
    },
    {
      "cell_type": "code",
      "metadata": {
        "id": "oAtuOfq5Ylig",
        "colab_type": "code",
        "colab": {
          "base_uri": "https://localhost:8080/",
          "height": 247
        },
        "outputId": "54438db5-1b2e-4f32-c6f6-60f83ac59296"
      },
      "source": [
        "from sklearn.metrics import classification_report,confusion_matrix\n",
        "print(classification_report(y_pred_class,y_test_class))\n",
        "print(confusion_matrix(y_pred_class,y_test_class))"
      ],
      "execution_count": 113,
      "outputs": [
        {
          "output_type": "stream",
          "text": [
            "              precision    recall  f1-score   support\n",
            "\n",
            "           0       0.62      1.00      0.76        13\n",
            "           1       0.00      0.00      0.00         8\n",
            "           2       1.00      0.58      0.74        24\n",
            "\n",
            "    accuracy                           0.60        45\n",
            "   macro avg       0.54      0.53      0.50        45\n",
            "weighted avg       0.71      0.60      0.61        45\n",
            "\n",
            "[[13  0  0]\n",
            " [ 8  0  0]\n",
            " [ 0 10 14]]\n"
          ],
          "name": "stdout"
        }
      ]
    },
    {
      "cell_type": "code",
      "metadata": {
        "id": "qdG__KN-ectm",
        "colab_type": "code",
        "colab": {
          "base_uri": "https://localhost:8080/",
          "height": 70
        },
        "outputId": "51363e1a-3bca-4c0c-90d9-4352a5e20261"
      },
      "source": [
        "model.evaluate(X_test,y_test)"
      ],
      "execution_count": 116,
      "outputs": [
        {
          "output_type": "stream",
          "text": [
            "WARNING:tensorflow:Falling back from v2 loop because of error: Failed to find data adapter that can handle input: <class 'pandas.core.frame.DataFrame'>, <class 'NoneType'>\n",
            "45/45 [==============================] - 0s 289us/sample - loss: 0.8999 - accuracy: 0.6000 - categorical_accuracy: 0.6000\n"
          ],
          "name": "stdout"
        },
        {
          "output_type": "execute_result",
          "data": {
            "text/plain": [
              "[0.89992782274882, 0.6, 0.6]"
            ]
          },
          "metadata": {
            "tags": []
          },
          "execution_count": 116
        }
      ]
    },
    {
      "cell_type": "markdown",
      "metadata": {
        "colab_type": "text",
        "id": "P32ASP1Vjt0a"
      },
      "source": [
        "### Save the Model"
      ]
    },
    {
      "cell_type": "code",
      "metadata": {
        "colab_type": "code",
        "id": "n8rd0jjAjyTR",
        "colab": {
          "base_uri": "https://localhost:8080/",
          "height": 203
        },
        "outputId": "f972c1aa-580b-4e2c-d539-e2da67f4200c"
      },
      "source": [
        "import pickle\n",
        "filename = 'finalized_model.sav'\n",
        "pickle.dump(model, open(filename, 'wb'))"
      ],
      "execution_count": 117,
      "outputs": [
        {
          "output_type": "error",
          "ename": "TypeError",
          "evalue": "ignored",
          "traceback": [
            "\u001b[0;31m---------------------------------------------------------------------------\u001b[0m",
            "\u001b[0;31mTypeError\u001b[0m                                 Traceback (most recent call last)",
            "\u001b[0;32m<ipython-input-117-b8bdf5210fae>\u001b[0m in \u001b[0;36m<module>\u001b[0;34m()\u001b[0m\n\u001b[1;32m      1\u001b[0m \u001b[0;32mimport\u001b[0m \u001b[0mpickle\u001b[0m\u001b[0;34m\u001b[0m\u001b[0;34m\u001b[0m\u001b[0m\n\u001b[1;32m      2\u001b[0m \u001b[0mfilename\u001b[0m \u001b[0;34m=\u001b[0m \u001b[0;34m'finalized_model.sav'\u001b[0m\u001b[0;34m\u001b[0m\u001b[0;34m\u001b[0m\u001b[0m\n\u001b[0;32m----> 3\u001b[0;31m \u001b[0mpickle\u001b[0m\u001b[0;34m.\u001b[0m\u001b[0mdump\u001b[0m\u001b[0;34m(\u001b[0m\u001b[0mmodel\u001b[0m\u001b[0;34m,\u001b[0m \u001b[0mopen\u001b[0m\u001b[0;34m(\u001b[0m\u001b[0mfilename\u001b[0m\u001b[0;34m,\u001b[0m \u001b[0;34m'wb'\u001b[0m\u001b[0;34m)\u001b[0m\u001b[0;34m)\u001b[0m\u001b[0;34m\u001b[0m\u001b[0;34m\u001b[0m\u001b[0m\n\u001b[0m",
            "\u001b[0;31mTypeError\u001b[0m: can't pickle _thread._local objects"
          ]
        }
      ]
    },
    {
      "cell_type": "markdown",
      "metadata": {
        "colab_type": "text",
        "id": "XiipRpe7rbVh"
      },
      "source": [
        "### Build and Train a Deep Neural network with 2 hidden layer  - Optional - For Practice\n",
        "\n",
        "Does it perform better than Linear Classifier? What could be the reason for difference in performance?"
      ]
    },
    {
      "cell_type": "code",
      "metadata": {
        "colab_type": "code",
        "id": "v5Du3lubr4sA",
        "colab": {}
      },
      "source": [
        ""
      ],
      "execution_count": 0,
      "outputs": []
    }
  ]
}